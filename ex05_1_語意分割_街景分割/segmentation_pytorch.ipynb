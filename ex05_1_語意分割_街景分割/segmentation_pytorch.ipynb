{
 "cells": [
  {
   "cell_type": "code",
   "execution_count": 1,
   "metadata": {
    "collapsed": true
   },
   "outputs": [],
   "source": [
    "%matplotlib inline"
   ]
  },
  {
   "cell_type": "markdown",
   "metadata": {},
   "source": [
    "# 自動駕駛街景分割(pytorch)"
   ]
  },
  {
   "cell_type": "markdown",
   "metadata": {},
   "source": [
    "### 測試於pytorch 1.0"
   ]
  },
  {
   "cell_type": "raw",
   "metadata": {},
   "source": [
    "許多人小時候都曾經幻想過自己是霹靂遊俠的李麥克，能夠有一台自動駕駛的「夥計」，而如今這個夢想已經不算是太遙遠，我們今天要做的實作就是教各位如何賦予汽車視覺，最普遍的做法是透過分割模型，將機器視野的圖片進行分割，並且針對各區域進行識別，這樣汽車才知道路在那裏，哪裡有行人得小心注意。下圖是我們這次實作所使用的原圖以及標注結果。"
   ]
  },
  {
   "cell_type": "raw",
   "metadata": {},
   "source": [
    "這次採用的數據集是Cambridge-driving Labeled Video Database (http://mi.eng.cam.ac.uk/research/projects/VideoRec/CamVid/)，他實際上就是真實的汽車駕駛過程的街景，裏面包含了原圖已經標註的遮罩圖(mask)。"
   ]
  },
  {
   "cell_type": "markdown",
   "metadata": {},
   "source": [
    "<img src=\"../Data/autodrive_train/orign_images/0001TP_006750.png\",width=480,height=360>\n",
    "<img src=\"../Data/autodrive_train/masks/0001TP_006750_L.png\",width=480,height=360>"
   ]
  },
  {
   "cell_type": "raw",
   "metadata": {},
   "source": [
    "首先我們載入pytorch以及其他所需要的包。"
   ]
  },
  {
   "cell_type": "code",
   "execution_count": 2,
   "metadata": {
    "collapsed": true
   },
   "outputs": [],
   "source": [
    "import matplotlib\n",
    "import matplotlib.pyplot as plt\n",
    "import pylab\n",
    "import PIL\n",
    "from PIL import Image\n",
    "import glob\n",
    "import threading\n",
    "import random\n",
    "import math\n",
    "import datetime\n",
    "import os\n",
    "\n",
    "import numpy as np\n",
    "import torch\n",
    "import torch.nn as nn\n",
    "import torch.optim as optim\n",
    "from torch.autograd import Variable\n",
    "import torch.nn.functional as F\n",
    "import torchvision\n",
    "import torchvision.transforms as transforms\n",
    "\n",
    "\n",
    "# 是否使用GPU\n",
    "device = torch.device(\"cuda\" if torch.cuda.is_available() else \"cpu\")"
   ]
  },
  {
   "cell_type": "raw",
   "metadata": {},
   "source": [
    "接著我們利用glob遍歷資料夾抓出所有的原圖與標籤圖"
   ]
  },
  {
   "cell_type": "code",
   "execution_count": 3,
   "metadata": {
    "collapsed": false
   },
   "outputs": [
    {
     "name": "stdout",
     "output_type": "stream",
     "text": [
      "701\n",
      "['../Data/autodrive_train/orign_images\\\\0001TP_006690.png', '../Data/autodrive_train/orign_images\\\\0001TP_006720.png', '../Data/autodrive_train/orign_images\\\\0001TP_006750.png', '../Data/autodrive_train/orign_images\\\\0001TP_006780.png', '../Data/autodrive_train/orign_images\\\\0001TP_006810.png']\n"
     ]
    }
   ],
   "source": [
    "images = glob.glob('../Data/autodrive_train/orign_images/' + '*.png')\n",
    "labels = ['../Data/autodrive_train/masks/' + os.path.basename(i)[:-4] + '_L.png' for i in images]\n",
    "print(len(images))\n",
    "print(images[:5])"
   ]
  },
  {
   "cell_type": "raw",
   "metadata": {},
   "source": [
    "所有標注類別對應的顏色，紀錄在label_colors.txt中，我們讀取出來並且產生定義清單。這邊顏色的排序為(R,G,B)，所以我們需要在解析時利用[::-1]將順序轉為(B,G,R)，例如路面上的汽車是紫色，BGR應該是(128,0,64)"
   ]
  },
  {
   "cell_type": "code",
   "execution_count": 4,
   "metadata": {
    "collapsed": false
   },
   "outputs": [
    {
     "name": "stdout",
     "output_type": "stream",
     "text": [
      "['Void\\t0 0 0\\n', 'Building\\t128 0 0\\n', 'grass\\t0 128 0\\n', 'Tree\\t128 128 0\\n', 'cow\\t0 0 128\\n', 'horse\\t128 0 128\\n', 'sheep\\t0 128 128\\n', 'Sky\\t128 128 128\\n', 'mountain\\t64 0 0\\n', 'aeroplane\\t192 0 0\\n', 'water\\t64 128 0\\n', 'face\\t192 128 0\\n', 'Car\\t64 0 128\\n', 'Archway\\t192 0 128\\n', 'flower\\t64 128 128\\n', 'SignSymbol\\t192 128 128\\n', 'bird\\t0 64 0\\n', 'book\\t128 64 0\\n', 'chair\\t0 192 0\\n', 'motorbike\\t128 192 0\\n', 'person\\t0 64 128\\n', 'Road\\t128 64 128\\n', 'cat\\t0 192 128\\n', 'dog\\t128 192 128\\n', 'Pedestrian\\t64 64 0\\n', 'boat\\t192 64 0\\n', 'Wall\\t64 192 0\\n', 'VegetationMisc\\t192 192 0\\n', 'Fence\\t64 64 128\\n', 'Train\\t192 64 128\\n', 'ParkingBlock\\t64 192 128\\n', 'Column_Pole\\t192 192 128\\n', 'TrafficCone\\t0 0 64\\n', 'unused\\t128 0 64\\n', 'Bridge\\t0 128 64\\n', 'Misc_Text\\t128 128 64\\n', 'Sidewalk\\t0 0 192\\n', 'LaneMkgsDriv\\t128 0 192\\n', 'Bicyclist\\t0 128 192\\n', 'RoadShoulder\\t128 128 192\\n', 'Tunnel\\t64 0 64\\n', 'LaneMkgsNonDriv\\t192 0 64\\n', 'Animal\\t64 128 64\\n', 'Child\\t192 128 64\\n', 'CartLuggagePram\\t64 0 192\\n', 'MotorcycleScooter\\t192 0 192\\n', 'SUVPickupTruck\\t64 128 192\\n', 'Truck_Bus\\t192 128 192\\n', 'TrafficLight\\t0 64 64\\n', 'OtherMoving\\t128 64 64']\n"
     ]
    }
   ],
   "source": [
    "print(open(\"label_colors.txt\").readlines())"
   ]
  },
  {
   "cell_type": "code",
   "execution_count": 5,
   "metadata": {
    "collapsed": false
   },
   "outputs": [
    {
     "name": "stdout",
     "output_type": "stream",
     "text": [
      "(0, 0, 0) Void\n",
      "(0, 0, 128) Building\n",
      "(0, 128, 0) grass\n",
      "(0, 128, 128) Tree\n",
      "(128, 0, 0) cow\n",
      "(128, 0, 128) horse\n",
      "(128, 128, 0) sheep\n",
      "(128, 128, 128) Sky\n",
      "(0, 0, 64) mountain\n",
      "(0, 0, 192) aeroplane\n",
      "(0, 128, 64) water\n",
      "(0, 128, 192) face\n",
      "(128, 0, 64) Car\n",
      "(128, 0, 192) Archway\n",
      "(128, 128, 64) flower\n",
      "(128, 128, 192) SignSymbol\n",
      "(0, 64, 0) bird\n",
      "(0, 64, 128) book\n",
      "(0, 192, 0) chair\n",
      "(0, 192, 128) motorbike\n",
      "(128, 64, 0) person\n",
      "(128, 64, 128) Road\n",
      "(128, 192, 0) cat\n",
      "(128, 192, 128) dog\n",
      "(0, 64, 64) Pedestrian\n",
      "(0, 64, 192) boat\n",
      "(0, 192, 64) Wall\n",
      "(0, 192, 192) VegetationMisc\n",
      "(128, 64, 64) Fence\n",
      "(128, 64, 192) Train\n",
      "(128, 192, 64) ParkingBlock\n",
      "(128, 192, 192) Column_Pole\n",
      "(64, 0, 0) TrafficCone\n",
      "(64, 0, 128) unused\n",
      "(64, 128, 0) Bridge\n",
      "(64, 128, 128) Misc_Text\n",
      "(192, 0, 0) Sidewalk\n",
      "(192, 0, 128) LaneMkgsDriv\n",
      "(192, 128, 0) Bicyclist\n",
      "(192, 128, 128) RoadShoulder\n",
      "(64, 0, 64) Tunnel\n",
      "(64, 0, 192) LaneMkgsNonDriv\n",
      "(64, 128, 64) Animal\n",
      "(64, 128, 192) Child\n",
      "(192, 0, 64) CartLuggagePram\n",
      "(192, 0, 192) MotorcycleScooter\n",
      "(192, 128, 64) SUVPickupTruck\n",
      "(192, 128, 192) Truck_Bus\n",
      "(64, 64, 0) TrafficLight\n",
      "(64, 64, 128) OtherMoving\n"
     ]
    }
   ],
   "source": [
    "def parse_code(l):\n",
    "    if len(l.strip().split(\"\\t\")) == 2:\n",
    "        a, b = l.replace('\\t\\t','\\t').strip().split(\"\\t\")\n",
    "        return tuple(int(i) for i in b.split(' '))[::-1], a\n",
    "\n",
    "label_codes, label_names = zip(*[parse_code(l) for l in open(\"label_colors.txt\")])\n",
    "label_codes, label_names = list(label_codes), list(label_names)\n",
    "\n",
    "for i in range(len(label_codes)):\n",
    "    print(str(label_codes[i])+' '+label_names[i])"
   ]
  },
  {
   "cell_type": "raw",
   "metadata": {},
   "source": [
    "接下來我們開始處理圖片，為了讓機器可以在CPU環境下也能執行，我刻意將圖片縮得很小(64*64)，如果是在有GPU環境可以把圖放大一些，這樣解析度會較好，縮放時為了避免顏色跑掉，請使用NEAREST做差補。"
   ]
  },
  {
   "cell_type": "code",
   "execution_count": 6,
   "metadata": {
    "collapsed": false
   },
   "outputs": [
    {
     "name": "stdout",
     "output_type": "stream",
     "text": [
      "(701, 3, 64, 64)\n",
      "(701, 3, 64, 64)\n"
     ]
    }
   ],
   "source": [
    "img_h =64\n",
    "img_w = 64\n",
    "num_classes =len(label_codes)\n",
    "\n",
    "\n",
    "#開啟圖片，並且縮放至64*64(原圖是960*720)\n",
    "def open_image(img):\n",
    "    x=np.array(Image.open(img).resize((img_h,img_w), Image.NEAREST))\n",
    "    x = x.astype(np.float32).transpose(2,0,1)\n",
    "    x = np.ascontiguousarray(x)[::-1]\n",
    "    return x\n",
    "\n",
    "imgs = np.stack([open_image(i) for i in images])\n",
    "print(imgs.shape)\n",
    "\n",
    "lbs = np.stack([open_image(l) for l in labels])\n",
    "print(lbs.shape)"
   ]
  },
  {
   "cell_type": "raw",
   "metadata": {},
   "source": [
    "接著我們來針對圖片做些預處理，將圖片除以255，等於是讓向量值轉換為0~1之間。然後計算平均值與標準差，再將向量二次轉換(減去平均值，除以標準差)，這樣模型收斂的快一些。"
   ]
  },
  {
   "cell_type": "code",
   "execution_count": 7,
   "metadata": {
    "collapsed": false
   },
   "outputs": [
    {
     "name": "stdout",
     "output_type": "stream",
     "text": [
      "平均值:0.40013885498046875,標準差:0.3020400106906891\n"
     ]
    }
   ],
   "source": [
    "#將圖片向量除以255，讓數值介於0~1之間\n",
    "imgs = imgs/255.\n",
    "\n",
    "#計算圖片的平均值與標準差\n",
    "mean = imgs.mean()\n",
    "std = imgs.std()\n",
    "print('平均值:{0},標準差:{1}'.format(mean, std))\n",
    "\n",
    "#圖片根據平均值與標準差正歸化\n",
    "imgs-=imgs.mean()\n",
    "imgs/=imgs.std()"
   ]
  },
  {
   "cell_type": "raw",
   "metadata": {},
   "source": [
    "接下來我們為了供給後續建模時的minibatch，設計了以下的圖片讀取機制請注意，由於上面步驟讀取的圖片格式與CNTK要的格式不同，因此需要做以下轉換\n",
    "\n",
    " x = x.astype(np.float32).transpose(2, 0, 1)  #轉換為CHW\n",
    " x = np.ascontiguousarray(x[::-1]) #轉換為BGR"
   ]
  },
  {
   "cell_type": "raw",
   "metadata": {},
   "source": [
    "由於標籤圖檔需要轉換為遮罩(MASK)，其中CHANNEL數必須與類別數相同(50種)"
   ]
  },
  {
   "cell_type": "code",
   "execution_count": 8,
   "metadata": {
    "collapsed": false
   },
   "outputs": [
    {
     "name": "stdout",
     "output_type": "stream",
     "text": [
      "50\n"
     ]
    },
    {
     "data": {
      "text/plain": [
       "{(0, 0, 0): 0,\n",
       " (0, 0, 64): 8,\n",
       " (0, 0, 128): 1,\n",
       " (0, 0, 192): 9,\n",
       " (0, 64, 0): 16,\n",
       " (0, 64, 64): 24,\n",
       " (0, 64, 128): 17,\n",
       " (0, 64, 192): 25,\n",
       " (0, 128, 0): 2,\n",
       " (0, 128, 64): 10,\n",
       " (0, 128, 128): 3,\n",
       " (0, 128, 192): 11,\n",
       " (0, 192, 0): 18,\n",
       " (0, 192, 64): 26,\n",
       " (0, 192, 128): 19,\n",
       " (0, 192, 192): 27,\n",
       " (64, 0, 0): 32,\n",
       " (64, 0, 64): 40,\n",
       " (64, 0, 128): 33,\n",
       " (64, 0, 192): 41,\n",
       " (64, 64, 0): 48,\n",
       " (64, 64, 128): 49,\n",
       " (64, 128, 0): 34,\n",
       " (64, 128, 64): 42,\n",
       " (64, 128, 128): 35,\n",
       " (64, 128, 192): 43,\n",
       " (128, 0, 0): 4,\n",
       " (128, 0, 64): 12,\n",
       " (128, 0, 128): 5,\n",
       " (128, 0, 192): 13,\n",
       " (128, 64, 0): 20,\n",
       " (128, 64, 64): 28,\n",
       " (128, 64, 128): 21,\n",
       " (128, 64, 192): 29,\n",
       " (128, 128, 0): 6,\n",
       " (128, 128, 64): 14,\n",
       " (128, 128, 128): 7,\n",
       " (128, 128, 192): 15,\n",
       " (128, 192, 0): 22,\n",
       " (128, 192, 64): 30,\n",
       " (128, 192, 128): 23,\n",
       " (128, 192, 192): 31,\n",
       " (192, 0, 0): 36,\n",
       " (192, 0, 64): 44,\n",
       " (192, 0, 128): 37,\n",
       " (192, 0, 192): 45,\n",
       " (192, 128, 0): 38,\n",
       " (192, 128, 64): 46,\n",
       " (192, 128, 128): 39,\n",
       " (192, 128, 192): 47}"
      ]
     },
     "execution_count": 8,
     "metadata": {},
     "output_type": "execute_result"
    }
   ],
   "source": [
    "#產生索引對類別色彩之間的轉換\n",
    "code2id = {v: k for k, v in enumerate(label_codes)}\n",
    "id2code = {k: v for k, v in enumerate(label_codes)}\n",
    "print(len(label_codes))\n",
    "num_class=len(label_codes)\n",
    "code2id"
   ]
  },
  {
   "cell_type": "code",
   "execution_count": 9,
   "metadata": {
    "collapsed": false
   },
   "outputs": [],
   "source": [
    "#產生索引對類別色彩之間的轉換\n",
    "code2id = {v: k for k, v in enumerate(label_codes)}\n",
    "id2code = {k: v for k, v in enumerate(label_codes)}\n",
    "label_colours = np.asarray(label_codes)\n",
    "failed_code = len(label_codes) + 1\n",
    "n, ch,r, c = imgs.shape\n",
    "\n",
    "#轉換單張標籤為mask(3*64*64->50*64*64)\n",
    "def conv_one_label(b_label,num_class=50):\n",
    "    res = np.zeros((num_class, b_label.shape[1],b_label.shape[2]), 'float32')\n",
    "    for j in range(b_label.shape[1]):\n",
    "        for k in range(b_label.shape[2]):\n",
    "            color=tuple(b_label[:,j,k].tolist())\n",
    "            if color in code2id:\n",
    "                try:\n",
    "                    res[code2id[color], j, k] = 1\n",
    "                except Exception as e:\n",
    "                    print(e)\n",
    "                    print(code2id[color])\n",
    "                    print(color)\n",
    "                    res[0, j, k] = 1\n",
    "            else:\n",
    "                res[0, j, k] = 1\n",
    "    return res\n",
    "\n",
    "#將一個批次做轉換\n",
    "def conv_all_labels(b_label):\n",
    "    lblist = []\n",
    "    for i in range(b_label.shape[0]):\n",
    "        ls = conv_one_label(b_label[i])\n",
    "        lblist.append(ls)\n",
    "    return np.asarray(lblist)\n",
    "\n",
    "#將向量轉圖片\n",
    "def array2img(arr: np.ndarray):\n",
    "    sanitized_img =arr\n",
    "    if len(arr.shape) > 2:\n",
    "        if arr.shape[0]>1:\n",
    "            arr = arr[::-1]\n",
    "        sanitized_img = np.maximum(0, np.minimum(255, np.transpose(arr, (1, 2, 0))))\n",
    "        if arr.shape[0]==1:\n",
    "            sanitized_img =np.squeeze(sanitized_img,-1)\n",
    "        img = Image.fromarray(sanitized_img.astype(np.uint8))\n",
    "        return img\n",
    "    elif  len(arr.shape) == 2:\n",
    "        img = Image.fromarray(arr.astype(np.int8))\n",
    "        return img\n",
    "\n",
    "#將mask轉RGB圖片(50*64*64=>3*64*64)\n",
    "def decode_labels(masks, num_classes=50):\n",
    "    global img_w, img_h\n",
    "    result = []\n",
    "    for batch in range(masks.shape[0]):\n",
    "        decode_map = masks[batch]\n",
    "        decode_map = np.argmax(decode_map, 0).astype(np.float32)\n",
    "        color_img = np.zeros((img_h, img_w, 3), dtype=np.float32)# * 192\n",
    "        for k in range(num_classes):\n",
    "            if k > 0:\n",
    "                color_img[decode_map == k] = label_colours[k]\n",
    "        result.append(color_img.transpose(2, 0, 1))\n",
    "    return np.asarray(result)\n",
    "\n",
    "#把圖片並列列印出來\n",
    "def tile_rgb_images(pred, label, truth, row=3, col=3):\n",
    "    fig = pylab.gcf()\n",
    "    fig.set_size_inches(col * 2, row * 2)\n",
    "    pylab.clf()\n",
    "    pylab.ioff()  # is not None:\n",
    "    for m in range(row * col):\n",
    "        pylab.subplot(row, col, m + 1)\n",
    "        if m % 3 == 0:\n",
    "            if pred.shape[0] == 1:\n",
    "                pred = pred[0]\n",
    "            img = array2img(pred[int(m / 3)]).resize((120,90))\n",
    "        elif m % 3 == 1:\n",
    "            if label.shape[0] == 1:\n",
    "                label = label[0]\n",
    "            img = array2img(label[int((m - 1) / 3)]).resize((120,90))\n",
    "        else:\n",
    "            if truth.shape[0] == 1:\n",
    "                truth = truth[0]\n",
    "            img = array2img((truth[int((m - 2) / 3)] * std + mean) * 255).resize((120,90))\n",
    "        pylab.imshow(img, interpolation=\"nearest\", animated=True)\n",
    "        pylab.axis(\"off\")"
   ]
  },
  {
   "cell_type": "raw",
   "metadata": {},
   "source": [
    "我們首先挑一張標籤圖片，檢視原始標籤"
   ]
  },
  {
   "cell_type": "code",
   "execution_count": 10,
   "metadata": {
    "collapsed": true
   },
   "outputs": [],
   "source": [
    "idx=0\n",
    "idxs=np.arange(len(imgs))\n",
    "np.random.shuffle(idxs)\n",
    "\n",
    "def get_next_minibatch(minibatch_size=8):\n",
    "    global idx,idxs\n",
    "    features=[]\n",
    "    masks=[]\n",
    "    while len(features)<minibatch_size:\n",
    "        features.append(imgs[idxs[idx]])\n",
    "        masks.append(lbs[idxs[idx]])\n",
    "        idx+=1\n",
    "        if idx>=len(imgs)-1:\n",
    "            idx=0\n",
    "            np.random.shuffle(idxs)\n",
    "    return np.asarray(features),conv_all_labels(np.asarray(masks))\n",
    "        \n",
    "    "
   ]
  },
  {
   "cell_type": "raw",
   "metadata": {},
   "source": [
    "為了確保前面寫的轉換步驟正確，所以我們故意挑一張mask，首先是直接顯示遮罩圖片。"
   ]
  },
  {
   "cell_type": "code",
   "execution_count": 11,
   "metadata": {
    "collapsed": false
   },
   "outputs": [
    {
     "data": {
      "text/plain": [
       "<matplotlib.image.AxesImage at 0x2058150ab70>"
      ]
     },
     "execution_count": 11,
     "metadata": {},
     "output_type": "execute_result"
    },
    {
     "data": {
      "image/png": "[encoded data removed]",
      "text/plain": [
       "<matplotlib.figure.Figure at 0x2058150ab00>"
      ]
     },
     "metadata": {},
     "output_type": "display_data"
    }
   ],
   "source": [
    "label=array2img(lbs[0])\n",
    "plt.axis('off')\n",
    "plt.imshow(label)"
   ]
  },
  {
   "cell_type": "raw",
   "metadata": {},
   "source": [
    "然後故意將這張遮罩圖利用conv_one_label編碼為50維的mask，然後我們再利用decode_labels將50維遮罩再轉回rgb圖片(decode_labels是針對批次執行，所以故意把它np.asarray([mask])整成(1,50,64,64)再送進去)，這時候就可以比較一下是不是變回原狀，如果不一樣表示中間過程有錯誤。"
   ]
  },
  {
   "cell_type": "code",
   "execution_count": 12,
   "metadata": {
    "collapsed": false
   },
   "outputs": [
    {
     "name": "stdout",
     "output_type": "stream",
     "text": [
      "(50, 64, 64)\n",
      "(1, 3, 64, 64)\n"
     ]
    },
    {
     "data": {
      "text/plain": [
       "<matplotlib.image.AxesImage at 0x2058150a978>"
      ]
     },
     "execution_count": 12,
     "metadata": {},
     "output_type": "execute_result"
    },
    {
     "data": {
      "image/png": "[encoded data removed]",
      "text/plain": [
       "<matplotlib.figure.Figure at 0x2058150a908>"
      ]
     },
     "metadata": {},
     "output_type": "display_data"
    }
   ],
   "source": [
    "mask=conv_one_label(lbs[0],num_class)\n",
    "print(mask.shape)\n",
    "rgb_label=decode_labels(np.asarray([mask]),num_class)\n",
    "print(rgb_label.shape)\n",
    "plt.axis('off')\n",
    "plt.imshow(array2img(rgb_label[0]))"
   ]
  },
  {
   "cell_type": "raw",
   "metadata": {},
   "source": [
    "測試一下批次數據的形狀是否正確"
   ]
  },
  {
   "cell_type": "code",
   "execution_count": 14,
   "metadata": {
    "collapsed": false
   },
   "outputs": [
    {
     "name": "stdout",
     "output_type": "stream",
     "text": [
      "(8, 3, 64, 64)\n",
      "(8, 50, 64, 64)\n"
     ]
    }
   ],
   "source": [
    "b_img, b_label = get_next_minibatch()\n",
    "print(b_img.shape)\n",
    "print(b_label.shape)"
   ]
  },
  {
   "cell_type": "raw",
   "metadata": {},
   "source": [
    "定義fcn-densenet，也就是俗稱的提拉米蘇。基本上它是以Densenet為基礎，總共包含兩個路徑，一個是逐步進行下採樣讓圖片縮小(TD,  transition down)，另外一個路徑則是逐步將縮小的圖片進行上採樣來復原(TU, transition up)，在尺寸對應的的層，會透過skip connection將較完整清晰的特徵從TD路徑傳至TU路徑，以確保細節特徵的完整性。"
   ]
  },
  {
   "cell_type": "markdown",
   "metadata": {},
   "source": [
    "![autodrive](../Images/tiramisu.jpg)"
   ]
  },
  {
   "cell_type": "raw",
   "metadata": {},
   "source": [
    "接著我們將於pytorch中實作出tiramisu網路結構。"
   ]
  },
  {
   "cell_type": "code",
   "execution_count": 15,
   "metadata": {
    "collapsed": true
   },
   "outputs": [],
   "source": [
    "class DenseLayer(nn.Sequential): \n",
    "    def __init__(self, in_channels, growth_rate): \n",
    "        super().__init__() \n",
    "        self.add_module('norm', nn.BatchNorm2d(in_channels)) \n",
    "        self.add_module('relu', nn.ReLU(True)) \n",
    "        self.add_module('conv', nn.Conv2d(in_channels, growth_rate, kernel_size=3, stride=1, padding=1, bias=True)) \n",
    "        self.add_module('drop', nn.Dropout2d(0.2)) \n",
    "    def forward(self, x): \n",
    "        return super().forward(x)  \n",
    "\n",
    "class DenseBlock(nn.Module): \n",
    "    def __init__(self, in_channels, growth_rate, n_layers, upsample=False): \n",
    "        super().__init__() \n",
    "        self.upsample = upsample \n",
    "        self.layers = nn.ModuleList([DenseLayer( \n",
    "            in_channels + i*growth_rate, growth_rate) \n",
    "            for i in range(n_layers)]) \n",
    "    def forward(self, x): \n",
    "        if self.upsample: \n",
    "            new_features = [] \n",
    "            #we pass all previous activations into each dense layer normally \n",
    "            #But we only store each dense layer's output in the new_features array \n",
    "            for layer in self.layers: \n",
    "                out = layer(x) \n",
    "                x = torch.cat([x, out], 1) \n",
    "                new_features.append(out) \n",
    "            return torch.cat(new_features,1) \n",
    "        else: \n",
    "            for layer in self.layers: \n",
    "                out = layer(x) \n",
    "                x = torch.cat([x, out], 1) # 1 = channel axis \n",
    "            return x \n",
    "\n",
    "class TransitionDown(nn.Sequential): \n",
    "    def __init__(self, in_channels): \n",
    "        super().__init__() \n",
    "        self.add_module('norm', nn.BatchNorm2d(num_features=in_channels)) \n",
    "        self.add_module('relu', nn.ReLU(inplace=True)) \n",
    "        self.add_module('conv', nn.Conv2d(in_channels, in_channels, kernel_size=1, stride=1, padding=0, bias=True)) \n",
    "        self.add_module('drop', nn.Dropout2d(0.2)) \n",
    "        self.add_module('maxpool', nn.MaxPool2d(2)) \n",
    "    def forward(self, x): \n",
    "        return super().forward(x) \n",
    " \n",
    " \n",
    " \n",
    " \n",
    "class TransitionUp(nn.Module): \n",
    "    def __init__(self, in_channels, out_channels): \n",
    "        super().__init__() \n",
    "        self.convTrans = nn.ConvTranspose2d( \n",
    "            in_channels=in_channels, out_channels=out_channels, \n",
    "            kernel_size=3, stride=2, padding=0, bias=True) \n",
    "    def forward(self, x, skip): \n",
    "        out = self.convTrans(x) \n",
    "        out = center_crop(out, skip.size(2), skip.size(3)) \n",
    "        out = torch.cat([out, skip], 1) \n",
    "        return out \n",
    "\n",
    "class Bottleneck(nn.Sequential): \n",
    "    def __init__(self, in_channels, growth_rate, n_layers): \n",
    "        super().__init__() \n",
    "        self.add_module('bottleneck', DenseBlock( in_channels, growth_rate, n_layers, upsample=True)) \n",
    "    def forward(self, x): \n",
    "        return super().forward(x) \n",
    "\n",
    " \n",
    " \n",
    "def center_crop(layer, max_height, max_width): \n",
    "    _, _, h, w = layer.size() \n",
    "    xy1 = (w - max_width) // 2 \n",
    "    xy2 = (h - max_height) // 2 \n",
    "    return layer[:, :, xy2:(xy2 + max_height), xy1:(xy1 + max_width)]\n",
    "\n",
    "\n",
    "\n",
    "class FCDenseNet(nn.Module):\n",
    "    def __init__(self, in_channels=3, down_blocks=(5,5,5,5,5),\n",
    "                 up_blocks=(5,5,5,5,5), bottleneck_layers=5,\n",
    "                 growth_rate=16, out_chans_first_conv=48, n_classes=12):\n",
    "        super().__init__()\n",
    "        self.down_blocks = down_blocks\n",
    "        self.up_blocks = up_blocks\n",
    "        cur_channels_count = 0\n",
    "        skip_connection_channel_counts = []\n",
    "\n",
    "        ## First Convolution ##\n",
    "\n",
    "        self.add_module('firstconv', nn.Conv2d(in_channels=in_channels,\n",
    "                  out_channels=out_chans_first_conv, kernel_size=3,\n",
    "                  stride=1, padding=1, bias=True))\n",
    "        cur_channels_count = out_chans_first_conv\n",
    "\n",
    "        #####################\n",
    "        # Downsampling path #\n",
    "        #####################\n",
    "\n",
    "        self.denseBlocksDown = nn.ModuleList([])\n",
    "        self.transDownBlocks = nn.ModuleList([])\n",
    "        for i in range(len(down_blocks)):\n",
    "            self.denseBlocksDown.append(\n",
    "                DenseBlock(cur_channels_count, growth_rate, down_blocks[i]))\n",
    "            cur_channels_count += (growth_rate*down_blocks[i])\n",
    "            skip_connection_channel_counts.insert(0,cur_channels_count)\n",
    "            self.transDownBlocks.append(TransitionDown(cur_channels_count))\n",
    "\n",
    "        #####################\n",
    "        #     Bottleneck    #\n",
    "        #####################\n",
    "\n",
    "        self.add_module('bottleneck',Bottleneck(cur_channels_count,\n",
    "                                     growth_rate, bottleneck_layers))\n",
    "        prev_block_channels = growth_rate*bottleneck_layers\n",
    "        cur_channels_count += prev_block_channels\n",
    "\n",
    "        #######################\n",
    "        #   Upsampling path   #\n",
    "        #######################\n",
    "\n",
    "        self.transUpBlocks = nn.ModuleList([])\n",
    "        self.denseBlocksUp = nn.ModuleList([])\n",
    "        for i in range(len(up_blocks)-1):\n",
    "            self.transUpBlocks.append(TransitionUp(prev_block_channels, prev_block_channels))\n",
    "            cur_channels_count = prev_block_channels + skip_connection_channel_counts[i]\n",
    "\n",
    "            self.denseBlocksUp.append(DenseBlock(\n",
    "                cur_channels_count, growth_rate, up_blocks[i],\n",
    "                    upsample=True))\n",
    "            prev_block_channels = growth_rate*up_blocks[i]\n",
    "            cur_channels_count += prev_block_channels\n",
    "\n",
    "        ## Final DenseBlock ##\n",
    "\n",
    "        self.transUpBlocks.append(TransitionUp(\n",
    "            prev_block_channels, prev_block_channels))\n",
    "        cur_channels_count = prev_block_channels + skip_connection_channel_counts[-1]\n",
    "\n",
    "        self.denseBlocksUp.append(DenseBlock(\n",
    "            cur_channels_count, growth_rate, up_blocks[-1],\n",
    "                upsample=False))\n",
    "        cur_channels_count += growth_rate*up_blocks[-1]\n",
    "\n",
    "        ## Softmax ##\n",
    "\n",
    "        self.finalConv =nn.Conv2d(cur_channels_count, n_classes, 1)\n",
    "\n",
    "    def forward(self, x):\n",
    "        out = self.firstconv(x)\n",
    "\n",
    "        skip_connections = []\n",
    "        for i in range(len(self.down_blocks)):\n",
    "            out = self.denseBlocksDown[i](out)\n",
    "            skip_connections.append(out)\n",
    "            out = self.transDownBlocks[i](out)\n",
    "\n",
    "        out = self.bottleneck(out)\n",
    "        for i in range(len(self.up_blocks)):\n",
    "            skip = skip_connections.pop()\n",
    "            out = self.transUpBlocks[i](out, skip)\n",
    "            out = self.denseBlocksUp[i](out)\n",
    "\n",
    "        out = self.finalConv(out)\n",
    "        return out\n",
    "\n",
    "\n",
    "\n",
    "def tiramitsu(n_classes):\n",
    "    return FCDenseNet(\n",
    "        in_channels=3, down_blocks=(4,5,7,10,12),\n",
    "        up_blocks=(12,10,7,5,4), bottleneck_layers=15,\n",
    "        growth_rate=16, out_chans_first_conv=32, n_classes=n_classes)\n",
    "\n",
    "\n",
    "def weights_init(m): \n",
    "    if isinstance(m, nn.Conv2d): \n",
    "        nn.init.kaiming_uniform_(m.weight) \n",
    "        m.bias.data.zero_() \n"
   ]
  },
  {
   "cell_type": "raw",
   "metadata": {},
   "source": [
    "將pytorch需要的存檔、產生預測等功能實作"
   ]
  },
  {
   "cell_type": "code",
   "execution_count": 19,
   "metadata": {
    "collapsed": true
   },
   "outputs": [],
   "source": [
    "def save_weights(model, epoch, loss, err):\n",
    "    weights_fname = 'weights-%d-%.3f-%.3f.pth' % (epoch, loss, err)\n",
    "    weights_fpath = \"Models/{0}\".format(weights_fname)\n",
    "    torch.save({\n",
    "            'startEpoch': epoch,\n",
    "            'loss':loss,\n",
    "            'error': err,\n",
    "            'state_dict': model.state_dict()\n",
    "        }, weights_fpath)\n",
    "\n",
    "    \n",
    "    \n",
    "def load_weights(model, fpath):\n",
    "    print(\"loading weights '{}'\".format(fpath))\n",
    "    weights = torch.load(fpath)\n",
    "    startEpoch = weights['startEpoch']\n",
    "    model.load_state_dict(weights['state_dict'])\n",
    "    print(\"loaded weights (lastEpoch {}, loss {}, error {})\"\n",
    "          .format(startEpoch-1, weights['loss'], weights['error']))\n",
    "    return startEpoch\n",
    "\n",
    "\n",
    "\n",
    "def error(preds, targets):\n",
    "    assert preds.size() == targets.size()\n",
    "    bs,h,w = preds.size()\n",
    "    n_pixels = bs*h*w\n",
    "    incorrect = preds.ne(targets).cpu().sum()\n",
    "    err = incorrect/n_pixels\n",
    "    return round(err,5)\n",
    "\n",
    "\n",
    "def iou(pred, target, n_classes = 50):\n",
    "    ious = []\n",
    "    pred = pred.view(-1)\n",
    "    target = target.view(-1)\n",
    "    for cls in range(1, n_classes):  # This goes from 1:n_classes-1 -> class \"0\" is ignored\n",
    "        pred_inds = pred == cls\n",
    "        target_inds = target == cls\n",
    "        pred_inds=pred_inds.cpu().detach().numpy()\n",
    "        target_inds=target_inds.cpu().detach().numpy()\n",
    "        \n",
    "        intersection = np.equal(pred_inds,target_inds).astype(np.float32).sum()  # Cast to long to prevent overflows\n",
    "        union =  np.greater(pred_inds+target_inds,0).astype(np.float32).sum() - intersection\n",
    "        if union == 0:\n",
    "            ious.append(float('nan'))  # If there is no ground truth, do not include in evaluation\n",
    "        else:\n",
    "            ious.append(float(intersection) / float(max(union, 1)))\n",
    "    return np.array(ious)\n",
    "\n",
    "\n"
   ]
  },
  {
   "cell_type": "raw",
   "metadata": {},
   "source": [
    "在這個模型中，我們將使用dice loss (等於1-dice coefficient)作為模型的損失函數，至於metrics則採用正確率(mask預測與實際結果標籤命中狀況)"
   ]
  },
  {
   "cell_type": "code",
   "execution_count": 16,
   "metadata": {
    "collapsed": true
   },
   "outputs": [],
   "source": [
    "def dice_loss(input,target):\n",
    "    \"\"\"\n",
    "    input is a torch variable of size BatchxnclassesxHxW representing log probabilities for each class\n",
    "    target is a 1-hot representation of the groundtruth, shoud have same size as the input\n",
    "    \"\"\"\n",
    "    assert input.size() == target.size(), \"Input sizes must be equal.\"\n",
    "    assert input.dim() == 4, \"Input must be a 4D Tensor.\"\n",
    "    uniques=np.unique(target.cpu().detach().numpy())\n",
    "    assert set(list(uniques))<=set([0,1]), \"target must only contain zeros and ones\"\n",
    "\n",
    "    probs=F.softmax(input)\n",
    "    num=probs*target#b,c,h,w--p*g\n",
    "    num=torch.sum(num,dim=3)#b,c,h\n",
    "    num=torch.sum(num,dim=2)\n",
    "    \n",
    "\n",
    "    den1=probs*probs#--p^2\n",
    "    den1=torch.sum(den1,dim=3)#b,c,h\n",
    "    den1=torch.sum(den1,dim=2)\n",
    "    \n",
    "\n",
    "    den2=target*target#--g^2\n",
    "    den2=torch.sum(den2,dim=3)#b,c,h\n",
    "    den2=torch.sum(den2,dim=2)#b,c\n",
    "    \n",
    "\n",
    "    dice=2*(num/(den1+den2))\n",
    "    dice_eso=dice[:,1:]#we ignore bg dice val, and take the fg\n",
    "\n",
    "    dice_total=-1*torch.sum(dice_eso)/dice_eso.size(0)#divide by batch_sz\n",
    "\n",
    "    return dice_total"
   ]
  },
  {
   "cell_type": "raw",
   "metadata": {},
   "source": [
    "宣告模型、優化器以及損失函數，這邊損失函數使用的是dice loss"
   ]
  },
  {
   "cell_type": "code",
   "execution_count": 17,
   "metadata": {
    "collapsed": true
   },
   "outputs": [],
   "source": [
    "minibatch_size =8\n",
    "num_epochs = 10\n",
    "learning_rate = 0.000125  # 學習速率\n",
    "\n",
    "model = tiramitsu(n_classes=50).to(device)\n",
    "model.apply(weights_init)\n",
    "optimizer = torch.optim.RMSprop(model.parameters(), lr=learning_rate, weight_decay=1e-4) \n",
    "criterion=dice_loss"
   ]
  },
  {
   "cell_type": "code",
   "execution_count": 20,
   "metadata": {
    "collapsed": false
   },
   "outputs": [
    {
     "name": "stdout",
     "output_type": "stream",
     "text": [
      "epoch start\n"
     ]
    },
    {
     "name": "stderr",
     "output_type": "stream",
     "text": [
      "C:\\Anaconda3\\lib\\site-packages\\ipykernel\\__main__.py:11: UserWarning: Implicit dimension choice for softmax has been deprecated. Change the call to include dim=X as an argument.\n"
     ]
    },
    {
     "name": "stdout",
     "output_type": "stream",
     "text": [
      "Epoch: 1/10  Step: 0  Loss: -4.6973... accuracy: 0.1400...\n",
      "Epoch: 1/10  Step: 1  Loss: -4.8119... accuracy: 0.1598...\n",
      "Epoch: 1/10  Step: 2  Loss: -4.8861... accuracy: 0.1223...\n",
      "Epoch: 1/10  Step: 3  Loss: -4.9564... accuracy: 0.1851...\n",
      "Epoch: 1/10  Step: 4  Loss: -5.2286... accuracy: 0.0998...\n",
      "Epoch: 1/10  Step: 5  Loss: -4.3196... accuracy: 0.1832...\n",
      "Epoch: 1/10  Step: 10  Loss: -4.7040... accuracy: 0.1423...\n",
      "Epoch: 1/10  Step: 15  Loss: -5.1326... accuracy: 0.1304...\n",
      "Epoch: 1/10  Step: 20  Loss: -5.6494... accuracy: 0.1520...\n",
      "Epoch: 1/10  Step: 25  Loss: -5.2975... accuracy: 0.1465...\n",
      "Epoch: 1/10  Step: 30  Loss: -4.8873... accuracy: 0.1230...\n",
      "Epoch: 1/10  Step: 35  Loss: -5.2407... accuracy: 0.1172...\n",
      "Epoch: 1/10  Step: 40  Loss: -4.7994... accuracy: 0.1236...\n",
      "Epoch: 1/10  Step: 45  Loss: -5.0445... accuracy: 0.1197...\n",
      "Epoch: 1/10  Step: 50  Loss: -5.1179... accuracy: 0.0939...\n",
      "Epoch: 1/10  Step: 55  Loss: -5.1048... accuracy: 0.1864...\n",
      "Epoch: 1/10  Step: 60  Loss: -5.3570... accuracy: 0.1126...\n",
      "Epoch: 1/10  Step: 65  Loss: -4.7569... accuracy: 0.1064...\n",
      "Epoch: 1/10  Step: 70  Loss: -5.1674... accuracy: 0.1219...\n",
      "Epoch: 1/10  Step: 75  Loss: -5.6190... accuracy: 0.1047...\n",
      "Epoch: 1/10  Step: 80  Loss: -4.7675... accuracy: 0.1041...\n",
      "Epoch: 1/10  Step: 85  Loss: -5.5597... accuracy: 0.1093...\n",
      "Epoch: 1/10  Step: 90  Loss: -5.1517... accuracy: 0.2147...\n",
      "Epoch: 1/10  Step: 95  Loss: -5.5143... accuracy: 0.0795...\n",
      "Epoch: 2/10  Step: 0  Loss: -5.3524... accuracy: 0.1678...\n",
      "Epoch: 2/10  Step: 1  Loss: -5.2484... accuracy: 0.1405...\n",
      "Epoch: 2/10  Step: 2  Loss: -5.4507... accuracy: 0.0868...\n",
      "Epoch: 2/10  Step: 3  Loss: -4.8795... accuracy: 0.1480...\n",
      "Epoch: 2/10  Step: 4  Loss: -5.0988... accuracy: 0.1709...\n",
      "Epoch: 2/10  Step: 5  Loss: -5.2201... accuracy: 0.1179...\n",
      "Epoch: 2/10  Step: 10  Loss: -5.5694... accuracy: 0.0840...\n",
      "Epoch: 2/10  Step: 15  Loss: -5.4456... accuracy: 0.1287...\n",
      "Epoch: 2/10  Step: 20  Loss: -5.1034... accuracy: 0.1783...\n",
      "Epoch: 2/10  Step: 25  Loss: -5.5032... accuracy: 0.0752...\n",
      "Epoch: 2/10  Step: 30  Loss: -5.3803... accuracy: 0.2288...\n",
      "Epoch: 2/10  Step: 35  Loss: -5.8986... accuracy: 0.0817...\n",
      "Epoch: 2/10  Step: 40  Loss: -5.4065... accuracy: 0.1363...\n",
      "Epoch: 2/10  Step: 45  Loss: -5.0437... accuracy: 0.2077...\n",
      "Epoch: 2/10  Step: 50  Loss: -5.1928... accuracy: 0.1106...\n",
      "Epoch: 2/10  Step: 55  Loss: -5.6246... accuracy: 0.1293...\n",
      "Epoch: 2/10  Step: 60  Loss: -5.5065... accuracy: 0.1057...\n",
      "Epoch: 2/10  Step: 65  Loss: -6.0931... accuracy: 0.1474...\n",
      "Epoch: 2/10  Step: 70  Loss: -5.6113... accuracy: 0.1560...\n",
      "Epoch: 2/10  Step: 75  Loss: -5.1575... accuracy: 0.1614...\n",
      "Epoch: 2/10  Step: 80  Loss: -5.6326... accuracy: 0.1108...\n",
      "Epoch: 2/10  Step: 85  Loss: -5.3643... accuracy: 0.1326...\n",
      "Epoch: 2/10  Step: 90  Loss: -5.5615... accuracy: 0.1582...\n",
      "Epoch: 2/10  Step: 95  Loss: -6.2130... accuracy: 0.1701...\n",
      "Epoch: 3/10  Step: 0  Loss: -5.3294... accuracy: 0.1196...\n",
      "Epoch: 3/10  Step: 1  Loss: -5.9543... accuracy: 0.1433...\n",
      "Epoch: 3/10  Step: 2  Loss: -5.4991... accuracy: 0.2120...\n",
      "Epoch: 3/10  Step: 3  Loss: -5.6289... accuracy: 0.1455...\n",
      "Epoch: 3/10  Step: 4  Loss: -4.9956... accuracy: 0.1215...\n",
      "Epoch: 3/10  Step: 5  Loss: -5.5403... accuracy: 0.0914...\n",
      "Epoch: 3/10  Step: 10  Loss: -6.0420... accuracy: 0.1036...\n",
      "Epoch: 3/10  Step: 15  Loss: -6.0844... accuracy: 0.1430...\n",
      "Epoch: 3/10  Step: 20  Loss: -5.7252... accuracy: 0.2619...\n",
      "Epoch: 3/10  Step: 25  Loss: -6.1167... accuracy: 0.2294...\n",
      "Epoch: 3/10  Step: 30  Loss: -5.6792... accuracy: 0.1837...\n",
      "Epoch: 3/10  Step: 35  Loss: -6.0174... accuracy: 0.2265...\n",
      "Epoch: 3/10  Step: 40  Loss: -5.6900... accuracy: 0.1931...\n",
      "Epoch: 3/10  Step: 45  Loss: -5.2725... accuracy: 0.1198...\n",
      "Epoch: 3/10  Step: 50  Loss: -5.5864... accuracy: 0.0997...\n",
      "Epoch: 3/10  Step: 55  Loss: -5.6042... accuracy: 0.1155...\n",
      "Epoch: 3/10  Step: 60  Loss: -5.9075... accuracy: 0.1785...\n",
      "Epoch: 3/10  Step: 65  Loss: -6.0684... accuracy: 0.1045...\n",
      "Epoch: 3/10  Step: 70  Loss: -5.6876... accuracy: 0.1840...\n",
      "Epoch: 3/10  Step: 75  Loss: -5.7712... accuracy: 0.1281...\n",
      "Epoch: 3/10  Step: 80  Loss: -5.4288... accuracy: 0.1172...\n",
      "Epoch: 3/10  Step: 85  Loss: -5.7064... accuracy: 0.0934...\n",
      "Epoch: 3/10  Step: 90  Loss: -6.1766... accuracy: 0.1239...\n",
      "Epoch: 3/10  Step: 95  Loss: -6.4350... accuracy: 0.1016...\n",
      "Epoch: 4/10  Step: 0  Loss: -6.7599... accuracy: 0.1926...\n",
      "Epoch: 4/10  Step: 1  Loss: -6.3860... accuracy: 0.1264...\n",
      "Epoch: 4/10  Step: 2  Loss: -6.7264... accuracy: 0.1400...\n",
      "Epoch: 4/10  Step: 3  Loss: -5.9080... accuracy: 0.1207...\n",
      "Epoch: 4/10  Step: 4  Loss: -5.8153... accuracy: 0.0983...\n",
      "Epoch: 4/10  Step: 5  Loss: -5.3794... accuracy: 0.1831...\n",
      "Epoch: 4/10  Step: 10  Loss: -5.6682... accuracy: 0.1045...\n",
      "Epoch: 4/10  Step: 15  Loss: -5.3353... accuracy: 0.1713...\n",
      "Epoch: 4/10  Step: 20  Loss: -6.3830... accuracy: 0.1108...\n",
      "Epoch: 4/10  Step: 25  Loss: -6.7056... accuracy: 0.1220...\n",
      "Epoch: 4/10  Step: 30  Loss: -5.9378... accuracy: 0.1543...\n",
      "Epoch: 4/10  Step: 35  Loss: -6.2584... accuracy: 0.1264...\n",
      "Epoch: 4/10  Step: 40  Loss: -6.0041... accuracy: 0.1074...\n",
      "Epoch: 4/10  Step: 45  Loss: -6.0506... accuracy: 0.1775...\n",
      "Epoch: 4/10  Step: 50  Loss: -6.6072... accuracy: 0.2722...\n",
      "Epoch: 4/10  Step: 55  Loss: -5.9077... accuracy: 0.0997...\n",
      "Epoch: 4/10  Step: 60  Loss: -5.4683... accuracy: 0.1565...\n",
      "Epoch: 4/10  Step: 65  Loss: -6.1228... accuracy: 0.2051...\n",
      "Epoch: 4/10  Step: 70  Loss: -5.7064... accuracy: 0.0852...\n",
      "Epoch: 4/10  Step: 75  Loss: -7.2436... accuracy: 0.1520...\n",
      "Epoch: 4/10  Step: 80  Loss: -6.1005... accuracy: 0.1000...\n",
      "Epoch: 4/10  Step: 85  Loss: -6.4757... accuracy: 0.1077...\n",
      "Epoch: 4/10  Step: 90  Loss: -6.2239... accuracy: 0.1899...\n",
      "Epoch: 4/10  Step: 95  Loss: -6.1838... accuracy: 0.1610...\n",
      "Epoch: 5/10  Step: 0  Loss: -5.5727... accuracy: 0.0913...\n",
      "Epoch: 5/10  Step: 1  Loss: -6.0116... accuracy: 0.0949...\n",
      "Epoch: 5/10  Step: 2  Loss: -7.0077... accuracy: 0.1576...\n",
      "Epoch: 5/10  Step: 3  Loss: -6.0695... accuracy: 0.1072...\n",
      "Epoch: 5/10  Step: 4  Loss: -6.7987... accuracy: 0.1273...\n",
      "Epoch: 5/10  Step: 5  Loss: -7.1506... accuracy: 0.0860...\n",
      "Epoch: 5/10  Step: 10  Loss: -5.7122... accuracy: 0.1075...\n",
      "Epoch: 5/10  Step: 15  Loss: -5.9294... accuracy: 0.1603...\n",
      "Epoch: 5/10  Step: 20  Loss: -5.6046... accuracy: 0.1206...\n",
      "Epoch: 5/10  Step: 25  Loss: -5.9957... accuracy: 0.0738...\n",
      "Epoch: 5/10  Step: 30  Loss: -6.6982... accuracy: 0.1737...\n",
      "Epoch: 5/10  Step: 35  Loss: -6.4962... accuracy: 0.0856...\n",
      "Epoch: 5/10  Step: 40  Loss: -5.7733... accuracy: 0.1419...\n",
      "Epoch: 5/10  Step: 45  Loss: -6.6250... accuracy: 0.1717...\n",
      "Epoch: 5/10  Step: 50  Loss: -5.7330... accuracy: 0.1425...\n",
      "Epoch: 5/10  Step: 55  Loss: -6.1661... accuracy: 0.1730...\n",
      "Epoch: 5/10  Step: 60  Loss: -6.7191... accuracy: 0.1384...\n",
      "Epoch: 5/10  Step: 65  Loss: -5.1674... accuracy: 0.1150...\n",
      "Epoch: 5/10  Step: 70  Loss: -6.1274... accuracy: 0.1209...\n",
      "Epoch: 5/10  Step: 75  Loss: -5.6808... accuracy: 0.1960...\n",
      "Epoch: 5/10  Step: 80  Loss: -6.5455... accuracy: 0.1194...\n",
      "Epoch: 5/10  Step: 85  Loss: -5.6704... accuracy: 0.1117...\n",
      "Epoch: 5/10  Step: 90  Loss: -6.9348... accuracy: 0.0952...\n",
      "Epoch: 5/10  Step: 95  Loss: -7.8805... accuracy: 0.0858...\n",
      "Epoch: 6/10  Step: 0  Loss: -6.3417... accuracy: 0.1152...\n",
      "Epoch: 6/10  Step: 1  Loss: -6.4735... accuracy: 0.1989...\n",
      "Epoch: 6/10  Step: 2  Loss: -6.1177... accuracy: 0.1475...\n",
      "Epoch: 6/10  Step: 3  Loss: -6.3740... accuracy: 0.1951...\n",
      "Epoch: 6/10  Step: 4  Loss: -6.3357... accuracy: 0.1817...\n",
      "Epoch: 6/10  Step: 5  Loss: -5.8313... accuracy: 0.1317...\n",
      "Epoch: 6/10  Step: 10  Loss: -5.9755... accuracy: 0.1152...\n",
      "Epoch: 6/10  Step: 15  Loss: -6.4202... accuracy: 0.1903...\n",
      "Epoch: 6/10  Step: 20  Loss: -6.9214... accuracy: 0.1128...\n",
      "Epoch: 6/10  Step: 25  Loss: -6.7140... accuracy: 0.1680...\n",
      "Epoch: 6/10  Step: 30  Loss: -6.3490... accuracy: 0.1711...\n",
      "Epoch: 6/10  Step: 35  Loss: -6.8593... accuracy: 0.2879...\n",
      "Epoch: 6/10  Step: 40  Loss: -6.1215... accuracy: 0.2226...\n",
      "Epoch: 6/10  Step: 45  Loss: -5.9065... accuracy: 0.1024...\n",
      "Epoch: 6/10  Step: 50  Loss: -6.6816... accuracy: 0.1135...\n",
      "Epoch: 6/10  Step: 55  Loss: -6.9807... accuracy: 0.1871...\n",
      "Epoch: 6/10  Step: 60  Loss: -6.4824... accuracy: 0.1274...\n",
      "Epoch: 6/10  Step: 65  Loss: -6.3027... accuracy: 0.1783...\n",
      "Epoch: 6/10  Step: 70  Loss: -6.4437... accuracy: 0.1219...\n",
      "Epoch: 6/10  Step: 75  Loss: -6.5242... accuracy: 0.1182...\n",
      "Epoch: 6/10  Step: 80  Loss: -6.0697... accuracy: 0.1180...\n",
      "Epoch: 6/10  Step: 85  Loss: -6.1646... accuracy: 0.1610...\n",
      "Epoch: 6/10  Step: 90  Loss: -6.4499... accuracy: 0.1245...\n",
      "Epoch: 6/10  Step: 95  Loss: -6.1284... accuracy: 0.1332...\n",
      "Epoch: 7/10  Step: 0  Loss: -6.7387... accuracy: 0.1183...\n",
      "Epoch: 7/10  Step: 1  Loss: -7.4288... accuracy: 0.0821...\n",
      "Epoch: 7/10  Step: 2  Loss: -5.5807... accuracy: 0.0959...\n",
      "Epoch: 7/10  Step: 3  Loss: -6.8026... accuracy: 0.1072...\n",
      "Epoch: 7/10  Step: 4  Loss: -6.8500... accuracy: 0.0953...\n",
      "Epoch: 7/10  Step: 5  Loss: -6.5039... accuracy: 0.0926...\n",
      "Epoch: 7/10  Step: 10  Loss: -6.3134... accuracy: 0.2296...\n",
      "Epoch: 7/10  Step: 15  Loss: -7.4881... accuracy: 0.1077...\n",
      "Epoch: 7/10  Step: 20  Loss: -6.9761... accuracy: 0.0903...\n",
      "Epoch: 7/10  Step: 25  Loss: -6.8412... accuracy: 0.1068...\n",
      "Epoch: 7/10  Step: 30  Loss: -6.9019... accuracy: 0.1066...\n",
      "Epoch: 7/10  Step: 35  Loss: -6.2217... accuracy: 0.2503...\n",
      "Epoch: 7/10  Step: 40  Loss: -7.0242... accuracy: 0.1546...\n",
      "Epoch: 7/10  Step: 45  Loss: -5.6265... accuracy: 0.1768...\n",
      "Epoch: 7/10  Step: 50  Loss: -7.3099... accuracy: 0.1437...\n",
      "Epoch: 7/10  Step: 55  Loss: -6.0533... accuracy: 0.1094...\n",
      "Epoch: 7/10  Step: 60  Loss: -8.5656... accuracy: 0.1463...\n",
      "Epoch: 7/10  Step: 65  Loss: -6.9472... accuracy: 0.1124...\n",
      "Epoch: 7/10  Step: 70  Loss: -6.7156... accuracy: 0.1692...\n",
      "Epoch: 7/10  Step: 75  Loss: -7.0332... accuracy: 0.2166...\n",
      "Epoch: 7/10  Step: 80  Loss: -5.8996... accuracy: 0.2170...\n",
      "Epoch: 7/10  Step: 85  Loss: -7.1825... accuracy: 0.1400...\n",
      "Epoch: 7/10  Step: 90  Loss: -6.7397... accuracy: 0.0968...\n",
      "Epoch: 7/10  Step: 95  Loss: -7.4542... accuracy: 0.1680...\n",
      "Epoch: 8/10  Step: 0  Loss: -6.2240... accuracy: 0.1621...\n",
      "Epoch: 8/10  Step: 1  Loss: -6.2054... accuracy: 0.1488...\n",
      "Epoch: 8/10  Step: 2  Loss: -7.1694... accuracy: 0.0879...\n",
      "Epoch: 8/10  Step: 3  Loss: -8.2578... accuracy: 0.1028...\n",
      "Epoch: 8/10  Step: 4  Loss: -6.0894... accuracy: 0.1237...\n",
      "Epoch: 8/10  Step: 5  Loss: -6.3322... accuracy: 0.1144...\n",
      "Epoch: 8/10  Step: 10  Loss: -6.7395... accuracy: 0.1008...\n",
      "Epoch: 8/10  Step: 15  Loss: -7.1913... accuracy: 0.1454...\n",
      "Epoch: 8/10  Step: 20  Loss: -5.8890... accuracy: 0.1717...\n",
      "Epoch: 8/10  Step: 25  Loss: -7.6294... accuracy: 0.1861...\n",
      "Epoch: 8/10  Step: 30  Loss: -5.8530... accuracy: 0.1582...\n",
      "Epoch: 8/10  Step: 35  Loss: -6.7868... accuracy: 0.1359...\n",
      "Epoch: 8/10  Step: 40  Loss: -6.5990... accuracy: 0.2035...\n",
      "Epoch: 8/10  Step: 45  Loss: -6.8484... accuracy: 0.0779...\n",
      "Epoch: 8/10  Step: 50  Loss: -8.0229... accuracy: 0.1199...\n",
      "Epoch: 8/10  Step: 55  Loss: -6.9842... accuracy: 0.1002...\n",
      "Epoch: 8/10  Step: 60  Loss: -6.6949... accuracy: 0.2505...\n",
      "Epoch: 8/10  Step: 65  Loss: -5.9954... accuracy: 0.1331...\n",
      "Epoch: 8/10  Step: 70  Loss: -7.9556... accuracy: 0.1846...\n",
      "Epoch: 8/10  Step: 75  Loss: -7.7686... accuracy: 0.1699...\n",
      "Epoch: 8/10  Step: 80  Loss: -6.3691... accuracy: 0.1352...\n",
      "Epoch: 8/10  Step: 85  Loss: -6.5864... accuracy: 0.1340...\n",
      "Epoch: 8/10  Step: 90  Loss: -7.6070... accuracy: 0.1371...\n",
      "Epoch: 8/10  Step: 95  Loss: -7.2059... accuracy: 0.0968...\n",
      "Epoch: 9/10  Step: 0  Loss: -7.4449... accuracy: 0.1346...\n",
      "Epoch: 9/10  Step: 1  Loss: -6.3773... accuracy: 0.1839...\n",
      "Epoch: 9/10  Step: 2  Loss: -7.8228... accuracy: 0.0983...\n",
      "Epoch: 9/10  Step: 3  Loss: -6.3586... accuracy: 0.0975...\n",
      "Epoch: 9/10  Step: 4  Loss: -7.3447... accuracy: 0.1278...\n",
      "Epoch: 9/10  Step: 5  Loss: -6.7624... accuracy: 0.0796...\n",
      "Epoch: 9/10  Step: 10  Loss: -8.1536... accuracy: 0.0962...\n",
      "Epoch: 9/10  Step: 15  Loss: -7.3936... accuracy: 0.0961...\n",
      "Epoch: 9/10  Step: 20  Loss: -7.2997... accuracy: 0.1952...\n",
      "Epoch: 9/10  Step: 25  Loss: -6.7292... accuracy: 0.1489...\n",
      "Epoch: 9/10  Step: 30  Loss: -6.4393... accuracy: 0.1283...\n",
      "Epoch: 9/10  Step: 35  Loss: -7.4554... accuracy: 0.1469...\n",
      "Epoch: 9/10  Step: 40  Loss: -7.8221... accuracy: 0.0935...\n",
      "Epoch: 9/10  Step: 45  Loss: -6.3356... accuracy: 0.0819...\n",
      "Epoch: 9/10  Step: 50  Loss: -7.2742... accuracy: 0.1038...\n",
      "Epoch: 9/10  Step: 55  Loss: -7.1475... accuracy: 0.1297...\n",
      "Epoch: 9/10  Step: 60  Loss: -7.2291... accuracy: 0.1281...\n",
      "Epoch: 9/10  Step: 65  Loss: -7.3005... accuracy: 0.1333...\n",
      "Epoch: 9/10  Step: 70  Loss: -6.3162... accuracy: 0.1350...\n",
      "Epoch: 9/10  Step: 75  Loss: -6.3227... accuracy: 0.1152...\n",
      "Epoch: 9/10  Step: 80  Loss: -8.3849... accuracy: 0.1546...\n",
      "Epoch: 9/10  Step: 85  Loss: -7.1390... accuracy: 0.1343...\n",
      "Epoch: 9/10  Step: 90  Loss: -7.1380... accuracy: 0.1479...\n",
      "Epoch: 9/10  Step: 95  Loss: -7.6548... accuracy: 0.1000...\n",
      "Epoch: 10/10  Step: 0  Loss: -7.5078... accuracy: 0.1369...\n",
      "Epoch: 10/10  Step: 1  Loss: -7.3433... accuracy: 0.1053...\n",
      "Epoch: 10/10  Step: 2  Loss: -6.1915... accuracy: 0.1134...\n",
      "Epoch: 10/10  Step: 3  Loss: -7.1929... accuracy: 0.2641...\n",
      "Epoch: 10/10  Step: 4  Loss: -6.3503... accuracy: 0.1271...\n",
      "Epoch: 10/10  Step: 5  Loss: -7.2878... accuracy: 0.1985...\n",
      "Epoch: 10/10  Step: 10  Loss: -6.9078... accuracy: 0.1468...\n",
      "Epoch: 10/10  Step: 15  Loss: -6.8766... accuracy: 0.1070...\n",
      "Epoch: 10/10  Step: 20  Loss: -6.2473... accuracy: 0.1166...\n",
      "Epoch: 10/10  Step: 25  Loss: -7.8668... accuracy: 0.1239...\n",
      "Epoch: 10/10  Step: 30  Loss: -6.8584... accuracy: 0.2308...\n",
      "Epoch: 10/10  Step: 35  Loss: -6.5203... accuracy: 0.1066...\n",
      "Epoch: 10/10  Step: 40  Loss: -7.1940... accuracy: 0.1385...\n",
      "Epoch: 10/10  Step: 45  Loss: -7.1359... accuracy: 0.1993...\n",
      "Epoch: 10/10  Step: 50  Loss: -8.4326... accuracy: 0.1247...\n",
      "Epoch: 10/10  Step: 55  Loss: -7.4226... accuracy: 0.1432...\n",
      "Epoch: 10/10  Step: 60  Loss: -6.8491... accuracy: 0.1174...\n",
      "Epoch: 10/10  Step: 65  Loss: -8.2926... accuracy: 0.1292...\n",
      "Epoch: 10/10  Step: 70  Loss: -7.9082... accuracy: 0.1019...\n",
      "Epoch: 10/10  Step: 75  Loss: -8.3429... accuracy: 0.1418...\n",
      "Epoch: 10/10  Step: 80  Loss: -6.2827... accuracy: 0.1852...\n",
      "Epoch: 10/10  Step: 85  Loss: -6.2302... accuracy: 0.1302...\n",
      "Epoch: 10/10  Step: 90  Loss: -6.0142... accuracy: 0.1291...\n",
      "Epoch: 10/10  Step: 95  Loss: -7.1624... accuracy: 0.0974...\n"
     ]
    }
   ],
   "source": [
    "print('epoch start')\n",
    "for epoch in range(num_epochs):\n",
    "    mbs=0\n",
    "    trn_loss = 0 \n",
    "    trn_error = 0 \n",
    "    while mbs <100:\n",
    "        b_img, b_label =  get_next_minibatch(minibatch_size)\n",
    "        input, target = torch.from_numpy(b_img),torch.from_numpy(b_label)\n",
    "        input, target = Variable(input).to(device), Variable(target).to(device)\n",
    "        output = model(input)\n",
    "        loss=criterion(output ,target)\n",
    "            \n",
    "        optimizer.zero_grad()\n",
    "        loss.backward()\n",
    "        optimizer.step()\n",
    "        trn_loss += loss.item()\n",
    "        \n",
    "        err=np.mean(np.equal(np.argmax(output.cpu().detach().numpy(),0),np.argmax(target.cpu().detach().numpy(),0)).astype(np.uint8))\n",
    "        trn_error +=(1-err)\n",
    "       \n",
    "\n",
    "        if mbs%5==0 or mbs<=5:\n",
    "            print(\"Epoch: {}/{} \".format(epoch+1, num_epochs),\n",
    "                                      \"Step: {} \".format(mbs),\n",
    "                                      \"Loss: {:.4f}...\".format(loss.item()),\n",
    "                                      \"accuracy: {:.4f}...\".format(err))\n",
    "       \n",
    "        mbs+=1\n",
    "    trn_loss /= 100 \n",
    "    trn_error /= 100 \n",
    "    save_weights(model, epoch, trn_loss, trn_error)\n",
    "   "
   ]
  },
  {
   "cell_type": "raw",
   "metadata": {},
   "source": [
    "跑10個epoch後，雖然整體的iou還不算高，但是可以看到最後繪製的結果已經有街景的雛型了。"
   ]
  },
  {
   "cell_type": "code",
   "execution_count": 21,
   "metadata": {
    "collapsed": false
   },
   "outputs": [
    {
     "data": {
      "image/png": "[encoded data removed]",
      "text/plain": [
       "<matplotlib.figure.Figure at 0x2058b003240>"
      ]
     },
     "metadata": {},
     "output_type": "display_data"
    }
   ],
   "source": [
    "raw_features, raw_labels = get_next_minibatch(4)\n",
    "input, target = torch.from_numpy(raw_features), torch.from_numpy(raw_labels)\n",
    "input, target = Variable(input).to(device), Variable(target).to(device)\n",
    "output = model(input)\n",
    "\n",
    "e1 = decode_labels(output.cpu().detach().numpy(), num_classes).astype(np.uint8)\n",
    "l1 = decode_labels(raw_labels, num_classes).astype(np.uint8)\n",
    "tile_rgb_images(e1, l1, raw_features, row=3, col=3)"
   ]
  }
 ],
 "metadata": {
  "anaconda-cloud": {},
  "kernelspec": {
   "display_name": "Python [Root]",
   "language": "python",
   "name": "Python [Root]"
  },
  "language_info": {
   "codemirror_mode": {
    "name": "ipython",
    "version": 3
   },
   "file_extension": ".py",
   "mimetype": "text/x-python",
   "name": "python",
   "nbconvert_exporter": "python",
   "pygments_lexer": "ipython3",
   "version": "3.5.2"
  }
 },
 "nbformat": 4,
 "nbformat_minor": 2
}
