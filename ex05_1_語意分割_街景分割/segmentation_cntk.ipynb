{
 "cells": [
  {
   "cell_type": "code",
   "execution_count": 1,
   "metadata": {
    "collapsed": true
   },
   "outputs": [],
   "source": [
    "%matplotlib inline"
   ]
  },
  {
   "cell_type": "markdown",
   "metadata": {},
   "source": [
    "# 自動駕駛街景分割(cntk)"
   ]
  },
  {
   "cell_type": "raw",
   "metadata": {},
   "source": [
    "許多人小時候都曾經幻想過自己是霹靂遊俠的李麥克，能夠有一台自動駕駛的「夥計」，而如今這個夢想已經不算是太遙遠，我們今天要做的實作就是教各位如何賦予汽車視覺，最普遍的做法是透過分割模型，將機器視野的圖片進行分割，並且針對各區域進行識別，這樣汽車才知道路在那裏，哪裡有行人得小心注意。下圖是我們這次實作所使用的原圖以及標注結果。"
   ]
  },
  {
   "cell_type": "raw",
   "metadata": {},
   "source": [
    "這次採用的數據集是Cambridge-driving Labeled Video Database (http://mi.eng.cam.ac.uk/research/projects/VideoRec/CamVid/)，他實際上就是真實的汽車駕駛過程的街景，裏面包含了原圖已經標註的遮罩圖(mask)。"
   ]
  },
  {
   "cell_type": "markdown",
   "metadata": {},
   "source": [
    "<img src=\"../Data/autodrive_train/orign_images/0001TP_006750.png\",width=480,height=360>\n",
    "<img src=\"../Data/autodrive_train/masks/0001TP_006750_L.png\",width=480,height=360>"
   ]
  },
  {
   "cell_type": "raw",
   "metadata": {},
   "source": [
    "首先我們載入CNTK以及其他所需要的包。"
   ]
  },
  {
   "cell_type": "code",
   "execution_count": 2,
   "metadata": {
    "collapsed": true
   },
   "outputs": [],
   "source": [
    "import matplotlib\n",
    "import matplotlib.pyplot as plt\n",
    "import pylab\n",
    "import PIL\n",
    "from PIL import Image\n",
    "import glob\n",
    "import threading\n",
    "import random\n",
    "import math\n",
    "import datetime\n",
    "import cntk as C\n",
    "import numpy as np\n",
    "from cntk.ops import *\n",
    "from cntk.layers import *\n",
    "from cntk.initializer import *\n",
    "from cntk.logging import *\n",
    "from cntk.train import *\n",
    "from cntk.learners import *\n",
    "from cntk.losses import *\n",
    "from cntk.device import *\n",
    "\n",
    "# 是否使用GPU\n",
    "is_gpu = True\n",
    "if is_gpu:\n",
    "    try_set_default_device(gpu(0))\n",
    "else:\n",
    "    try_set_default_device(cpu())"
   ]
  },
  {
   "cell_type": "raw",
   "metadata": {},
   "source": [
    "接著我們利用glob遍歷資料夾抓出所有的原圖與標籤圖"
   ]
  },
  {
   "cell_type": "code",
   "execution_count": 3,
   "metadata": {
    "collapsed": false
   },
   "outputs": [
    {
     "name": "stdout",
     "output_type": "stream",
     "text": [
      "701\n",
      "['../Data/autodrive_train/orign_images\\\\0001TP_006690.png', '../Data/autodrive_train/orign_images\\\\0001TP_006720.png', '../Data/autodrive_train/orign_images\\\\0001TP_006750.png', '../Data/autodrive_train/orign_images\\\\0001TP_006780.png', '../Data/autodrive_train/orign_images\\\\0001TP_006810.png']\n"
     ]
    }
   ],
   "source": [
    "images = glob.glob('../Data/autodrive_train/orign_images/' + '*.png')\n",
    "labels = ['../Data/autodrive_train/masks/' + os.path.basename(i)[:-4] + '_L.png' for i in images]\n",
    "print(len(images))\n",
    "print(images[:5])"
   ]
  },
  {
   "cell_type": "raw",
   "metadata": {},
   "source": [
    "所有標注類別對應的顏色，紀錄在label_colors.txt中，我們讀取出來並且產生定義清單。這邊顏色的排序為(R,G,B)，所以我們需要在解析時利用[::-1]將順序轉為(B,G,R)，例如路面上的汽車是紫色，BGR應該是(128,0,64)"
   ]
  },
  {
   "cell_type": "code",
   "execution_count": 4,
   "metadata": {
    "collapsed": false
   },
   "outputs": [
    {
     "name": "stdout",
     "output_type": "stream",
     "text": [
      "['Void\\t0 0 0\\n', 'Building\\t128 0 0\\n', 'grass\\t0 128 0\\n', 'Tree\\t128 128 0\\n', 'cow\\t0 0 128\\n', 'horse\\t128 0 128\\n', 'sheep\\t0 128 128\\n', 'Sky\\t128 128 128\\n', 'mountain\\t64 0 0\\n', 'aeroplane\\t192 0 0\\n', 'water\\t64 128 0\\n', 'face\\t192 128 0\\n', 'Car\\t64 0 128\\n', 'Archway\\t192 0 128\\n', 'flower\\t64 128 128\\n', 'SignSymbol\\t192 128 128\\n', 'bird\\t0 64 0\\n', 'book\\t128 64 0\\n', 'chair\\t0 192 0\\n', 'motorbike\\t128 192 0\\n', 'person\\t0 64 128\\n', 'Road\\t128 64 128\\n', 'cat\\t0 192 128\\n', 'dog\\t128 192 128\\n', 'Pedestrian\\t64 64 0\\n', 'boat\\t192 64 0\\n', 'Wall\\t64 192 0\\n', 'VegetationMisc\\t192 192 0\\n', 'Fence\\t64 64 128\\n', 'Train\\t192 64 128\\n', 'ParkingBlock\\t64 192 128\\n', 'Column_Pole\\t192 192 128\\n', 'TrafficCone\\t0 0 64\\n', 'unused\\t128 0 64\\n', 'Bridge\\t0 128 64\\n', 'Misc_Text\\t128 128 64\\n', 'Sidewalk\\t0 0 192\\n', 'LaneMkgsDriv\\t128 0 192\\n', 'Bicyclist\\t0 128 192\\n', 'RoadShoulder\\t128 128 192\\n', 'Tunnel\\t64 0 64\\n', 'LaneMkgsNonDriv\\t192 0 64\\n', 'Animal\\t64 128 64\\n', 'Child\\t192 128 64\\n', 'CartLuggagePram\\t64 0 192\\n', 'MotorcycleScooter\\t192 0 192\\n', 'SUVPickupTruck\\t64 128 192\\n', 'Truck_Bus\\t192 128 192\\n', 'TrafficLight\\t0 64 64\\n', 'OtherMoving\\t128 64 64']\n"
     ]
    }
   ],
   "source": [
    "print(open(\"label_colors.txt\").readlines())"
   ]
  },
  {
   "cell_type": "code",
   "execution_count": 5,
   "metadata": {
    "collapsed": false
   },
   "outputs": [
    {
     "name": "stdout",
     "output_type": "stream",
     "text": [
      "(0, 0, 0) Void\n",
      "(0, 0, 128) Building\n",
      "(0, 128, 0) grass\n",
      "(0, 128, 128) Tree\n",
      "(128, 0, 0) cow\n",
      "(128, 0, 128) horse\n",
      "(128, 128, 0) sheep\n",
      "(128, 128, 128) Sky\n",
      "(0, 0, 64) mountain\n",
      "(0, 0, 192) aeroplane\n",
      "(0, 128, 64) water\n",
      "(0, 128, 192) face\n",
      "(128, 0, 64) Car\n",
      "(128, 0, 192) Archway\n",
      "(128, 128, 64) flower\n",
      "(128, 128, 192) SignSymbol\n",
      "(0, 64, 0) bird\n",
      "(0, 64, 128) book\n",
      "(0, 192, 0) chair\n",
      "(0, 192, 128) motorbike\n",
      "(128, 64, 0) person\n",
      "(128, 64, 128) Road\n",
      "(128, 192, 0) cat\n",
      "(128, 192, 128) dog\n",
      "(0, 64, 64) Pedestrian\n",
      "(0, 64, 192) boat\n",
      "(0, 192, 64) Wall\n",
      "(0, 192, 192) VegetationMisc\n",
      "(128, 64, 64) Fence\n",
      "(128, 64, 192) Train\n",
      "(128, 192, 64) ParkingBlock\n",
      "(128, 192, 192) Column_Pole\n",
      "(64, 0, 0) TrafficCone\n",
      "(64, 0, 128) unused\n",
      "(64, 128, 0) Bridge\n",
      "(64, 128, 128) Misc_Text\n",
      "(192, 0, 0) Sidewalk\n",
      "(192, 0, 128) LaneMkgsDriv\n",
      "(192, 128, 0) Bicyclist\n",
      "(192, 128, 128) RoadShoulder\n",
      "(64, 0, 64) Tunnel\n",
      "(64, 0, 192) LaneMkgsNonDriv\n",
      "(64, 128, 64) Animal\n",
      "(64, 128, 192) Child\n",
      "(192, 0, 64) CartLuggagePram\n",
      "(192, 0, 192) MotorcycleScooter\n",
      "(192, 128, 64) SUVPickupTruck\n",
      "(192, 128, 192) Truck_Bus\n",
      "(64, 64, 0) TrafficLight\n",
      "(64, 64, 128) OtherMoving\n"
     ]
    }
   ],
   "source": [
    "def parse_code(l):\n",
    "    if len(l.strip().split(\"\\t\")) == 2:\n",
    "        a, b = l.replace('\\t\\t','\\t').strip().split(\"\\t\")\n",
    "        return tuple(int(i) for i in b.split(' '))[::-1], a\n",
    "\n",
    "label_codes, label_names = zip(*[parse_code(l) for l in open(\"label_colors.txt\")])\n",
    "label_codes, label_names = list(label_codes), list(label_names)\n",
    "\n",
    "for i in range(len(label_codes)):\n",
    "    print(str(label_codes[i])+' '+label_names[i])"
   ]
  },
  {
   "cell_type": "raw",
   "metadata": {},
   "source": [
    "接下來我們開始處理圖片，為了讓機器可以在CPU環境下也能執行，我刻意將圖片縮得很小(64*64)，如果是在有GPU環境可以把圖放大一些，這樣解析度會較好，縮放時為了避免顏色跑掉，請使用NEAREST做差補。"
   ]
  },
  {
   "cell_type": "code",
   "execution_count": 6,
   "metadata": {
    "collapsed": false
   },
   "outputs": [
    {
     "name": "stdout",
     "output_type": "stream",
     "text": [
      "(701, 3, 64, 64)\n",
      "(701, 3, 64, 64)\n"
     ]
    }
   ],
   "source": [
    "img_h =64\n",
    "img_w = 64\n",
    "num_classes =len(label_codes)\n",
    "\n",
    "\n",
    "#開啟圖片，並且縮放至64*64(原圖是960*720)\n",
    "def open_image(img):\n",
    "    x=np.array(Image.open(img).resize((img_h,img_w), Image.NEAREST))\n",
    "    x = x.astype(np.float32).transpose(2,0,1)\n",
    "    x = np.ascontiguousarray(x)[::-1]\n",
    "    return x\n",
    "\n",
    "imgs = np.stack([open_image(i) for i in images])\n",
    "print(imgs.shape)\n",
    "\n",
    "lbs = np.stack([open_image(l) for l in labels])\n",
    "print(lbs.shape)"
   ]
  },
  {
   "cell_type": "raw",
   "metadata": {},
   "source": [
    "接著我們來針對圖片做些預處理，將圖片除以255，等於是讓向量值轉換為0~1之間。然後計算平均值與標準差，再將向量二次轉換(減去平均值，除以標準差)，這樣模型收斂的快一些。"
   ]
  },
  {
   "cell_type": "code",
   "execution_count": 7,
   "metadata": {
    "collapsed": false
   },
   "outputs": [
    {
     "name": "stdout",
     "output_type": "stream",
     "text": [
      "平均值:0.40013885498046875,標準差:0.3020400106906891\n"
     ]
    }
   ],
   "source": [
    "#將圖片向量除以255，讓數值介於0~1之間\n",
    "imgs = imgs/255.\n",
    "\n",
    "#計算圖片的平均值與標準差\n",
    "mean = imgs.mean()\n",
    "std = imgs.std()\n",
    "print('平均值:{0},標準差:{1}'.format(mean, std))\n",
    "\n",
    "#圖片根據平均值與標準差正歸化\n",
    "imgs-=imgs.mean()\n",
    "imgs/=imgs.std()"
   ]
  },
  {
   "cell_type": "raw",
   "metadata": {},
   "source": [
    "接下來我們為了供給後續建模時的minibatch，設計了以下的圖片讀取機制請注意，由於上面步驟讀取的圖片格式與CNTK要的格式不同，因此需要做以下轉換\n",
    "\n",
    " x = x.astype(np.float32).transpose(2, 0, 1)  #轉換為CHW\n",
    " x = np.ascontiguousarray(x[::-1]) #轉換為BGR"
   ]
  },
  {
   "cell_type": "raw",
   "metadata": {},
   "source": [
    "由於標籤圖檔需要轉換為遮罩(MASK)，其中CHANNEL數必須與類別數相同(50種)"
   ]
  },
  {
   "cell_type": "code",
   "execution_count": 8,
   "metadata": {
    "collapsed": false
   },
   "outputs": [
    {
     "name": "stdout",
     "output_type": "stream",
     "text": [
      "50\n"
     ]
    },
    {
     "data": {
      "text/plain": [
       "{(0, 0, 0): 0,\n",
       " (0, 0, 64): 8,\n",
       " (0, 0, 128): 1,\n",
       " (0, 0, 192): 9,\n",
       " (0, 64, 0): 16,\n",
       " (0, 64, 64): 24,\n",
       " (0, 64, 128): 17,\n",
       " (0, 64, 192): 25,\n",
       " (0, 128, 0): 2,\n",
       " (0, 128, 64): 10,\n",
       " (0, 128, 128): 3,\n",
       " (0, 128, 192): 11,\n",
       " (0, 192, 0): 18,\n",
       " (0, 192, 64): 26,\n",
       " (0, 192, 128): 19,\n",
       " (0, 192, 192): 27,\n",
       " (64, 0, 0): 32,\n",
       " (64, 0, 64): 40,\n",
       " (64, 0, 128): 33,\n",
       " (64, 0, 192): 41,\n",
       " (64, 64, 0): 48,\n",
       " (64, 64, 128): 49,\n",
       " (64, 128, 0): 34,\n",
       " (64, 128, 64): 42,\n",
       " (64, 128, 128): 35,\n",
       " (64, 128, 192): 43,\n",
       " (128, 0, 0): 4,\n",
       " (128, 0, 64): 12,\n",
       " (128, 0, 128): 5,\n",
       " (128, 0, 192): 13,\n",
       " (128, 64, 0): 20,\n",
       " (128, 64, 64): 28,\n",
       " (128, 64, 128): 21,\n",
       " (128, 64, 192): 29,\n",
       " (128, 128, 0): 6,\n",
       " (128, 128, 64): 14,\n",
       " (128, 128, 128): 7,\n",
       " (128, 128, 192): 15,\n",
       " (128, 192, 0): 22,\n",
       " (128, 192, 64): 30,\n",
       " (128, 192, 128): 23,\n",
       " (128, 192, 192): 31,\n",
       " (192, 0, 0): 36,\n",
       " (192, 0, 64): 44,\n",
       " (192, 0, 128): 37,\n",
       " (192, 0, 192): 45,\n",
       " (192, 128, 0): 38,\n",
       " (192, 128, 64): 46,\n",
       " (192, 128, 128): 39,\n",
       " (192, 128, 192): 47}"
      ]
     },
     "execution_count": 8,
     "metadata": {},
     "output_type": "execute_result"
    }
   ],
   "source": [
    "#產生索引對類別色彩之間的轉換\n",
    "code2id = {v: k for k, v in enumerate(label_codes)}\n",
    "id2code = {k: v for k, v in enumerate(label_codes)}\n",
    "print(len(label_codes))\n",
    "num_class=len(label_codes)\n",
    "code2id"
   ]
  },
  {
   "cell_type": "code",
   "execution_count": 9,
   "metadata": {
    "collapsed": false
   },
   "outputs": [],
   "source": [
    "#產生索引對類別色彩之間的轉換\n",
    "code2id = {v: k for k, v in enumerate(label_codes)}\n",
    "id2code = {k: v for k, v in enumerate(label_codes)}\n",
    "label_colours = np.asarray(label_codes)\n",
    "failed_code = len(label_codes) + 1\n",
    "n, ch,r, c = imgs.shape\n",
    "\n",
    "#轉換單張標籤為mask(3*64*64->50*64*64)\n",
    "def conv_one_label(b_label,num_class=50):\n",
    "    res = np.zeros((num_class, b_label.shape[1],b_label.shape[2]), 'float32')\n",
    "    for j in range(b_label.shape[1]):\n",
    "        for k in range(b_label.shape[2]):\n",
    "            color=tuple(b_label[:,j,k].tolist())\n",
    "            if color in code2id:\n",
    "                try:\n",
    "                    res[code2id[color], j, k] = 1\n",
    "                except Exception as e:\n",
    "                    print(e)\n",
    "                    print(code2id[color])\n",
    "                    print(color)\n",
    "                    res[0, j, k] = 1\n",
    "            else:\n",
    "                res[0, j, k] = 1\n",
    "    return res\n",
    "\n",
    "#將一個批次做轉換\n",
    "def conv_all_labels(b_label):\n",
    "    lblist = []\n",
    "    for i in range(b_label.shape[0]):\n",
    "        ls = conv_one_label(b_label[i])\n",
    "        lblist.append(ls)\n",
    "    return np.asarray(lblist)\n",
    "\n",
    "#將向量轉圖片\n",
    "def array2img(arr: np.ndarray):\n",
    "    sanitized_img =arr\n",
    "    if len(arr.shape) > 2:\n",
    "        if arr.shape[0]>1:\n",
    "            arr = arr[::-1]\n",
    "        sanitized_img = np.maximum(0, np.minimum(255, np.transpose(arr, (1, 2, 0))))\n",
    "        if arr.shape[0]==1:\n",
    "            sanitized_img =np.squeeze(sanitized_img,-1)\n",
    "        img = Image.fromarray(sanitized_img.astype(np.uint8))\n",
    "        return img\n",
    "    elif  len(arr.shape) == 2:\n",
    "        img = Image.fromarray(arr.astype(np.int8))\n",
    "        return img\n",
    "\n",
    "#將mask轉RGB圖片(50*64*64=>3*64*64)\n",
    "def decode_labels(masks, num_classes=50):\n",
    "    global img_w, img_h\n",
    "    result = []\n",
    "    for batch in range(masks.shape[0]):\n",
    "        decode_map = masks[batch]\n",
    "        decode_map = np.argmax(decode_map, 0).astype(np.float32)\n",
    "        color_img = np.zeros((img_h, img_w, 3), dtype=np.float32)# * 192\n",
    "        for k in range(num_classes):\n",
    "            if k > 0:\n",
    "                color_img[decode_map == k] = label_colours[k]\n",
    "        result.append(color_img.transpose(2, 0, 1))\n",
    "    return np.asarray(result)\n",
    "\n",
    "#把圖片並列列印出來\n",
    "def tile_rgb_images(pred, label, truth, row=3, col=3):\n",
    "    fig = pylab.gcf()\n",
    "    fig.set_size_inches(col * 2, row * 2)\n",
    "    pylab.clf()\n",
    "    pylab.ioff()  # is not None:\n",
    "    for m in range(row * col):\n",
    "        pylab.subplot(row, col, m + 1)\n",
    "        if m % 3 == 0:\n",
    "            if pred.shape[0] == 1:\n",
    "                pred = pred[0]\n",
    "            img = array2img(pred[int(m / 3)]).resize((120,90))\n",
    "        elif m % 3 == 1:\n",
    "            if label.shape[0] == 1:\n",
    "                label = label[0]\n",
    "            img = array2img(label[int((m - 1) / 3)]).resize((120,90))\n",
    "        else:\n",
    "            if truth.shape[0] == 1:\n",
    "                truth = truth[0]\n",
    "            img = array2img((truth[int((m - 2) / 3)] * std + mean) * 255).resize((120,90))\n",
    "        pylab.imshow(img, interpolation=\"nearest\", animated=True)\n",
    "        pylab.axis(\"off\")"
   ]
  },
  {
   "cell_type": "raw",
   "metadata": {},
   "source": [
    "我們首先挑一張標籤圖片，檢視原始標籤"
   ]
  },
  {
   "cell_type": "code",
   "execution_count": 10,
   "metadata": {
    "collapsed": true
   },
   "outputs": [],
   "source": [
    "idx=0\n",
    "idxs=np.arange(len(imgs))\n",
    "np.random.shuffle(idxs)\n",
    "\n",
    "def get_next_minibatch(minibatch_size=8):\n",
    "    global idx,idxs\n",
    "    features=[]\n",
    "    masks=[]\n",
    "    while len(features)<minibatch_size:\n",
    "        features.append(imgs[idxs[idx]])\n",
    "        masks.append(lbs[idxs[idx]])\n",
    "        idx+=1\n",
    "        if idx>=len(imgs)-1:\n",
    "            idx=0\n",
    "            np.random.shuffle(idxs)\n",
    "    return np.asarray(features),conv_all_labels(np.asarray(masks))\n",
    "        \n",
    "    "
   ]
  },
  {
   "cell_type": "raw",
   "metadata": {},
   "source": [
    "為了確保前面寫的轉換步驟正確，所以我們故意挑一張mask，首先是直接顯示遮罩圖片。"
   ]
  },
  {
   "cell_type": "code",
   "execution_count": 11,
   "metadata": {
    "collapsed": false
   },
   "outputs": [
    {
     "data": {
      "text/plain": [
       "<matplotlib.image.AxesImage at 0x1ca9bafbc88>"
      ]
     },
     "execution_count": 11,
     "metadata": {},
     "output_type": "execute_result"
    },
    {
     "data": {
      "image/png": "[encoded data removed]",
      "text/plain": [
       "<matplotlib.figure.Figure at 0x1ca9ba0de10>"
      ]
     },
     "metadata": {},
     "output_type": "display_data"
    }
   ],
   "source": [
    "label=array2img(lbs[0])\n",
    "plt.axis('off')\n",
    "plt.imshow(label)"
   ]
  },
  {
   "cell_type": "raw",
   "metadata": {},
   "source": [
    "然後故意將這張遮罩圖利用conv_one_label編碼為50維的mask，然後我們再利用decode_labels將50維遮罩再轉回rgb圖片(decode_labels是針對批次執行，所以故意把它np.asarray([mask])整成(1,50,64,64)再送進去)，這時候就可以比較一下是不是變回原狀，如果不一樣表示中間過程有錯誤。"
   ]
  },
  {
   "cell_type": "code",
   "execution_count": 12,
   "metadata": {
    "collapsed": false
   },
   "outputs": [
    {
     "name": "stdout",
     "output_type": "stream",
     "text": [
      "(50, 64, 64)\n",
      "(1, 3, 64, 64)\n"
     ]
    },
    {
     "data": {
      "text/plain": [
       "<matplotlib.image.AxesImage at 0x1ca9bbe16a0>"
      ]
     },
     "execution_count": 12,
     "metadata": {},
     "output_type": "execute_result"
    },
    {
     "data": {
      "image/png": "[encoded data removed]",
      "text/plain": [
       "<matplotlib.figure.Figure at 0x1ca9bbe13c8>"
      ]
     },
     "metadata": {},
     "output_type": "display_data"
    }
   ],
   "source": [
    "mask=conv_one_label(lbs[0],num_class)\n",
    "print(mask.shape)\n",
    "rgb_label=decode_labels(np.asarray([mask]),num_class)\n",
    "print(rgb_label.shape)\n",
    "plt.axis('off')\n",
    "plt.imshow(array2img(rgb_label[0]))"
   ]
  },
  {
   "cell_type": "raw",
   "metadata": {},
   "source": [
    "宣告輸入變數以及超參數"
   ]
  },
  {
   "cell_type": "code",
   "execution_count": 13,
   "metadata": {
    "collapsed": true
   },
   "outputs": [],
   "source": [
    "minibatch_size =8\n",
    "num_epochs = 10\n",
    "learning_rate = 0.000125  # 學習速率\n",
    "\n",
    "input_var = input_variable((3, img_h, img_w), dtype=np.float32, dynamic_axes=Axis.default_batch_axis())\n",
    "label_var = input_variable((num_classes, img_h, img_w), dtype=np.float32, dynamic_axes=Axis.default_batch_axis())\n",
    "\n"
   ]
  },
  {
   "cell_type": "raw",
   "metadata": {},
   "source": [
    "測試一下批次數據的形狀是否正確"
   ]
  },
  {
   "cell_type": "code",
   "execution_count": 14,
   "metadata": {
    "collapsed": false
   },
   "outputs": [
    {
     "name": "stdout",
     "output_type": "stream",
     "text": [
      "(8, 3, 64, 64)\n",
      "(8, 50, 64, 64)\n"
     ]
    }
   ],
   "source": [
    "b_img, b_label = get_next_minibatch(minibatch_size)\n",
    "print(b_img.shape)\n",
    "print(b_label.shape)"
   ]
  },
  {
   "cell_type": "raw",
   "metadata": {},
   "source": [
    "定義fcn-densenet，也就是俗稱的提拉米蘇。基本上它是以Densenet為基礎，總共包含兩個路徑，一個是逐步進行下採樣讓圖片縮小(TD,  transition down)，另外一個路徑則是逐步將縮小的圖片進行上採樣來復原(TU, transition up)，在尺寸對應的的層，會透過skip connection將較完整清晰的特徵從TD路徑傳至TU路徑，以確保細節特徵的完整性。"
   ]
  },
  {
   "cell_type": "markdown",
   "metadata": {},
   "source": [
    "![autodrive](../Images/tiramisu.jpg)"
   ]
  },
  {
   "cell_type": "raw",
   "metadata": {},
   "source": [
    "接著我們將於cntk中實作出tiramisu網路結構。"
   ]
  },
  {
   "cell_type": "code",
   "execution_count": 15,
   "metadata": {
    "collapsed": true
   },
   "outputs": [],
   "source": [
    "\n",
    "def conv_bn(filter_size, num_filters, strides=(1, 1), init=he_normal(), activation=None, pad=True, bias=False,drop_rate=0.0,name=''):\n",
    "    def apply_x(x):\n",
    "        c = Convolution(filter_size, num_filters, activation=None, init=init, pad=pad, strides=strides,bias=bias,name=name)(x)\n",
    "        r =BatchNormalization()(c)\n",
    "        if drop_rate>0:\n",
    "            r = dropout(r, drop_rate)\n",
    "        if activation==None:\n",
    "            return r\n",
    "        else:\n",
    "            return activation(r)\n",
    "    return apply_x\n",
    "\n",
    "\n",
    "def conv_bn_relu(filter_size, num_filters, strides=(1, 1), init=he_normal(), activation=relu, pad=True, drop_rate=0.0,name=''):\n",
    "    return conv_bn(filter_size, num_filters, strides, init, activation=activation, pad=pad)\n",
    "\n",
    "\n",
    "def UpSampling2D(x):\n",
    "    xr = C.reshape(x, (x.shape[0], x.shape[1], 1, x.shape[2], 1))\n",
    "    xx = C.splice(xr, xr, axis=-1) # axis=-1 refers to the last axis\n",
    "    xy = C.splice(xx, xx, axis=-3) # axis=-3 refers to the middle axis\n",
    "    r = C.reshape(xy, (x.shape[0], x.shape[1] * 2, x.shape[2] * 2))\n",
    "    return r\n",
    "\n",
    "#DB\n",
    "def dense_block(x, depth, growth_rate, drop_rate=0.0, activation=leaky_relu):\n",
    "    for i in range(depth):\n",
    "        b = conv_bn((3, 3), growth_rate, init=he_uniform(), drop_rate=drop_rate, activation=activation)(x)\n",
    "        x = splice(x, b, axis=0)\n",
    "    return  x\n",
    "\n",
    "\n",
    "\n",
    "def transition_down(x,activation=leaky_relu, drop_rate=0):\n",
    "    n_filters=x.shape[0]\n",
    "    x =  conv_bn((3, 3), n_filters*2,strides=2,pad=True, init=he_uniform(), drop_rate=drop_rate, activation=activation)(x)\n",
    "    x = conv_bn((1, 1), n_filters, (1, 1), pad=True, drop_rate=drop_rate, activation=activation)(x)\n",
    "    return x\n",
    "\n",
    "#TD\n",
    "def down_path(x, depths, growth_rate, drop_rate=0, activation=leaky_relu):\n",
    "    skips = []\n",
    "    n = len(depths)\n",
    "    for i in range(n):\n",
    "        x = dense_block(x, depths[i], growth_rate, drop_rate=drop_rate, activation=activation)\n",
    "        skips.append(x)\n",
    "        if i<n-1:\n",
    "            n_filters=depths[i]*growth_rate\n",
    "            x = transition_down(x, activation=leaky_relu)\n",
    "    return skips, x\n",
    "\n",
    "\n",
    "def transition_up(x, n_filters,activation=leaky_relu):\n",
    "    x =UpSampling2D(x)\n",
    "    x = conv_bn((1, 1), n_filters, (1, 1), pad=True, drop_rate=0, activation=activation)(x)\n",
    "    return x\n",
    "\n",
    "#TU\n",
    "def up_path(x, skips, depths, growth_rate,  drop_rate=0, activation=leaky_relu):\n",
    "    n = len(depths)\n",
    "    for i in range(n):\n",
    "        n_filters=depths[i]*growth_rate\n",
    "        x = transition_up(x, n_filters, activation=activation)\n",
    "        x = splice(x, skips[i], axis=0)\n",
    "        x= dense_block(x, depths[i], growth_rate, drop_rate=0, activation=activation)\n",
    "    return x\n",
    "\n",
    "\n",
    "def reverse(a): return list(reversed(a))\n",
    "\n",
    "\n",
    "def fc_dense(depths, growth_rate=16, n_channel_start=32, n_classes=21, drop_rate=0.2, activation=leaky_relu):\n",
    "    depths = list(depths)\n",
    "    def apply_x(x):\n",
    "        x = conv_bn((3, 3), n_channel_start, pad=True, strides=1, init=he_normal(0.02), activation=activation, bias=True)( x)\n",
    "        skips, x = down_path(x, depths, growth_rate, drop_rate=drop_rate, activation=leaky_relu)\n",
    "        x= up_path(x, reverse(skips[:-1]), reverse(depths[:-1]), growth_rate, drop_rate=0, activation=leaky_relu)\n",
    "        features_map=Label('feature_map')(x)\n",
    "        x = Convolution((1,1), n_classes, activation=None, init=he_uniform(0.02), pad=True, strides=1)(features_map)\n",
    "        x=softmax(x,0)\n",
    "        return \tx\n",
    "    return apply_x\n",
    "\n",
    "def tiramitsu(n_classes, drop_rate=0.2, activation=leaky_relu):\n",
    "    return fc_dense([4, 5, 7, 10, 12], 16,n_channel_start=32, n_classes=n_classes, drop_rate=drop_rate,activation=activation)\n"
   ]
  },
  {
   "cell_type": "raw",
   "metadata": {},
   "source": [
    "在這個模型中，我們將使用dice loss (等於1-dice coefficient)作為模型的損失函數，至於metrics則採用iou(mask預測與實際結果的交集除以聯集)"
   ]
  },
  {
   "cell_type": "code",
   "execution_count": 16,
   "metadata": {
    "collapsed": true
   },
   "outputs": [],
   "source": [
    "def dice_coefficient(y_pred, y_true, smooth=1):\n",
    "    # average of per-channel dice coefficient\n",
    "    # global dice coefificnet doesn't work as class with larger region dominates the metrics\n",
    "    # https://en.wikipedia.org/wiki/S%C3%B8rensen%E2%80%93Dice_coefficient\n",
    "    intersection = C.reduce_sum(y_pred * y_true, axis=(1, 2))\n",
    "    return C.reduce_mean(2.0 * intersection / (C.reduce_sum(y_pred, axis=(1, 2)) + C.reduce_sum(y_true, axis=(1, 2)) + smooth))\n",
    "\n",
    "def dice_coef_loss(y_pred, y_true):\n",
    "    return 1 - dice_coefficient(y_pred, y_true)"
   ]
  },
  {
   "cell_type": "code",
   "execution_count": 17,
   "metadata": {
    "collapsed": false
   },
   "outputs": [
    {
     "name": "stdout",
     "output_type": "stream",
     "text": [
      "Training 13858674 parameters in 234 parameter tensors.\n",
      "\n"
     ]
    }
   ],
   "source": [
    "\n",
    "fcd = tiramitsu(n_classes=num_classes)\n",
    "z = fcd(input_var)\n",
    "if os.path.exists('Models/tiramitsu_cntk.cnn'):\n",
    "    model = Function.load('Models/tiramitsu_cntk.cnn')\n",
    "    z = model(input_var)\n",
    "\n",
    "#為了要計算softmax以及二維交叉商，故意先reshape成一維\n",
    "z1 = reshape(z, (-1, num_classes))\n",
    "z1 = softmax(z1, -1)\n",
    "label_var1 = reshape(label_var, (-1, num_classes))\n",
    "\n",
    "#p是產生預測值  t是目標值\n",
    "p = squeeze(argmax(z1 , -1))\n",
    "t = squeeze(argmax(label_var1, -1))\n",
    "\n",
    "#i1為交集 u1為聯集\n",
    "i1 = reduce_sum(equal(t, p) * greater(t, 0))\n",
    "u1 = reduce_sum(greater(p+t, 0)) + 1e-10\n",
    "u2 = reduce_sum(greater(t, 0)) + 1e-10\n",
    "\n",
    "iou = i1 / u1\n",
    "iot = i1 / u2\n",
    "iou_loss = C.negate(C.log(iou+ 1e-10))\n",
    "\n",
    "\n",
    "# 定義進行訓練的損失函數以及錯誤率計算\n",
    "#損失函數為2d交叉商+iou loss\n",
    "loss =dice_coef_loss(z,label_var)\n",
    "errs = iou\n",
    "# 列印模型參數\n",
    "log_number_of_parameters(z)\n",
    "print()\n",
    "\n",
    "\n",
    "num_trained_samples_since_last_report = 0\n",
    "progress_printer = ProgressPrinter(freq=50, first=5, tag='Training', num_epochs=num_epochs)\n",
    "learner = adam(z.parameters, lr=learning_rate_schedule([learning_rate], UnitType.sample, num_epochs),\n",
    "                       momentum=momentum_as_time_constant_schedule([minibatch_size / -math.log(0.75)],epoch_size=num_epochs),\n",
    "                       l1_regularization_weight=0.0001, l2_regularization_weight=1e-5,\n",
    "                       gradient_clipping_threshold_per_sample=32, gradient_clipping_with_truncation=True)\n",
    "\n",
    "trainer = Trainer(z, (loss, errs), learner, progress_printer)"
   ]
  },
  {
   "cell_type": "code",
   "execution_count": 18,
   "metadata": {
    "collapsed": true
   },
   "outputs": [],
   "source": [
    "def train():\n",
    "    for epoch_count in range(num_epochs):\n",
    "        mbs = 0\n",
    "        rows = 0\n",
    "        while rows < len(imgs):\n",
    "            raw_features, raw_labels = get_next_minibatch(minibatch_size)\n",
    "            try:\n",
    "                arguments = ({input_var: raw_features, label_var: raw_labels})\n",
    "                trainer.train_minibatch(arguments)\n",
    "\n",
    "                #每十次存一次檔\n",
    "                if mbs % 10 == 0 :\n",
    "                    z.save(\"Models/tiramitsu_cntk_{0}.cnn\".format(epoch_count))\n",
    "                    z.save(\"Models/tiramitsu_cntk.cnn\")\n",
    "\n",
    "\n",
    "            except Exception as e:\n",
    "                print(e)\n",
    "            mbs += 1\n",
    "            rows += len(raw_features)\n",
    "        trainer.summarize_training_progress()\n",
    "        z.save(\"Models/tiramitsu_cntk_{0}.cnn\".format(epoch_count))\n",
    "        z.save(\"Models/tiramitsu_cntk.cnn\")\n",
    "    \n",
    "        "
   ]
  },
  {
   "cell_type": "code",
   "execution_count": 21,
   "metadata": {
    "collapsed": false
   },
   "outputs": [
    {
     "name": "stdout",
     "output_type": "stream",
     "text": [
      " Minibatch[   1-   1]: loss = 0.918479 * 8, metric = 0.67% * 8;\n",
      " Minibatch[   2-   2]: loss = 0.914633 * 8, metric = 0.68% * 8;\n",
      " Minibatch[   3-   3]: loss = 0.910009 * 8, metric = 0.60% * 8;\n",
      " Minibatch[   4-   4]: loss = 0.914443 * 8, metric = 0.62% * 8;\n",
      " Minibatch[   5-   5]: loss = 0.919678 * 8, metric = 0.53% * 8;\n",
      " Minibatch[   6-  50]: loss = 0.910704 * 360, metric = 0.62% * 360;\n",
      "Finished Epoch[11 of 10]: [Training] loss = 0.911630 * 704, metric = 0.61% * 704 57.031s ( 12.3 samples/s);\n",
      " Minibatch[   1-   1]: loss = 0.922976 * 8, metric = 0.46% * 8;\n",
      " Minibatch[   2-   2]: loss = 0.917480 * 8, metric = 0.60% * 8;\n",
      " Minibatch[   3-   3]: loss = 0.922565 * 8, metric = 0.48% * 8;\n",
      " Minibatch[   4-   4]: loss = 0.905802 * 8, metric = 0.68% * 8;\n",
      " Minibatch[   5-   5]: loss = 0.913912 * 8, metric = 0.57% * 8;\n",
      " Minibatch[   6-  50]: loss = 0.910731 * 360, metric = 0.64% * 360;\n",
      "Finished Epoch[12 of 10]: [Training] loss = 0.910820 * 704, metric = 0.62% * 704 23.506s ( 29.9 samples/s);\n",
      " Minibatch[   1-   1]: loss = 0.917957 * 8, metric = 0.74% * 8;\n",
      " Minibatch[   2-   2]: loss = 0.909694 * 8, metric = 0.52% * 8;\n",
      " Minibatch[   3-   3]: loss = 0.900111 * 8, metric = 0.73% * 8;\n",
      " Minibatch[   4-   4]: loss = 0.908585 * 8, metric = 0.50% * 8;\n",
      " Minibatch[   5-   5]: loss = 0.907974 * 8, metric = 0.73% * 8;\n",
      " Minibatch[   6-  50]: loss = 0.909371 * 360, metric = 0.61% * 360;\n",
      "Finished Epoch[13 of 10]: [Training] loss = 0.911515 * 704, metric = 0.61% * 704 23.888s ( 29.5 samples/s);\n",
      " Minibatch[   1-   1]: loss = 0.911140 * 8, metric = 0.65% * 8;\n",
      " Minibatch[   2-   2]: loss = 0.908732 * 8, metric = 0.71% * 8;\n",
      " Minibatch[   3-   3]: loss = 0.910634 * 8, metric = 0.65% * 8;\n",
      " Minibatch[   4-   4]: loss = 0.911620 * 8, metric = 0.63% * 8;\n",
      " Minibatch[   5-   5]: loss = 0.904177 * 8, metric = 0.65% * 8;\n",
      " Minibatch[   6-  50]: loss = 0.909424 * 360, metric = 0.63% * 360;\n",
      "Finished Epoch[14 of 10]: [Training] loss = 0.907660 * 704, metric = 0.64% * 704 24.073s ( 29.2 samples/s);\n",
      " Minibatch[   1-   1]: loss = 0.906537 * 8, metric = 0.68% * 8;\n",
      " Minibatch[   2-   2]: loss = 0.908517 * 8, metric = 0.60% * 8;\n",
      " Minibatch[   3-   3]: loss = 0.909606 * 8, metric = 0.68% * 8;\n",
      " Minibatch[   4-   4]: loss = 0.906183 * 8, metric = 0.66% * 8;\n",
      " Minibatch[   5-   5]: loss = 0.913063 * 8, metric = 0.49% * 8;\n",
      " Minibatch[   6-  50]: loss = 0.905603 * 360, metric = 0.65% * 360;\n",
      "Finished Epoch[15 of 10]: [Training] loss = 0.905773 * 704, metric = 0.64% * 704 24.150s ( 29.2 samples/s);\n",
      " Minibatch[   1-   1]: loss = 0.901912 * 8, metric = 0.66% * 8;\n",
      " Minibatch[   2-   2]: loss = 0.915468 * 8, metric = 0.52% * 8;\n",
      " Minibatch[   3-   3]: loss = 0.905770 * 8, metric = 0.62% * 8;\n",
      " Minibatch[   4-   4]: loss = 0.902383 * 8, metric = 0.73% * 8;\n",
      " Minibatch[   5-   5]: loss = 0.908194 * 8, metric = 0.56% * 8;\n",
      " Minibatch[   6-  50]: loss = 0.903907 * 360, metric = 0.66% * 360;\n",
      "Finished Epoch[16 of 10]: [Training] loss = 0.903194 * 704, metric = 0.66% * 704 23.682s ( 29.7 samples/s);\n",
      " Minibatch[   1-   1]: loss = 0.911629 * 8, metric = 0.68% * 8;\n",
      " Minibatch[   2-   2]: loss = 0.891268 * 8, metric = 0.71% * 8;\n",
      " Minibatch[   3-   3]: loss = 0.911673 * 8, metric = 0.73% * 8;\n",
      " Minibatch[   4-   4]: loss = 0.903613 * 8, metric = 0.62% * 8;\n",
      " Minibatch[   5-   5]: loss = 0.900237 * 8, metric = 0.71% * 8;\n",
      " Minibatch[   6-  50]: loss = 0.901181 * 360, metric = 0.66% * 360;\n",
      "Finished Epoch[17 of 10]: [Training] loss = 0.902628 * 704, metric = 0.66% * 704 23.771s ( 29.6 samples/s);\n",
      " Minibatch[   1-   1]: loss = 0.909372 * 8, metric = 0.59% * 8;\n",
      " Minibatch[   2-   2]: loss = 0.910036 * 8, metric = 0.68% * 8;\n",
      " Minibatch[   3-   3]: loss = 0.903646 * 8, metric = 0.60% * 8;\n",
      " Minibatch[   4-   4]: loss = 0.907037 * 8, metric = 0.71% * 8;\n",
      " Minibatch[   5-   5]: loss = 0.891344 * 8, metric = 0.65% * 8;\n",
      " Minibatch[   6-  50]: loss = 0.900487 * 360, metric = 0.68% * 360;\n",
      "Finished Epoch[18 of 10]: [Training] loss = 0.900732 * 704, metric = 0.68% * 704 23.772s ( 29.6 samples/s);\n",
      " Minibatch[   1-   1]: loss = 0.901533 * 8, metric = 0.73% * 8;\n",
      " Minibatch[   2-   2]: loss = 0.893025 * 8, metric = 0.78% * 8;\n",
      " Minibatch[   3-   3]: loss = 0.893231 * 8, metric = 0.72% * 8;\n",
      " Minibatch[   4-   4]: loss = 0.900326 * 8, metric = 0.73% * 8;\n",
      " Minibatch[   5-   5]: loss = 0.905499 * 8, metric = 0.54% * 8;\n",
      " Minibatch[   6-  50]: loss = 0.898424 * 360, metric = 0.69% * 360;\n",
      "Finished Epoch[19 of 10]: [Training] loss = 0.898983 * 704, metric = 0.69% * 704 23.684s ( 29.7 samples/s);\n",
      " Minibatch[   1-   1]: loss = 0.917400 * 8, metric = 0.55% * 8;\n",
      " Minibatch[   2-   2]: loss = 0.901029 * 8, metric = 0.81% * 8;\n",
      " Minibatch[   3-   3]: loss = 0.904618 * 8, metric = 0.69% * 8;\n",
      " Minibatch[   4-   4]: loss = 0.911318 * 8, metric = 0.69% * 8;\n",
      " Minibatch[   5-   5]: loss = 0.897943 * 8, metric = 0.54% * 8;\n",
      " Minibatch[   6-  50]: loss = 0.897899 * 360, metric = 0.69% * 360;\n",
      "Finished Epoch[20 of 10]: [Training] loss = 0.899279 * 704, metric = 0.68% * 704 23.631s ( 29.8 samples/s);\n"
     ]
    }
   ],
   "source": [
    "train()"
   ]
  },
  {
   "cell_type": "raw",
   "metadata": {},
   "source": [
    "跑10個epoch後，雖然整體的iou還不算高，但是可以看到最後繪製的結果已經有街景的雛型了。"
   ]
  },
  {
   "cell_type": "code",
   "execution_count": 20,
   "metadata": {
    "collapsed": false
   },
   "outputs": [
    {
     "data": {
      "image/png": "[encoded data removed]",
      "text/plain": [
       "<matplotlib.figure.Figure at 0x1ca9bc8bb00>"
      ]
     },
     "metadata": {},
     "output_type": "display_data"
    }
   ],
   "source": [
    "raw_features, raw_labels = get_next_minibatch(4)\n",
    "e = z(raw_features)\n",
    "e1 = decode_labels(e, num_classes).astype(np.uint8)\n",
    "l1 = decode_labels(raw_labels, num_classes).astype(np.uint8)\n",
    "tile_rgb_images(e1, l1, raw_features, row=3, col=3)"
   ]
  }
 ],
 "metadata": {
  "anaconda-cloud": {},
  "kernelspec": {
   "display_name": "Python [Root]",
   "language": "python",
   "name": "Python [Root]"
  },
  "language_info": {
   "codemirror_mode": {
    "name": "ipython",
    "version": 3
   },
   "file_extension": ".py",
   "mimetype": "text/x-python",
   "name": "python",
   "nbconvert_exporter": "python",
   "pygments_lexer": "ipython3",
   "version": "3.5.2"
  }
 },
 "nbformat": 4,
 "nbformat_minor": 2
}
