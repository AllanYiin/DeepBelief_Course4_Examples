{
 "cells": [
  {
   "cell_type": "markdown",
   "metadata": {},
   "source": [
    "# 自編碼器Auto-Encoder  (tensorflow+keras)"
   ]
  },
  {
   "cell_type": "markdown",
   "metadata": {},
   "source": [
    "###測試於tensorflow 1.10  keras 2.2.2"
   ]
  },
  {
   "cell_type": "code",
   "execution_count": 2,
   "metadata": {
    "collapsed": true
   },
   "outputs": [],
   "source": [
    "%matplotlib inline"
   ]
  },
  {
   "cell_type": "raw",
   "metadata": {},
   "source": [
    "首先引用所有需要的包，其中pickle是用來讀取或是儲存二進位檔(我已經事先將Minist數據處理成二進位檔)。"
   ]
  },
  {
   "cell_type": "code",
   "execution_count": 49,
   "metadata": {
    "collapsed": false
   },
   "outputs": [],
   "source": [
    "from __future__ import print_function \n",
    "import matplotlib\n",
    "import matplotlib.image as mpimg\n",
    "import matplotlib.pyplot as plt\n",
    "import numpy as np\n",
    "import sys\n",
    "import os\n",
    "import codecs\n",
    "import math\n",
    "import random\n",
    "import pickle\n",
    "from PIL import Image\n",
    "from keras import backend as K\n",
    "from keras.datasets import mnist\n",
    "from keras.models import Sequential,Model\n",
    "from keras.layers import Input, Lambda\n",
    "from keras.layers.core import Dense, Dropout, Activation\n",
    "from keras.layers.normalization import BatchNormalization\n",
    "from keras.optimizers import SGD, Adam, RMSprop\n",
    "from keras.utils import np_utils\n",
    "from keras import metrics\n"
   ]
  },
  {
   "cell_type": "raw",
   "metadata": {},
   "source": [
    "將mnist數據進行轉換，請注意，在tensorflow需要將output轉為onehot(利用np.eye函數)。對於feature除以255，是為了將像素值控制在0~1之間，這樣收斂比較快"
   ]
  },
  {
   "cell_type": "code",
   "execution_count": 27,
   "metadata": {
    "collapsed": false
   },
   "outputs": [
    {
     "name": "stdout",
     "output_type": "stream",
     "text": [
      "[[0. 0. 0. ... 0. 0. 0.]\n",
      " [0. 0. 0. ... 0. 0. 0.]\n",
      " [0. 0. 0. ... 0. 0. 0.]]\n",
      "(60000, 784)\n",
      "(60000, 10)\n"
     ]
    }
   ],
   "source": [
    "train_data=None\n",
    "test_data=None\n",
    "\n",
    "with open('../Data/mnist_train.pkl', 'rb') as f:\n",
    "    train_data = pickle.load(f)\n",
    "with open('../Data/mnist_test.pkl', 'rb') as f:\n",
    "    test_data = pickle.load(f)\n",
    "    \n",
    "def parse_mnist(data):\n",
    "    features=[]\n",
    "    labels=[]\n",
    "    for row in data:\n",
    "        labels.append(np.eye(10)[row[-1]].astype(np.float32))\n",
    "        features.append(row[:-1].astype(np.float32)/255.0)\n",
    "    return np.asarray(features),np.asarray(labels)\n",
    "\n",
    "features,labels=parse_mnist(train_data)\n",
    "print(features[:3])\n",
    "\n",
    "idxs=np.arange(0,train_data.shape[0])\n",
    "random.shuffle(idxs)\n",
    "idx=0\n",
    "\n",
    "print(features.shape)\n",
    "print(labels.shape)\n"
   ]
  },
  {
   "cell_type": "code",
   "execution_count": 28,
   "metadata": {
    "collapsed": false
   },
   "outputs": [
    {
     "name": "stdout",
     "output_type": "stream",
     "text": [
      "[0. 0. 0. 0. 0. 1. 0. 0. 0. 0.]\n",
      "5\n"
     ]
    },
    {
     "data": {
      "image/png": "[encoded data removed]",
      "text/plain": [
       "<matplotlib.figure.Figure at 0x2411c312278>"
      ]
     },
     "metadata": {},
     "output_type": "display_data"
    }
   ],
   "source": [
    "img=Image.fromarray(np.reshape(features[0,:]*255.0,(28,28)).astype(np.uint8))\n",
    "plt.axis('off')\n",
    "plt.imshow(img, cmap='gray', interpolation='nearest')\n",
    "\n",
    "print(labels[0,:])\n",
    "print(np.argmax(labels[0,:]))"
   ]
  },
  {
   "cell_type": "raw",
   "metadata": {},
   "source": [
    "以下我設計了三種autoencoder結構"
   ]
  },
  {
   "cell_type": "code",
   "execution_count": 14,
   "metadata": {
    "collapsed": false
   },
   "outputs": [],
   "source": [
    "autoencoder = Sequential()\n",
    "autoencoder.add(Dense(784, input_shape=(784,), activation='relu'))\n",
    "autoencoder.add(Dense(512, activation='relu'))\n",
    "autoencoder.add(Dense(256, activation='relu'))\n",
    "autoencoder.add(Dense(128, activation='relu'))\n",
    "autoencoder.add(Dense(64, activation='relu'))\n",
    "autoencoder.add(Dense(32))\n",
    "autoencoder.add(Dense(64, activation='relu'))\n",
    "autoencoder.add(Dense(128, activation='relu'))\n",
    "autoencoder.add(Dense(256, activation='relu'))\n",
    "autoencoder.add(Dense(512, activation='relu'))\n",
    "autoencoder.add(Dense(784, activation='relu'))\n",
    "\n"
   ]
  },
  {
   "cell_type": "code",
   "execution_count": 29,
   "metadata": {
    "collapsed": false
   },
   "outputs": [],
   "source": [
    "autoencoder1 = Sequential()\n",
    "autoencoder1.add(Dense(784, input_shape=(784,), activation='relu'))\n",
    "autoencoder1.add(BatchNormalization())\n",
    "autoencoder1.add(Dense(512, activation='relu'))\n",
    "autoencoder1.add(BatchNormalization())\n",
    "autoencoder1.add(Dense(256, activation='relu'))\n",
    "autoencoder1.add(BatchNormalization())\n",
    "autoencoder1.add(Dense(128, activation='relu'))\n",
    "autoencoder1.add(BatchNormalization())\n",
    "autoencoder1.add(Dense(64, activation='relu'))\n",
    "autoencoder1.add(BatchNormalization())\n",
    "autoencoder1.add(Dense(32))\n",
    "autoencoder1.add(BatchNormalization())\n",
    "autoencoder1.add(Dense(64, activation='relu'))\n",
    "autoencoder1.add(BatchNormalization())\n",
    "autoencoder1.add(Dense(128, activation='relu'))\n",
    "autoencoder1.add(BatchNormalization())\n",
    "autoencoder1.add(Dense(256, activation='relu'))\n",
    "autoencoder1.add(BatchNormalization())\n",
    "autoencoder1.add(Dense(512, activation='relu'))\n",
    "autoencoder1.add(BatchNormalization())\n",
    "autoencoder1.add(Dense(784, activation='relu'))"
   ]
  },
  {
   "cell_type": "code",
   "execution_count": 8,
   "metadata": {
    "collapsed": true
   },
   "outputs": [],
   "source": [
    "autoencoder2 = Sequential()\n",
    "autoencoder2.add(Dense(784, input_shape=(784,), activation='relu'))\n",
    "autoencoder2.add(BatchNormalization())\n",
    "autoencoder2.add(Dense(512, activation='relu'))\n",
    "autoencoder2.add(BatchNormalization())\n",
    "autoencoder2.add(dropout(0.2))\n",
    "autoencoder2.add(Dense(256, activation='relu'))\n",
    "autoencoder2.add(BatchNormalization())\n",
    "autoencoder2.add(Dense(128, activation='relu'))\n",
    "autoencoder2.add(BatchNormalization())\n",
    "autoencoder2.add(Dense(64, activation='relu'))\n",
    "autoencoder2.add(BatchNormalization())\n",
    "autoencoder2.add(Dense(32))\n",
    "autoencoder2.add(BatchNormalization())\n",
    "autoencoder2.add(Dense(64, activation='relu'))\n",
    "autoencoder2.add(BatchNormalization())\n",
    "autoencoder2.add(Dense(128, activation='relu'))\n",
    "autoencoder2.add(BatchNormalization())\n",
    "autoencoder2.add(Dense(256, activation='relu'))\n",
    "autoencoder2.add(BatchNormalization())\n",
    "autoencoder2.add(Dense(512, activation='relu'))\n",
    "autoencoder2.add(BatchNormalization())\n",
    "autoencoder2.add(Dense(784, activation='relu'))"
   ]
  },
  {
   "cell_type": "code",
   "execution_count": 30,
   "metadata": {
    "collapsed": false
   },
   "outputs": [
    {
     "name": "stderr",
     "output_type": "stream",
     "text": [
      "C:\\Anaconda3\\lib\\site-packages\\ipykernel\\__main__.py:4: UserWarning: The `nb_epoch` argument in `fit` has been renamed `epochs`.\n"
     ]
    },
    {
     "name": "stdout",
     "output_type": "stream",
     "text": [
      "Epoch 1/5\n",
      "60000/60000 [==============================] - 41s 677us/step - loss: 0.0408\n",
      "Epoch 2/5\n",
      "60000/60000 [==============================] - 37s 615us/step - loss: 0.0275\n",
      "Epoch 3/5\n",
      "60000/60000 [==============================] - 36s 605us/step - loss: 0.0274\n",
      "Epoch 4/5\n",
      "60000/60000 [==============================] - 37s 617us/step - loss: 0.0234\n",
      "Epoch 5/5\n",
      "60000/60000 [==============================] - 41s 685us/step - loss: 0.0236\n"
     ]
    }
   ],
   "source": [
    "minibatch_size=32\n",
    "num_epochs=5\n",
    "autoencoder1.compile(optimizer='adam', loss='mse')\n",
    "history = autoencoder1.fit(features,features,batch_size=minibatch_size, nb_epoch=num_epochs,shuffle=True)\n",
    "autoencoder1.save_weights('Models/autoencoder_keras.h5')\n",
    "\n"
   ]
  },
  {
   "cell_type": "raw",
   "metadata": {},
   "source": [
    "問題\n",
    "(1)為何最中間層的活化函數為None(還有哪些選擇呢?)\n",
    "(2)最後一層的活化函數你覺得relu,sigmoid,leaky relu哪效果比較好呢?\n",
    "(3)三種自編碼器哪一種效果比較好(有沒有和預期不同的地方)\n",
    "(4)如果數值正規化方式改為減127.5除以127.5，請問模型結構該如何調整呢?\n",
    "(5)如果是你 ，還可以如何修改網路結構讓效果更好呢?"
   ]
  },
  {
   "cell_type": "raw",
   "metadata": {},
   "source": [
    "接下來我們比對一下輸入與輸出的差異"
   ]
  },
  {
   "cell_type": "code",
   "execution_count": 31,
   "metadata": {
    "collapsed": false
   },
   "outputs": [
    {
     "name": "stdout",
     "output_type": "stream",
     "text": [
      "(28, 28)\n",
      "(28, 28)\n"
     ]
    },
    {
     "data": {
      "text/plain": [
       "<matplotlib.image.AxesImage at 0x23f87d95e80>"
      ]
     },
     "execution_count": 31,
     "metadata": {},
     "output_type": "execute_result"
    },
    {
     "data": {
      "image/png": "[encoded data removed]",
      "text/plain": [
       "<matplotlib.figure.Figure at 0x24104280f60>"
      ]
     },
     "metadata": {},
     "output_type": "display_data"
    }
   ],
   "source": [
    "results=autoencoder1.predict(features[:5,:])#產生預測結果\n",
    "#實際值\n",
    "actual=np.reshape(features[0,:]*255.0,(28,28)).astype(np.uint8)\n",
    "pred=np.reshape(results[0,:]*255.0,(28,28)).astype(np.uint8)\n",
    "print(actual.shape)\n",
    "print(pred.shape)\n",
    "img=Image.fromarray(np.concatenate([actual,pred],axis=-1))\n",
    "plt.axis('off')\n",
    "plt.imshow(img,cmap='gray', interpolation='nearest')\n"
   ]
  },
  {
   "cell_type": "markdown",
   "metadata": {},
   "source": [
    "# 去噪自編碼器 Denoise AutoEncoder"
   ]
  },
  {
   "cell_type": "raw",
   "metadata": {},
   "source": [
    "所謂的去噪自編碼器，輸入值是添加了噪音的數據，但是輸出卻希望他能還原回原來乾淨的數據，這個做法等於是強迫模型自己找出噪音與真實數據間的差異進而分離純化。"
   ]
  },
  {
   "cell_type": "markdown",
   "metadata": {},
   "source": [
    "<img src=\"../Images/denoise.jpg\">"
   ]
  },
  {
   "cell_type": "raw",
   "metadata": {},
   "source": [
    "所以唯一需要修正之處在於產生添加噪音的輸入值。"
   ]
  },
  {
   "cell_type": "code",
   "execution_count": 34,
   "metadata": {
    "collapsed": false
   },
   "outputs": [
    {
     "data": {
      "text/plain": [
       "<matplotlib.image.AxesImage at 0x23f87d95320>"
      ]
     },
     "execution_count": 34,
     "metadata": {},
     "output_type": "execute_result"
    },
    {
     "data": {
      "image/png": "[encoded data removed]",
      "text/plain": [
       "<matplotlib.figure.Figure at 0x2411d37d9e8>"
      ]
     },
     "metadata": {},
     "output_type": "display_data"
    }
   ],
   "source": [
    "noises=[]\n",
    "for i in range(len(features)):\n",
    "    noises.append(features[i]+np.random.standard_normal(784)*0.005)\n",
    "\n",
    "\n",
    "noises=np.array(noises)    \n",
    "    \n",
    "rnd=random.choice(range(len(features)))\n",
    "actual=np.reshape(features[rnd,:]*255,(28,28)).astype(np.uint8)\n",
    "noise=np.reshape(noises[rnd,:]*255,(28,28)).astype(np.uint8)\n",
    "\n",
    "img=Image.fromarray(np.concatenate([actual,noise],axis=-1))\n",
    "plt.axis('off')\n",
    "plt.imshow(img, cmap='gray', interpolation='nearest')"
   ]
  },
  {
   "cell_type": "raw",
   "metadata": {},
   "source": [
    "雖然輸入含噪音數據，但是損失函數則需要比對乾淨的原始值。"
   ]
  },
  {
   "cell_type": "code",
   "execution_count": 36,
   "metadata": {
    "collapsed": false
   },
   "outputs": [
    {
     "name": "stderr",
     "output_type": "stream",
     "text": [
      "C:\\Anaconda3\\lib\\site-packages\\ipykernel\\__main__.py:4: UserWarning: The `nb_epoch` argument in `fit` has been renamed `epochs`.\n"
     ]
    },
    {
     "name": "stdout",
     "output_type": "stream",
     "text": [
      "Epoch 1/5\n",
      "60000/60000 [==============================] - 42s 703us/step - loss: 0.0214\n",
      "Epoch 2/5\n",
      "60000/60000 [==============================] - 38s 630us/step - loss: 0.0193\n",
      "Epoch 3/5\n",
      "60000/60000 [==============================] - 39s 645us/step - loss: 0.0185\n",
      "Epoch 4/5\n",
      "60000/60000 [==============================] - 42s 704us/step - loss: 0.0179\n",
      "Epoch 5/5\n",
      "60000/60000 [==============================] - 60s 1ms/step - loss: 0.0170\n"
     ]
    }
   ],
   "source": [
    "minibatch_size=32\n",
    "num_epochs=5\n",
    "autoencoder1.compile(optimizer='adam', loss='mse')\n",
    "history = autoencoder1.fit(noises,features,batch_size=minibatch_size, nb_epoch=num_epochs,shuffle=True)\n",
    "autoencoder1.save_weights('Models/denoise_autoencoder_keras.h5')"
   ]
  },
  {
   "cell_type": "raw",
   "metadata": {},
   "source": [
    "比對原始數據、添加噪音數據以及最後模型生成值，可以看到神經網路學會了如何區分噪音與信息。"
   ]
  },
  {
   "cell_type": "code",
   "execution_count": 37,
   "metadata": {
    "collapsed": false
   },
   "outputs": [
    {
     "data": {
      "text/plain": [
       "<matplotlib.image.AxesImage at 0x23f98ee6e10>"
      ]
     },
     "execution_count": 37,
     "metadata": {},
     "output_type": "execute_result"
    },
    {
     "data": {
      "image/png": "[encoded data removed]",
      "text/plain": [
       "<matplotlib.figure.Figure at 0x23f98ee6cf8>"
      ]
     },
     "metadata": {},
     "output_type": "display_data"
    }
   ],
   "source": [
    "results=autoencoder1.predict(noises[:5,:])#產生預測結果\n",
    "#實際值\n",
    "actual=np.reshape(features[0,:]*255,(28,28)).astype(np.uint8)\n",
    "noise=np.reshape(noises[0,:]*255,(28,28)).astype(np.uint8)\n",
    "pred=np.reshape(results[0,:]*255,(28,28)).astype(np.uint8)\n",
    "\n",
    "img=Image.fromarray(np.concatenate([actual,noise,pred],axis=-1))\n",
    "plt.axis('off')\n",
    "plt.imshow(img, cmap='gray', interpolation='nearest')"
   ]
  },
  {
   "cell_type": "markdown",
   "metadata": {},
   "source": [
    "# 變分自編碼器（VAE）"
   ]
  },
  {
   "cell_type": "raw",
   "metadata": {},
   "source": [
    "變分自編碼器雖然名字叫做自編碼器，但實際上與自編碼器沒有太多關係，相對的，他反而很常被拿來與GAN相提並論，它的目的都是透過一個隱向量的分布來去生成一群樣本。變分自編碼器不管原始樣本的分布是如何，他都強制轉換為一個常態分配的分布，也就是他的作用是用來進行強制分布變換。"
   ]
  },
  {
   "cell_type": "code",
   "execution_count": 53,
   "metadata": {
    "collapsed": false
   },
   "outputs": [],
   "source": [
    "\n",
    "vae_encoder = Sequential()\n",
    "vae_encoder.add(Dense(784, input_shape=(784,), activation='relu'))\n",
    "vae_encoder.add(BatchNormalization())\n",
    "vae_encoder.add(Dense(512, activation='relu'))\n",
    "vae_encoder.add(BatchNormalization())\n",
    "vae_encoder.add(Dense(256, activation='relu'))\n",
    "vae_encoder.add(BatchNormalization())\n",
    "vae_encoder.add(Dense(128, activation='relu'))\n",
    "vae_encoder.add(BatchNormalization())\n",
    "vae_encoder.add(Dense(64, activation='relu'))\n",
    "vae_encoder.add(BatchNormalization())\n",
    "\n",
    "vae_decoder = Sequential()\n",
    "vae_decoder.add(Dense(32))\n",
    "vae_decoder.add(BatchNormalization())\n",
    "vae_decoder.add(Dense(64, activation='relu'))\n",
    "vae_decoder.add(BatchNormalization())\n",
    "vae_decoder.add(Dense(128, activation='relu'))\n",
    "vae_decoder.add(BatchNormalization())\n",
    "vae_decoder.add(Dense(256, activation='relu'))\n",
    "vae_decoder.add(BatchNormalization())\n",
    "vae_decoder.add(Dense(512, activation='relu'))\n",
    "vae_decoder.add(BatchNormalization())\n",
    "\n",
    "\n",
    "latent_dim = 32 # 隱變量維度數\n",
    "\n",
    "\n",
    "x = Input(shape=(784,))\n",
    "h = vae_encoder(x)\n",
    "\n",
    "\n",
    "# 算p(Z|X)的均值和方差\n",
    "z_mean = Dense(32)(h)\n",
    "z_log_var = Dense(32)(h)\n",
    "\n",
    "\n",
    "#epsilon表示隨機成分\n",
    "def sampling(args):\n",
    "    z_mean, z_log_var = args\n",
    "    epsilon = K.random_normal(shape=(K.shape(z_mean)[0], latent_dim), mean=0.,stddev=1)\n",
    "    return z_mean + K.exp(z_log_var / 2) #* epsilon\n",
    "\n",
    "z = Lambda(sampling, output_shape=(latent_dim,))([z_mean, z_log_var])\n",
    "#如果不處理epsilon，則為AUTOENCODER\n",
    "#如果處理epsilon，則為生成模型\n",
    "\n",
    "\n",
    "#解碼層\n",
    "\n",
    "h_decoded = vae_decoder(z)\n",
    "x_decoded_mean =  Dense(784, activation='relu')(h_decoded)\n",
    "\n",
    "# 建立模型\n",
    "\n",
    "vae = Model(x, x_decoded_mean)\n"
   ]
  },
  {
   "cell_type": "code",
   "execution_count": 54,
   "metadata": {
    "collapsed": false
   },
   "outputs": [
    {
     "name": "stdout",
     "output_type": "stream",
     "text": [
      "__________________________________________________________________________________________________\n",
      "Layer (type)                    Output Shape         Param #     Connected to                     \n",
      "==================================================================================================\n",
      "input_12 (InputLayer)           (None, 784)          0                                            \n",
      "__________________________________________________________________________________________________\n",
      "sequential_23 (Sequential)      (None, 64)           1196816     input_12[0][0]                   \n",
      "__________________________________________________________________________________________________\n",
      "dense_159 (Dense)               (None, 32)           2080        sequential_23[1][0]              \n",
      "__________________________________________________________________________________________________\n",
      "dense_160 (Dense)               (None, 32)           2080        sequential_23[1][0]              \n",
      "__________________________________________________________________________________________________\n",
      "lambda_4 (Lambda)               (None, 32)           0           dense_159[0][0]                  \n",
      "                                                                 dense_160[0][0]                  \n",
      "__________________________________________________________________________________________________\n",
      "sequential_24 (Sequential)      (None, 512)          180064      lambda_4[0][0]                   \n",
      "__________________________________________________________________________________________________\n",
      "dense_161 (Dense)               (None, 784)          402192      sequential_24[1][0]              \n",
      "==================================================================================================\n",
      "Total params: 1,783,232\n",
      "Trainable params: 1,777,760\n",
      "Non-trainable params: 5,472\n",
      "__________________________________________________________________________________________________\n",
      "Epoch 1/5\n",
      "60000/60000 [==============================] - 50s 828us/step - loss: 1656.6465\n",
      "Epoch 2/5\n",
      "60000/60000 [==============================] - 45s 745us/step - loss: 1761.2321\n",
      "Epoch 3/5\n",
      "60000/60000 [==============================] - 42s 701us/step - loss: 1719.5173\n",
      "Epoch 4/5\n",
      "60000/60000 [==============================] - 42s 698us/step - loss: 1709.2944\n",
      "Epoch 5/5\n",
      "60000/60000 [==============================] - 43s 712us/step - loss: 1796.6789\n"
     ]
    }
   ],
   "source": [
    "xent_loss = 783 * metrics.binary_crossentropy(x, x_decoded_mean)\n",
    "kl_loss = - 0.5 * K.sum(1 + z_log_var - K.square(z_mean) - K.exp(z_log_var), axis=-1)\n",
    "vae_loss = K.mean(xent_loss + kl_loss)\n",
    "vae.add_loss(vae_loss)\n",
    "\n",
    "minibatch_size=32\n",
    "num_epochs=5\n",
    "\n",
    "vae.compile(optimizer='adam')\n",
    "vae.summary()\n",
    "vae.fit(features,\n",
    "        shuffle=True,\n",
    "        epochs=num_epochs,\n",
    "        batch_size=minibatch_size)\n",
    "vae.save_weights('Models/vae_keras.h5')"
   ]
  },
  {
   "cell_type": "code",
   "execution_count": 55,
   "metadata": {
    "collapsed": false
   },
   "outputs": [
    {
     "data": {
      "text/plain": [
       "<matplotlib.image.AxesImage at 0x24143dbb198>"
      ]
     },
     "execution_count": 55,
     "metadata": {},
     "output_type": "execute_result"
    },
    {
     "data": {
      "image/png": "[encoded data removed]",
      "text/plain": [
       "<matplotlib.figure.Figure at 0x24143dbb2b0>"
      ]
     },
     "metadata": {},
     "output_type": "display_data"
    }
   ],
   "source": [
    "results=vae.predict(features[:5,:])#產生預測結果\n",
    "\n",
    "#實際值\n",
    "actual=np.reshape(features[0,:]*255,(28,28)).astype(np.uint8)\n",
    "pred=np.reshape(results[0,:]*255,(28,28)).astype(np.uint8)\n",
    "\n",
    "img=Image.fromarray(np.concatenate([actual,pred],axis=-1))\n",
    "plt.axis('off')\n",
    "plt.imshow(img, cmap='gray', interpolation='nearest')"
   ]
  }
 ],
 "metadata": {
  "kernelspec": {
   "display_name": "Python [Root]",
   "language": "python",
   "name": "Python [Root]"
  },
  "language_info": {
   "codemirror_mode": {
    "name": "ipython",
    "version": 3
   },
   "file_extension": ".py",
   "mimetype": "text/x-python",
   "name": "python",
   "nbconvert_exporter": "python",
   "pygments_lexer": "ipython3",
   "version": "3.5.2"
  }
 },
 "nbformat": 4,
 "nbformat_minor": 0
}
