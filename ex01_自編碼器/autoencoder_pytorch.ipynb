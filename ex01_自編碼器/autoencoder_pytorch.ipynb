{
 "cells": [
  {
   "cell_type": "markdown",
   "metadata": {},
   "source": [
    "# 自編碼器Auto-Encoder  (pytorch)"
   ]
  },
  {
   "cell_type": "markdown",
   "metadata": {},
   "source": [
    "###測試於pytorch 1.0"
   ]
  },
  {
   "cell_type": "code",
   "execution_count": 1,
   "metadata": {
    "collapsed": true
   },
   "outputs": [],
   "source": [
    "%matplotlib inline"
   ]
  },
  {
   "cell_type": "raw",
   "metadata": {},
   "source": [
    "首先引用所有需要的包，其中pickle是用來讀取或是儲存二進位檔(我已經事先將Minist數據處理成二進位檔)。"
   ]
  },
  {
   "cell_type": "code",
   "execution_count": 2,
   "metadata": {
    "collapsed": false
   },
   "outputs": [],
   "source": [
    "from __future__ import print_function \n",
    "import matplotlib\n",
    "import matplotlib.image as mpimg\n",
    "import matplotlib.pyplot as plt\n",
    "import numpy as np\n",
    "import sys\n",
    "import os\n",
    "import codecs\n",
    "import math\n",
    "import random\n",
    "import pickle\n",
    "from PIL import Image\n",
    "\n",
    "import torch\n",
    "import torch.nn as nn\n",
    "from torch.autograd import Variable\n",
    "import torch.nn.functional as F\n",
    "import torch.optim as optim\n",
    "\n",
    "\n",
    "use_cuda=True"
   ]
  },
  {
   "cell_type": "raw",
   "metadata": {},
   "source": [
    "將mnist數據進行轉換，請注意，在pytorch不需要將output轉為onehot，而且需要將他轉型為int64，以配合生成LongTensor。對於feature除以255，是為了將像素值控制在0~1之間，這樣收斂比較快。"
   ]
  },
  {
   "cell_type": "code",
   "execution_count": 3,
   "metadata": {
    "collapsed": false
   },
   "outputs": [
    {
     "name": "stdout",
     "output_type": "stream",
     "text": [
      "60000\n",
      "10000\n",
      "[[0. 0. 0. ... 0. 0. 0.]\n",
      " [0. 0. 0. ... 0. 0. 0.]\n",
      " [0. 0. 0. ... 0. 0. 0.]]\n",
      "(60000, 784)\n",
      "(60000,)\n"
     ]
    }
   ],
   "source": [
    "train_data=None\n",
    "test_data=None\n",
    "\n",
    "with open('../Data/mnist_train.pkl', 'rb') as f:\n",
    "    train_data = pickle.load(f)\n",
    "    print(len(train_data))\n",
    "with open('../Data/mnist_test.pkl', 'rb') as f:\n",
    "    test_data = pickle.load(f)\n",
    "    print(len(test_data))\n",
    "    \n",
    "def parse_mnist(data):\n",
    "    features=[]\n",
    "    labels=[]\n",
    "    for row in data:\n",
    "        labels.append(row[-1].astype(np.int64))\n",
    "        features.append(row[:-1].astype(np.float32)/255.0)\n",
    "    return np.asarray(features),np.asarray(labels)\n",
    "\n",
    "features,labels=parse_mnist(train_data)\n",
    "print(features[:3])\n",
    "\n",
    "idxs=np.arange(0,train_data.shape[0])\n",
    "random.shuffle(idxs)\n",
    "idx=0\n",
    "\n",
    "print(features.shape)\n",
    "print(labels.shape)\n"
   ]
  },
  {
   "cell_type": "raw",
   "metadata": {},
   "source": []
  },
  {
   "cell_type": "code",
   "execution_count": 4,
   "metadata": {
    "collapsed": false
   },
   "outputs": [
    {
     "name": "stdout",
     "output_type": "stream",
     "text": [
      "(3, 784)\n",
      "(3,)\n"
     ]
    }
   ],
   "source": [
    "def get_next_minibatch(minibatch_size):\n",
    "    global idxs,idx\n",
    "    x_features=[]\n",
    "    y_labels=[]\n",
    "    while len(x_features)<minibatch_size:\n",
    "        x_features.append(features[idxs[idx]])\n",
    "        y_labels.append(labels[idxs[idx]])\n",
    "        idx+=1\n",
    "        if idx>=len(idxs):\n",
    "            idx=0\n",
    "            random.shuffle(idxs)\n",
    "    return np.asarray(x_features).astype(np.float32),np.asarray(y_labels).astype(np.float32)\n",
    "\n",
    "features_x,labels_y=get_next_minibatch(3)\n",
    "print(features_x.shape)\n",
    "print(labels_y.shape)"
   ]
  },
  {
   "cell_type": "raw",
   "metadata": {},
   "source": []
  },
  {
   "cell_type": "code",
   "execution_count": 5,
   "metadata": {
    "collapsed": false
   },
   "outputs": [
    {
     "name": "stdout",
     "output_type": "stream",
     "text": [
      "5\n"
     ]
    },
    {
     "data": {
      "image/png": "[encoded data removed]",
      "text/plain": [
       "<matplotlib.figure.Figure at 0x1ce3e1dd940>"
      ]
     },
     "metadata": {},
     "output_type": "display_data"
    }
   ],
   "source": [
    "img=Image.fromarray(np.reshape(features[0,:]*255,(28,28)).astype(np.uint8))\n",
    "plt.axis('off')\n",
    "plt.imshow(img, cmap='gray', interpolation='nearest')\n",
    "\n",
    "print(labels[0])\n"
   ]
  },
  {
   "cell_type": "raw",
   "metadata": {},
   "source": [
    "以下我設計了三種autoencoder結構"
   ]
  },
  {
   "cell_type": "code",
   "execution_count": 6,
   "metadata": {
    "collapsed": true
   },
   "outputs": [],
   "source": [
    "class autoencoder(nn.Module):\n",
    "    def __init__(self):\n",
    "        super(autoencoder, self).__init__()\n",
    "        self.d1 = nn.Linear(784, 512)\n",
    "        self.d2 = nn.Linear(512, 256)\n",
    "        self.d3 = nn.Linear(256, 128)\n",
    "        self.d4 = nn.Linear(128, 64)\n",
    "        self.d5 = nn.Linear(64, 32)\n",
    "        self.d6 = nn.Linear(32, 64)\n",
    "        self.d7 = nn.Linear(64, 128)\n",
    "        self.d8 = nn.Linear(128, 256)\n",
    "        self.d9 = nn.Linear(256, 512)\n",
    "        self.d10 = nn.Linear(512, 784)\n",
    "\n",
    "    def forward(self, x):\n",
    "        x = x.view(-1, 28*28)\n",
    "        x = F.relu(self.d1(x))\n",
    "        x = F.relu(self.d2(x))\n",
    "        x = F.relu(self.d3(x))\n",
    "        x = F.relu(self.d4(x))\n",
    "        x = self.d5(x)\n",
    "        x = F.relu(self.d6(x))\n",
    "        x = F.relu(self.d7(x))\n",
    "        x = F.relu(self.d8(x))\n",
    "        x = F.relu(self.d9(x))\n",
    "        x = F.relu(self.d10(x))\n",
    "        return x"
   ]
  },
  {
   "cell_type": "code",
   "execution_count": 7,
   "metadata": {
    "collapsed": true
   },
   "outputs": [],
   "source": [
    "class autoencoder1(nn.Module):\n",
    "    def __init__(self):\n",
    "        super(autoencoder1, self).__init__()\n",
    "        self.d1 = nn.Linear(784, 512)\n",
    "        self.d2 = nn.Linear(512, 256)\n",
    "        self.d3 = nn.Linear(256, 128)\n",
    "        self.d4 = nn.Linear(128, 64)\n",
    "        self.d5 = nn.Linear(64, 32)\n",
    "        self.d6 = nn.Linear(32, 64)\n",
    "        self.d7 = nn.Linear(64, 128)\n",
    "        self.d8 = nn.Linear(128, 256)\n",
    "        self.d9 = nn.Linear(256, 512)\n",
    "        self.d10 = nn.Linear(512, 784)\n",
    "        self.b1=nn.BatchNorm1d(num_features=512)\n",
    "        self.b2=nn.BatchNorm1d(num_features=256)\n",
    "        self.b3=nn.BatchNorm1d(num_features=128)\n",
    "        self.b4=nn.BatchNorm1d(num_features=64)\n",
    "        self.b5=nn.BatchNorm1d(num_features=32)\n",
    "        self.b6=nn.BatchNorm1d(num_features=64)\n",
    "        self.b7=nn.BatchNorm1d(num_features=128)\n",
    "        self.b8=nn.BatchNorm1d(num_features=256)\n",
    "        self.b9=nn.BatchNorm1d(num_features=512)\n",
    "\n",
    "    def forward(self, x):\n",
    "        x = x.view(-1, 28*28)\n",
    "        x = F.relu(self.d1(x))\n",
    "        x =self.b1(x)\n",
    "        x = F.relu(self.d2(x))\n",
    "        x =self.b2(x)\n",
    "        x = F.relu(self.d3(x))\n",
    "        x =self.b3(x)\n",
    "        x = F.relu(self.d4(x))\n",
    "        x =self.b4(x)\n",
    "        x = self.d5(x)\n",
    "        x =self.b5(x)\n",
    "        x = F.relu(self.d6(x))\n",
    "        x =self.b6(x)\n",
    "        x = F.relu(self.d7(x))\n",
    "        x =self.b7(x)\n",
    "        x = F.relu(self.d8(x))\n",
    "        x =self.b8(x)\n",
    "        x = F.relu(self.d9(x))\n",
    "        x =self.b9(x)\n",
    "        x = F.relu(self.d10(x))\n",
    "        return x"
   ]
  },
  {
   "cell_type": "code",
   "execution_count": 8,
   "metadata": {
    "collapsed": true
   },
   "outputs": [],
   "source": [
    "class autoencoder2(nn.Module):\n",
    "    def __init__(self):\n",
    "        super(autoencoder2, self).__init__()\n",
    "        self.d1 = nn.Linear(784, 512)\n",
    "        self.d2 = nn.Linear(512, 256)\n",
    "        self.d3 = nn.Linear(256, 128)\n",
    "        self.d4 = nn.Linear(128, 64)\n",
    "        self.d5 = nn.Linear(64, 32)\n",
    "        self.d6 = nn.Linear(32, 64)\n",
    "        self.d7 = nn.Linear(64, 128)\n",
    "        self.d8 = nn.Linear(128, 256)\n",
    "        self.d9 = nn.Linear(256, 512)\n",
    "        self.d10 = nn.Linear(512, 784)\n",
    "        self.b1=nn.BatchNorm1d(num_features=512)\n",
    "        self.b2=nn.BatchNorm1d(num_features=256)\n",
    "        self.b3=nn.BatchNorm1d(num_features=128)\n",
    "        self.b4=nn.BatchNorm1d(num_features=64)\n",
    "        self.b5=nn.BatchNorm1d(num_features=32)\n",
    "        self.b6=nn.BatchNorm1d(num_features=64)\n",
    "        self.b7=nn.BatchNorm1d(num_features=128)\n",
    "        self.b8=nn.BatchNorm1d(num_features=256)\n",
    "        self.b9=nn.BatchNorm1d(num_features=512)\n",
    "        self.drop1=nn.Dropout1d(0.2)\n",
    "\n",
    "    def forward(self, x):\n",
    "        x = x.view(-1, 28*28)\n",
    "        x = F.relu(self.d1(x))\n",
    "        x =self.b1(x)\n",
    "        x = F.relu(self.d2(x))\n",
    "        x =self.b2(x)\n",
    "        x = self.drop1(x)\n",
    "        x = F.relu(self.d3(x))\n",
    "        x =self.b3(x)\n",
    "        x = F.relu(self.d4(x))\n",
    "        x =self.b4(x)\n",
    "        x = self.d5(x)\n",
    "        x =self.b5(x)\n",
    "        x = F.relu(self.d6(x))\n",
    "        x =self.b6(x)\n",
    "        x = F.relu(self.d7(x))\n",
    "        x =self.b7(x)\n",
    "        x = F.relu(self.d8(x))\n",
    "        x =self.b8(x)\n",
    "        x = F.relu(self.d9(x))\n",
    "        x =self.b9(x)\n",
    "        x = F.relu(self.d10(x))\n",
    "        return x"
   ]
  },
  {
   "cell_type": "code",
   "execution_count": 10,
   "metadata": {
    "collapsed": false
   },
   "outputs": [
    {
     "name": "stderr",
     "output_type": "stream",
     "text": [
      "C:\\Anaconda3\\lib\\site-packages\\torch\\serialization.py:250: UserWarning: Couldn't retrieve source code for container of type autoencoder1. It won't be checked for correctness upon loading.\n",
      "  \"type \" + obj.__name__ + \". It won't be checked \"\n"
     ]
    },
    {
     "name": "stdout",
     "output_type": "stream",
     "text": [
      "Epoch: 1/2... Step: 100... Loss: 0.0464...\n",
      "Epoch: 1/2... Step: 200... Loss: 0.0404...\n",
      "Epoch: 1/2... Step: 300... Loss: 0.0435...\n",
      "Epoch: 1/2... Step: 400... Loss: 0.0511...\n",
      "Epoch: 1/2... Step: 500... Loss: 0.0461...\n",
      "Epoch: 1/2... Step: 600... Loss: 0.0368...\n",
      "Epoch: 1/2... Step: 700... Loss: 0.0441...\n",
      "Epoch: 1/2... Step: 800... Loss: 0.0371...\n",
      "Epoch: 1/2... Step: 900... Loss: 0.0363...\n",
      "Epoch: 1/2... Step: 1000... Loss: 0.0352...\n",
      "Epoch: 1/2... Step: 1100... Loss: 0.0333...\n",
      "Epoch: 1/2... Step: 1200... Loss: 0.0361...\n",
      "Epoch: 1/2... Step: 1300... Loss: 0.0400...\n",
      "Epoch: 1/2... Step: 1400... Loss: 0.0382...\n",
      "Epoch: 1/2... Step: 1500... Loss: 0.0307...\n",
      "Epoch: 1/2... Step: 1600... Loss: 0.0344...\n",
      "Epoch: 1/2... Step: 1700... Loss: 0.0310...\n",
      "Epoch: 1/2... Step: 1800... Loss: 0.0331...\n",
      "Epoch: 2/2... Step: 100... Loss: 0.0353...\n",
      "Epoch: 2/2... Step: 200... Loss: 0.0265...\n",
      "Epoch: 2/2... Step: 300... Loss: 0.0369...\n",
      "Epoch: 2/2... Step: 400... Loss: 0.0348...\n",
      "Epoch: 2/2... Step: 500... Loss: 0.0332...\n",
      "Epoch: 2/2... Step: 600... Loss: 0.0346...\n",
      "Epoch: 2/2... Step: 700... Loss: 0.0315...\n",
      "Epoch: 2/2... Step: 800... Loss: 0.0351...\n",
      "Epoch: 2/2... Step: 900... Loss: 0.0314...\n",
      "Epoch: 2/2... Step: 1000... Loss: 0.0313...\n",
      "Epoch: 2/2... Step: 1100... Loss: 0.0356...\n",
      "Epoch: 2/2... Step: 1200... Loss: 0.0326...\n",
      "Epoch: 2/2... Step: 1300... Loss: 0.0383...\n",
      "Epoch: 2/2... Step: 1400... Loss: 0.0348...\n",
      "Epoch: 2/2... Step: 1500... Loss: 0.0287...\n",
      "Epoch: 2/2... Step: 1600... Loss: 0.0299...\n",
      "Epoch: 2/2... Step: 1700... Loss: 0.0310...\n",
      "Epoch: 2/2... Step: 1800... Loss: 0.0289...\n"
     ]
    }
   ],
   "source": [
    "model = autoencoder1()\n",
    "if use_cuda:\n",
    "    model= model.cuda()\n",
    "optimizer = optim.Adam(model.parameters(), lr=0.01)\n",
    "ceriation = nn.MSELoss()\n",
    "num_epochs=2\n",
    "minibatch_size=32\n",
    "for epoch in range(num_epochs):\n",
    "    mbs=0\n",
    "    rows=0\n",
    "    ave_loss = 0\n",
    "    while rows < train_data.shape[0]:\n",
    "        optimizer.zero_grad()\n",
    "        features_x,label_y=get_next_minibatch(minibatch_size)\n",
    "        x, target = torch.from_numpy(features_x), torch.from_numpy(features_x)\n",
    "        if use_cuda:\n",
    "            x, target = x.cuda(), target.cuda()\n",
    "        x, target = Variable(x), Variable(target)\n",
    "        out = model(x)\n",
    "        loss = ceriation(out, target)\n",
    "        loss.backward()\n",
    "        optimizer.step()\n",
    "        if mbs%100==0 and mbs>0:\n",
    "            print(\"Epoch: {}/{}...\".format(epoch+1, num_epochs),\n",
    "                          \"Step: {}...\".format(mbs),\n",
    "                          \"Loss: {:.4f}...\".format(loss.data.item()))\n",
    "        mbs+=1\n",
    "        rows+=minibatch_size\n",
    "        torch.save(model, 'Models/autoencoder_pytorch.cnn'.format(epoch))"
   ]
  },
  {
   "cell_type": "raw",
   "metadata": {},
   "source": [
    "問題\n",
    "(1)為何最中間層的活化函數為None(還有哪些選擇呢?)\n",
    "(2)最後一層的活化函數你覺得relu,sigmoid,leaky relu哪效果比較好呢?\n",
    "(3)三種自編碼器哪一種效果比較好(有沒有和預期不同的地方)\n",
    "(4)如果數值正規化方式改為減127.5除以127.5，請問模型結構該如何調整呢?\n",
    "(5)如果是你 ，還可以如何修改網路結構讓效果更好呢?"
   ]
  },
  {
   "cell_type": "raw",
   "metadata": {},
   "source": [
    "接下來我們比對一下輸入與輸出的差異"
   ]
  },
  {
   "cell_type": "code",
   "execution_count": 11,
   "metadata": {
    "collapsed": false
   },
   "outputs": [
    {
     "name": "stdout",
     "output_type": "stream",
     "text": [
      "(32, 784)\n",
      "(28, 28)\n",
      "(28, 28)\n"
     ]
    },
    {
     "data": {
      "text/plain": [
       "<matplotlib.image.AxesImage at 0x1ce05492828>"
      ]
     },
     "execution_count": 11,
     "metadata": {},
     "output_type": "execute_result"
    },
    {
     "data": {
      "image/png": "[encoded data removed]",
      "text/plain": [
       "<matplotlib.figure.Figure at 0x1ce05492860>"
      ]
     },
     "metadata": {},
     "output_type": "display_data"
    }
   ],
   "source": [
    "\n",
    "x,y=get_next_minibatch(minibatch_size)\n",
    "input=torch.from_numpy(x)\n",
    "input=Variable(input)\n",
    "input=input.cuda()\n",
    "output = model(input)\n",
    "pred=output.cpu().detach().numpy()\n",
    "print(pred.shape)\n",
    "#實際值\n",
    "actual=np.reshape(x[1,:]*255,(28,28)).astype(np.uint8)\n",
    "pred=np.reshape(pred[1,:]*255,(28,28)).astype(np.uint8)\n",
    "print(actual.shape)\n",
    "print(pred.shape)\n",
    "img=Image.fromarray(np.concatenate([actual,pred],axis=-1))\n",
    "plt.axis('off')\n",
    "plt.imshow(img, cmap='gray', interpolation='nearest')"
   ]
  },
  {
   "cell_type": "markdown",
   "metadata": {},
   "source": [
    "# 去噪自編碼器 Denoise AutoEncoder"
   ]
  },
  {
   "cell_type": "raw",
   "metadata": {},
   "source": [
    "所謂的去噪自編碼器，輸入值是添加了噪音的數據，但是輸出卻希望他能還原回原來乾淨的數據，這個做法等於是強迫模型自己找出噪音與真實數據間的差異進而分離純化。"
   ]
  },
  {
   "cell_type": "markdown",
   "metadata": {},
   "source": [
    "<img src=\"../Images/denoise.jpg\">"
   ]
  },
  {
   "cell_type": "raw",
   "metadata": {},
   "source": [
    "所以唯一需要修正之處在於產生添加噪音的輸入值。"
   ]
  },
  {
   "cell_type": "code",
   "execution_count": 12,
   "metadata": {
    "collapsed": false
   },
   "outputs": [
    {
     "data": {
      "text/plain": [
       "<matplotlib.image.AxesImage at 0x1ce3e7d0ba8>"
      ]
     },
     "execution_count": 12,
     "metadata": {},
     "output_type": "execute_result"
    },
    {
     "data": {
      "image/png": "[encoded data removed]",
      "text/plain": [
       "<matplotlib.figure.Figure at 0x1ce3e498630>"
      ]
     },
     "metadata": {},
     "output_type": "display_data"
    }
   ],
   "source": [
    "def get_next_noise_minibatch(minibatch_size):\n",
    "    global idxs,idx\n",
    "    x_features=[]\n",
    "    x_noise=[]\n",
    "    while len(x_features)<minibatch_size:\n",
    "        x_features.append(features[idxs[idx]])\n",
    "        x_noise.append(features[idxs[idx]]+np.random.standard_normal(784)*0.005)\n",
    "        idx+=1\n",
    "        if idx>=len(idxs):\n",
    "            idx=0\n",
    "            random.shuffle(idxs)\n",
    "    return np.asarray(x_features).astype(np.float32),np.asarray(x_noise).astype(np.float32)\n",
    "\n",
    "features_x,noise_x=get_next_noise_minibatch(3)\n",
    "actual=np.reshape(features_x[0,:]*255,(28,28)).astype(np.uint8)\n",
    "noise=np.reshape(noise_x[0,:]*255,(28,28)).astype(np.uint8)\n",
    "\n",
    "img=Image.fromarray(np.concatenate([actual,noise],axis=-1))\n",
    "plt.axis('off')\n",
    "plt.imshow(img, cmap='gray', interpolation='nearest')"
   ]
  },
  {
   "cell_type": "raw",
   "metadata": {},
   "source": [
    "雖然輸入含噪音數據，但是損失函數則需要比對乾淨的原始值。"
   ]
  },
  {
   "cell_type": "code",
   "execution_count": 13,
   "metadata": {
    "collapsed": false
   },
   "outputs": [
    {
     "name": "stderr",
     "output_type": "stream",
     "text": [
      "C:\\Anaconda3\\lib\\site-packages\\torch\\serialization.py:250: UserWarning: Couldn't retrieve source code for container of type autoencoder1. It won't be checked for correctness upon loading.\n",
      "  \"type \" + obj.__name__ + \". It won't be checked \"\n"
     ]
    },
    {
     "name": "stdout",
     "output_type": "stream",
     "text": [
      "Epoch: 1/2... Step: 100... Loss: 0.0482...\n",
      "Epoch: 1/2... Step: 200... Loss: 0.0473...\n",
      "Epoch: 1/2... Step: 300... Loss: 0.0493...\n",
      "Epoch: 1/2... Step: 400... Loss: 0.0517...\n",
      "Epoch: 1/2... Step: 500... Loss: 0.0440...\n",
      "Epoch: 1/2... Step: 600... Loss: 0.0427...\n",
      "Epoch: 1/2... Step: 700... Loss: 0.0382...\n",
      "Epoch: 1/2... Step: 800... Loss: 0.0410...\n",
      "Epoch: 1/2... Step: 900... Loss: 0.0397...\n",
      "Epoch: 1/2... Step: 1000... Loss: 0.0301...\n",
      "Epoch: 1/2... Step: 1100... Loss: 0.0373...\n",
      "Epoch: 1/2... Step: 1200... Loss: 0.0357...\n",
      "Epoch: 1/2... Step: 1300... Loss: 0.0365...\n",
      "Epoch: 1/2... Step: 1400... Loss: 0.0322...\n",
      "Epoch: 1/2... Step: 1500... Loss: 0.0352...\n",
      "Epoch: 1/2... Step: 1600... Loss: 0.0415...\n",
      "Epoch: 1/2... Step: 1700... Loss: 0.0300...\n",
      "Epoch: 1/2... Step: 1800... Loss: 0.0354...\n",
      "Epoch: 2/2... Step: 100... Loss: 0.0329...\n",
      "Epoch: 2/2... Step: 200... Loss: 0.0328...\n",
      "Epoch: 2/2... Step: 300... Loss: 0.0278...\n",
      "Epoch: 2/2... Step: 400... Loss: 0.0369...\n",
      "Epoch: 2/2... Step: 500... Loss: 0.0320...\n",
      "Epoch: 2/2... Step: 600... Loss: 0.0369...\n",
      "Epoch: 2/2... Step: 700... Loss: 0.0300...\n",
      "Epoch: 2/2... Step: 800... Loss: 0.0336...\n",
      "Epoch: 2/2... Step: 900... Loss: 0.0304...\n",
      "Epoch: 2/2... Step: 1000... Loss: 0.0275...\n",
      "Epoch: 2/2... Step: 1100... Loss: 0.0275...\n",
      "Epoch: 2/2... Step: 1200... Loss: 0.0283...\n",
      "Epoch: 2/2... Step: 1300... Loss: 0.0301...\n",
      "Epoch: 2/2... Step: 1400... Loss: 0.0300...\n",
      "Epoch: 2/2... Step: 1500... Loss: 0.0285...\n",
      "Epoch: 2/2... Step: 1600... Loss: 0.0319...\n",
      "Epoch: 2/2... Step: 1700... Loss: 0.0386...\n",
      "Epoch: 2/2... Step: 1800... Loss: 0.0288...\n"
     ]
    }
   ],
   "source": [
    "model1 = autoencoder1()\n",
    "if use_cuda:\n",
    "    model1 = model1.cuda()\n",
    "optimizer = optim.Adam(model1.parameters(), lr=0.01)\n",
    "ceriation = nn.MSELoss()\n",
    "num_epochs=2\n",
    "minibatch_size=32\n",
    "for epoch in range(num_epochs):\n",
    "    mbs=0\n",
    "    rows=0\n",
    "    ave_loss = 0\n",
    "    while rows < train_data.shape[0]:\n",
    "        optimizer.zero_grad()\n",
    "        features_x,noise_x=get_next_noise_minibatch(minibatch_size)\n",
    "        noise, target = torch.from_numpy(noise_x), torch.from_numpy(features_x)\n",
    "        if use_cuda:\n",
    "            noise, target = noise.cuda(), target.cuda()\n",
    "        noise, target = Variable(noise), Variable(target)\n",
    "        out = model1(noise)\n",
    "        loss = ceriation(out, target)\n",
    "        loss.backward()\n",
    "        optimizer.step()\n",
    "        if mbs%100==0 and mbs>0:\n",
    "            print(\"Epoch: {}/{}...\".format(epoch+1, num_epochs),\n",
    "                          \"Step: {}...\".format(mbs),\n",
    "                          \"Loss: {:.4f}...\".format(loss.data.item()))\n",
    "        mbs+=1\n",
    "        rows+=minibatch_size\n",
    "        torch.save(model1, 'Models/denoise_autoencoder_pytorch.cnn'.format(epoch))"
   ]
  },
  {
   "cell_type": "raw",
   "metadata": {},
   "source": [
    "比對原始數據、添加噪音數據以及最後模型生成值，可以看到神經網路學會了如何區分噪音與信息。"
   ]
  },
  {
   "cell_type": "code",
   "execution_count": 14,
   "metadata": {
    "collapsed": false
   },
   "outputs": [
    {
     "data": {
      "text/plain": [
       "<matplotlib.image.AxesImage at 0x1ce054849e8>"
      ]
     },
     "execution_count": 14,
     "metadata": {},
     "output_type": "execute_result"
    },
    {
     "data": {
      "image/png": "[encoded data removed]",
      "text/plain": [
       "<matplotlib.figure.Figure at 0x1ce05484da0>"
      ]
     },
     "metadata": {},
     "output_type": "display_data"
    }
   ],
   "source": [
    "raw_features,raw_noise=get_next_noise_minibatch(minibatch_size)\n",
    "input=torch.from_numpy(raw_noise)\n",
    "input=Variable(input)\n",
    "input=input.cuda()\n",
    "output = model1(input)\n",
    "results=output.cpu().detach().numpy()\n",
    "#實際值\n",
    "actual=np.reshape(raw_features[0,:]*255,(28,28)).astype(np.uint8)\n",
    "noise=np.reshape(raw_noise[0,:]*255,(28,28)).astype(np.uint8)\n",
    "pred=np.reshape(results[0,:]*255,(28,28)).astype(np.uint8)\n",
    "\n",
    "img=Image.fromarray(np.concatenate([actual,noise,pred],axis=-1))\n",
    "plt.axis('off')\n",
    "plt.imshow(img, cmap='gray', interpolation='nearest')\n"
   ]
  },
  {
   "cell_type": "markdown",
   "metadata": {},
   "source": [
    "# 變分自編碼器（VAE）"
   ]
  },
  {
   "cell_type": "raw",
   "metadata": {},
   "source": [
    "變分自編碼器雖然名字叫做自編碼器，但實際上與自編碼器沒有太多關係，相對的，他反而很常被拿來與GAN相提並論，它的目的都是透過一個隱向量的分布來去生成一群樣本。變分自編碼器不管原始樣本的分布是如何，他都強制轉換為一個常態分配的分布，也就是他的作用是用來進行強制分布變換。"
   ]
  },
  {
   "cell_type": "code",
   "execution_count": 15,
   "metadata": {
    "collapsed": false
   },
   "outputs": [],
   "source": [
    "class vae_encoder(nn.Module):\n",
    "    def __init__(self):\n",
    "        super(vae_encoder, self).__init__()\n",
    "        self.d1 = nn.Linear(784, 512)\n",
    "        self.d2 = nn.Linear(512, 256)\n",
    "        self.d3 = nn.Linear(256, 128)\n",
    "        self.d4 = nn.Linear(128, 64)\n",
    "        self.d5 = nn.Linear(64, 32)\n",
    "        self.d6 = nn.Linear(64, 32)\n",
    "        self.b1=nn.BatchNorm1d(num_features=512)\n",
    "        self.b2=nn.BatchNorm1d(num_features=256)\n",
    "        self.b3=nn.BatchNorm1d(num_features=128)\n",
    "        self.b4=nn.BatchNorm1d(num_features=64)\n",
    " \n",
    "    def forward(self, x):\n",
    "        x = x.view(-1, 28*28)\n",
    "        x = F.relu(self.d1(x))\n",
    "        x =self.b1(x)\n",
    "        x = F.relu(self.d2(x))\n",
    "        x =self.b2(x)\n",
    "        x = F.relu(self.d3(x))\n",
    "        x =self.b3(x)\n",
    "        x = F.relu(self.d4(x))\n",
    "        x =self.b4(x)\n",
    "        return self.d5(x),self.d6(x)\n",
    "    \n",
    "    \n",
    "class vae_decoder(nn.Module):\n",
    "    def __init__(self):\n",
    "        super(vae_decoder, self).__init__()\n",
    "        self.d6 = nn.Linear(32, 64)\n",
    "        self.d7 = nn.Linear(64, 128)\n",
    "        self.d8 = nn.Linear(128, 256)\n",
    "        self.d9 = nn.Linear(256, 512)\n",
    "        self.d10 = nn.Linear(512, 784)\n",
    "        self.b6=nn.BatchNorm1d(num_features=64)\n",
    "        self.b7=nn.BatchNorm1d(num_features=128)\n",
    "        self.b8=nn.BatchNorm1d(num_features=256)\n",
    "        self.b9=nn.BatchNorm1d(num_features=512)\n",
    "\n",
    "    def forward(self, x):\n",
    "        x = x.view(-1, 32)\n",
    "        x = F.relu(self.d6(x))\n",
    "        x =self.b6(x)\n",
    "        x = F.relu(self.d7(x))\n",
    "        x =self.b7(x)\n",
    "        x = F.relu(self.d8(x))\n",
    "        x =self.b8(x)\n",
    "        x = F.relu(self.d9(x))\n",
    "        x =self.b9(x)\n",
    "        x = F.relu(self.d10(x))\n",
    "        return x\n",
    "\n",
    "    \n",
    "\n",
    "\n",
    "class vae(nn.Module):\n",
    "    def __init__(self):\n",
    "        super(vae, self).__init__()\n",
    "        self.encoder= vae_encoder()\n",
    "        self.decoder = vae_decoder()\n",
    "\n",
    "    def reparametrize(self, mu, logvar):\n",
    "            std = logvar.mul(0.5).exp_()\n",
    "            eps = Variable(std.data.new(std.size()).normal_())\n",
    "            return eps.mul(std).add_(mu)\n",
    "    def forward(self, x):\n",
    "        mu, logvar = self.encoder(x.view(-1, 784))\n",
    "        z = self.reparametrize(mu, logvar)\n",
    "        return self.decoder(z),mu, logvar\n",
    "\n",
    "\n",
    "\n",
    "\n",
    "recon_loss = nn.MSELoss()\n",
    "recon_loss.size_average = False\n",
    "def vae_loss(recon_x, x, mu, logvar):\n",
    "    BCE = recon_loss(recon_x, x.view(-1, 784))\n",
    "\n",
    "\n",
    "    # see Appendix B from VAE paper:\n",
    "    # Kingma and Welling. Auto-Encoding Variational Bayes. ICLR, 2014\n",
    "    # https://arxiv.org/abs/1312.6114\n",
    "    # 0.5 * sum(1 + log(sigma^2) - mu^2 - sigma^2)\n",
    "    KLD_element = mu.pow(2).add_(logvar.exp()).mul_(-1).add_(1).add_(logvar)\n",
    "    KLD = torch.sum(KLD_element).mul_(-0.5)\n",
    "    return BCE+KLD"
   ]
  },
  {
   "cell_type": "code",
   "execution_count": 16,
   "metadata": {
    "collapsed": false
   },
   "outputs": [
    {
     "name": "stderr",
     "output_type": "stream",
     "text": [
      "C:\\Anaconda3\\lib\\site-packages\\torch\\serialization.py:250: UserWarning: Couldn't retrieve source code for container of type vae. It won't be checked for correctness upon loading.\n",
      "  \"type \" + obj.__name__ + \". It won't be checked \"\n",
      "C:\\Anaconda3\\lib\\site-packages\\torch\\serialization.py:250: UserWarning: Couldn't retrieve source code for container of type vae_encoder. It won't be checked for correctness upon loading.\n",
      "  \"type \" + obj.__name__ + \". It won't be checked \"\n",
      "C:\\Anaconda3\\lib\\site-packages\\torch\\serialization.py:250: UserWarning: Couldn't retrieve source code for container of type vae_decoder. It won't be checked for correctness upon loading.\n",
      "  \"type \" + obj.__name__ + \". It won't be checked \"\n"
     ]
    },
    {
     "name": "stdout",
     "output_type": "stream",
     "text": [
      "Epoch: 1/2... Step: 100... Loss: 0.1244...\n",
      "Epoch: 1/2... Step: 200... Loss: 0.0925...\n",
      "Epoch: 1/2... Step: 300... Loss: 0.0777...\n",
      "Epoch: 1/2... Step: 400... Loss: 0.0869...\n",
      "Epoch: 1/2... Step: 500... Loss: 0.0814...\n",
      "Epoch: 1/2... Step: 600... Loss: 0.0815...\n",
      "Epoch: 1/2... Step: 700... Loss: 0.0729...\n",
      "Epoch: 1/2... Step: 800... Loss: 0.0749...\n",
      "Epoch: 1/2... Step: 900... Loss: 0.0703...\n",
      "Epoch: 1/2... Step: 1000... Loss: 0.0718...\n",
      "Epoch: 1/2... Step: 1100... Loss: 0.0700...\n",
      "Epoch: 1/2... Step: 1200... Loss: 0.0723...\n",
      "Epoch: 1/2... Step: 1300... Loss: 0.0695...\n",
      "Epoch: 1/2... Step: 1400... Loss: 0.0703...\n",
      "Epoch: 1/2... Step: 1500... Loss: 0.0643...\n",
      "Epoch: 1/2... Step: 1600... Loss: 0.0744...\n",
      "Epoch: 1/2... Step: 1700... Loss: 0.0789...\n",
      "Epoch: 1/2... Step: 1800... Loss: 0.0691...\n",
      "Epoch: 2/2... Step: 100... Loss: 0.0703...\n",
      "Epoch: 2/2... Step: 200... Loss: 0.0736...\n",
      "Epoch: 2/2... Step: 300... Loss: 0.0696...\n",
      "Epoch: 2/2... Step: 400... Loss: 0.0729...\n",
      "Epoch: 2/2... Step: 500... Loss: 0.0686...\n",
      "Epoch: 2/2... Step: 600... Loss: 0.0718...\n",
      "Epoch: 2/2... Step: 700... Loss: 0.0715...\n",
      "Epoch: 2/2... Step: 800... Loss: 0.0693...\n",
      "Epoch: 2/2... Step: 900... Loss: 0.0700...\n",
      "Epoch: 2/2... Step: 1000... Loss: 0.0744...\n",
      "Epoch: 2/2... Step: 1100... Loss: 0.0695...\n",
      "Epoch: 2/2... Step: 1200... Loss: 0.0703...\n",
      "Epoch: 2/2... Step: 1300... Loss: 0.0741...\n",
      "Epoch: 2/2... Step: 1400... Loss: 0.0665...\n",
      "Epoch: 2/2... Step: 1500... Loss: 0.0713...\n",
      "Epoch: 2/2... Step: 1600... Loss: 0.0801...\n",
      "Epoch: 2/2... Step: 1700... Loss: 0.0698...\n",
      "Epoch: 2/2... Step: 1800... Loss: 0.0690...\n"
     ]
    }
   ],
   "source": [
    "model2 = vae()\n",
    "if use_cuda:\n",
    "    model2 = model2.cuda()\n",
    "optimizer = optim.Adam(model2.parameters(), lr=0.01)\n",
    "\n",
    "num_epochs=2\n",
    "minibatch_size=32\n",
    "for epoch in range(num_epochs):\n",
    "    mbs=0\n",
    "    rows=0\n",
    "    while rows < train_data.shape[0]:\n",
    "        optimizer.zero_grad()\n",
    "        x,y=get_next_minibatch(minibatch_size)\n",
    "        x = torch.from_numpy(x.astype(np.float32))\n",
    "        if use_cuda:\n",
    "            x = x.cuda()\n",
    "        x= Variable(x)\n",
    "        z_vae, mu, logvar = model2(x)\n",
    "        loss = vae_loss(z_vae, x, mu, logvar)\n",
    "\n",
    "        loss.backward()\n",
    "        optimizer.step()\n",
    "        if mbs%100==0 and mbs>0:\n",
    "            print(\"Epoch: {}/{}...\".format(epoch+1, num_epochs),\n",
    "                          \"Step: {}...\".format(mbs),\n",
    "                          \"Loss: {:.4f}...\".format(loss.data.item()))\n",
    "        mbs+=1\n",
    "        rows+=minibatch_size\n",
    "        torch.save(model2, 'Models/vae_pytorch.cnn'.format(epoch))"
   ]
  },
  {
   "cell_type": "code",
   "execution_count": 17,
   "metadata": {
    "collapsed": false
   },
   "outputs": [
    {
     "data": {
      "text/plain": [
       "<matplotlib.image.AxesImage at 0x1ce096d9470>"
      ]
     },
     "execution_count": 17,
     "metadata": {},
     "output_type": "execute_result"
    },
    {
     "data": {
      "image/png": "[encoded data removed]",
      "text/plain": [
       "<matplotlib.figure.Figure at 0x1ce096d9198>"
      ]
     },
     "metadata": {},
     "output_type": "display_data"
    }
   ],
   "source": [
    "raw_features,raw_labels=get_next_minibatch(minibatch_size)\n",
    "input=torch.from_numpy(raw_features)\n",
    "input=Variable(input)\n",
    "input=input.cuda()\n",
    "z_vae, mu, logvar = model2(input)\n",
    "results=z_vae.cpu().detach().numpy()\n",
    "#實際值\n",
    "actual=np.reshape(raw_features[0,:]*255,(28,28)).astype(np.uint8)\n",
    "pred=np.reshape(results[0,:]*255,(28,28)).astype(np.uint8)\n",
    "\n",
    "img=Image.fromarray(np.concatenate([actual,pred],axis=-1))\n",
    "plt.axis('off')\n",
    "plt.imshow(img, cmap='gray', interpolation='nearest')"
   ]
  }
 ],
 "metadata": {
  "anaconda-cloud": {},
  "kernelspec": {
   "display_name": "Python [Root]",
   "language": "python",
   "name": "Python [Root]"
  },
  "language_info": {
   "codemirror_mode": {
    "name": "ipython",
    "version": 3
   },
   "file_extension": ".py",
   "mimetype": "text/x-python",
   "name": "python",
   "nbconvert_exporter": "python",
   "pygments_lexer": "ipython3",
   "version": "3.5.2"
  }
 },
 "nbformat": 4,
 "nbformat_minor": 0
}
