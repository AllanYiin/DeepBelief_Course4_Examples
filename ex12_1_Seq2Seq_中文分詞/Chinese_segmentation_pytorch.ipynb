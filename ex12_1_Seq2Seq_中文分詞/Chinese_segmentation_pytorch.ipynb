{
 "cells": [
  {
   "cell_type": "code",
   "execution_count": 1,
   "metadata": {
    "collapsed": true
   },
   "outputs": [],
   "source": [
    "%matplotlib inline"
   ]
  },
  {
   "cell_type": "markdown",
   "metadata": {},
   "source": [
    "# 中文分詞(Pytorch)"
   ]
  },
  {
   "cell_type": "raw",
   "metadata": {},
   "source": [
    "許多人初學自然語言處理時，面對道第一個棘手的問題就是中文分詞，是的，中文是這世界上少數沒有自帶分隔符號的語言，所以為了理解正確的語意，傳統的自然語言的第一步就是分詞(不少人用的都是JIEBA這個庫吧)，先不管分詞的合理性(人類看中文也沒分詞，機器一定要分詞嗎?之後我們會推出全程不分詞的中文分析範例)，那麼既然來到深度學習的世界，難道我們不能用深度學習模型來取代結巴分詞嗎?如此一來不但是端到端的處理，而且可以透過語料的補充與修正持續學習，比起只能透過自定義辭典來擴充的結巴來的有彈性許多，在這次的實作範例中我們就會來介紹如何使用深度學習模型來處理中文分詞。"
   ]
  },
  {
   "cell_type": "raw",
   "metadata": {},
   "source": [
    "在這個範例中，我們是使用SIGHAN Bakeoff的語料。SIGHAN是國際計算語言學會（ACL）中文語言處理小組的簡稱，其英文全稱為“Special Interest Group for Chinese Language Processing of the Association for Computational Linguistics”。而Bakeoff則是SIGHAN所主辦的國際中文語言處理競賽，各位可以在以下網址下載語料。\n",
    "\n",
    "http://sighan.cs.uchicago.edu/bakeoff2005/\n",
    "\n",
    "特別需要說明的是這些中文分詞語料庫分別由臺灣中央研究院、香港城市大學、北京大學及微軟亞洲研究院提供，其中前二者是繁體中文，後二者是簡體中文,我們在此將只使用前兩份語料。"
   ]
  },
  {
   "cell_type": "code",
   "execution_count": 2,
   "metadata": {
    "collapsed": false
   },
   "outputs": [],
   "source": [
    "import matplotlib\n",
    "import matplotlib.pyplot as plt\n",
    "import pylab\n",
    "import PIL  \n",
    "import os\n",
    "import pickle\n",
    "import codecs\n",
    "import glob\n",
    "import math\n",
    "import random\n",
    "import builtins\n",
    "import string\n",
    "import numpy as np\n",
    "import re\n",
    "import torch\n",
    "import torch.nn as nn\n",
    "import torch.nn.functional as F\n",
    "from torch.autograd import Variable\n",
    "\n",
    "USE_CUDA = torch.cuda.is_available()\n",
    "device = torch.device(\"cuda\" if USE_CUDA else \"cpu\")"
   ]
  },
  {
   "cell_type": "raw",
   "metadata": {},
   "source": [
    "在數據清洗邏輯中，將所有的全形符號轉成半形符號是很重要的(主要是數字、英文與標點符號)，全半形的編碼原則如下：\n",
    "    全形字元unicode編碼從65281~65374 （十六進位制 0xFF01 ~ 0xFF5E）\n",
    "    半形字元unicode編碼從33~126 （十六進位制 0x21~ 0x7E）\n",
    "    空格比較特殊,全形為 12288（0x3000）,半形為 32 （0x20）\n",
    "    而且除空格外,全形/半形按unicode編碼排序在順序上是對應的\n",
    "    \n",
    "所以我們可以把轉換原則寫成以下的str_full_to_half函數"
   ]
  },
  {
   "cell_type": "code",
   "execution_count": 3,
   "metadata": {
    "collapsed": true
   },
   "outputs": [],
   "source": [
    "def str_full_to_half(in_str):\n",
    "    out_str = []\n",
    "    for char in in_str:\n",
    "        inside_code = ord(char)\n",
    "        if inside_code == 0x3000 or inside_code == 12288 or char==string.whitespace: # 全形空格直接轉換\n",
    "             out_str.append(' ')\n",
    "        elif inside_code >= 65281 and inside_code <= 65374:\n",
    "            inside_code -= 0xfee0\n",
    "            out_str.append(chr(inside_code))\n",
    "        else:\n",
    "            out_str.append(char)\n",
    "        \n",
    "    return ''.join(out_str)"
   ]
  },
  {
   "cell_type": "raw",
   "metadata": {},
   "source": [
    "我們將兩份語料的分隔符號置換為「|」後合併，然後清除無效字元以及把所有全形轉半形後進行分行，即完成處理語料的過程。"
   ]
  },
  {
   "cell_type": "code",
   "execution_count": 4,
   "metadata": {
    "collapsed": false
   },
   "outputs": [
    {
     "name": "stdout",
     "output_type": "stream",
     "text": [
      "['時間|:', '三月|十日|(|星期四|)|上午|十時|。', '地點|:', '學術|活動|中心|一樓|簡報室|。', '主講|:', '民族所|所長|莊英章|先生|。', '講題|:', '閩|、|台|漢人|社會|研究|的|若干|考察|。', '李|院長|於|二月|二十六日|至|三月|十五日|赴|美|訪問|,', '期間|將|與|在|美|院士|商討|院務|,', '與|美國|大學|聯繫|商討|長期|合作|事宜|,', '並|辦理|加州|大學|退休|等|手續|。', '出國|期間|院務|由|羅|副院長|代行|。', '總辦事處|秘書組|主任|戴政|先生|請辭|獲准|,', '所|遺|職務|自|三月|一日|起|由|近代史|研究所|研究員|陶英惠|先生|兼任|。', '植物|研究所|所長|周昌弘|先生|當選|第三世界|科學院|(|The|Third|World|Academy|of|Sciences|,', '簡稱|TWAS|)|院士|。', 'TWAS|係|一九八三年|由|Prof|Adbus|Salam|(|巴基斯坦籍|,', '曾|獲|諾貝爾獎|)|發起|成立|,', '會員|遍佈|63|個|國家|,']\n",
      "211\n"
     ]
    }
   ],
   "source": [
    "as_train=codecs.open('../Data/ex12_train/as_training.utf8',encoding='utf-8-sig').read()\n",
    "cityu_train=codecs.open('../Data/ex12_train/cityu_training.utf8',encoding='utf-8-sig').read()\n",
    "\n",
    "#兩個數據集的分割符號不太一樣\n",
    "as_train=as_train.replace('\\u3000','|').replace(' ','|')   #把分詞分隔號置換為'|'，否則會被視為空白被處理掉\n",
    "cityu_train=cityu_train.replace(' ','|')   #把分詞分隔號置換為'|'，否則會被視為空白被處理掉\n",
    "\n",
    "data=as_train+'\\r\\n'+cityu_train #把兩個語料合併\n",
    "data=data.strip() #去除無效的字元\n",
    "#as_train=as_train.translate(str.maketrans('０１２３４５６７８９', '0123456789')) #把全形數字轉半形(使用translate)\n",
    "data=str_full_to_half(data) #把所有全形轉半形\n",
    "\n",
    "raw_data_train=data.split('\\r\\n')#分行\n",
    "\n",
    "raw_data_train=[row.strip('\\n').strip('\\r').replace(\"\\x08\",'').replace(\"\\x80\",'') for row in raw_data_train] #移除分行字元\n",
    "\n",
    "print(raw_data_train[:20])\n",
    "\n",
    "train_data_len=[len(txt.split('|'))  for txt in  raw_data_train]\n",
    "print(max(train_data_len))\n",
    "\n"
   ]
  },
  {
   "cell_type": "raw",
   "metadata": {},
   "source": [
    "我們可以利用一樣的流程整理驗證集數據。"
   ]
  },
  {
   "cell_type": "code",
   "execution_count": 5,
   "metadata": {
    "collapsed": false
   },
   "outputs": [
    {
     "name": "stdout",
     "output_type": "stream",
     "text": [
      "['許多|社區|長青|學苑|多|開設|有|書法|、|插花|、|土風舞班|,', '文山區|長青|學苑|則|有|個|十分|特別|的|「|英文|歌唱班|」|,', '成員|年齡|均|超過|六十|歲|,', '這|群|白髮蒼蒼|,', '爺爺|、|奶奶級|的|學員|唱起|英文|歌|來|字正腔圓|,', '有模有樣|。', '對|他們|來說|,', '能|與|一|群|志同道合|的|朋友|共同|回味|年少|時期|流行|的|歌曲|,', '才|是|參加|英文|歌唱班|最|大|樂趣|。', '長青|學苑|英文|歌唱班|昨日|在|社教館|舉行|「|英文|懷念|金曲|演唱會|」|,', '曲目|包括|「|大江東去|」|、|「|月河|」|、|「|真善美|」|等|大眾|耳熟能詳|的|英文|歌曲|。', '難得|公開|演唱|,', '這些|有|著|豐富|人生|閱歷|的|學員|絲毫|不|覺得|緊張|怯場|,', '只|見|台|上|唱|得|盡興|,', '台|下|不少|聽眾|也|一時|技癢|跟|著|唱和|起來|。', '長青|學苑|英文|歌唱班|成立|至今|已|兩|年|,', '目前|成員|約|廿五|人|,', '年齡|都|在|六十|歲|以上|,', '其中|以|軍公教|退休|人員|居多|,', '並|有|現任|大學|教授|,']\n",
      "104\n"
     ]
    }
   ],
   "source": [
    "as_test=codecs.open('../Data/ex12_train/as_testing_gold.utf8',encoding='utf-8-sig').read()\n",
    "cityu_test=codecs.open('../Data/ex12_train/cityu_test_gold.utf8',encoding='utf-8-sig').read()\n",
    "\n",
    "#兩個數據集的分割符號不太一樣\n",
    "as_test=as_test.replace('\\u3000','|').replace(' ','|')   #把分詞分隔號置換為'|'，否則會被視為空白被處理掉\n",
    "cityu_test=cityu_test.replace(' ','|')   #把分詞分隔號置換為'|'，否則會被視為空白被處理掉\n",
    "\n",
    "data_test=as_test+'\\r\\n'+cityu_test #把兩個語料合併\n",
    "data_test=data_test.strip() #去除無效的字元\n",
    "#as_train=as_train.translate(str.maketrans('０１２３４５６７８９', '0123456789')) #把全形數字轉半形(使用translate)\n",
    "data_test=str_full_to_half(data_test) #把所有全形轉半形\n",
    "\n",
    "raw_data_test=data_test.split('\\r\\n')#分行\n",
    "\n",
    "raw_data_test=[row.strip('\\n').strip('\\r').replace(\"\\x08\",'').replace(\"\\x80\",'') for row in raw_data_test] #移除分行字元\n",
    "\n",
    "print(raw_data_test[:20])\n",
    "test_data_len=[len(txt.split('|'))  for txt in  raw_data_test]\n",
    "print(max(test_data_len))"
   ]
  },
  {
   "cell_type": "raw",
   "metadata": {},
   "source": [
    "接下來我們將語料去重複後排序，得到所有去重複的字典集合vocabs，各位可以在他的後面看到'\\ueb78', '\\uec95', '\\uecd4'這幾個字元，那其實是表情符號(emoji)，只是python無法正常顯示，但是我認為那些還是有意義地所以予以保留，此外，為了避免出現不在字典裡的字，因此我們在字典的一開始額外插入了未知代表字元('/Unknow')，所有不再字典裡的字都編碼成'/Unknow'。同時我們也加入了'<PAD>'表示將序列填充時的無意義字元。"
   ]
  },
  {
   "cell_type": "code",
   "execution_count": 6,
   "metadata": {
    "collapsed": false
   },
   "outputs": [
    {
     "name": "stdout",
     "output_type": "stream",
     "text": [
      "6296\n",
      "['<PAD>', '/Unknow', ' ', '!', '$', '%', '&', \"'\", '(', ')', '*', '+', ',', '-', '.', '/', '0', '1', '2', '3', '4', '5', '6', '7', '8', '9', ':', ';', '<', '=', '?', '@', 'A', 'B', 'C', 'D', 'E', 'F', 'G', 'H', 'I', 'J', 'K', 'L', 'M', 'N', 'O', 'P', 'Q', 'R', 'S', 'T', 'U', 'V', 'W', 'X', 'Y', 'Z', '\\\\', '_', '`', 'a', 'b', 'c', 'd', 'e', 'f', 'g', 'h', 'i', 'j', 'k', 'l', 'm', 'n', 'o', 'p', 'q', 'r', 's', 't', 'u', 'v', 'w', 'x', 'y', 'z', '{', '}', '°', '·', '×', 'ˊ', 'ˋ', '˙', 'Α', 'Β', 'Γ', 'Ε', 'Η']\n"
     ]
    }
   ],
   "source": [
    "vocabs=sorted(set(list(''.join(raw_data_train))))\n",
    "vocabs.remove('|')\n",
    "vocabs.insert(0,'/Unknow')\n",
    "vocabs.insert(0,'<PAD>')\n",
    "\n",
    "print(len(vocabs))\n",
    "print(vocabs[:100])"
   ]
  },
  {
   "cell_type": "raw",
   "metadata": {},
   "source": [
    "接下來我們要把vocabs的字以及索引順序編成字元轉索引(char_to_index)，以及索引轉字元(index_to_char)兩種dict"
   ]
  },
  {
   "cell_type": "code",
   "execution_count": 7,
   "metadata": {
    "collapsed": false
   },
   "outputs": [
    {
     "name": "stdout",
     "output_type": "stream",
     "text": [
      "{'臏': 4403, '啲': 897, '蔘': 4644, '仆': 276, '簇': 3989, '完': 1401, '糊': 4037, '喣': 925, '觔': 4940, '◎': 136, '釅': 5539, '魍': 6091, '甸': 3487, '輲': 5322, '溶': 3014, '坷': 1096, '娼': 1311, '射': 1453, '鑄': 5697, '噸': 1014, '篠': 3980, '而': 4261, '綿': 4126, '茹': 4530, '傢': 449, '鰍': 6117, '翹': 4251, '慷': 1909, '泓': 2863, '贓': 5181, '唔': 867, '寰': 1447, '圻': 1076, '偲': 435, '汲': 2823, '來': 357, '蕎': 4659, '悟': 1832, '扥': 1999, '凸': 560, '閒': 5722, '閏': 5720, '逾': 5405, '雇': 5814, '鋌': 5612, '趾': 5204, '銀': 5589, '直': 3637, '1': 17, '惲': 1859, '錚': 5627, '熄': 3214, '盧': 3631, '揍': 2137, '構': 2638, '霸': 5852, '○': 135, '武': 2733, '破': 3730, '佰': 347, '禮': 3826, '﹐': 6285, '怪': 1799, '塢': 1153, '冊': 529, '扼': 2007, '估': 313, '筑': 3943, '彭': 1722, '玲': 3366, '展': 1489, '膿': 4395, '蹈': 5249, '鍊': 5643, '紗': 4069, '聵': 4286, '緯': 4141, '岡': 1506, '羼': 4230, '錘': 5625, '苕': 4489, '蚌': 4735, '堡': 1135, '湛': 2993, '峽': 1527, '吩': 771, '隅': 5786, '芽': 4483, '褥': 4904, '燭': 3246, '媚': 1327, '斃': 2300, '淅': 2936, '懲': 1944, '惑': 1848, '企': 302, '殊': 2746, '勒': 635, '罅': 4192, '吉': 753}\n"
     ]
    }
   ],
   "source": [
    "char_to_index=dict((w, i) for i, w in enumerate(vocabs))\n",
    "index_to_char=dict((i, w) for i, w in enumerate(vocabs))\n",
    "\n",
    "print({key:char_to_index[key] for key in list(char_to_index.keys())[:100]})"
   ]
  },
  {
   "cell_type": "raw",
   "metadata": {},
   "source": [
    "接下來就是設計可以讀取minibatch數據的函數了。pytorch方便(一開始學覺得奇怪)的地方在於如果輸入或是輸出是onehot，其實是不需要真的使用onehot向量，而是直接傳索引即可，也因此我們的輸入的形狀不需要是(批次,序列長,len(vocabs))只要是(批次,序列長)就可以了，同樣的，我們的輸出是變成對應的BMES(詞的開頭、詞的中間、詞的結尾以及單詞)，它的形狀不需要是(批次,序列長,4)只要(批次,序列長)就夠了。\n",
    "\n",
    "Pytorch其實是動態計算圖，所以它不需要固定長度的序列，在這個時作當中我們將會介紹如何根據他動態計算圖的特性，來自動做到動態序列長度的模型。雖然式動態計算圖，他還是要設定一個序列長度上限，在此我們設定為128，長度超過的句子就捨棄，長度為0的空字串必須排除。\n",
    "\n",
    "動態計算圖如何處理一個minibatch的數據呢?動態計算圖的一個minibatch內的序列長度仍然必須一致，但是minibatch間的長度則可以不同。所以在一個批次內我們將會以裡面最大的長度為基準，其餘補滿零。那除了最長的那個序列之外，其他較短的序列欠缺不足之處仍就是透過補零(<PAD>)補滿，那我們該如何知道實際的序列長度呢?，所以我們必須準備另外一個形狀為(批次)的一維向量來存放每個序列的長度。"
   ]
  },
  {
   "cell_type": "code",
   "execution_count": 8,
   "metadata": {
    "collapsed": false
   },
   "outputs": [
    {
     "name": "stdout",
     "output_type": "stream",
     "text": [
      "(2, 128)\n",
      "(2, 128)\n",
      "[22 10]\n",
      "[['研究室', '也', '要', '藉', '這', '個', '機會', '向', '許多', '單位', '和', '個人', '說', '謝謝', '!'], ['因為', '他', '在', '美國', '的', '時候', ',']]\n"
     ]
    }
   ],
   "source": [
    "idx_train=0\n",
    "idxs_train=np.arange(len(raw_data_train))\n",
    "np.random.shuffle(idxs_train)\n",
    "\n",
    "idx_test=0\n",
    "idxs_test=np.arange(len(raw_data_test))\n",
    "np.random.shuffle(idxs_test)\n",
    "\n",
    "def get_next_minibatch(minibatch_size,is_train=True):\n",
    "    global idx_train,idxs_train,raw_data_train,idx_test,idxs_test,raw_data_test\n",
    "\n",
    "    groundtruths=[]\n",
    "    idx=idx_train\n",
    "    idxs=idxs_train\n",
    "    raw_data=raw_data_train\n",
    "    if is_train==False:\n",
    "        idx=idx_test\n",
    "        idxs=idxs_test\n",
    "        raw_data=raw_data_test\n",
    "    np.random.shuffle(raw_data)\n",
    "    #定義輸出向量形狀\n",
    "    feature_arr=np.zeros((minibatch_size,128))\n",
    "    label_arr=np.zeros((minibatch_size,128))\n",
    "    length_arr=np.zeros((minibatch_size))\n",
    "    batch=0\n",
    "    while batch<minibatch_size:\n",
    "        seq_len=len(raw_data[idxs[idx]].replace('|',''))\n",
    "        if seq_len<=128 and seq_len>0:\n",
    "            length_arr[batch]=seq_len\n",
    "            \n",
    "            groundtruth_seq=[]\n",
    "            words=raw_data[idxs[idx]].split('|') #轉換成分詞後的詞清單\n",
    "\n",
    "            pos=0\n",
    "            #BMES=>[0,1,2,3]\n",
    "            for word in words:\n",
    "                for i in range(len(word)):\n",
    "                    #如果在字典中則取出其索引\n",
    "                    if word[i] in char_to_index:\n",
    "                        feature_arr[batch,pos]=char_to_index[word[i]]\n",
    "                    #否則定為未知\n",
    "                    else:\n",
    "                        feature_arr[batch,pos]=char_to_index['/Unknow']\n",
    "\n",
    "                    #轉換為BMES\n",
    "                    if len(word)==1 and i==0: #S 自己就是一個單詞\n",
    "                        label_arr[batch,pos]=3\n",
    "                    elif i==0: #B 是一個詞的開始\n",
    "                        label_arr[batch,pos]=0\n",
    "                    elif i==len(word)-1:  #E 是一個詞的結束\n",
    "                        label_arr[batch,pos]=2\n",
    "                    else: #M 是一個詞的中間\n",
    "                        label_arr[batch,pos]=1  \n",
    "                    pos+=1\n",
    "\n",
    "                groundtruth_seq.append(word)\n",
    "            groundtruths.append(groundtruth_seq)\n",
    "            batch+=1\n",
    "        idx+=1\n",
    "        if idx>len(idxs):\n",
    "            idx=0\n",
    "            np.random.shuffle(idxs)\n",
    "    idx_train=idx\n",
    "    if is_train==False:\n",
    "        idx_test=idx\n",
    "    return feature_arr.astype(np.int64),label_arr.astype(np.int64),length_arr.astype(np.int64),groundtruths\n",
    "        \n",
    "x_feature,y_label,x_len,ground_truths=get_next_minibatch(2)\n",
    "print(x_feature.shape)\n",
    "print(y_label.shape)\n",
    "print(x_len)\n",
    "print(ground_truths)"
   ]
  },
  {
   "cell_type": "raw",
   "metadata": {},
   "source": [
    "在準備好數據之後，我們來說明一下模型的架構，在這邊我們預計要使用的是雙向的lstm，因為對於分詞來說，上下文都是很重要的語意線索來源，模型結構如下：\n",
    "\n",
    "     +-----------+   +------------------+              +------------+\n",
    "x -->| Embedding |-->| BiRecurrent LSTM |--> dropout-->| DenseLayer |--> y\n",
    "     +-----------+   +------------------+              +------------+\n",
    "     \n",
    "這裡的輸入x是一個(批次,序列長)的張量，透過embedding層將輸入內部展開為onehot後再濃縮為長度256的字嵌入，然後輸入一個兩層的雙向lstm(隱藏層形狀為256，由於是雙向所以實際輸出是512)，最後透過dropout後送入全連接層，輸出為長度為4的onehot向量(BMES)。在這個模型中，內部數據張量的形狀變化比較複雜，建議各位學習時，可以把裡面print語法的註解拿掉，可以方便各位學習裡面張量的變動。\n",
    "\n",
    "在模型中需要注意的是，pytorch裡面提供了pack_padded_sequence以及pad_packed_sequence這兩個函數(天殺的名字取得像繞口令一樣!!)\n",
    "其中， pack_padded_sequence 來確保 LSTM 模型不會處理用於填充的序列成員\n",
    "而pad_packed_sequence 則是用來解包（unpack）pack_padded_sequence 操作後的序列\n",
    "\n",
    "由於我們的批次內的序列長度是不固定的，因此我們會故意將他reshape變成(批次*序列長度,隱藏層*2)，把序列長度趕到批次維度那邊去，這樣我們後續的全連接層就還是可以維持固定的形狀定義不受影響。請注意，這裡的隱藏層*2主要是因為我們使用的是雙向lstm，因此將兩個方向的向量concate在一起就會變成兩倍大。\n",
    "     "
   ]
  },
  {
   "cell_type": "code",
   "execution_count": 9,
   "metadata": {
    "collapsed": false
   },
   "outputs": [],
   "source": [
    "\n",
    "class CharRNN(nn.Module):\n",
    "    def __init__(self, batch_size,vocab_size,embed_size, hidden_size, output_size):\n",
    "        super(CharRNN, self).__init__()\n",
    "        self.batch_size=batch_size\n",
    "        self.vocab_size = vocab_size\n",
    "        self.hidden_size = hidden_size\n",
    "        self.output_size = output_size\n",
    "        self.embed_size = embed_size\n",
    "        self.embedding = nn.Embedding(vocab_size, embed_size,padding_idx=0)\n",
    "        self.lstm = nn.LSTM(\n",
    "            input_size=self.embed_size,\n",
    "            hidden_size=self.hidden_size,\n",
    "            num_layers=2,\n",
    "            batch_first=True,\n",
    "            bidirectional=True\n",
    "        )\n",
    "        self.dropout = nn.Dropout(0.5)\n",
    "        self.liner = nn.Linear(hidden_size*2, output_size) \n",
    "    def init_hidden(self):\n",
    "        #2*2的意思是指:lstm層數*雙向lstm\n",
    "        hidden_a = torch.randn(2*2, self.batch_size, self.hidden_size).to(device)\n",
    "        hidden_b = torch.randn(2*2, self.batch_size, self.hidden_size).to(device)\n",
    "        hidden_a = Variable(hidden_a)\n",
    "        hidden_b = Variable(hidden_b)\n",
    "        return (hidden_a, hidden_b)\n",
    "    def forward(self,x, x_lengths):\n",
    "        #Lstmt初始的隱藏狀態\n",
    "        self.hidden = self.init_hidden()\n",
    "        \n",
    "        #print(x.shape)\n",
    "        output = self.embedding(x)\n",
    "        #print(output.shape)#(批次，序列長度,嵌入層)\n",
    "        \n",
    "        output = torch.nn.utils.rnn.pack_padded_sequence(output, x_lengths, batch_first=True)\n",
    "        \n",
    "        output, self.hidden = self.lstm(output, self.hidden)\n",
    "        output, _ = torch.nn.utils.rnn.pad_packed_sequence(output, batch_first=True)\n",
    "        #print(output.shape)#(批次，序列長度,隱藏層*2)\n",
    "        \n",
    "        output = output.contiguous()\n",
    "        output = output.view(-1, output.shape[2]) \n",
    "        #print(output.shape)#(批次*序列長度,隱藏層*2)\n",
    "        \n",
    "        output = self.dropout(output)\n",
    "        \n",
    "        \n",
    "        output = self.liner(output)\n",
    "        #print(output.shape)#(批次*序列長度,隱藏層*2)\n",
    "        output = F.softmax(output, dim=1)\n",
    "        output = output.view(self.batch_size, output.size(0)//self.batch_size, self.output_size)\n",
    "        #print(output.shape)#(批次,序列長度,輸出)\n",
    "        return output\n"
   ]
  },
  {
   "cell_type": "raw",
   "metadata": {},
   "source": [
    "模型這邊透過了內建函數解決了不處理填充序列成員的問題，但是我們在計算損失函數的時候也別忘記了不要把填充成員納入計算，因此我們需要寫一個自動億的損失函數，根據input_x是否為零來判斷要被遮罩的區域，然後將填充成員蓋住後再計算損失函數。\n",
    "\n",
    "在這邊需要注意的是這裡的 target_y以及input_x的序列長度仍舊是原本定義的最大長度128，但是pred_y卻變成了該minibatch內的最大長度，所以計算損失函數時要記得將這兩個都要透過切片([:pred_y.shape[0]])來讓三者長度對齊。"
   ]
  },
  {
   "cell_type": "code",
   "execution_count": null,
   "metadata": {
    "collapsed": true
   },
   "outputs": [],
   "source": [
    "def masked_loss(pred_y, target_y,input_x,num_class=5):\n",
    "        # flatten all predictions\n",
    "        pred_y = pred_y.view(-1,num_class)\n",
    "        #print('pred_y'+str(pred_y.shape))\n",
    "        # flatten all the labels\n",
    "        target_y = target_y.view(-1)[:pred_y.shape[0]]\n",
    "        #print('target_y'+str(target_y.shape))\n",
    "        input_x = input_x.view(-1)[:pred_y.shape[0]]\n",
    "        #print('input_x'+str(input_x.shape))\n",
    "        \n",
    "        \n",
    "\n",
    "        # create a mask by filtering out all tokens that ARE NOT the padding token\n",
    "        mask = (input_x>0).float()\n",
    "        #print('mask'+str(mask.shape))\n",
    "        # count how many tokens we have\n",
    "        nb_tokens = int(torch.sum(mask).data.item())\n",
    "        # pick the values for the label and zero out the rest with the mask\n",
    "        pred_y = (1-pred_y[range(pred_y.shape[0]),target_y]) * mask\n",
    "\n",
    "        # compute cross entropy loss which ignores all <PAD> tokens\n",
    "        ce_loss = torch.sum(pred_y) / nb_tokens\n",
    "        return ce_loss\n",
    "    \n"
   ]
  },
  {
   "cell_type": "raw",
   "metadata": {},
   "source": [
    "最後我們定義模型結構與損失函數，就可以開始進行訓練了。每隔500次Minibatch就將預測結果分詞與實際答案列印出來比較。\n",
    "\n",
    "\n",
    "還有一點要注意的是，使用 PyTorch 的 PackedSequence 雖然可以較快速的處理長短不一的序列1資料，但是用起來有個不方便的地方。就是同一個 batch 裡的資料，長度必須由長到短排列。所以在訓練的語法中我加入了處理排序的語法，同時我們可以根據sorted_idx追溯原本的排序結果。"
   ]
  },
  {
   "cell_type": "code",
   "execution_count": null,
   "metadata": {
    "collapsed": false
   },
   "outputs": [
    {
     "name": "stdout",
     "output_type": "stream",
     "text": [
      "recovered!!\n",
      "start epoch!\n",
      "Epoch: 1/30... Step: 0... Loss: 0.6078... Accuracy: 83.313%...\n",
      "-----測試集驗證--------\n",
      "predict:他|治好|了|我|在|島|上染|上|的|阿米|巴原蟲病|)|、|伊莉|莎白|.|蔡斯|、|約翰|.克雷|、|艾倫|.|佛|貝克|、|史蒂|芬|.|古爾|德|、|G.|A|.荷蘭|、|伊莎|貝爾|.羅蘋|、|蓋.|薩克斯|、|赫伯|.熊|伯格|、|羅夫|.西格爾|、|派崔克|.史|都華|和|保羅|.|佘|洛斯|。|\n",
      "answer :他|治好|了|我|在|島|上|染上|的|阿米巴原蟲病|)|、|伊莉莎白.蔡斯|、|約翰.克雷|、|艾倫.佛貝克|、|史蒂芬.古爾德|、|G.A.荷蘭|、|伊莎貝爾.羅蘋|、|蓋.薩克斯|、|赫伯.熊伯格|、|羅夫.西格爾|、|派崔克.史都華|和|保羅.佘洛斯|。|\n",
      "predict:蘇.|丹尼爾|、|羅夫|.|葛路|托|、|卡萊|頓|.加德|賽克|、|平野|朝男|、|李奧納德|.庫爾|蘭|、|安德|魯|.里斯|、|唐納|.穆德|、|彼得|.史賓塞|、|伯特|.|魏德|霍特|和|哈利|.齊|默曼|。|\n",
      "answer :蘇.丹尼爾|、|羅夫.葛路托|、|卡萊頓.加德賽克|、|平野朝男|、|李奧納德.庫爾蘭|、|安德魯.里斯|、|唐納.穆德|、|彼得.史賓塞|、|伯特.魏德霍特|和|哈利.齊默曼|。|\n",
      "predict:「|八|美圖|」|由|凱薩|琳|丹妮芙|、|伊莎貝|雨蓓|、|艾曼|紐琵雅|、|芬妮|亞當|、|維吉|妮|亞拉|朵嫣|、|丹妮|兒|戴喜歐|、|路迪|芬|莎涅|、|菲敏|李察|等|八|位|法國|當紅|女星|主演|。|\n",
      "answer :「|八美圖|」|由|凱薩琳丹妮芙|、|伊莎貝雨蓓|、|艾曼紐琵雅|、|芬妮亞當|、|維吉妮亞拉朵嫣|、|丹妮兒戴喜歐|、|路迪芬莎涅|、|菲敏李察|等|八|位|法國|當紅|女星|主演|。|\n",
      "-----------------\n"
     ]
    },
    {
     "name": "stderr",
     "output_type": "stream",
     "text": [
      "C:\\Anaconda3\\lib\\site-packages\\torch\\serialization.py:250: UserWarning: Couldn't retrieve source code for container of type CharRNN. It won't be checked for correctness upon loading.\n",
      "  \"type \" + obj.__name__ + \". It won't be checked \"\n"
     ]
    },
    {
     "name": "stdout",
     "output_type": "stream",
     "text": [
      "Epoch: 1/30... Step: 100... Loss: 0.6920... Accuracy: 82.608%...\n",
      "Epoch: 1/30... Step: 200... Loss: 0.5934... Accuracy: 82.293%...\n",
      "Epoch: 1/30... Step: 300... Loss: 0.6644... Accuracy: 82.943%...\n",
      "Epoch: 1/30... Step: 400... Loss: 0.5997... Accuracy: 82.682%...\n",
      "Epoch: 1/30... Step: 500... Loss: 0.6133... Accuracy: 82.555%...\n",
      "-----測試集驗證--------\n",
      "predict:6月|28|日|上午|,|在|雲南|省委省|政府|舉行|的|印發|《|雲南|省|農村|工作|守則|》|儀式|上|,|古稀|之年|的|曲靖市|麒麟|區|珠|街鄉|墩子|村|農民|翟達|忠手|捧|著|鮮紅|的|小冊子|,|喜笑|顏開|地|說|。|\n",
      "answer :6月|28|日|上午|,|在|雲南省委|省|政府|舉行|的|印發|《|雲南省|農村|工作|守則|》|儀式|上|,|古稀之年|的|曲靖市|麒麟區|珠街鄉|墩子村|農民|翟達忠|手|捧|著|鮮紅|的|小冊子|,|喜笑顏開|地|說|。|\n",
      "predict:美國|的|基督教|「|超級|教會|」|擴張|迅速|,|目前|全美|約|有|850|家|「|超級|教會|」|,|每|間|的|會眾|至少|逾|20|00|人|,|總數|達|30|0萬|人|,|成為|布殊|助選團|拉票|的|主要|對象|。|\n",
      "answer :美國|的|基督教|「|超級|教會|」|擴張|迅速|,|目前|全|美|約|有|850|家|「|超級|教會|」|,|每|間|的|會眾|至少|逾|2000|人|,|總數|達|300萬|人|,|成為|布殊|助選團|拉票|的|主要|對象|。|\n",
      "predict:“從|今天|起|,|全|省|農民|人人|都|有|了|這|把|‘尚|方寶|劍’|,|誰|也|別|想|明目|張膽|糊弄|農民|,|侵害|他們|的|合法|權益|。|”|\n",
      "answer :“|從|今天|起|,|全|省|農民|人人|都|有|了|這|把|‘|尚方寶劍|’|,|誰|也|別|想|明目張膽|糊弄|農民|,|侵害|他們|的|合法|權益|。|”|\n",
      "-----------------\n",
      "Epoch: 1/30... Step: 600... Loss: 0.6272... Accuracy: 82.605%...\n",
      "Epoch: 1/30... Step: 700... Loss: 0.6397... Accuracy: 82.594%...\n",
      "Epoch: 1/30... Step: 800... Loss: 0.5930... Accuracy: 82.496%...\n",
      "Epoch: 1/30... Step: 900... Loss: 0.6125... Accuracy: 82.544%...\n",
      "Epoch: 1/30... Step: 1000... Loss: 0.5901... Accuracy: 82.326%...\n",
      "-----測試集驗證--------\n",
      "predict:分別|在|舞台劇|與|電影|中飾|演白蘭|釵|一角|的|潔西卡|譚蒂|(|多|年|後|以|「|溫馨|接送情|」|獲|奧斯|卡獎|)|與|費雯麗|,|都|是|演技|高手|,|馬龍|白|蘭度|居然|演來|旗鼓|相當|,|大家|都|被|這|個|既|自|大又|淫猥|的|男子|嚇壞|了|,|他|的|緊身|T恤|也|成為|當時|流行|服裝|。|\n",
      "answer :分別|在|舞台劇|與|電影|中|飾演|白蘭釵|一|角|的|潔西卡譚蒂|(|多|年|後|以|「|溫馨|接送情|」|獲|奧斯卡獎|)|與|費雯麗|,|都|是|演技|高手|,|馬龍白蘭度|居然|演|來|旗鼓相當|,|大家|都|被|這個|既|自大|又|淫猥|的|男子|嚇|壞|了|,|他|的|緊身|T恤|也|成為|當時|流行|服裝|。|\n",
      "predict:林木|掩映|中|,|一|座|佔地|5萬|餘|平方米|、|花崗|岩|貼面|、|如|賓館|般|潔淨|的|製藥|廠房|矗立|其中|,|既|融入|自然|,|又|巧奪|天工|,|既|傳統|,|又|現代|,|其|建築|理念|之|獨特令|人|驚嘆|。|\n",
      "answer :林木|掩映|中|,|一|座|佔地|5萬|餘|平方米|、|花崗岩|貼面|、|如|賓館|般|潔淨|的|製藥|廠房|矗立|其中|,|既|融入|自然|,|又|巧奪天工|,|既|傳統|,|又|現代|,|其|建築|理念|之|獨特|令|人|驚嘆|。|\n",
      "predict:另外|,|外交|部|駐|港特|派員|公署|發言|人|聲明|指|,|根據|《|維也|納領事|關係|公約|》|,|外國|駐|港|領事|官員|作為|外國|政府|駐|港|代表|,|對|特區|政治|問題|發表|評論|是|不|合適|的|。|\n",
      "answer :另外|,|外交部|駐|港|特派員|公署|發言人|聲明|指|,|根據|《|維也納|領事|關係|公約|》|,|外國|駐|港|領事|官員|作為|外國|政府|駐|港|代表|,|對|特區|政治|問題|發表|評論|是|不|合適|的|。|\n",
      "-----------------\n",
      "Epoch: 1/30... Step: 1100... Loss: 0.6208... Accuracy: 82.344%...\n",
      "Epoch: 1/30... Step: 1200... Loss: 0.5861... Accuracy: 82.796%...\n",
      "Epoch: 1/30... Step: 1300... Loss: 0.6339... Accuracy: 82.542%...\n",
      "Epoch: 1/30... Step: 1400... Loss: 0.6007... Accuracy: 82.894%...\n",
      "Epoch: 1/30... Step: 1500... Loss: 0.6235... Accuracy: 82.642%...\n",
      "-----測試集驗證--------\n",
      "predict:天文|學家|估計|本|銀河系|中|最|老|的|星球|卻|有|130|-|160億|年|的|歲數|利用|HS|T向|球狀星團|M4|(|距離|地球|最近|的|高密度|的|老星|球集團|)|的|深處|仔細|看去|天文|學家|找到|大量|『|星球|屍體|』|白|矮星白|矮星|是|一|個|燒盡兒|塌陷|的|星體|緩緩|的|冷卻|衰老|。|\n",
      "answer :天文學家|估計|本|銀河系|中|最|老|的|星球|卻|有|130-160億|年|的|歲數|利用|HST|向|球狀|星團|M4|(|距離|地球|最近|的|高密度|的|老|星球|集團|)|的|深處|仔細|看去|天文學家|找到|大量|『|星球|屍體|』|白矮星|白矮星|是|一|個|燒盡|兒|塌陷|的|星體|緩緩|的|冷卻|衰老|。|\n",
      "predict:報道|稱|,|東山島|演習|是|三軍|聯合|作|戰|演習|、|是|解放|軍年度|最|大|規模|例行|演習|,|也是|展示|解放|軍|精銳|的|舞台|,|對|台作戰|的|「|拳頭|」|力量|紛紛|登台|亮相|。|\n",
      "answer :報道|稱|,|東山島|演習|是|三軍|聯合|作戰|演習|、|是|解放軍|年度|最|大|規模|例行|演習|,|也是|展示|解放軍|精銳|的|舞台|,|對|台|作戰|的|「|拳頭|」|力量|紛紛|登台|亮相|。|\n",
      "predict:第|三|戰|希臘|雖|以|1-|2|不敵|俄羅斯|,|勝|、|負|、|和局|各|一|,|與|西班|牙|戰績|相同|,|但|靠|進球|數|領先|而|淘汰|西班|牙|晉級|八強|。|\n",
      "answer :第|三|戰|希臘|雖|以|1-2|不敵|俄羅斯|,|勝|、|負|、|和局|各|一|,|與|西班牙|戰績|相同|,|但|靠|進球數|領先|而|淘汰|西班牙|晉級|八強|。|\n",
      "-----------------\n",
      "Epoch: 1/30... Step: 1600... Loss: 0.6211... Accuracy: 82.854%...\n",
      "Epoch: 1/30... Step: 1700... Loss: 0.6018... Accuracy: 82.880%...\n",
      "Epoch: 1/30... Step: 1800... Loss: 0.5615... Accuracy: 83.323%...\n",
      "Epoch: 1/30... Step: 1900... Loss: 0.6268... Accuracy: 82.666%...\n",
      "Epoch: 2/30... Step: 0... Loss: 0.6280... Accuracy: 82.854%...\n",
      "-----測試集驗證--------\n",
      "predict:台西|、|口湖|、|北港|、|水林|等|鄉鎮|淹水|最|嚴重|,|其中|台西|鄉崙|豐村|積水|達半|公尺|,|車輛|完全|無法|行走|,|台西|鄉|五|港村|與|崙|豐部|落因|地勢|低窪|,|淹水|一|公尺|多|,|台西|海園|大道|、|雲三|線|等|部分|路段|積水|達|二|、|三十|公分|,|人車|均|冒險|涉及|,|險象|環生|。|\n",
      "answer :台西|、|口湖|、|北港|、|水林|等|鄉鎮|淹水|最|嚴重|,|其中|台西鄉|崙豐村|積水|達|半|公尺|,|車輛|完全|無法|行走|,|台西鄉|五港村|與|崙豐|部落|因|地勢|低窪|,|淹水|一|公尺|多|,|台西|海園大道|、|雲三線|等|部分|路段|積水|達|二|、|三十|公分|,|人車|均|冒險|涉及|,|險象環生|。|\n",
      "predict:有|深水|埗街|坊|說|,|露宿|者|常|在|古墓旁|的|涼亭|休憩|,|該|涼亭|亦|深受|長者|歡迎|,|晝夜|都|有|一|批|長者|到|來閒|談納|涼等|,|高峰|時|每|晚|有|百|人|聚集|,|涼亭|附近|雖|有|草叢|及|大樹|,|但|街坊|稱|蚊患|不算|嚴重|。|\n",
      "answer :有|深水埗|街坊|說|,|露宿者|常|在|古墓|旁|的|涼亭|休憩|,|該|涼亭|亦|深受|長者|歡迎|,|晝夜|都|有|一|批|長者|到來|閒談|納涼|等|,|高峰|時|每|晚|有|百|人|聚集|,|涼亭|附近|雖|有|草叢|及|大樹|,|但|街坊|稱|蚊患|不算|嚴重|。|\n",
      "predict:房屋|署|發言|人|表示|,|李鄭屋邨|是|已|出售|公屋|,|負責|管理|的|房協|近日|已|加強|滅蚊|。|\n",
      "answer :房屋署|發言人|表示|,|李鄭屋邨|是|已|出售|公屋|,|負責|管理|的|房協|近日|已|加強|滅蚊|。|\n",
      "-----------------\n",
      "Epoch: 2/30... Step: 100... Loss: 0.6210... Accuracy: 82.855%...\n",
      "Epoch: 2/30... Step: 200... Loss: 0.6002... Accuracy: 82.297%...\n",
      "Epoch: 2/30... Step: 300... Loss: 0.6021... Accuracy: 82.572%...\n",
      "Epoch: 2/30... Step: 400... Loss: 0.6329... Accuracy: 82.895%...\n",
      "Epoch: 2/30... Step: 500... Loss: 0.6314... Accuracy: 82.800%...\n",
      "-----測試集驗證--------\n",
      "predict:定居|伊|比|利亞|半島|上|的|吉普|賽人|(|GI|TA|NO|S|)|根本|就|未|曾|在|那些|國度|落腳過|。|\n",
      "answer :定居|伊比利亞|半島|上|的|吉普賽人|(|GITANOS|)|根本|就|未曾|在|那些|國度|落腳|過|。|\n",
      "predict:為|了|搶救|迷途|之蛇|,|喬治|特別|選擇|送麵包|的|夜班|工作|,|以便|白天|能|替|人|免費|抓蛇|。|\n",
      "answer :為了|搶救|迷途|之|蛇|,|喬治|特別|選擇|送|麵包|的|夜班|工作|,|以便|白天|能|替|人|免費|抓|蛇|。|\n",
      "predict:佈展|的|別具|匠心|也是|本|次|展覽|受到|歡迎|的|一|個|重要|方面|。|\n",
      "answer :佈展|的|別具匠心|也是|本|次|展覽|受到|歡迎|的|一|個|重要|方面|。|\n",
      "-----------------\n",
      "Epoch: 2/30... Step: 600... Loss: 0.6294... Accuracy: 82.921%...\n",
      "Epoch: 2/30... Step: 700... Loss: 0.6084... Accuracy: 82.973%...\n",
      "Epoch: 2/30... Step: 800... Loss: 0.6369... Accuracy: 82.830%...\n",
      "Epoch: 2/30... Step: 900... Loss: 0.6119... Accuracy: 82.842%...\n",
      "Epoch: 2/30... Step: 1000... Loss: 0.6686... Accuracy: 82.826%...\n",
      "-----測試集驗證--------\n",
      "predict:最|新|一|宗|日本|腦炎|患者|露宿|李鄭屋|遊樂場|,|該|處近|李鄭屋|古墓|一帶|,|有|亭台|樓閣|流水|,|公園|和|屋邨|背後|的|山坡|都|有|茂密|草叢|,|有區|議員|指蚊子|易滋生|,|雖然|附近|沒有|豬隻|可|將|日本|腦炎|病毒|傳|給|蚊子|,|卻|有|同樣|可|傳播|病毒|的|雀鳥|,|尤其|區|內家|鴉|問題|嚴重|。|\n",
      "answer :最|新|一|宗|日本|腦炎|患者|露宿|李鄭屋|遊樂場|,|該|處|近|李鄭屋|古墓|一帶|,|有|亭台樓閣|流水|,|公園|和|屋邨|背後|的|山坡|都|有|茂密|草叢|,|有|區|議員|指|蚊子|易|滋生|,|雖然|附近|沒有|豬隻|可|將|日本|腦炎|病毒|傳|給|蚊子|,|卻|有|同樣|可|傳播|病毒|的|雀鳥|,|尤其|區內|家鴉|問題|嚴重|。|\n",
      "predict:20|03|年|12月|15|日|,|由|中國|軍事|醫學|科學院|、|江中|集團|作為|主要|發起|單位|共建|的|北京|蛋白|質組|研究|中心|宣告|成立|,|雙方|將|共同|投資|3億|元|,|在|北京|中關村|生命|科學園|建設|3萬|多|平方米|的|研發|實體|。|\n",
      "answer :2003|年|12月|15|日|,|由|中國|軍事|醫學|科學|院|、|江中|集團|作為|主要|發起|單位|共建|的|北京|蛋白質組|研究|中心|宣告|成立|,|雙方|將|共同|投資|3億|元|,|在|北京|中關村|生命|科學園|建設|3萬|多|平方米|的|研發|實體|。|\n",
      "predict:因此|修習|於|師大|人文|教育|水彩|美術|班|、|廖有|燦在|職|美術|研究|班|、|中國|美術|設計|協會|室|內|設計班|、|台北|美術|館|水彩班|、|民生|社區|美術|班|、|謝明|錩|水彩|創作|班|﹒﹒﹒|等|,|\n",
      "answer :因此|修習|於|師大|人文|教育|水彩|美術班|、|廖有燦|在職|美術|研究班|、|中國|美術|設計|協會|室|內|設計班|、|台北|美術館|水彩班|、|民生|社區|美術班|、|謝明錩|水彩|創作班|﹒|﹒|﹒|等|,|\n",
      "-----------------\n",
      "Epoch: 2/30... Step: 1100... Loss: 0.5572... Accuracy: 83.064%...\n",
      "Epoch: 2/30... Step: 1200... Loss: 0.6151... Accuracy: 82.979%...\n",
      "Epoch: 2/30... Step: 1300... Loss: 0.5964... Accuracy: 82.818%...\n",
      "Epoch: 2/30... Step: 1400... Loss: 0.5531... Accuracy: 82.859%...\n",
      "Epoch: 2/30... Step: 1500... Loss: 0.6294... Accuracy: 82.802%...\n",
      "-----測試集驗證--------\n",
      "predict:省|交通|廳廳長|安惠|元|說|,|從|現在|起|,|河南|將|通過|1|年|的|努力|,|對|超限|超載|車輛|進行|集中|治理|,|力爭|使車輛|超限|超載|、|車輛|核定|噸位|失實|、|貨運|價格|不|合理|、|公路|基礎|設施|損壞|嚴重|等|現象|得到|初步|遏制|。|\n",
      "answer :省|交通廳|廳長|安惠元|說|,|從|現在|起|,|河南|將|通過|1|年|的|努力|,|對|超限|超載|車輛|進行|集中|治理|,|力爭|使|車輛|超限|超載|、|車輛|核定|噸位|失實|、|貨運|價格|不|合理|、|公路|基礎|設施|損壞|嚴重|等|現象|得到|初步|遏制|。|\n",
      "predict:和平|鄉|達|觀部|落暴|發土|石流|,|江玉|山|才|五|歲|的|兒子|江坤|陸|在|睡夢|中|被|土石|淹沒|,|送到|台中|榮|總急救|時|,|已|無|呼吸|、|心跳|,|四肢|冰冷|。|\n",
      "answer :和平鄉|達觀|部落|暴發|土石流|,|江玉山|才|五|歲|的|兒子|江坤陸|在|睡夢|中|被|土石|淹沒|,|送|到|台中|榮總|急救|時|,|已|無|呼吸|、|心跳|,|四肢|冰冷|。|\n",
      "predict:會中|將|邀請資|深門|諾人|以|戲劇|、|座談|方式|一|敘|兩|位|醫療|奉獻|獎得|主-|薄柔纜|醫師|與|魏海蓮|護士|的|動人|故事|,|\n",
      "answer :會|中|將|邀請|資深|門諾人|以|戲劇|、|座談|方式|一|敘|兩|位|醫療|奉獻獎|得主|-|薄柔纜|醫師|與|魏海蓮|護士|的|動人|故事|,|\n",
      "-----------------\n",
      "Epoch: 2/30... Step: 1600... Loss: 0.6073... Accuracy: 83.122%...\n",
      "Epoch: 2/30... Step: 1700... Loss: 0.6446... Accuracy: 83.163%...\n",
      "Epoch: 2/30... Step: 1800... Loss: 0.5733... Accuracy: 82.928%...\n",
      "Epoch: 2/30... Step: 1900... Loss: 0.6521... Accuracy: 82.941%...\n",
      "Epoch: 3/30... Step: 0... Loss: 0.6214... Accuracy: 82.743%...\n",
      "-----測試集驗證--------\n",
      "predict:碧咸|對於|被|指趁|妻子|維多|利亞|懷孕|時|出外|「|偷情|」|感到|非常|憤怒|,|並|透過|發言|人|表示|姬娜|所說|的|一切|都|是|「|無恥|和|無中生|有|」|的|,|據|報碧|咸|已|立即|會見|律師|準備|控告|姬娜|。|\n",
      "answer :碧咸|對於|被指|趁|妻子|維多利亞|懷孕|時|出外|「|偷情|」|感到|非常|憤怒|,|並|透過|發言人|表示|姬娜|所|說|的|一切|都|是|「|無恥|和|無中生有|」|的|,|據報|碧咸|已|立即|會見|律師|準備|控告|姬娜|。|\n",
      "predict:目標|一致|、|優勢|互補|的|核心|管理|團隊|,|先進|而|實用|的|軟硬件|管理|工具|,|為|江中|集團|連續|3|年|以|30|%|提速|、|實現|厚積|薄|發式|的|跨越式|發展|啟動|了|“動|力引|擎”|。|\n",
      "answer :目標|一致|、|優勢|互補|的|核心|管理|團隊|,|先進|而|實用|的|軟硬件|管理|工具|,|為|江中|集團|連續|3|年|以|30|%|提速|、|實現|厚積薄發式|的|跨越式|發展|啟動|了|“|動力|引擎|”|。|\n",
      "predict:所以|從|地方|舞蹈|(|DA|NZ|AR|EG|IO|NA|L|ES|)|、|波麗|露|部門|舞蹈|(|ES|CU|E|LA|BO|L|ER|A|)|、|佛拉|明哥|舞蹈|(|FL|A|ME|NCO|)|,|\n",
      "answer :所以|從|地方|舞蹈|(|DANZAREGIONALES|)|、|波麗露|部門|舞蹈|(|ESCUELABOLERA|)|、|佛拉明哥|舞蹈|(|FLAMENCO|)|,|\n",
      "-----------------\n",
      "Epoch: 3/30... Step: 100... Loss: 0.6758... Accuracy: 83.093%...\n",
      "Epoch: 3/30... Step: 200... Loss: 0.6533... Accuracy: 82.729%...\n",
      "Epoch: 3/30... Step: 300... Loss: 0.5528... Accuracy: 82.751%...\n",
      "Epoch: 3/30... Step: 400... Loss: 0.6163... Accuracy: 83.230%...\n",
      "Epoch: 3/30... Step: 500... Loss: 0.6155... Accuracy: 82.361%...\n",
      "-----測試集驗證--------\n",
      "predict:7月|2|日|,|在|內蒙|古克|什克|騰|旗|舉行|的|草原|那|達慕|大會|上|,|來自|赤峰市|及|周邊|錫林|郭勒|盟|地區|的|20|0|餘|名|搏克|選手|披掛|上陣|,|展示|了|古典|的|蒙古式|摔跤|—|——|搏克|。|\n",
      "answer :7月|2|日|,|在|內蒙古|克什克騰旗|舉行|的|草原|那達慕|大會|上|,|來自|赤峰市|及|周邊|錫林郭勒盟|地區|的|200|餘|名|搏克|選手|披掛上陣|,|展示|了|古典|的|蒙古式|摔跤|———|搏克|。|\n",
      "predict:歷史|與|未來|,|理論|與|實踐|,|講述|與|展覽|,|使|觀眾|在|這裏|不僅|能夠|找到|中華|民族|的|精神|家園|,|還能|回歸|到|這|個|家園|裏面|,|並|產生|建設|精神|家園|的|激情|和|動力|。|\n",
      "answer :歷史|與|未來|,|理論|與|實踐|,|講述|與|展覽|,|使|觀眾|在|這裏|不僅|能夠|找到|中華民族|的|精神|家園|,|還|能|回歸|到|這個|家園|裏面|,|並|產生|建設|精神|家園|的|激情|和|動力|。|\n",
      "predict:李金|華|強調|,|按照|《|憲法|》|規定|,|審計|機關|不|受|任何|行政|機關|、|社會|團體|和|個人|干涉|,|連|國務|院|總理|也|不|能|干預|案件|調查|過程|。|\n",
      "answer :李金華|強調|,|按照|《|憲法|》|規定|,|審計|機關|不|受|任何|行政|機關|、|社會|團體|和|個人|干涉|,|連|國務院|總理|也|不|能|干預|案件|調查|過程|。|\n",
      "-----------------\n"
     ]
    }
   ],
   "source": [
    "learning_rate=0.0001\n",
    "minibatch_size=64\n",
    "num_epochs=20\n",
    "\n",
    "#宣告模型結構\n",
    "#output_size還是4，不要計算pad\n",
    "model = CharRNN(batch_size=minibatch_size,vocab_size=len(vocabs),embed_size=256, hidden_size=256, output_size=4)\n",
    "model.to(device)\n",
    "if not os.path.exists('Models'):\n",
    "    os.mkdir('Models')\n",
    "    print(\"Directory Models Created \")\n",
    "    \n",
    "if os.path.exists('Models/word_segment_pytorch.lstm'):\n",
    "    model=torch.load('Models/word_segment_pytorch.lstm')\n",
    "    print('recovered!!')\n",
    "\n",
    "model.train()\n",
    "model_optimizer = torch.optim.Adam(model.parameters(), lr=learning_rate, betas=(0.95, 0.999))\n",
    "criterion = nn.NLLLoss()\n",
    "\n",
    "\n",
    "\n",
    "epochs=30\n",
    "accuracy_numerator=[]\n",
    "accuracy_denominator=[]\n",
    "print('start epoch!')\n",
    "for epoch in range(epochs):\n",
    "    mbs=0\n",
    "    while mbs<2000:\n",
    "        features, labels,lens,ground_truths=get_next_minibatch(minibatch_size)\n",
    "        inputs, targets,seq_len = torch.from_numpy(features.astype(np.int64)), torch.from_numpy(labels.astype(np.int64)), torch.from_numpy(lens.astype(np.int64))\n",
    "\n",
    "        inputs, targets,seq_len = Variable(inputs), Variable(targets), Variable(seq_len).to(device)\n",
    "        \n",
    "        #所有輸入的sequence必須由長到短排序才可以輸入\n",
    "        seq_len_sorted, sorted_idx = seq_len.sort(descending=True)\n",
    "        inputs_sorted, targets_sorted,seq_len_sorted=inputs[sorted_idx].to(device), targets[sorted_idx].to(device),seq_len_sorted.to(device)\n",
    "        \n",
    "        model.zero_grad()\n",
    "        \n",
    "        \n",
    "        output= model.forward(inputs_sorted,seq_len_sorted)\n",
    "        loss= masked_loss(output,targets_sorted,inputs_sorted,4)\n",
    "        loss.backward()\n",
    "        \n",
    "        output_arr=np.argmax(output.data.cpu().numpy(),-1)\n",
    "        target_arr=targets_sorted.data.cpu().numpy()[:,:output_arr.shape[1]]\n",
    "        mask=np.greater(inputs_sorted.data.cpu().numpy(),0)[:,:output_arr.shape[1]]\n",
    "        \n",
    "        accuracy_numerator.append((np.equal(output_arr,target_arr)*mask).sum())\n",
    "        accuracy_denominator.append(mask.sum())\n",
    "        \n",
    "\n",
    "        model_optimizer.step()\n",
    "        if mbs % 100 == 0:\n",
    "            #列印訓練狀態\n",
    "            print(\"Epoch: {}/{}...\".format(epoch+1, epochs),\n",
    "                      \"Step: {}...\".format(mbs),\n",
    "                      \"Loss: {:.4f}...\".format(loss.data.item()),\n",
    "                      \"Accuracy: {:.3%}...\".format(sum(accuracy_numerator)/sum(accuracy_denominator)))\n",
    "            torch.save(model, 'Models/word_segment_pytorch.lstm')\n",
    "            accuracy_numerator=[]\n",
    "            accuracy_denominator=[]\n",
    "        if mbs % 500 == 0:\n",
    "            learning_rate*=0.75\n",
    "            test_features, test_labels,test_lens,test_ground_truths=get_next_minibatch(minibatch_size,False)\n",
    "            inputs, targets,seq_len = torch.from_numpy(test_features.astype(np.int64)), torch.from_numpy(test_labels.astype(np.int64)), torch.from_numpy(test_lens.astype(np.int64))\n",
    "            inputs, targets,seq_len = Variable(inputs), Variable(targets), Variable(seq_len).to(device)\n",
    "            #所有輸入的sequence必須由長到短排序才可以輸入\n",
    "            seq_len_sorted, sorted_idx = seq_len.sort(descending=True)\n",
    "            inputs_sorted, targets_sorted,seq_len_sorted=inputs[sorted_idx].to(device), targets[sorted_idx].to(device),seq_len_sorted.to(device)\n",
    "            output= model.forward(inputs_sorted,seq_len_sorted)\n",
    "            sorted_idx_arr=sorted_idx.data.cpu().numpy()\n",
    "            result=np.argmax(output.data.cpu().numpy(),-1)\n",
    "            print('-----測試集驗證--------')\n",
    "            for i in range(3):\n",
    "                answer='|'.join(test_ground_truths[sorted_idx_arr[i]])+'|'\n",
    "                pred=[]\n",
    "                words=list(''.join(test_ground_truths[sorted_idx_arr[i]]))\n",
    "                for j in range(len(words)):\n",
    "                    word=words[j]\n",
    "                    onehot=result[i][j]\n",
    "                    if onehot>=2:\n",
    "                        pred.append(word+'|')\n",
    "                    else:\n",
    "                        pred.append(word)\n",
    "\n",
    "                pred=''.join(pred)  \n",
    "                print('predict:'+pred)\n",
    "                print('answer :'+answer)\n",
    "            print('-----------------')\n",
    "            \n",
    "            \n",
    "    \n",
    "        mbs += 1\n",
    "   \n",
    "    "
   ]
  }
 ],
 "metadata": {
  "kernelspec": {
   "display_name": "Python [Root]",
   "language": "python",
   "name": "Python [Root]"
  },
  "language_info": {
   "codemirror_mode": {
    "name": "ipython",
    "version": 3
   },
   "file_extension": ".py",
   "mimetype": "text/x-python",
   "name": "python",
   "nbconvert_exporter": "python",
   "pygments_lexer": "ipython3",
   "version": "3.5.2"
  }
 },
 "nbformat": 4,
 "nbformat_minor": 0
}
