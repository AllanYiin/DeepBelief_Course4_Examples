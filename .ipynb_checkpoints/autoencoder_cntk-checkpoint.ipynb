{
 "cells": [
  {
   "cell_type": "markdown",
   "metadata": {},
   "source": [
    "# 自編碼器Auto-Encoder  (cntk)"
   ]
  },
  {
   "cell_type": "markdown",
   "metadata": {},
   "source": [
    "###測試於cntk 2.6"
   ]
  },
  {
   "cell_type": "code",
   "execution_count": 1,
   "metadata": {
    "collapsed": true
   },
   "outputs": [],
   "source": [
    "%matplotlib inline"
   ]
  },
  {
   "cell_type": "raw",
   "metadata": {},
   "source": [
    "首先引用所有需要的包，其中pickle是用來讀取或是儲存二進位檔(我已經事先將Minist數據處理成二進位檔)。"
   ]
  },
  {
   "cell_type": "code",
   "execution_count": 2,
   "metadata": {
    "collapsed": false
   },
   "outputs": [],
   "source": [
    "from __future__ import print_function \n",
    "import matplotlib\n",
    "import matplotlib.image as mpimg\n",
    "import matplotlib.pyplot as plt\n",
    "import numpy as np\n",
    "import sys\n",
    "import os\n",
    "import codecs\n",
    "import math\n",
    "import random\n",
    "import pickle\n",
    "from PIL import Image\n",
    "\n",
    "import cntk as C\n",
    "from cntk.ops import *\n",
    "from cntk.layers import *\n",
    "from cntk.losses import *\n",
    "from cntk.metrics import *\n",
    "from cntk.debugging import *\n",
    "from cntk.logging import *\n",
    "from cntk.learners import *\n",
    "from cntk.train import *\n",
    "from cntk.device import *\n",
    "\n",
    "# 是否使用GPU\n",
    "is_gpu = True\n",
    "if is_gpu:\n",
    "    try_set_default_device(gpu(0))\n",
    "else:\n",
    "    try_set_default_device(cpu())"
   ]
  },
  {
   "cell_type": "code",
   "execution_count": 28,
   "metadata": {
    "collapsed": false
   },
   "outputs": [
    {
     "data": {
      "text/plain": [
       "'2.6'"
      ]
     },
     "execution_count": 28,
     "metadata": {},
     "output_type": "execute_result"
    }
   ],
   "source": [
    "C.__version__"
   ]
  },
  {
   "cell_type": "raw",
   "metadata": {},
   "source": [
    "將mnist數據進行轉換，請注意，在cntk需要將output轉為onehot(利用np.eye函數)。對於feature除以255，是為了將像素值控制在0~1之間，這樣收斂比較快"
   ]
  },
  {
   "cell_type": "code",
   "execution_count": 3,
   "metadata": {
    "collapsed": false
   },
   "outputs": [
    {
     "name": "stdout",
     "output_type": "stream",
     "text": [
      "[[0. 0. 0. ... 0. 0. 0.]\n",
      " [0. 0. 0. ... 0. 0. 0.]\n",
      " [0. 0. 0. ... 0. 0. 0.]]\n",
      "(60000, 784)\n",
      "(60000, 10)\n"
     ]
    }
   ],
   "source": [
    "train_data=None\n",
    "test_data=None\n",
    "\n",
    "with open('mnist_train.pkl', 'rb') as f:\n",
    "    train_data = pickle.load(f)\n",
    "with open('mnist_test.pkl', 'rb') as f:\n",
    "    test_data = pickle.load(f)\n",
    "    \n",
    "def parse_mnist(data):\n",
    "    features=[]\n",
    "    labels=[]\n",
    "    for row in data:\n",
    "        labels.append(np.eye(10)[row[-1]].astype(np.float32))\n",
    "        features.append(row[:-1].astype(np.float32)/255.0)#正規化\n",
    "    return np.asarray(features),np.asarray(labels)\n",
    "\n",
    "features,labels=parse_mnist(train_data)\n",
    "print(features[:3])\n",
    "\n",
    "idxs=np.arange(0,train_data.shape[0])\n",
    "random.shuffle(idxs)\n",
    "idx=0\n",
    "\n",
    "print(features.shape)\n",
    "print(labels.shape)\n"
   ]
  },
  {
   "cell_type": "raw",
   "metadata": {},
   "source": []
  },
  {
   "cell_type": "code",
   "execution_count": 4,
   "metadata": {
    "collapsed": false
   },
   "outputs": [
    {
     "name": "stdout",
     "output_type": "stream",
     "text": [
      "(3, 784)\n",
      "(3, 10)\n"
     ]
    }
   ],
   "source": [
    "def get_next_minibatch(minibatch_size):\n",
    "    global idxs,idx\n",
    "    x_features=[]\n",
    "    y_labels=[]\n",
    "    while len(x_features)<minibatch_size:\n",
    "        x_features.append(features[idxs[idx]])\n",
    "        y_labels.append(labels[idxs[idx]])\n",
    "        idx+=1\n",
    "        if idx>=len(idxs):\n",
    "            idx=0\n",
    "            random.shuffle(idxs)\n",
    "    return np.asarray(x_features).astype(np.float32),np.asarray(y_labels).astype(np.float32)\n",
    "\n",
    "features_x,labels_y=get_next_minibatch(3)\n",
    "print(features_x.shape)\n",
    "print(labels_y.shape)"
   ]
  },
  {
   "cell_type": "raw",
   "metadata": {
    "collapsed": true
   },
   "source": []
  },
  {
   "cell_type": "code",
   "execution_count": 5,
   "metadata": {
    "collapsed": false
   },
   "outputs": [
    {
     "name": "stdout",
     "output_type": "stream",
     "text": [
      "[0. 0. 0. 0. 0. 1. 0. 0. 0. 0.]\n",
      "5\n"
     ]
    },
    {
     "data": {
      "image/png": "[encoded data removed]",
      "text/plain": [
       "<matplotlib.figure.Figure at 0x1ba5996fbe0>"
      ]
     },
     "metadata": {},
     "output_type": "display_data"
    }
   ],
   "source": [
    "img=Image.fromarray(np.reshape(features[0,:]*255,(28,28)).astype(np.uint8))\n",
    "plt.axis('off')\n",
    "plt.imshow(img, cmap='gray', interpolation='nearest')\n",
    "\n",
    "print(labels[0,:])\n",
    "print(np.argmax(labels[0,:]))"
   ]
  },
  {
   "cell_type": "raw",
   "metadata": {
    "collapsed": true
   },
   "source": [
    "以下我設計了三種autoencoder結構"
   ]
  },
  {
   "cell_type": "code",
   "execution_count": 6,
   "metadata": {
    "collapsed": true
   },
   "outputs": [],
   "source": [
    "def autoencoder(x):#基本型\n",
    "    x=Dense(784,activation=C.relu)(x)\n",
    "    x=Dense(512,activation=C.relu)(x)\n",
    "    x=Dense(256,activation=C.relu)(x)\n",
    "    x=Dense(128,activation=C.relu)(x)\n",
    "    x=Dense(64,activation=C.relu)(x)\n",
    "    x=Dense(32,activation=None)(x)\n",
    "    x=Dense(64,activation=C.relu)(x)\n",
    "    x=Dense(128,activation=C.relu)(x)\n",
    "    x=Dense(256,activation=C.relu)(x)\n",
    "    x=Dense(512,activation=C.relu)(x)\n",
    "    x=Dense(784,activation=C.relu)(x)\n",
    "    x=clip(x,0,1)\n",
    "    return x"
   ]
  },
  {
   "cell_type": "code",
   "execution_count": 7,
   "metadata": {
    "collapsed": true
   },
   "outputs": [],
   "source": [
    "def autoencoder1(x):#加入批次正規化\n",
    "    x=Dense(784,activation=C.relu)(x)\n",
    "    x=BatchNormalization()(x)\n",
    "    x=Dense(512,activation=C.relu)(x)\n",
    "    x=BatchNormalization()(x)\n",
    "    x=Dense(256,activation=C.relu)(x)\n",
    "    x=BatchNormalization()(x)\n",
    "    x=Dense(128,activation=C.relu)(x)\n",
    "    x=BatchNormalization()(x)\n",
    "    x=Dense(64,activation=C.relu)(x)\n",
    "    x=BatchNormalization()(x)\n",
    "    x=Dense(32,activation=None)(x)\n",
    "    x=BatchNormalization()(x)\n",
    "    x=Dense(64,activation=C.relu)(x)\n",
    "    x=BatchNormalization()(x)\n",
    "    x=Dense(128,activation=C.relu)(x)\n",
    "    x=BatchNormalization()(x)\n",
    "    x=Dense(256,activation=C.relu)(x)\n",
    "    x=BatchNormalization()(x)\n",
    "    x=Dense(512,activation=C.relu)(x)\n",
    "    x=BatchNormalization()(x)\n",
    "    x=Dense(784,activation=C.relu)(x)\n",
    "    x=clip(x,0,1)\n",
    "    return x"
   ]
  },
  {
   "cell_type": "code",
   "execution_count": 8,
   "metadata": {
    "collapsed": true
   },
   "outputs": [],
   "source": [
    "def autoencoder2(x):#加入dropout\n",
    "    x=Dense(784,activation=C.relu)(x)\n",
    "    x=BatchNormalization()(x)\n",
    "    x=Dense(512,activation=C.relu)(x)\n",
    "    x=BatchNormalization()(x)\n",
    "    x=Dense(256,activation=C.relu)(x)\n",
    "    x=BatchNormalization()(x)\n",
    "    x=Dropout(0.2)(x)\n",
    "    x=Dense(128,activation=C.relu)(x)\n",
    "    x=BatchNormalization()(x)\n",
    "    x=Dense(64,activation=C.relu)(x)\n",
    "    x=BatchNormalization()(x)\n",
    "    x=Dense(32,activation=None)(x)\n",
    "    x=Dense(64,activation=C.relu)(x)\n",
    "    x=BatchNormalization()(x)\n",
    "    x=Dense(128,activation=C.relu)(x)\n",
    "    x=BatchNormalization()(x)\n",
    "    x=Dense(256,activation=C.relu)(x)\n",
    "    x=BatchNormalization()(x)\n",
    "    x=Dense(512,activation=C.relu)(x)\n",
    "    x=BatchNormalization()(x)\n",
    "    x=Dense(784,activation=C.relu)(x)\n",
    "    x=clip(x,0,1)\n",
    "    return x"
   ]
  },
  {
   "cell_type": "code",
   "execution_count": 9,
   "metadata": {
    "collapsed": false
   },
   "outputs": [],
   "source": [
    "input_var=C.input_variable(784, dtype=np.float32, name='input_var')\n",
    "\n",
    "z=autoencoder1(input_var)\n",
    "\n",
    "loss=reduce_mean(squared_error(z,input_var))\n",
    "errs=sqrt(reduce_sum(squared_error(z,input_var)/reduce_sum(input_var)))"
   ]
  },
  {
   "cell_type": "code",
   "execution_count": 10,
   "metadata": {
    "collapsed": false
   },
   "outputs": [],
   "source": [
    "progress_printer = ProgressPrinter(freq=200, tag='Training', num_epochs=300)\n",
    "\n",
    "learning_rate=0.001\n",
    "minibatch_size=64\n",
    "num_epochs=3\n",
    "learner = adam(z.parameters, lr=learning_rate_schedule([learning_rate], UnitType.sample, 300),\n",
    "               momentum=momentum_as_time_constant_schedule([minibatch_size / -math.log(0.95)], epoch_size=300),\n",
    "               l1_regularization_weight=0.0001, l2_regularization_weight=5e-3)\n",
    "\n",
    "trainer = Trainer(z, (loss, errs), learner, progress_printer)"
   ]
  },
  {
   "cell_type": "code",
   "execution_count": 11,
   "metadata": {
    "collapsed": false
   },
   "outputs": [
    {
     "name": "stdout",
     "output_type": "stream",
     "text": [
      "Learning rate per 1 samples: 0.001\n",
      " Minibatch[   1- 200]: loss = 54.842515 * 12800, metric = 70.49% * 12800;\n",
      " Minibatch[ 201- 400]: loss = 30.108315 * 12800, metric = 53.37% * 12800;\n",
      " Minibatch[ 401- 600]: loss = 25.554258 * 12800, metric = 49.05% * 12800;\n",
      " Minibatch[ 601- 800]: loss = 23.020654 * 12800, metric = 46.44% * 12800;\n",
      "Finished Epoch[1 of 300]: [Training] loss = 31.651540 * 60032, metric = 53.37% * 60032 21.674s (2769.8 samples/s);\n",
      " Minibatch[   1- 200]: loss = 20.284999 * 12800, metric = 43.52% * 12800;\n",
      " Minibatch[ 201- 400]: loss = 20.420319 * 12800, metric = 43.42% * 12800;\n",
      " Minibatch[ 401- 600]: loss = 18.834810 * 12800, metric = 41.75% * 12800;\n",
      " Minibatch[ 601- 800]: loss = 18.179478 * 12800, metric = 40.97% * 12800;\n",
      "Finished Epoch[2 of 300]: [Training] loss = 19.151022 * 60032, metric = 42.09% * 60032 18.141s (3309.2 samples/s);\n",
      " Minibatch[   1- 200]: loss = 18.460873 * 12800, metric = 41.28% * 12800;\n",
      " Minibatch[ 201- 400]: loss = 16.481556 * 12800, metric = 40.08% * 12800;\n",
      " Minibatch[ 401- 600]: loss = 15.128455 * 12800, metric = 38.38% * 12800;\n",
      " Minibatch[ 601- 800]: loss = 15.828750 * 12800, metric = 38.63% * 12800;\n",
      "Finished Epoch[3 of 300]: [Training] loss = 16.502431 * 60032, metric = 39.71% * 60032 19.676s (3051.0 samples/s);\n"
     ]
    }
   ],
   "source": [
    "for epoch_count in range(num_epochs):\n",
    "    mbs = 0\n",
    "    while mbs < len(features)/minibatch_size:\n",
    "        raw_features,raw_labels=get_next_minibatch(minibatch_size)\n",
    "        trainer.train_minibatch({input_var: raw_features})\n",
    "        if mbs%5==0:\n",
    "            z.save('Models/autoencoder_cntk.onnx', format=C.ModelFormat.ONNX)\n",
    "        mbs+=1\n",
    "    trainer.summarize_training_progress()"
   ]
  },
  {
   "cell_type": "raw",
   "metadata": {},
   "source": [
    "問題\n",
    "(1)為何最中間層的活化函數為None(還有哪些選擇呢?)\n",
    "(2)最後一層的活化函數你覺得relu,sigmoid,leaky relu哪效果比較好呢?\n",
    "(3)三種自編碼器哪一種效果比較好(有沒有和預期不同的地方)\n",
    "(4)如果數值正規化方式改為減127.5除以127.5，請問模型結構該如何調整呢?\n",
    "(5)如果是你 ，還可以如何修改網路結構讓效果更好呢?"
   ]
  },
  {
   "cell_type": "raw",
   "metadata": {},
   "source": [
    "接下來我們比對一下輸入與輸出的差異"
   ]
  },
  {
   "cell_type": "code",
   "execution_count": 12,
   "metadata": {
    "collapsed": false
   },
   "outputs": [
    {
     "name": "stdout",
     "output_type": "stream",
     "text": [
      "(28, 28)\n",
      "(28, 28)\n"
     ]
    },
    {
     "data": {
      "text/plain": [
       "<matplotlib.image.AxesImage at 0x1ba600c5ef0>"
      ]
     },
     "execution_count": 12,
     "metadata": {},
     "output_type": "execute_result"
    },
    {
     "data": {
      "image/png": "[encoded data removed]",
      "text/plain": [
       "<matplotlib.figure.Figure at 0x1ba600c5fd0>"
      ]
     },
     "metadata": {},
     "output_type": "display_data"
    }
   ],
   "source": [
    "results=z(raw_features)#產生預測結果\n",
    "#實際值\n",
    "actual=np.reshape(raw_features[0,:]*255,(28,28)).astype(np.uint8)\n",
    "pred=np.reshape(results[0,:]*255,(28,28)).astype(np.uint8)\n",
    "print(actual.shape)\n",
    "print(pred.shape)\n",
    "img=Image.fromarray(np.concatenate([actual,pred],axis=-1))\n",
    "plt.axis('off')\n",
    "plt.imshow(img, cmap='gray', interpolation='nearest')\n"
   ]
  },
  {
   "cell_type": "markdown",
   "metadata": {},
   "source": [
    "# 去噪自編碼器 Denoise AutoEncoder"
   ]
  },
  {
   "cell_type": "raw",
   "metadata": {},
   "source": [
    "所謂的去噪自編碼器，輸入值是添加了噪音的數據，但是輸出卻希望他能還原回原來乾淨的數據，這個做法等於是強迫模型自己找出噪音與真實數據間的差異進而分離純化。"
   ]
  },
  {
   "cell_type": "markdown",
   "metadata": {},
   "source": [
    "<img src=\"Images/denoise.jpg\">"
   ]
  },
  {
   "cell_type": "raw",
   "metadata": {},
   "source": [
    "所以唯一需要修正之處在於產生添加噪音的輸入值。"
   ]
  },
  {
   "cell_type": "code",
   "execution_count": 13,
   "metadata": {
    "collapsed": false
   },
   "outputs": [
    {
     "data": {
      "text/plain": [
       "<matplotlib.image.AxesImage at 0x1ba600ef048>"
      ]
     },
     "execution_count": 13,
     "metadata": {},
     "output_type": "execute_result"
    },
    {
     "data": {
      "image/png": "[encoded data removed]",
      "text/plain": [
       "<matplotlib.figure.Figure at 0x1ba59d88b38>"
      ]
     },
     "metadata": {},
     "output_type": "display_data"
    }
   ],
   "source": [
    "def get_next_noise_minibatch(minibatch_size):\n",
    "    global idxs,idx\n",
    "    x_features=[]\n",
    "    x_noise=[]\n",
    "    while len(x_features)<minibatch_size:\n",
    "        x_features.append(features[idxs[idx]])\n",
    "        x_noise.append(features[idxs[idx]]+np.random.standard_normal(784)*0.005)\n",
    "        idx+=1\n",
    "        if idx>=len(idxs):\n",
    "            idx=0\n",
    "            random.shuffle(idxs)\n",
    "    return np.asarray(x_features).astype(np.float32),np.asarray(x_noise).astype(np.float32)\n",
    "\n",
    "features_x,noise_x=get_next_noise_minibatch(3)\n",
    "actual=np.reshape(features_x[0,:]*255,(28,28)).astype(np.uint8)\n",
    "noise=np.reshape(noise_x[0,:]*255,(28,28)).astype(np.uint8)\n",
    "\n",
    "img=Image.fromarray(np.concatenate([actual,noise],axis=-1))\n",
    "plt.axis('off')\n",
    "plt.imshow(img, cmap='gray', interpolation='nearest')"
   ]
  },
  {
   "cell_type": "raw",
   "metadata": {},
   "source": [
    "雖然輸入含噪音數據，但是損失函數則需要比對乾淨的原始值。"
   ]
  },
  {
   "cell_type": "code",
   "execution_count": 14,
   "metadata": {
    "collapsed": true
   },
   "outputs": [],
   "source": [
    "input_var=C.input_variable(784, dtype=np.float32, name='input_var')\n",
    "noise_var=C.input_variable(784, dtype=np.float32, name='input_var')\n",
    "\n",
    "z_denoise=autoencoder1(noise_var)\n",
    "\n",
    "loss=reduce_sum(squared_error(z_denoise,input_var))\n",
    "errs=sqrt(reduce_sum(squared_error(z_denoise,input_var)/reduce_sum(input_var)))"
   ]
  },
  {
   "cell_type": "code",
   "execution_count": 15,
   "metadata": {
    "collapsed": false
   },
   "outputs": [
    {
     "name": "stdout",
     "output_type": "stream",
     "text": [
      "Learning rate per 1 samples: 0.001\n",
      " Minibatch[   1- 200]: loss = 53.223691 * 12800, metric = 69.58% * 12800;\n",
      " Minibatch[ 201- 400]: loss = 29.998867 * 12800, metric = 53.53% * 12800;\n",
      " Minibatch[ 401- 600]: loss = 25.418350 * 12800, metric = 49.19% * 12800;\n",
      " Minibatch[ 601- 800]: loss = 22.730215 * 12800, metric = 46.52% * 12800;\n",
      "Finished Epoch[4 of 300]: [Training] loss = 31.137373 * 60032, metric = 53.30% * 60032 24.232s (2477.4 samples/s);\n",
      " Minibatch[   1- 200]: loss = 19.747651 * 12800, metric = 43.42% * 12800;\n",
      " Minibatch[ 201- 400]: loss = 19.121604 * 12800, metric = 42.57% * 12800;\n",
      " Minibatch[ 401- 600]: loss = 19.037268 * 12800, metric = 42.72% * 12800;\n",
      " Minibatch[ 601- 800]: loss = 19.669971 * 12800, metric = 43.09% * 12800;\n",
      "Finished Epoch[5 of 300]: [Training] loss = 19.405115 * 60032, metric = 42.89% * 60032 23.054s (2604.0 samples/s);\n",
      " Minibatch[   1- 200]: loss = 18.518929 * 12800, metric = 41.89% * 12800;\n",
      " Minibatch[ 201- 400]: loss = 18.719342 * 12800, metric = 42.12% * 12800;\n",
      " Minibatch[ 401- 600]: loss = 18.220967 * 12800, metric = 41.79% * 12800;\n",
      " Minibatch[ 601- 800]: loss = 17.134414 * 12800, metric = 40.13% * 12800;\n",
      "Finished Epoch[6 of 300]: [Training] loss = 18.139555 * 60032, metric = 41.41% * 60032 22.829s (2629.6 samples/s);\n"
     ]
    }
   ],
   "source": [
    "learner = adam(z_denoise.parameters, lr=learning_rate_schedule([learning_rate], UnitType.sample, 300),\n",
    "               momentum=momentum_as_time_constant_schedule([minibatch_size / -math.log(0.95)], epoch_size=300),\n",
    "               l1_regularization_weight=0.0001, l2_regularization_weight=5e-3)\n",
    "\n",
    "trainer = Trainer(z_denoise, (loss, errs), learner, progress_printer)\n",
    "\n",
    "for epoch_count in range(num_epochs):\n",
    "    mbs = 0\n",
    "    while mbs < len(features)/minibatch_size:\n",
    "        raw_features,raw_noise=get_next_noise_minibatch(minibatch_size)\n",
    "        trainer.train_minibatch({input_var: raw_features,noise_var:raw_noise})\n",
    "        if mbs%5==0:\n",
    "            z_denoise.save('Models/denoise_autoencoder_cntk.onnx', format=C.ModelFormat.ONNX)\n",
    "        mbs+=1\n",
    "    trainer.summarize_training_progress()"
   ]
  },
  {
   "cell_type": "raw",
   "metadata": {},
   "source": [
    "比對原始數據、添加噪音數據以及最後模型生成值，可以看到神經網路學會了如何區分噪音與信息。"
   ]
  },
  {
   "cell_type": "code",
   "execution_count": 35,
   "metadata": {
    "collapsed": false
   },
   "outputs": [
    {
     "data": {
      "text/plain": [
       "<matplotlib.image.AxesImage at 0x1ba13c6a550>"
      ]
     },
     "execution_count": 35,
     "metadata": {},
     "output_type": "execute_result"
    },
    {
     "data": {
      "image/png": "[encoded data removed]",
      "text/plain": [
       "<matplotlib.figure.Figure at 0x1ba0fd34cf8>"
      ]
     },
     "metadata": {},
     "output_type": "display_data"
    }
   ],
   "source": [
    "raw_features,raw_noise=get_next_noise_minibatch(minibatch_size)\n",
    "results=z_denoise(raw_noise)#產生預測結果\n",
    "#實際值\n",
    "actual=np.reshape(raw_features[0,:]*255,(28,28)).astype(np.uint8)\n",
    "noise=np.reshape(raw_noise[0,:]*255,(28,28)).astype(np.uint8)\n",
    "pred=np.reshape(results[0,:]*255,(28,28)).astype(np.uint8)\n",
    "\n",
    "img=Image.fromarray(np.concatenate([actual,noise,pred],axis=-1))\n",
    "plt.axis('off')\n",
    "plt.imshow(img, cmap='gray', interpolation='nearest')"
   ]
  },
  {
   "cell_type": "markdown",
   "metadata": {},
   "source": [
    "# 變分自編碼器（VAE）"
   ]
  },
  {
   "cell_type": "raw",
   "metadata": {},
   "source": [
    "變分自編碼器雖然名字叫做自編碼器，但實際上與自編碼器沒有太多關係，相對的，他反而很常被拿來與GAN相提並論，它的目的都是透過一個隱向量的分布來去生成一群樣本。變分自編碼器不管原始樣本的分布是如何，他都強制轉換為一個常態分配的分布，也就是他的作用是用來進行強制分布變換。"
   ]
  },
  {
   "cell_type": "code",
   "execution_count": 30,
   "metadata": {
    "collapsed": false
   },
   "outputs": [],
   "source": [
    "def vae_encoder(x):\n",
    "    x=Dense(784,activation=C.relu)(x)\n",
    "    x=BatchNormalization()(x)\n",
    "    x=Dense(512,activation=C.relu)(x)\n",
    "    x=BatchNormalization()(x)\n",
    "    x=Dense(256,activation=C.relu)(x)\n",
    "    x=BatchNormalization()(x)\n",
    "    x=Dense(128,activation=C.relu)(x)\n",
    "    x=BatchNormalization()(x)\n",
    "    x=Dense(64,activation=C.relu)(x)\n",
    "    x=BatchNormalization()(x)\n",
    "    return x\n",
    "\n",
    "def vae_decoder(x):\n",
    "    x=Dense(32,activation=None)(x)\n",
    "    x=BatchNormalization()(x)\n",
    "    x=Dense(64,activation=C.relu)(x)\n",
    "    x=BatchNormalization()(x)\n",
    "    x=Dense(128,activation=C.relu)(x)\n",
    "    x=BatchNormalization()(x)\n",
    "    x=Dense(256,activation=C.relu)(x)\n",
    "    x=BatchNormalization()(x)\n",
    "    x=Dense(512,activation=C.relu)(x)\n",
    " \n",
    " \n",
    "    return x\n",
    "\n",
    "latent_dim = 32 # 隱變量維度數\n",
    "\n",
    "h = vae_encoder(input_var)\n",
    "\n",
    "# 算p(Z|X)的均值和方差\n",
    "z_mean = Dense(32)(h)\n",
    "z_log_var = Dense(32)(h)\n",
    "\n",
    "\n",
    "#epsilon表示隨機成分\n",
    "epsilon =C.random.normal(shape=(latent_dim), mean=0.,scale=1)\n",
    "z=z_mean +exp(z_log_var/2)#* epsilon\n",
    "\n",
    "#如果不處理epsilon，則為AUTOENCODER\n",
    "#如果處理epsilon，則為生成模型\n",
    "\n",
    "\n",
    "#解碼層\n",
    "decoder_mean = Dense(784, activation=sigmoid)\n",
    "h_decoded = vae_decoder(z)\n",
    "z_vae= decoder_mean(h_decoded)\n"
   ]
  },
  {
   "cell_type": "code",
   "execution_count": 31,
   "metadata": {
    "collapsed": false
   },
   "outputs": [],
   "source": [
    "xent_loss = 784*binary_cross_entropy(z_vae,input_var)#重構損失\n",
    "kl_loss = - 0.5 * reduce_sum(1 + z_log_var - square(z_mean) - exp(z_log_var), axis=-1)#KL散度\n",
    "vae_loss = reduce_mean(xent_loss + kl_loss)\n",
    "\n",
    "loss=vae_loss\n",
    "errs=sqrt(reduce_sum(squared_error(z_vae,input_var)/reduce_sum(input_var)))"
   ]
  },
  {
   "cell_type": "code",
   "execution_count": 32,
   "metadata": {
    "collapsed": false
   },
   "outputs": [
    {
     "name": "stdout",
     "output_type": "stream",
     "text": [
      "Learning rate per 1 samples: 0.0001\n",
      " Minibatch[   1- 200]: loss = 330.951406 * 12800, metric = 89.16% * 12800;\n",
      " Minibatch[ 201- 400]: loss = 182.041875 * 12800, metric = 60.74% * 12800;\n",
      " Minibatch[ 401- 600]: loss = 156.083750 * 12800, metric = 55.54% * 12800;\n",
      " Minibatch[ 601- 800]: loss = 143.622891 * 12800, metric = 52.85% * 12800;\n",
      "Finished Epoch[1 of 300]: [Training] loss = 193.456573 * 60032, metric = 62.62% * 60032 14.842s (4044.7 samples/s);\n",
      " Minibatch[   1- 200]: loss = 132.716816 * 12800, metric = 50.05% * 12800;\n",
      " Minibatch[ 201- 400]: loss = 128.496563 * 12800, metric = 48.90% * 12800;\n",
      " Minibatch[ 401- 600]: loss = 124.929668 * 12800, metric = 48.08% * 12800;\n",
      " Minibatch[ 601- 800]: loss = 122.095078 * 12800, metric = 47.14% * 12800;\n",
      "Finished Epoch[2 of 300]: [Training] loss = 125.951934 * 60032, metric = 48.22% * 60032 14.861s (4039.6 samples/s);\n",
      " Minibatch[   1- 200]: loss = 118.157402 * 12800, metric = 45.74% * 12800;\n",
      " Minibatch[ 201- 400]: loss = 116.123105 * 12800, metric = 45.22% * 12800;\n",
      " Minibatch[ 401- 600]: loss = 113.596094 * 12800, metric = 44.47% * 12800;\n",
      " Minibatch[ 601- 800]: loss = 113.087578 * 12800, metric = 44.27% * 12800;\n",
      "Finished Epoch[3 of 300]: [Training] loss = 114.653918 * 60032, metric = 44.73% * 60032 17.053s (3520.3 samples/s);\n",
      " Minibatch[   1- 200]: loss = 109.775283 * 12800, metric = 43.03% * 12800;\n",
      " Minibatch[ 201- 400]: loss = 109.364932 * 12800, metric = 42.98% * 12800;\n",
      " Minibatch[ 401- 600]: loss = 107.758574 * 12800, metric = 42.44% * 12800;\n",
      " Minibatch[ 601- 800]: loss = 106.392148 * 12800, metric = 42.04% * 12800;\n",
      "Finished Epoch[4 of 300]: [Training] loss = 107.922733 * 60032, metric = 42.49% * 60032 19.490s (3080.1 samples/s);\n",
      " Minibatch[   1- 200]: loss = 104.777314 * 12800, metric = 41.37% * 12800;\n",
      " Minibatch[ 201- 400]: loss = 103.951572 * 12800, metric = 40.98% * 12800;\n",
      " Minibatch[ 401- 600]: loss = 102.899375 * 12800, metric = 40.77% * 12800;\n",
      " Minibatch[ 601- 800]: loss = 102.175723 * 12800, metric = 40.40% * 12800;\n",
      "Finished Epoch[5 of 300]: [Training] loss = 103.081606 * 60032, metric = 40.74% * 60032 15.193s (3951.3 samples/s);\n"
     ]
    }
   ],
   "source": [
    "progress_printer = ProgressPrinter(freq=200, tag='Training', num_epochs=300)\n",
    "\n",
    "learning_rate=0.0001\n",
    "minibatch_size=64\n",
    "num_epochs=5\n",
    "learner = adam(z_vae.parameters, lr=learning_rate_schedule([learning_rate], UnitType.sample, 300),\n",
    "               momentum=momentum_as_time_constant_schedule([minibatch_size / -math.log(0.95)], epoch_size=300),\n",
    "               l1_regularization_weight=0.0001, l2_regularization_weight=5e-3)\n",
    "\n",
    "trainer = Trainer(z_vae, (loss, errs), learner, progress_printer)\n",
    "for epoch_count in range(num_epochs):\n",
    "    mbs = 0\n",
    "    while mbs < len(features)/minibatch_size:\n",
    "        raw_features,raw_labels=get_next_minibatch(minibatch_size)\n",
    "        trainer.train_minibatch({input_var: raw_features})\n",
    "        if mbs%5==0:\n",
    "            z_vae.save('Models/vae_cntk.model')\n",
    "        mbs+=1\n",
    "    trainer.summarize_training_progress()"
   ]
  },
  {
   "cell_type": "code",
   "execution_count": 34,
   "metadata": {
    "collapsed": false
   },
   "outputs": [
    {
     "data": {
      "text/plain": [
       "<matplotlib.image.AxesImage at 0x1ba0fd8f7f0>"
      ]
     },
     "execution_count": 34,
     "metadata": {},
     "output_type": "execute_result"
    },
    {
     "data": {
      "image/png": "[encoded data removed]",
      "text/plain": [
       "<matplotlib.figure.Figure at 0x1ba0fd8f208>"
      ]
     },
     "metadata": {},
     "output_type": "display_data"
    }
   ],
   "source": [
    "raw_features,raw_labels=get_next_minibatch(minibatch_size)\n",
    "results=z_vae(raw_features)#產生預測結果\n",
    "#實際值\n",
    "actual=np.reshape(raw_features[0,:]*255,(28,28)).astype(np.uint8)\n",
    "pred=np.reshape(results[0,:]*255,(28,28)).astype(np.uint8)\n",
    "\n",
    "img=Image.fromarray(np.concatenate([actual,pred],axis=-1))\n",
    "plt.axis('off')\n",
    "plt.imshow(img, cmap='gray', interpolation='nearest')"
   ]
  }
 ],
 "metadata": {
  "kernelspec": {
   "display_name": "Python [Root]",
   "language": "python",
   "name": "Python [Root]"
  },
  "language_info": {
   "codemirror_mode": {
    "name": "ipython",
    "version": 3
   },
   "file_extension": ".py",
   "mimetype": "text/x-python",
   "name": "python",
   "nbconvert_exporter": "python",
   "pygments_lexer": "ipython3",
   "version": "3.5.2"
  }
 },
 "nbformat": 4,
 "nbformat_minor": 0
}
