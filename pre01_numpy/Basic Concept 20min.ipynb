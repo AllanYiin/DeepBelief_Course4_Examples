{
 "cells": [
  {
   "cell_type": "markdown",
   "metadata": {},
   "source": [
    "# numpy基礎課程(20分鐘)"
   ]
  },
  {
   "cell_type": "code",
   "execution_count": 1,
   "metadata": {
    "trusted": true
   },
   "outputs": [],
   "source": [
    "import numpy as np\n",
    "from PIL import Image\n",
    "%matplotlib inline\n",
    "import matplotlib.pyplot as plt\n"
   ]
  },
  {
   "cell_type": "raw",
   "metadata": {},
   "source": [
    "在進入深度學習的世界之前，你不能不學的關鍵計算引擎就是python中的numpy。為何是python而為何是numpy呢??話說深度學習開發的底層核心多半是基於較為複雜的C++，因此當核心開發較為複雜時，為了不讓研究的進度受到影響，因此前端應用應該要使用最簡單的語言來省下來前面耗用掉的時間，「最簡單??」沒錯的，這就是為何python普遍的成為深度學習開發的主流語言，就是因為它是最簡單的語言!!!可是沒有寫程式的經驗的人也學得會嗎??放心一定可以，因為大陸山東省今年已經將python列入「小學」教材，你說還能學不會嗎??\n\n我認為並不是要做程式設計師的人才要懂寫程式，而未來你如果希望能夠讓機器成為你最得力的助手，你必須懂得如何命令機器，那麼程式語言則會變成你極為重要的工具。所以這個教學材料就成為我們後續深度學習課程的基礎課程，希望大家能夠稍微花一點心力，克服對數學與程式的恐懼，一起來把這個重要的基本能力掌握起來。\n\nnumpy則是除了簡單以外，深度學習選擇python的第二個理由，numpy整合了一系列的向量運運算函數，而深度學習計算的核心正是基於向量，所以兩者一拍即合，也因此numpy會是進入深度學習世界你必須要學的基本知識，為了能夠降低學習曲線，目前無論是哪個深度學習框架，幾乎都把函數名稱與numpy對齊，也就是學會這一套，幾乎所有框架的主要運算子也都等於學了大半，這不是很划算嗎。"
   ]
  },
  {
   "cell_type": "markdown",
   "metadata": {},
   "source": [
    "在進行後續課程前，您最需要知道關於numpy的幾個重要背景知識:\n1. numpy這個字該怎麼發音?? **答案:\"num-pie\"(nəmpᴧɪ)**\n2. 我該如何安裝??  **答案:pip install numpy**\n3. 我想看他的代碼該去哪裡找?? **答案: https://github.com/numpy/numpy**\n4. 為什麼numpy速度超快? **答案:他是基於底層c語言的計算引擎，因此效率極高**\n5. 支持那些python版本? **答案：numpy團隊已經公布2020年起將不再支持python 2.7，建議你使用3.5或3.6**\n6. 如何在python中引入numpy? **答案:在程式中加入import numpy as np(np是我們常用的簡稱)**"
   ]
  },
  {
   "cell_type": "markdown",
   "metadata": {},
   "source": [
    "## 什麼是向量"
   ]
  },
  {
   "cell_type": "raw",
   "metadata": {},
   "source": [
    "根據維基百科的紀載是：向量（英語：vector，也稱作矢量）是數學、物理學和工程科學等多個自然科學中的基本概念，指一個同時具有大小和方向（比如：東、南、西、北）的幾何對象，因常常以箭頭符號標示以區別於其它量而得名。\n\n應該看完還是霧煞煞對吧....簡單的來說，向量就是一系列具有特定維度以及形狀的數組，可以用來做整批的計算。那它跟清單(list)最大的差別在於清單通常沒有形狀，而且在做任何計算都需要使用for迴圈逐一計算。但是向量因為有了numpy，因此可以直接根據指定方向做各種向量計算。"
   ]
  },
  {
   "cell_type": "raw",
   "metadata": {},
   "source": [
    "在向量的世界裡有己的專有名詞需要界定一下：\nScalar 純量: 僅具有大小特性\nVector 向量: 通常指的是具有大小與方向的特性的數組\nMatrix 矩陣: 其實就等於二維的向量\nTensor 張量: 高維度的向量(所以tensorflow的意思其實就是指處理張量的流程)\n\n下圖是用很直觀的方式來呈現四者的差異..."
   ]
  },
  {
   "cell_type": "markdown",
   "metadata": {},
   "source": [
    ""
   ]
  },
  {
   "cell_type": "markdown",
   "metadata": {},
   "source": [
    "<img style=\"float: left;\" src=\"images/scalar2tensor.png\">\n<img style=\"float: left;\" src=\"images/tensordog.jpg\" >"
   ]
  },
  {
   "cell_type": "markdown",
   "metadata": {},
   "source": [
    "## 如何建立一個向量"
   ]
  },
  {
   "cell_type": "markdown",
   "metadata": {},
   "source": [
    "numpy所構成的數據結構型別為ndarray，要生成這樣結構最簡單的方式就是直接將list做轉換，你可以使用np.array或者是np.asarray來進行轉換。兩者其實最後產生的結果是一樣的，**唯一的差別則是在於np.array會從資料源複製一份占用了新的記憶體，而np.asarray則直接將原有資料轉換，不會耗用新的記憶體**。如果你後面還需要參照原始數據源，則建議使用np.array，但是缺點則是會占用多的記憶體。"
   ]
  },
  {
   "cell_type": "code",
   "execution_count": 2,
   "metadata": {
    "trusted": true
   },
   "outputs": [
    {
     "name": "stdout",
     "output_type": "stream",
     "text": [
      "[1 2 3 4 5]\n[1 2 3 4 5]\n"
     ]
    }
   ],
   "source": [
    "x1=np.array([1,2,3,4,5])\n",
    "print(x1)\n",
    "x2=np.asarray([1,2,3,4,5])\n",
    "print(x2)"
   ]
  },
  {
   "cell_type": "markdown",
   "metadata": {},
   "source": [
    "## 向量的維度與形狀"
   ]
  },
  {
   "cell_type": "raw",
   "metadata": {},
   "source": [
    "向量本身的定義既然是具有方向性的數列，我們可以使用維度的概念來形容他。就和以前國高中數學學過的座標體系概念是類似的，你可以把維度視為一個獨立的座標軸(之後我們會介紹軸面的概念)，但唯一不同的是，過去我們所學到的座標軸我們只是打上一個點，但是在向量的世界哩，我們則是要產生一組數列。在numpy中，我們可以透過shape這個屬性來查詢這個向量的形狀，所謂的形狀是以tuple的形式(小括號)來顯示該向量各個維度的尺寸，至於向量的維度數則是可以透過ndim這個屬性來得知。"
   ]
  },
  {
   "cell_type": "code",
   "execution_count": 3,
   "metadata": {
    "trusted": true
   },
   "outputs": [
    {
     "name": "stdout",
     "output_type": "stream",
     "text": [
      "(3,)\n1\n(5,)\n1\n"
     ]
    }
   ],
   "source": [
    "x1=np.array([1,2,3])\n",
    "x2=np.array([1,2,3,4,5])\n",
    "print(x1.shape)\n",
    "print(x1.ndim)\n",
    "print(x2.shape)\n",
    "print(x2.ndim)"
   ]
  },
  {
   "cell_type": "raw",
   "metadata": {},
   "source": [
    "有沒有發現，上面的兩個向量其實維度都只有1，只不過第一個尺寸為3，第二個尺寸為5。千萬別把尺寸的觀念與維度數搞錯了。下面的範例中，我們來看看不只一維的向量的形狀。"
   ]
  },
  {
   "cell_type": "code",
   "execution_count": 14,
   "metadata": {
    "trusted": true
   },
   "outputs": [
    {
     "name": "stdout",
     "output_type": "stream",
     "text": [
      "(5,)\n(4, 3)\n(1, 4, 3)\n"
     ]
    }
   ],
   "source": [
    "x1=np.array([1,2,3,4,5])\n",
    "x2=np.array([[1,2,3],[4,5,6],[7,8,9],[10,11,12]])\n",
    "x3=np.array([[[1,2,3],[4,5,6],[7,8,9],[10,11,12]]])\n",
    "print(x1.shape)\n",
    "print(x2.shape)\n",
    "print(x3.shape)"
   ]
  },
  {
   "cell_type": "raw",
   "metadata": {},
   "source": [
    "各位可以發現，產生的向量的形狀基本上是由外至內的中括號所構成的(最外層的中括號只是清單的意思，跳過不用看)，為了考驗一下大家是否了解了形狀的概念，看看能否不透過python計算，用看的就能知道習題的答案呢??"
   ]
  },
  {
   "cell_type": "raw",
   "metadata": {},
   "source": [
    "習題：請問np.array([[[1],[2]],[[3],[4]],[[5],[6]]])的形狀以及維度數是多少?"
   ]
  },
  {
   "cell_type": "code",
   "execution_count": 5,
   "metadata": {
    "trusted": true
   },
   "outputs": [],
   "source": [
    "#習題作答區域\n",
    "\n"
   ]
  },
  {
   "cell_type": "markdown",
   "metadata": {},
   "source": [
    "## 特殊結構的ndarray生成"
   ]
  },
  {
   "cell_type": "markdown",
   "metadata": {},
   "source": [
    "剛剛介紹了如何從清單轉換為向量，但其實在numpy生成向量的方法可不只一種，接下來就要逐一介紹我個人在做深度學習時較常用的幾種。首先是在深度學習中經常會用到裡面的值全部為零(很多為了填滿固定形狀所以補零)或是全部為1的向量(例如要產生一個預設的權重序列，初始值就可以都用1)。**千萬記得權重的初始值千萬別全部是零，否則你會很快收到大量的nan....**。為了簡化這類型向量的生成，numpy很貼心的準備了np.zeros以及np.ones的函數，裡面只要填寫想要生成的形狀就可以自動產生。若你連形狀都懶得填，但是若你有一個參考用的向量，你也可以使用np.zeros_like或者是np.ones_like函數直接生成一個和參考向量一樣形狀的新向量。"
   ]
  },
  {
   "cell_type": "code",
   "execution_count": 6,
   "metadata": {
    "trusted": true
   },
   "outputs": [
    {
     "name": "stdout",
     "output_type": "stream",
     "text": [
      "[[1. 1. 1.]\n [1. 1. 1.]]\n(2, 3)\n"
     ]
    }
   ],
   "source": [
    "x1=np.ones((2,3))\n",
    "print(x1)\n",
    "print(x1.shape)"
   ]
  },
  {
   "cell_type": "code",
   "execution_count": 7,
   "metadata": {
    "trusted": true
   },
   "outputs": [
    {
     "name": "stdout",
     "output_type": "stream",
     "text": [
      "[[1 1 1]\n [1 1 1]\n [1 1 1]\n [1 1 1]]\n(4, 3)\n"
     ]
    }
   ],
   "source": [
    "x1=np.array([[1,2,3],[4,5,6],[7,8,9],[10,11,12]])\n",
    "x2=np.ones_like(x1)\n",
    "print(x2)\n",
    "print(x2.shape)"
   ]
  },
  {
   "cell_type": "raw",
   "metadata": {},
   "source": [
    "若是要建立一個由連續數列的向量，最快的方式就是利用np.arange(請注意，不是arrange，這裡的arange與python裡的range是同樣概念)，它只需要只並開始與結束的範圍，以及每次取數的步長(預設步長為1)即可自動生成。至於np.linspace和np.arange類似，只不過第三個參數不是步，而是預計要採樣的點數，他會自己根據範圍除以點數以獲得步長資訊。"
   ]
  },
  {
   "cell_type": "code",
   "execution_count": 8,
   "metadata": {
    "trusted": true
   },
   "outputs": [
    {
     "name": "stdout",
     "output_type": "stream",
     "text": [
      "[0 2 4 6 8]\n[ 0.          3.33333333  6.66666667 10.        ]\n"
     ]
    }
   ],
   "source": [
    "x1=np.arange(0,10,2)  #從0到10，每隔兩個取一次\n",
    "print(x1)\n",
    "\n",
    "x1=np.linspace(0,10,4)  #從0到10，總共取4個值\n",
    "print(x1)\n"
   ]
  },
  {
   "cell_type": "raw",
   "metadata": {},
   "source": [
    "但若是你想要生成沿著對角線有值的向量，我們就需要使用np.eye或者是np.diag兩個函數了。其中np.eye裡面的引數是傳入一個向量長度n，然後回傳一個尺寸為(n,n)的恆等矩陣，而且對角線都是1其餘為0。至於np.diag則是傳入一組數列，生成以這個數列為對角線值的(n,n)矩陣"
   ]
  },
  {
   "cell_type": "code",
   "execution_count": 9,
   "metadata": {
    "trusted": true
   },
   "outputs": [
    {
     "name": "stdout",
     "output_type": "stream",
     "text": [
      "[[1. 0. 0. 0. 0.]\n [0. 1. 0. 0. 0.]\n [0. 0. 1. 0. 0.]\n [0. 0. 0. 1. 0.]\n [0. 0. 0. 0. 1.]]\n(5, 5)\n[[1 0 0 0 0]\n [0 2 0 0 0]\n [0 0 3 0 0]\n [0 0 0 4 0]\n [0 0 0 0 5]]\n(5, 5)\n"
     ]
    }
   ],
   "source": [
    "x1=np.eye(5)\n",
    "print(x1)\n",
    "print(x1.shape)\n",
    "\n",
    "x2=np.diag((1,2,3,4,5))\n",
    "print(x2)\n",
    "print(x2.shape)"
   ]
  },
  {
   "cell_type": "raw",
   "metadata": {},
   "source": [
    "在深度學習中我們可能常常需要透過隨機的方式來定義初始值，numpy也為此提供了很方便的初始化機制。\nnp.random.rand() 生成數值在0~1的均等分配隨機數的一維向量\nnp.random.randn() 生成數值在0~1的常態分配隨機數的一維向量\nnp.random.normal()生成基於指定平均值與指定標準差的常態分配隨機數的指定形狀向量\nnp.random.standard_normal()生成基於平均值為0標準差為1的常態分配隨機數的指定形狀向量"
   ]
  },
  {
   "cell_type": "code",
   "execution_count": 10,
   "metadata": {
    "trusted": true
   },
   "outputs": [
    {
     "name": "stdout",
     "output_type": "stream",
     "text": [
      "[0.32563774 0.87055788 0.28239168 0.1251864  0.74551139 0.37528236\n 0.27485355 0.67672614 0.85903842 0.69149711]\n[[0.87859468 0.8028786 ]\n [1.19622475 0.19065433]\n [0.64993724 0.8132327 ]\n [1.71507432 1.41319119]\n [1.21985422 0.7198243 ]]\n[[-2.03932638  0.22340357]\n [-1.87368732 -0.76005183]\n [ 1.4150207   1.78167425]\n [ 0.94791303  0.02916472]\n [-0.54746292  0.75407934]]\n"
     ]
    }
   ],
   "source": [
    "x1=np.random.rand(10)\n",
    "print(x1)\n",
    "\n",
    "x1=np.random.normal(1,0.5,(5,2))#生成平均值為1，標準差為0.5，形狀為(5,2)的向量\n",
    "print(x1)\n",
    "\n",
    "x1=np.random.standard_normal((5,2))\n",
    "print(x1)"
   ]
  },
  {
   "cell_type": "markdown",
   "metadata": {},
   "source": [
    "## ndarray索引的概念"
   ]
  },
  {
   "cell_type": "raw",
   "metadata": {},
   "source": [
    "接下來要介紹的是numpy非常好用的索引取值的概念，他一方面好用，但是相對的如果概念不夠清楚紮實，很快會讓人陷入五里霧中。所以我們將會從基本觀念講起，希望能夠讓各位輕易上手。\n\n首先各位要有的概念是向量本身是個多維結構，因此他的取值概念也是多維的，你必須明確指定在各個維度裡的取值條件(取哪一個？取一個還是多個?)若是沒指定，numpy會預設全部保留。我們先從最簡單的取單個值的做法說起，其實就是傳入一個整數，numpy和python一樣，索引都是從0開始數，你也可以用負數，表示倒數第幾個。"
   ]
  },
  {
   "cell_type": "code",
   "execution_count": 11,
   "metadata": {
    "trusted": true
   },
   "outputs": [
    {
     "name": "stdout",
     "output_type": "stream",
     "text": [
      "[0 2 4 6 8]\n0\n6\n8\n4\n"
     ]
    }
   ],
   "source": [
    "x1=np.arange(0,10,2)\n",
    "print(x1)\n",
    "\n",
    "x2=x1[0] #取第0個\n",
    "print(x2)\n",
    "\n",
    "x3=x1[3]#取索引值為3，實際上為第4個\n",
    "print(x3)\n",
    "\n",
    "x4=x1[-1]#取倒數第1個\n",
    "print(x4)\n",
    "\n",
    "x5=x1[-3]#取倒數第3個\n",
    "print(x5)"
   ]
  },
  {
   "cell_type": "raw",
   "metadata": {},
   "source": [
    "如果是多維結構，你也可以逐層指定或者直接用[,,]形式指定取值索引即可"
   ]
  },
  {
   "cell_type": "code",
   "execution_count": 12,
   "metadata": {
    "trusted": true
   },
   "outputs": [
    {
     "name": "stdout",
     "output_type": "stream",
     "text": [
      "(4, 3)\n[[ 1  2  3]\n [ 4  5  6]\n [ 7  8  9]\n [10 11 12]]\n[4 5 6]\n6\n6\n"
     ]
    }
   ],
   "source": [
    "x1=np.array([[1,2,3],[4,5,6],[7,8,9],[10,11,12]])\n",
    "print(x1.shape)\n",
    "print(x1)\n",
    "\n",
    "x2=x1[1] #取得第0個維度索引值為1的內容(由於第1個維度沒指定等於全取\n",
    "print(x2)\n",
    "\n",
    "\n",
    "x3=x1[1][2] #取得第0個維度索引值為1第1個維度索引值為2的內容\n",
    "print(x3)\n",
    "\n",
    "\n",
    "x4=x1[1,2] #取得第0個維度索引值為1第1個維度索引值為2的內容(與上方同等概念)\n",
    "print(x4)"
   ]
  },
  {
   "cell_type": "raw",
   "metadata": {},
   "source": [
    "若是取值是針對一個範圍，則可以使用:符號，一來說「m:n」表示從m到n(包含m但是未滿n)，如果是從頭開始，則m可以省略不寫，如果是到結尾為止，則n可以省略不寫。"
   ]
  },
  {
   "cell_type": "code",
   "execution_count": 13,
   "metadata": {
    "trusted": true
   },
   "outputs": [
    {
     "name": "stdout",
     "output_type": "stream",
     "text": [
      "[[ 1  2  3]\n [ 4  5  6]\n [ 7  8  9]\n [10 11 12]]\n[1 2 3]\n3\n[1]\n[2 3]\n[[4 5 6]\n [7 8 9]]\n"
     ]
    }
   ],
   "source": [
    "x1=np.array([[1,2,3],[4,5,6],[7,8,9],[10,11,12]])\n",
    "print(x1)\n",
    "\n",
    "x2=x1[0]\n",
    "print(x2)\n",
    "\n",
    "x3=x1[0,-1]\n",
    "print(x3)\n",
    "\n",
    "x4=x1[0,:1]\n",
    "print(x4)\n",
    "\n",
    "x5=x1[0,-2:]\n",
    "print(x5)\n",
    "\n",
    "x6=x1[1:3,:]\n",
    "print(x6)\n"
   ]
  },
  {
   "cell_type": "raw",
   "metadata": {},
   "source": [
    "這樣大家對於numpy的基本概念，如何生成以及透過所以取值有了基礎的概念，我們後面將會介紹numpy的賦值與基礎運算"
   ]
  }
 ],
 "metadata": {
  "kernelspec": {
   "name": "python3",
   "display_name": "Python 3",
   "language": "python"
  },
  "language_info": {
   "mimetype": "text/x-python",
   "nbconvert_exporter": "python",
   "name": "python",
   "file_extension": ".py",
   "version": "3.5.4",
   "pygments_lexer": "ipython3",
   "codemirror_mode": {
    "version": 3,
    "name": "ipython"
   }
  },
  "varInspector": {
   "cols": {
    "lenName": 16.0,
    "lenType": 16.0,
    "lenVar": 40.0
   },
   "kernels_config": {
    "python": {
     "delete_cmd_postfix": "",
     "delete_cmd_prefix": "del ",
     "library": "var_list.py",
     "varRefreshCmd": "print(var_dic_list())"
    },
    "r": {
     "delete_cmd_postfix": ") ",
     "delete_cmd_prefix": "rm(",
     "library": "var_list.r",
     "varRefreshCmd": "cat(var_dic_list()) "
    }
   },
   "types_to_exclude": [
    "module",
    "function",
    "builtin_function_or_method",
    "instance",
    "_Feature"
   ],
   "window_display": false
  },
  "widgets": {
   "application/vnd.jupyter.widget-state+json": {
    "state": {},
    "version_major": 2.0,
    "version_minor": 0.0
   }
  }
 },
 "nbformat": 4,
 "nbformat_minor": 2
}
