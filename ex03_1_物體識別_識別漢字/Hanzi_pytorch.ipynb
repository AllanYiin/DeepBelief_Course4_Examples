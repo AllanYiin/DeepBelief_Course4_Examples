{
 "cells": [
  {
   "cell_type": "code",
   "execution_count": 1,
   "metadata": {
    "collapsed": true
   },
   "outputs": [],
   "source": [
    "%matplotlib inline"
   ]
  },
  {
   "cell_type": "markdown",
   "metadata": {},
   "source": [
    "# 讓機器認識中文字"
   ]
  },
  {
   "cell_type": "markdown",
   "metadata": {},
   "source": [
    "###測試於pytorch 1.0"
   ]
  },
  {
   "cell_type": "raw",
   "metadata": {},
   "source": [
    "雖然說手寫數字集Mnist是的深度學習界的Hello World，但是若將題目換成了中文，難度就有天壤之別，先不論中文字數量之龐大(unicode有兩萬多)，光是各個字的造字邏輯各異之外，各個朝代的字體變化之大，恐怕從小使用中文的我們都難以識別，這對於電腦來說當然還是一個超難的題目，沒錯，手寫漢字識別一直是到現在都還無解的一級難題。"
   ]
  },
  {
   "cell_type": "markdown",
   "metadata": {},
   "source": [
    "![md_images](../Images/hanzi.jpg?raw=true)"
   ]
  },
  {
   "cell_type": "markdown",
   "metadata": {},
   "source": [
    "## 從錯誤率90幾%到正確率90幾%之路 "
   ]
  },
  {
   "cell_type": "raw",
   "metadata": {},
   "source": [
    "這一個實作我给下的副標題是「從錯誤率90幾%到正確率90幾%之路」，這個中文字識別雖然只有100字，但是裡面各種字體收集得非常完整，從甲骨文金文小篆都有，字形種類多就算了，你會發現裡面包含的完整度與清晰度，甚至有很多像是從碑上拓印下來的，所以多呈現虛化、斷裂、歪斜等狀態，因此是個非常棘手的數據集。在這個Jupyter Notebook中我們放了很簡單的利用約50層的Resnet來處理他，但是這個號稱沒有不能收斂的模型似乎這踢上了鐵板，跑上許久錯誤率仍舊停在99%，教授機器學習或深度學習的課程很多，但很少帶大家來解決難題，以及思考解難題的思路，所以這個課程期間，若選擇要深度參與這個實作的同學我會帶各位走過解難題的整個思考路徑，附帶一提，這是大陸一個數據競賽的考題，而我用同樣的數據曾經拿到測試集Top1正確率96.65%(大賽正規賽制是Top5正確率，給機率最高的5個類別，一個對了就算對)"
   ]
  },
  {
   "cell_type": "raw",
   "metadata": {},
   "source": [
    "我們首先簡單的來看一下基本的實作流程，首先引用所有需要的包"
   ]
  },
  {
   "cell_type": "code",
   "execution_count": 2,
   "metadata": {
    "collapsed": false
   },
   "outputs": [],
   "source": [
    "import matplotlib\n",
    "import matplotlib.image as mpimg\n",
    "import matplotlib.pyplot as plt\n",
    "import numpy as np\n",
    "import os\n",
    "import cv2\n",
    "import math\n",
    "import random\n",
    "import glob\n",
    "from PIL import Image\n",
    "import tqdm\n",
    "\n",
    "import torch\n",
    "import torch.nn as nn\n",
    "import torch.utils.model_zoo as model_zoo\n",
    "from torch.autograd import Variable\n",
    "import torch.nn.functional as F\n",
    "import torch.optim as optim\n",
    "import torchvision.transforms as transforms\n",
    "from  torchvision.datasets import *\n",
    "\n",
    "\n",
    "# 是否使用GPU\n",
    "device = torch.device(\"cuda\" if torch.cuda.is_available() else \"cpu\")"
   ]
  },
  {
   "cell_type": "raw",
   "metadata": {},
   "source": [
    "pytorch提供了torchvision這個庫來簡化所有與視覺相關的處理，例如datasets.ImageFolder的方式可以直接存取指定資料夾的圖片，根據根目錄下，一個類別圖片放置在獨立資料夾，然後datasets.ImageFolder就會自動讀取以及分門別類對應target索引。而torchvision的transforms則是包含了大量的資料增強功能，我們可以利用這兩項功能來組成建模所需要的數據集。由於圖片都已經分裝好在各個資料夾中，因此我們可以利用datasets.ImageFolder來遍歷所有圖檔路徑，並且可以直接從路徑上擷取出對應的中文字。我們也可以把中文字取出來去重複，總共有100個，所以我們預測的標的就是一個長度為100的onehot向量。\n",
    "\n",
    "然後再根據torch.utils.data.DataLoader中定義數據對應的minibatch，如此一來就可以完成建模的迴圈架構。\n",
    "for i, (input, target) in enumerate(train_loader):"
   ]
  },
  {
   "cell_type": "code",
   "execution_count": 3,
   "metadata": {
    "collapsed": false
   },
   "outputs": [
    {
     "name": "stdout",
     "output_type": "stream",
     "text": [
      "{'遂': 93, '正': 61, '海': 66, '司': 18, '和': 23, '老': 82, '父': 70, '必': 48, '唯': 24, '元': 11, '好': 31, '良': 84, '侯': 10, '皇': 76, '合': 19, '敬': 52, '陵': 95, '我': 51, '用': 73, '高': 97, '虎': 86, '定': 38, '易': 54, '奉': 29, '徐': 46, '足': 90, '女': 30, '起': 89, '九': 3, '令': 7, '雨': 96, '章': 81, '白': 75, '身': 91, '常': 44, '深': 67, '始': 32, '莫': 85, '衣': 87, '鼎': 99, '思': 49, '物': 71, '寒': 42, '更': 56, '新': 53, '通': 92, '今': 5, '光': 12, '李': 58, '流': 65, '周': 21, '朝': 57, '士': 26, '益': 77, '多': 27, '守': 35, '世': 1, '武': 62, '室': 40, '永': 64, '名': 20, '宗': 36, '意': 50, '且': 0, '去': 15, '申': 74, '春': 55, '堂': 25, '右': 17, '使': 9, '印': 14, '官': 37, '亭': 4, '夜': 28, '林': 60, '重': 94, '受': 16, '东': 2, '黄': 98, '家': 41, '御': 47, '来': 59, '立': 80, '西': 88, '宜': 39, '福': 78, '利': 13, '游': 69, '秋': 79, '左': 43, '清': 68, '建': 45, '作': 8, '氏': 63, '命': 22, '孝': 34, '字': 33, '从': 6, '玉': 72, '臣': 83}\n",
      "['且', '世', '东', '九', '亭', '今', '从', '令', '作', '使', '侯', '元', '光', '利', '印', '去', '受', '右', '司', '合', '名', '周', '命', '和', '唯', '堂', '士', '多', '夜', '奉', '女', '好', '始', '字', '孝', '守', '宗', '官', '定', '宜', '室', '家', '寒', '左', '常', '建', '徐', '御', '必', '思', '意', '我', '敬', '新', '易', '春', '更', '朝', '李', '来', '林', '正', '武', '氏', '永', '流', '海', '深', '清', '游', '父', '物', '玉', '用', '申', '白', '皇', '益', '福', '秋', '立', '章', '老', '臣', '良', '莫', '虎', '衣', '西', '起', '足', '身', '通', '遂', '重', '陵', '雨', '高', '黄', '鼎']\n",
      "40000\n"
     ]
    }
   ],
   "source": [
    "img_transform=transforms.Compose([\n",
    "            transforms.CenterCrop(64),\n",
    "            transforms.RandomHorizontalFlip(),\n",
    "            transforms.ToTensor()\n",
    "        ])\n",
    "\n",
    "traindataset = ImageFolder('../Data/ex02_train/',transform=img_transform)\n",
    "print(traindataset.class_to_idx) #等同於word2idx\n",
    "#編碼onehot的第一步驟是將100個中文字去重排序好，產生對應的字對到索引的字典，以及反向可以從索引轉回對應的字的字典。\n",
    "\n",
    "print(traindataset.classes)\n",
    "print(len(traindataset.samples)) #案例數\n",
    "\n"
   ]
  },
  {
   "cell_type": "raw",
   "metadata": {},
   "source": [
    "我們隨機抽一個字來展現"
   ]
  },
  {
   "cell_type": "code",
   "execution_count": 4,
   "metadata": {
    "collapsed": false
   },
   "outputs": [
    {
     "name": "stdout",
     "output_type": "stream",
     "text": [
      "('../Data/ex02_train/思\\\\3e0d415c18c4b57f5f0c866918ab60d696f9c657.jpg', 49)\n",
      "思\n"
     ]
    },
    {
     "data": {
      "text/plain": [
       "<matplotlib.image.AxesImage at 0x1dbf4a87630>"
      ]
     },
     "execution_count": 4,
     "metadata": {},
     "output_type": "execute_result"
    },
    {
     "data": {
      "image/png": "[encoded data removed]",
      "text/plain": [
       "<matplotlib.figure.Figure at 0x1dbf4a87828>"
      ]
     },
     "metadata": {},
     "output_type": "display_data"
    }
   ],
   "source": [
    "imgtuple=random.choice(traindataset.samples)\n",
    "print(imgtuple)\n",
    "\n",
    "img = Image.open(imgtuple[0])\n",
    "print(traindataset.classes[imgtuple[1]])\n",
    "plt.axis('off')\n",
    "plt.imshow(img,cmap='gray')\n"
   ]
  },
  {
   "cell_type": "raw",
   "metadata": {},
   "source": [
    "由於python版的opencv無法讀取路徑有中文的圖片，也因此只好費工一點使用PIL.Image讀取。由於這個數據是黑白圖片，因此不用去做RGB轉GBR的過程，但是仍要把HWC轉換為CHW。使用PIL.Image模組有個附帶的好處，它內建了thumbnail這個「保持比例縮放」的功能，這樣可以確保我們竟可能得保持字體的原貌。(雖然圖像識別我們的確可以做各種過分的扭曲比例縮放，但相信我，在這個題目上，讓字體扭曲只是雪上加霜。)\n",
    "\n",
    "同時透過get_next_minibatch來提供後續建模要用的批次數據。"
   ]
  },
  {
   "cell_type": "raw",
   "metadata": {},
   "source": [
    "接下來要請出的是機器視覺中的常客resnet來料理這一題，基本上resnet透過跳轉連接，讓梯度有效傳遞，所以能讓超深的架構得以實現。但是解題可不是一率都用超深模型就好，否則反而變成效率上的重擔。\n",
    "\n",
    "卷積+batch normalization +relu這個組合應該算是跟深度學習界的經典配方，這裡比較特別的是卷積的活化函數為None，待做完正規化後才去做relu，這會有效地做梯度整流，避免梯度還沒調整到正確位置，但是落入負數區就慘遭relu毒手。"
   ]
  },
  {
   "cell_type": "code",
   "execution_count": 5,
   "metadata": {
    "collapsed": false
   },
   "outputs": [
    {
     "name": "stdout",
     "output_type": "stream",
     "text": [
      "model initial\n"
     ]
    }
   ],
   "source": [
    "def conv3x3(in_planes, out_planes, stride=1):\n",
    "    return nn.Conv2d(in_planes, out_planes, kernel_size=3, stride=stride,padding=1, bias=False)\n",
    "def conv1x1(in_planes, out_planes, stride=1):\n",
    "    return nn.Conv2d(in_planes, out_planes, kernel_size=1, stride=stride, bias=False)\n",
    "\n",
    "class resnet_basic(nn.Module):\n",
    "    def __init__(self, inplanes, stride=1):\n",
    "        super(resnet_basic, self).__init__()\n",
    "        self.conv1 = conv3x3(inplanes, inplanes, stride)\n",
    "        self.bn1 = nn.BatchNorm2d(inplanes)\n",
    "        self.relu = nn.ReLU(inplace=True)\n",
    "        self.conv2 =conv3x3(inplanes, inplanes, stride)\n",
    "        self.bn2 = nn.BatchNorm2d(inplanes)\n",
    "        self.stride = stride\n",
    "        \n",
    "    def forward(self, x):\n",
    "        residual = x\n",
    "        out = self.conv1(x)\n",
    "        out = self.bn1(out)\n",
    "        out = self.relu(out)\n",
    "        out = self.conv2(out)\n",
    "        out = self.bn2(out)\n",
    "        out += residual\n",
    "        out = self.relu(out)\n",
    "        return out\n",
    "\n",
    "class resnet_basic_inc(nn.Module):\n",
    "    def __init__(self, inplanes,planes, stride=1, downsample=None):\n",
    "        super(resnet_basic_inc, self).__init__()\n",
    "        self.conv1 = conv3x3(inplanes, planes, stride=2)\n",
    "        self.bn1 = nn.BatchNorm2d(planes)\n",
    "        self.relu = nn.ReLU(inplace=True)\n",
    "        self.conv2 = conv3x3(planes, planes,stride=1)\n",
    "        self.bn2 = nn.BatchNorm2d(planes)\n",
    "        self.convx = conv1x1(inplanes, planes, stride=2)\n",
    "        self.bnx = nn.BatchNorm2d(planes)\n",
    "        self.stride = stride\n",
    "        \n",
    "    def forward(self, x):\n",
    "        \n",
    "        out = self.conv1(x)\n",
    "        out = self.bn1(out)\n",
    "        out = self.relu(out)\n",
    "        out = self.conv2(out)\n",
    "        out = self.bn2(out)\n",
    "        \n",
    "        x=self.convx(x)\n",
    "        x=self.bnx(x)\n",
    "        residual = x\n",
    "        out += residual\n",
    "        out = self.relu(out)\n",
    "        return out\n",
    "\n",
    "    \n",
    "class resnet_basic_stack(nn.Module):\n",
    "    def __init__(self, inplanes,planes, stride=1, num_stack_layers=3):\n",
    "        super(resnet_basic_stack, self).__init__()\n",
    "        self.resnet_basic = resnet_basic(inplanes,stride)\n",
    "        self.num_stack_layers=num_stack_layers\n",
    "        self.resnet_basic=resnet_basic(inplanes)\n",
    "        \n",
    "    def forward(self, x):\n",
    "        for _ in range(self.num_stack_layers):\n",
    "            x = self.resnet_basic(x)\n",
    "        return x\n",
    "\n",
    "class ResNet(nn.Module):\n",
    "    def __init__(self, c_map=[16, 64, 128], num_stack_layers=5, num_classes=100):\n",
    "        super(ResNet, self).__init__()\n",
    "        self.c_map = c_map\n",
    "        self.inplanes = 16\n",
    "        self.num_stack_layers = num_stack_layers\n",
    "        self.num_classes = num_classes\n",
    "        self.conv1 = conv3x3(3, 16, 1)\n",
    "        self.bn1 = nn.BatchNorm2d(16)\n",
    "        self.relu = nn.ReLU(inplace=True)\n",
    "\n",
    "        self.r1 = resnet_basic_stack(self.c_map[0], num_stack_layers - 1)\n",
    "        self.r2_1 = resnet_basic_inc(self.c_map[0],self.c_map[1], 1)\n",
    "        self.r2_2 = resnet_basic_stack(self.c_map[1], num_stack_layers - 1)\n",
    "        self.r3_1 = resnet_basic_inc(self.c_map[1],self.c_map[2], 1)\n",
    "        self.r3_2 = resnet_basic_stack(self.c_map[2], num_stack_layers - 1)\n",
    "        self.c1= conv3x3(self.c_map[1], self.c_map[1], 2)\n",
    "        self.c2 = conv3x3(self.c_map[2], self.c_map[2], 2)\n",
    "        self.avgpool = nn.AdaptiveAvgPool2d((1, 1))\n",
    "        self.fc = nn.Linear(128, num_classes)\n",
    "\n",
    "    def forward(self, x):\n",
    "        x = self.conv1(x)\n",
    "        x = self.bn1(x)\n",
    "        x = self.relu(x)\n",
    "        x = self.r1(x)\n",
    "        x = self.r2_1(x)\n",
    "        x = self.c1(x)\n",
    "        x = self.r2_2(x)\n",
    "        x = self.r3_1(x)\n",
    "        x = self.c2(x)\n",
    "        x = self.r3_2(x)\n",
    "        x = self.avgpool(x)\n",
    "        x = x.view(x.size(0), -1)\n",
    "        x = self.fc(x)\n",
    "        return x\n",
    "\n",
    "\n",
    "model = ResNet(c_map=[16, 64, 128], num_stack_layers=5, num_classes=100).to(device)\n",
    "print('model initial')"
   ]
  },
  {
   "cell_type": "raw",
   "metadata": {},
   "source": [
    "plot_history是根據訓練過程中收集到的history的損失與評估函數結果繪製成圖表。"
   ]
  },
  {
   "cell_type": "code",
   "execution_count": 6,
   "metadata": {
    "collapsed": true
   },
   "outputs": [],
   "source": [
    "def plot_history(history):\n",
    "    plt.plot(history['acc1'])\n",
    "    plt.plot(history['acc2'])\n",
    "    plt.title('model accuracy')\n",
    "    plt.ylabel('accuracy')\n",
    "    plt.xlabel('mbs')\n",
    "    plt.legend(['resnet01', 'resnet02'], loc='upper left')\n",
    "    plt.show()\n",
    "    # summarize history for loss\n",
    "    plt.plot(history['loss1'])\n",
    "    plt.plot(history['loss2'])\n",
    "    plt.title('model loss')\n",
    "    plt.ylabel('loss')\n",
    "    plt.xlabel('mbs')\n",
    "    plt.legend(['resnet01', 'resnet02'], loc='upper left')\n",
    "    plt.show()\n",
    "    "
   ]
  },
  {
   "cell_type": "code",
   "execution_count": 12,
   "metadata": {
    "collapsed": false
   },
   "outputs": [
    {
     "name": "stdout",
     "output_type": "stream",
     "text": [
      "torch.Size([32, 3, 64, 64])\n",
      "torch.Size([32])\n"
     ]
    }
   ],
   "source": [
    "minibatch_size =32\n",
    "num_epochs=5\n",
    "\n",
    "train_loader = torch.utils.data.DataLoader(traindataset, batch_size=minibatch_size, shuffle=True, num_workers=2)\n",
    "train_iter = iter(train_loader)\n",
    "\n",
    "images, labels = train_iter.next()\n",
    "print(images.shape)\n",
    "print(labels.shape)"
   ]
  },
  {
   "cell_type": "raw",
   "metadata": {},
   "source": [
    "在train函數中，我們定義了輸入input及輸出標籤變數target。\n",
    "\n",
    "input, target = Variable(input).to(device), Variable(target).to(device)"
   ]
  },
  {
   "cell_type": "code",
   "execution_count": 13,
   "metadata": {
    "collapsed": false
   },
   "outputs": [
    {
     "name": "stdout",
     "output_type": "stream",
     "text": [
      "epoch start\n",
      "Epoch: 1/5  Step: 0  Loss: 4.0746... Accuracy:9.375%...\n",
      "Epoch: 1/5  Step: 50  Loss: 4.0037... Accuracy:8.938%...\n",
      "Epoch: 1/5  Step: 100  Loss: 4.0899... Accuracy:7.250%...\n",
      "Epoch: 1/5  Step: 150  Loss: 4.0876... Accuracy:6.500%...\n",
      "Epoch: 1/5  Step: 200  Loss: 4.0481... Accuracy:9.062%...\n",
      "Epoch: 1/5  Step: 250  Loss: 4.0000... Accuracy:9.125%...\n",
      "Epoch: 1/5  Step: 300  Loss: 4.0280... Accuracy:8.250%...\n",
      "Epoch: 2/5  Step: 0  Loss: 3.9979... Accuracy:6.490%...\n",
      "Epoch: 2/5  Step: 50  Loss: 4.0080... Accuracy:9.062%...\n",
      "Epoch: 2/5  Step: 100  Loss: 4.0587... Accuracy:7.438%...\n",
      "Epoch: 2/5  Step: 150  Loss: 4.0261... Accuracy:8.250%...\n",
      "Epoch: 2/5  Step: 200  Loss: 4.0330... Accuracy:8.125%...\n",
      "Epoch: 2/5  Step: 250  Loss: 3.9714... Accuracy:9.125%...\n",
      "Epoch: 2/5  Step: 300  Loss: 4.0187... Accuracy:8.938%...\n",
      "Epoch: 3/5  Step: 0  Loss: 3.9959... Accuracy:7.692%...\n",
      "Epoch: 3/5  Step: 50  Loss: 3.9718... Accuracy:8.812%...\n",
      "Epoch: 3/5  Step: 100  Loss: 4.0052... Accuracy:8.562%...\n",
      "Epoch: 3/5  Step: 150  Loss: 3.9746... Accuracy:8.062%...\n",
      "Epoch: 3/5  Step: 200  Loss: 3.9677... Accuracy:8.812%...\n",
      "Epoch: 3/5  Step: 250  Loss: 3.9089... Accuracy:10.438%...\n",
      "Epoch: 3/5  Step: 300  Loss: 3.9531... Accuracy:8.938%...\n",
      "Epoch: 4/5  Step: 0  Loss: 4.0545... Accuracy:8.894%...\n",
      "Epoch: 4/5  Step: 50  Loss: 3.9627... Accuracy:8.562%...\n",
      "Epoch: 4/5  Step: 100  Loss: 3.9090... Accuracy:9.875%...\n",
      "Epoch: 4/5  Step: 150  Loss: 3.9485... Accuracy:9.688%...\n",
      "Epoch: 4/5  Step: 200  Loss: 3.9415... Accuracy:10.062%...\n",
      "Epoch: 4/5  Step: 250  Loss: 3.9065... Accuracy:10.625%...\n",
      "Epoch: 4/5  Step: 300  Loss: 3.9478... Accuracy:9.438%...\n"
     ]
    },
    {
     "ename": "StopIteration",
     "evalue": "",
     "output_type": "error",
     "traceback": [
      "\u001b[1;31m---------------------------------------------------------------------------\u001b[0m",
      "\u001b[1;31mStopIteration\u001b[0m                             Traceback (most recent call last)",
      "\u001b[1;32m<ipython-input-13-468995dc5877>\u001b[0m in \u001b[0;36m<module>\u001b[1;34m()\u001b[0m\n\u001b[0;32m      7\u001b[0m     \u001b[0mmbs\u001b[0m \u001b[1;33m=\u001b[0m \u001b[1;36m0\u001b[0m\u001b[1;33m\u001b[0m\u001b[0m\n\u001b[0;32m      8\u001b[0m     \u001b[1;32mwhile\u001b[0m \u001b[0mmbs\u001b[0m\u001b[1;33m<=\u001b[0m\u001b[1;36m10000\u001b[0m\u001b[1;33m//\u001b[0m\u001b[0mminibatch_size\u001b[0m\u001b[1;33m:\u001b[0m\u001b[1;33m\u001b[0m\u001b[0m\n\u001b[1;32m----> 9\u001b[1;33m         \u001b[0minput\u001b[0m\u001b[1;33m,\u001b[0m \u001b[0mtarget\u001b[0m \u001b[1;33m=\u001b[0m \u001b[0mtrain_iter\u001b[0m\u001b[1;33m.\u001b[0m\u001b[0mnext\u001b[0m\u001b[1;33m(\u001b[0m\u001b[1;33m)\u001b[0m\u001b[1;33m\u001b[0m\u001b[0m\n\u001b[0m\u001b[0;32m     10\u001b[0m         \u001b[1;31m# input, target = torch.from_numpy(input), torch.from_numpy(target)\u001b[0m\u001b[1;33m\u001b[0m\u001b[1;33m\u001b[0m\u001b[0m\n\u001b[0;32m     11\u001b[0m         \u001b[0minput\u001b[0m\u001b[1;33m,\u001b[0m \u001b[0mtarget\u001b[0m \u001b[1;33m=\u001b[0m \u001b[0mVariable\u001b[0m\u001b[1;33m(\u001b[0m\u001b[0minput\u001b[0m\u001b[1;33m)\u001b[0m\u001b[1;33m.\u001b[0m\u001b[0mto\u001b[0m\u001b[1;33m(\u001b[0m\u001b[0mdevice\u001b[0m\u001b[1;33m)\u001b[0m\u001b[1;33m,\u001b[0m \u001b[0mVariable\u001b[0m\u001b[1;33m(\u001b[0m\u001b[0mtarget\u001b[0m\u001b[1;33m)\u001b[0m\u001b[1;33m.\u001b[0m\u001b[0mto\u001b[0m\u001b[1;33m(\u001b[0m\u001b[0mdevice\u001b[0m\u001b[1;33m)\u001b[0m\u001b[1;33m\u001b[0m\u001b[0m\n",
      "\u001b[1;32mC:\\Anaconda3\\lib\\site-packages\\torch\\utils\\data\\dataloader.py\u001b[0m in \u001b[0;36m__next__\u001b[1;34m(self)\u001b[0m\n\u001b[0;32m    625\u001b[0m         \u001b[1;32mif\u001b[0m \u001b[0mself\u001b[0m\u001b[1;33m.\u001b[0m\u001b[0mbatches_outstanding\u001b[0m \u001b[1;33m==\u001b[0m \u001b[1;36m0\u001b[0m\u001b[1;33m:\u001b[0m\u001b[1;33m\u001b[0m\u001b[0m\n\u001b[0;32m    626\u001b[0m             \u001b[0mself\u001b[0m\u001b[1;33m.\u001b[0m\u001b[0m_shutdown_workers\u001b[0m\u001b[1;33m(\u001b[0m\u001b[1;33m)\u001b[0m\u001b[1;33m\u001b[0m\u001b[0m\n\u001b[1;32m--> 627\u001b[1;33m             \u001b[1;32mraise\u001b[0m \u001b[0mStopIteration\u001b[0m\u001b[1;33m\u001b[0m\u001b[0m\n\u001b[0m\u001b[0;32m    628\u001b[0m \u001b[1;33m\u001b[0m\u001b[0m\n\u001b[0;32m    629\u001b[0m         \u001b[1;32mwhile\u001b[0m \u001b[1;32mTrue\u001b[0m\u001b[1;33m:\u001b[0m\u001b[1;33m\u001b[0m\u001b[0m\n",
      "\u001b[1;31mStopIteration\u001b[0m: "
     ]
    }
   ],
   "source": [
    "optimizer = optim.SGD(model.parameters(), lr=0.001, momentum=0.9)\n",
    "criterion = nn.CrossEntropyLoss()\n",
    "losses=[]\n",
    "metrics=[]\n",
    "print('epoch start')\n",
    "for epoch in range(num_epochs):\n",
    "    mbs = 0\n",
    "    while mbs<=10000//minibatch_size:\n",
    "        input, target = train_iter.next()\n",
    "        # input, target = torch.from_numpy(input), torch.from_numpy(target)\n",
    "        input, target = Variable(input).to(device), Variable(target).to(device)\n",
    "        output = model(input)\n",
    "        loss=criterion(output,target)\n",
    "        accu = 1-np.mean(np.not_equal(np.argmax(output.cpu().detach().numpy(), -1).astype(np.int64), target.cpu().detach().numpy().astype(np.int64)))\n",
    "        losses.append(loss.item())\n",
    "        metrics.append(accu)\n",
    "        optimizer.zero_grad()\n",
    "        loss.backward()\n",
    "        optimizer.step()\n",
    "        if mbs % 50 == 0:\n",
    "            print(\"Epoch: {}/{} \".format(epoch + 1, num_epochs),\n",
    "                  \"Step: {} \".format(mbs),\n",
    "                  \"Loss: {:.4f}...\".format(np.asarray(losses).mean()),\n",
    "                  \"Accuracy:{:.3%}...\".format(np.asarray(metrics).mean()))\n",
    "            losses=[]\n",
    "            metrics=[]\n",
    "\n",
    "        mbs += 1\n"
   ]
  },
  {
   "cell_type": "raw",
   "metadata": {},
   "source": [
    "初步的結果出來了，很令人沮喪的resnet並沒有發生神威，錯誤率是淒慘的99%，離我們正確率96%還有好幾步之遙，如果是你，你會如何來解決目前的問題？有哪些方案以及你的優先順序以及理由各是甚麼呢?請寫出你預計的改進計劃以及下次提交對應實作的notebook，我們會在後續的討論中讓大家了解如何找到解題頭緒"
   ]
  },
  {
   "cell_type": "raw",
   "metadata": {},
   "source": [
    "方向提示:\n",
    "1. 模型架構上可以採用既有骨幹網路修改或者是更換骨幹架構的選擇，你的想法是甚麼?\n",
    "2. 數據層級可以做哪些處理來提升準確率\n",
    "3. 由於競賽本身的規則是每個字可以提交Top5，這個規則有有甚麼影響，我在模型損失函數或是訓練方法可以對應做那些事\n",
    "4. 這個題目本身的最大難點以及機器難以分辨的核心問題是甚麼?你會如何排除它?\n",
    "5. 除了卷積到產生onehot向量這種標準的解題法，你還有哪些瘋狂的想法或是用其他深度學習技術有可能可以解題的\n",
    "\n"
   ]
  }
 ],
 "metadata": {
  "kernelspec": {
   "display_name": "Python [Root]",
   "language": "python",
   "name": "Python [Root]"
  },
  "language_info": {
   "codemirror_mode": {
    "name": "ipython",
    "version": 3
   },
   "file_extension": ".py",
   "mimetype": "text/x-python",
   "name": "python",
   "nbconvert_exporter": "python",
   "pygments_lexer": "ipython3",
   "version": "3.5.2"
  }
 },
 "nbformat": 4,
 "nbformat_minor": 0
}
