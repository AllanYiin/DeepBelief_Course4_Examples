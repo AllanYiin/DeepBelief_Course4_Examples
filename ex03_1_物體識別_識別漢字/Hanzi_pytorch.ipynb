{
 "cells": [
  {
   "cell_type": "code",
   "execution_count": 1,
   "metadata": {
    "collapsed": true
   },
   "outputs": [],
   "source": [
    "%matplotlib inline"
   ]
  },
  {
   "cell_type": "markdown",
   "metadata": {},
   "source": [
    "# 讓機器認識中文字"
   ]
  },
  {
   "cell_type": "markdown",
   "metadata": {},
   "source": [
    "###測試於pytorch 1.0"
   ]
  },
  {
   "cell_type": "raw",
   "metadata": {},
   "source": [
    "雖然說手寫數字集Mnist是的深度學習界的Hello World，但是若將題目換成了中文，難度就有天壤之別，先不論中文字數量之龐大(unicode有兩萬多)，光是各個字的造字邏輯各異之外，各個朝代的字體變化之大，恐怕從小使用中文的我們都難以識別，這對於電腦來說當然還是一個超難的題目，沒錯，手寫漢字識別一直是到現在都還無解的一級難題。"
   ]
  },
  {
   "cell_type": "markdown",
   "metadata": {},
   "source": [
    "![md_images](../Images/hanzi.jpg?raw=true)"
   ]
  },
  {
   "cell_type": "markdown",
   "metadata": {},
   "source": [
    "## 從錯誤率90幾%到正確率90幾%之路 "
   ]
  },
  {
   "cell_type": "raw",
   "metadata": {},
   "source": [
    "這一個實作我给下的副標題是「從錯誤率90幾%到正確率90幾%之路」，這個中文字識別雖然只有100字，但是裡面各種字體收集得非常完整，從甲骨文金文小篆都有，字形種類多就算了，你會發現裡面包含的完整度與清晰度，甚至有很多像是從碑上拓印下來的，所以多呈現虛化、斷裂、歪斜等狀態，因此是個非常棘手的數據集。在這個Jupyter Notebook中我們放了很簡單的利用約50層的Resnet來處理他，但是這個號稱沒有不能收斂的模型似乎這踢上了鐵板，跑上許久錯誤率仍舊停在99%，教授機器學習或深度學習的課程很多，但很少帶大家來解決難題，以及思考解難題的思路，所以這個課程期間，若選擇要深度參與這個實作的同學我會帶各位走過解難題的整個思考路徑，附帶一提，這是大陸一個數據競賽的考題，而我用同樣的數據曾經拿到測試集Top1正確率96.65%(大賽正規賽制是Top5正確率，給機率最高的5個類別，一個對了就算對)"
   ]
  },
  {
   "cell_type": "raw",
   "metadata": {},
   "source": [
    "我們首先簡單的來看一下基本的實作流程，首先引用所有需要的包"
   ]
  },
  {
   "cell_type": "code",
   "execution_count": 2,
   "metadata": {
    "collapsed": false
   },
   "outputs": [],
   "source": [
    "import matplotlib\n",
    "import matplotlib.image as mpimg\n",
    "import matplotlib.pyplot as plt\n",
    "import numpy as np\n",
    "import os\n",
    "import cv2\n",
    "import math\n",
    "import random\n",
    "import glob\n",
    "from PIL import Image\n",
    "import tqdm\n",
    "\n",
    "import torch\n",
    "import torch.nn as nn\n",
    "import torch.utils.model_zoo as model_zoo\n",
    "from torch.autograd import Variable\n",
    "import torch.nn.functional as F\n",
    "import torch.optim as optim\n",
    "import torchvision.transforms as transforms\n",
    "from  torchvision.datasets import *\n",
    "\n",
    "\n",
    "# 是否使用GPU\n",
    "device = torch.device(\"cuda\" if torch.cuda.is_available() else \"cpu\")"
   ]
  },
  {
   "cell_type": "raw",
   "metadata": {},
   "source": [
    "pytorch提供了torchvision這個庫來簡化所有與視覺相關的處理，例如datasets.ImageFolder的方式可以直接存取指定資料夾的圖片，根據根目錄下，一個類別圖片放置在獨立資料夾，然後datasets.ImageFolder就會自動讀取以及分門別類對應target索引。而torchvision的transforms則是包含了大量的資料增強功能，我們可以利用這兩項功能來組成建模所需要的數據集。由於圖片都已經分裝好在各個資料夾中，因此我們可以利用datasets.ImageFolder來遍歷所有圖檔路徑，並且可以直接從路徑上擷取出對應的中文字。我們也可以把中文字取出來去重複，總共有100個，所以我們預測的標的就是一個長度為100的onehot向量。\n",
    "\n",
    "然後再根據torch.utils.data.DataLoader中定義數據對應的minibatch，如此一來就可以完成建模的迴圈架構。\n",
    "for i, (input, target) in enumerate(train_loader):"
   ]
  },
  {
   "cell_type": "code",
   "execution_count": 3,
   "metadata": {
    "collapsed": false
   },
   "outputs": [
    {
     "name": "stdout",
     "output_type": "stream",
     "text": [
      "{'周': 21, '官': 37, '深': 67, '印': 14, '字': 33, '必': 48, '意': 50, '朝': 57, '士': 26, '守': 35, '陵': 95, '左': 43, '御': 47, '足': 90, '身': 91, '利': 13, '来': 59, '重': 94, '多': 27, '莫': 85, '衣': 87, '清': 68, '宜': 39, '鼎': 99, '我': 51, '起': 89, '堂': 25, '李': 58, '侯': 10, '作': 8, '令': 7, '高': 97, '雨': 96, '西': 88, '易': 54, '九': 3, '父': 70, '东': 2, '寒': 42, '和': 23, '宗': 36, '司': 18, '永': 64, '合': 19, '臣': 83, '从': 6, '今': 5, '夜': 28, '思': 49, '且': 0, '章': 81, '白': 75, '通': 92, '黄': 98, '遂': 93, '老': 82, '虎': 86, '元': 11, '唯': 24, '家': 41, '右': 17, '正': 61, '海': 66, '游': 69, '建': 45, '更': 56, '徐': 46, '氏': 63, '奉': 29, '林': 60, '皇': 76, '去': 15, '益': 77, '玉': 72, '常': 44, '秋': 79, '室': 40, '好': 31, '女': 30, '春': 55, '世': 1, '物': 71, '名': 20, '亭': 4, '光': 12, '用': 73, '立': 80, '命': 22, '始': 32, '武': 62, '使': 9, '孝': 34, '申': 74, '流': 65, '福': 78, '良': 84, '敬': 52, '受': 16, '定': 38, '新': 53}\n",
      "['且', '世', '东', '九', '亭', '今', '从', '令', '作', '使', '侯', '元', '光', '利', '印', '去', '受', '右', '司', '合', '名', '周', '命', '和', '唯', '堂', '士', '多', '夜', '奉', '女', '好', '始', '字', '孝', '守', '宗', '官', '定', '宜', '室', '家', '寒', '左', '常', '建', '徐', '御', '必', '思', '意', '我', '敬', '新', '易', '春', '更', '朝', '李', '来', '林', '正', '武', '氏', '永', '流', '海', '深', '清', '游', '父', '物', '玉', '用', '申', '白', '皇', '益', '福', '秋', '立', '章', '老', '臣', '良', '莫', '虎', '衣', '西', '起', '足', '身', '通', '遂', '重', '陵', '雨', '高', '黄', '鼎']\n",
      "40000\n"
     ]
    }
   ],
   "source": [
    "img_transform=transforms.Compose([\n",
    "            transforms.CenterCrop(64),\n",
    "            transforms.RandomHorizontalFlip(),\n",
    "            transforms.ToTensor()\n",
    "        ])\n",
    "\n",
    "traindataset = ImageFolder('../Data/ex02_train/',transform=img_transform)\n",
    "print(traindataset.class_to_idx) #等同於word2idx\n",
    "#編碼onehot的第一步驟是將100個中文字去重排序好，產生對應的字對到索引的字典，以及反向可以從索引轉回對應的字的字典。\n",
    "\n",
    "print(traindataset.classes)\n",
    "print(len(traindataset.samples)) #案例數\n",
    "\n"
   ]
  },
  {
   "cell_type": "raw",
   "metadata": {},
   "source": [
    "我們隨機抽一個字來展現"
   ]
  },
  {
   "cell_type": "code",
   "execution_count": 4,
   "metadata": {
    "collapsed": false
   },
   "outputs": [
    {
     "name": "stdout",
     "output_type": "stream",
     "text": [
      "('../Data/ex02_train/亭\\\\28d062df616df124ca0619747393930fb8785ac8.jpg', 4)\n",
      "亭\n"
     ]
    },
    {
     "data": {
      "text/plain": [
       "<matplotlib.image.AxesImage at 0x1d170a8a630>"
      ]
     },
     "execution_count": 4,
     "metadata": {},
     "output_type": "execute_result"
    },
    {
     "data": {
      "image/png": "[encoded data removed]",
      "text/plain": [
       "<matplotlib.figure.Figure at 0x1d170a8a5c0>"
      ]
     },
     "metadata": {},
     "output_type": "display_data"
    }
   ],
   "source": [
    "imgtuple=random.choice(traindataset.samples)\n",
    "print(imgtuple)\n",
    "\n",
    "img = Image.open(imgtuple[0])\n",
    "print(traindataset.classes[imgtuple[1]])\n",
    "plt.axis('off')\n",
    "plt.imshow(img,cmap='gray')\n"
   ]
  },
  {
   "cell_type": "raw",
   "metadata": {},
   "source": [
    "由於python版的opencv無法讀取路徑有中文的圖片，也因此只好費工一點使用PIL.Image讀取。由於這個數據是黑白圖片，因此不用去做RGB轉GBR的過程，但是仍要把HWC轉換為CHW。使用PIL.Image模組有個附帶的好處，它內建了thumbnail這個「保持比例縮放」的功能，這樣可以確保我們竟可能得保持字體的原貌。(雖然圖像識別我們的確可以做各種過分的扭曲比例縮放，但相信我，在這個題目上，讓字體扭曲只是雪上加霜。)\n",
    "\n",
    "同時透過get_next_minibatch來提供後續建模要用的批次數據。"
   ]
  },
  {
   "cell_type": "raw",
   "metadata": {},
   "source": [
    "接下來要請出的是機器視覺中的常客resnet來料理這一題，基本上resnet透過跳轉連接，讓梯度有效傳遞，所以能讓超深的架構得以實現。但是解題可不是一率都用超深模型就好，否則反而變成效率上的重擔。\n",
    "\n",
    "卷積+batch normalization +relu這個組合應該算是跟深度學習界的經典配方，這裡比較特別的是卷積的活化函數為None，待做完正規化後才去做relu，這會有效地做梯度整流，避免梯度還沒調整到正確位置，但是落入負數區就慘遭relu毒手。"
   ]
  },
  {
   "cell_type": "code",
   "execution_count": 5,
   "metadata": {
    "collapsed": false
   },
   "outputs": [
    {
     "name": "stdout",
     "output_type": "stream",
     "text": [
      "model initial\n"
     ]
    }
   ],
   "source": [
    "def conv3x3(in_planes, out_planes, stride=1):\n",
    "    return nn.Conv2d(in_planes, out_planes, kernel_size=3, stride=stride,padding=1, bias=False)\n",
    "def conv1x1(in_planes, out_planes, stride=1):\n",
    "    return nn.Conv2d(in_planes, out_planes, kernel_size=1, stride=stride, bias=False)\n",
    "\n",
    "class resnet_basic(nn.Module):\n",
    "    def __init__(self, inplanes, stride=1):\n",
    "        super(resnet_basic, self).__init__()\n",
    "        self.conv1 = conv3x3(inplanes, inplanes, stride)\n",
    "        self.bn1 = nn.BatchNorm2d(inplanes)\n",
    "        self.relu = nn.ReLU(inplace=True)\n",
    "        self.conv2 =conv3x3(inplanes, inplanes, stride)\n",
    "        self.bn2 = nn.BatchNorm2d(inplanes)\n",
    "        self.stride = stride\n",
    "        \n",
    "    def forward(self, x):\n",
    "        residual = x\n",
    "        out = self.conv1(x)\n",
    "        out = self.bn1(out)\n",
    "        out = self.relu(out)\n",
    "        out = self.conv2(out)\n",
    "        out = self.bn2(out)\n",
    "        out += residual\n",
    "        out = self.relu(out)\n",
    "        return out\n",
    "\n",
    "class resnet_basic_inc(nn.Module):\n",
    "    def __init__(self, inplanes,planes, stride=1, downsample=None):\n",
    "        super(resnet_basic_inc, self).__init__()\n",
    "        self.conv1 = conv3x3(inplanes, planes, stride=2)\n",
    "        self.bn1 = nn.BatchNorm2d(planes)\n",
    "        self.relu = nn.ReLU(inplace=True)\n",
    "        self.conv2 = conv3x3(planes, planes,stride=1)\n",
    "        self.bn2 = nn.BatchNorm2d(planes)\n",
    "        self.convx = conv1x1(inplanes, planes, stride=2)\n",
    "        self.bnx = nn.BatchNorm2d(planes)\n",
    "        self.stride = stride\n",
    "        \n",
    "    def forward(self, x):\n",
    "        \n",
    "        out = self.conv1(x)\n",
    "        out = self.bn1(out)\n",
    "        out = self.relu(out)\n",
    "        out = self.conv2(out)\n",
    "        out = self.bn2(out)\n",
    "        \n",
    "        x=self.convx(x)\n",
    "        x=self.bnx(x)\n",
    "        residual = x\n",
    "        out += residual\n",
    "        out = self.relu(out)\n",
    "        return out\n",
    "\n",
    "    \n",
    "class resnet_basic_stack(nn.Module):\n",
    "    def __init__(self, inplanes,planes, stride=1, num_stack_layers=3):\n",
    "        super(resnet_basic_stack, self).__init__()\n",
    "        self.resnet_basic = resnet_basic(inplanes,stride)\n",
    "        self.num_stack_layers=num_stack_layers\n",
    "        self.resnet_basic=resnet_basic(inplanes)\n",
    "        \n",
    "    def forward(self, x):\n",
    "        for _ in range(self.num_stack_layers):\n",
    "            x = self.resnet_basic(x)\n",
    "        return x\n",
    "\n",
    "class ResNet(nn.Module):\n",
    "    def __init__(self, c_map=[16, 64, 128], num_stack_layers=5, num_classes=100):\n",
    "        super(ResNet, self).__init__()\n",
    "        self.c_map = c_map\n",
    "        self.inplanes = 16\n",
    "        self.num_stack_layers = num_stack_layers\n",
    "        self.num_classes = num_classes\n",
    "        self.conv1 = conv3x3(3, 16, 1)\n",
    "        self.bn1 = nn.BatchNorm2d(16)\n",
    "        self.relu = nn.ReLU(inplace=True)\n",
    "\n",
    "        self.r1 = resnet_basic_stack(self.c_map[0], num_stack_layers - 1)\n",
    "        self.r2_1 = resnet_basic_inc(self.c_map[0],self.c_map[1], 1)\n",
    "        self.r2_2 = resnet_basic_stack(self.c_map[1], num_stack_layers - 1)\n",
    "        self.r3_1 = resnet_basic_inc(self.c_map[1],self.c_map[2], 1)\n",
    "        self.r3_2 = resnet_basic_stack(self.c_map[2], num_stack_layers - 1)\n",
    "        self.c1= conv3x3(self.c_map[1], self.c_map[1], 2)\n",
    "        self.c2 = conv3x3(self.c_map[2], self.c_map[2], 2)\n",
    "        self.avgpool = nn.AdaptiveAvgPool2d((1, 1))\n",
    "        self.fc = nn.Linear(128, num_classes)\n",
    "\n",
    "    def forward(self, x):\n",
    "        x = self.conv1(x)\n",
    "        x = self.bn1(x)\n",
    "        x = self.relu(x)\n",
    "        x = self.r1(x)\n",
    "        x = self.r2_1(x)\n",
    "        x = self.c1(x)\n",
    "        x = self.r2_2(x)\n",
    "        x = self.r3_1(x)\n",
    "        x = self.c2(x)\n",
    "        x = self.r3_2(x)\n",
    "        x = self.avgpool(x)\n",
    "        x = x.view(x.size(0), -1)\n",
    "        x = self.fc(x)\n",
    "        return x\n",
    "\n",
    "\n",
    "model = ResNet(c_map=[16, 64, 128], num_stack_layers=5, num_classes=100).to(device)\n",
    "print('model initial')"
   ]
  },
  {
   "cell_type": "raw",
   "metadata": {},
   "source": [
    "plot_history是根據訓練過程中收集到的history的損失與評估函數結果繪製成圖表。"
   ]
  },
  {
   "cell_type": "code",
   "execution_count": 6,
   "metadata": {
    "collapsed": true
   },
   "outputs": [],
   "source": [
    "def plot_history(history):\n",
    "    plt.plot(history['acc1'])\n",
    "    plt.plot(history['acc2'])\n",
    "    plt.title('model accuracy')\n",
    "    plt.ylabel('accuracy')\n",
    "    plt.xlabel('mbs')\n",
    "    plt.legend(['resnet01', 'resnet02'], loc='upper left')\n",
    "    plt.show()\n",
    "    # summarize history for loss\n",
    "    plt.plot(history['loss1'])\n",
    "    plt.plot(history['loss2'])\n",
    "    plt.title('model loss')\n",
    "    plt.ylabel('loss')\n",
    "    plt.xlabel('mbs')\n",
    "    plt.legend(['resnet01', 'resnet02'], loc='upper left')\n",
    "    plt.show()\n",
    "    "
   ]
  },
  {
   "cell_type": "code",
   "execution_count": null,
   "metadata": {
    "collapsed": false
   },
   "outputs": [
    {
     "name": "stdout",
     "output_type": "stream",
     "text": [
      "torch.Size([16, 3, 64, 64])\n",
      "torch.Size([16])\n"
     ]
    }
   ],
   "source": [
    "minibatch_size =16\n",
    "num_epochs=3\n",
    "\n",
    "\n",
    "train_loader = torch.utils.data.DataLoader(traindataset, batch_size=minibatch_size, shuffle=True, num_workers=0)\n",
    "train_iter = iter(train_loader)\n",
    "\n",
    "\n",
    "images, labels = train_iter.next()\n",
    "print(images.shape)\n",
    "print(labels.shape)"
   ]
  },
  {
   "cell_type": "raw",
   "metadata": {},
   "source": [
    "在train函數中，我們定義了輸入(input_var)及輸出標籤變數(label_var)，同時定義了兩種不同特徵圖數量的resnet，進一步的來比較建模效果。"
   ]
  },
  {
   "cell_type": "code",
   "execution_count": null,
   "metadata": {
    "collapsed": false
   },
   "outputs": [
    {
     "name": "stdout",
     "output_type": "stream",
     "text": [
      "epoch start\n",
      "Epoch: 1/3  Step: 0  Loss: 4.8343... Accuracy:0.000%...\n",
      "Epoch: 1/3  Step: 1  Loss: 4.7821... Accuracy:0.000%...\n",
      "Epoch: 1/3  Step: 2  Loss: 4.5596... Accuracy:0.000%...\n",
      "Epoch: 1/3  Step: 3  Loss: 4.3969... Accuracy:0.000%...\n",
      "Epoch: 1/3  Step: 4  Loss: 4.7697... Accuracy:0.000%...\n",
      "Epoch: 1/3  Step: 5  Loss: 4.7350... Accuracy:0.000%...\n",
      "Epoch: 1/3  Step: 10  Loss: 4.7356... Accuracy:6.250%...\n",
      "Epoch: 1/3  Step: 15  Loss: 4.5438... Accuracy:0.000%...\n",
      "Epoch: 1/3  Step: 20  Loss: 4.7502... Accuracy:0.000%...\n",
      "Epoch: 1/3  Step: 25  Loss: 4.8283... Accuracy:0.000%...\n",
      "Epoch: 1/3  Step: 30  Loss: 4.7077... Accuracy:0.000%...\n",
      "Epoch: 1/3  Step: 35  Loss: 4.8421... Accuracy:0.000%...\n",
      "Epoch: 1/3  Step: 40  Loss: 4.6315... Accuracy:6.250%...\n",
      "Epoch: 1/3  Step: 45  Loss: 4.6089... Accuracy:0.000%...\n",
      "Epoch: 1/3  Step: 50  Loss: 4.6359... Accuracy:0.000%...\n",
      "Epoch: 1/3  Step: 55  Loss: 4.7965... Accuracy:0.000%...\n",
      "Epoch: 1/3  Step: 60  Loss: 4.8416... Accuracy:0.000%...\n",
      "Epoch: 1/3  Step: 65  Loss: 4.6827... Accuracy:6.250%...\n",
      "Epoch: 1/3  Step: 70  Loss: 4.7001... Accuracy:0.000%...\n",
      "Epoch: 1/3  Step: 75  Loss: 4.6811... Accuracy:0.000%...\n",
      "Epoch: 1/3  Step: 80  Loss: 4.6217... Accuracy:0.000%...\n",
      "Epoch: 1/3  Step: 85  Loss: 4.7084... Accuracy:0.000%...\n",
      "Epoch: 1/3  Step: 90  Loss: 4.5702... Accuracy:0.000%...\n",
      "Epoch: 1/3  Step: 95  Loss: 4.5825... Accuracy:0.000%...\n",
      "Epoch: 1/3  Step: 100  Loss: 4.5996... Accuracy:0.000%...\n",
      "Epoch: 1/3  Step: 105  Loss: 4.6912... Accuracy:0.000%...\n",
      "Epoch: 1/3  Step: 110  Loss: 4.4452... Accuracy:0.000%...\n",
      "Epoch: 1/3  Step: 115  Loss: 4.5476... Accuracy:6.250%...\n",
      "Epoch: 1/3  Step: 120  Loss: 4.6660... Accuracy:0.000%...\n",
      "Epoch: 1/3  Step: 125  Loss: 4.6476... Accuracy:0.000%...\n",
      "Epoch: 1/3  Step: 130  Loss: 4.6347... Accuracy:0.000%...\n",
      "Epoch: 1/3  Step: 135  Loss: 4.5364... Accuracy:0.000%...\n",
      "Epoch: 1/3  Step: 140  Loss: 4.6887... Accuracy:0.000%...\n",
      "Epoch: 1/3  Step: 145  Loss: 4.5108... Accuracy:6.250%...\n",
      "Epoch: 1/3  Step: 150  Loss: 4.5127... Accuracy:0.000%...\n",
      "Epoch: 1/3  Step: 155  Loss: 4.6345... Accuracy:0.000%...\n",
      "Epoch: 1/3  Step: 160  Loss: 4.7218... Accuracy:0.000%...\n",
      "Epoch: 1/3  Step: 165  Loss: 4.5871... Accuracy:0.000%...\n",
      "Epoch: 1/3  Step: 170  Loss: 4.5551... Accuracy:0.000%...\n",
      "Epoch: 1/3  Step: 175  Loss: 4.5802... Accuracy:0.000%...\n",
      "Epoch: 1/3  Step: 180  Loss: 4.6007... Accuracy:0.000%...\n",
      "Epoch: 1/3  Step: 185  Loss: 4.6829... Accuracy:0.000%...\n",
      "Epoch: 1/3  Step: 190  Loss: 4.7421... Accuracy:0.000%...\n",
      "Epoch: 1/3  Step: 195  Loss: 4.6507... Accuracy:0.000%...\n",
      "Epoch: 1/3  Step: 200  Loss: 4.5478... Accuracy:6.250%...\n",
      "Epoch: 1/3  Step: 205  Loss: 4.4060... Accuracy:6.250%...\n",
      "Epoch: 1/3  Step: 210  Loss: 4.5586... Accuracy:0.000%...\n",
      "Epoch: 1/3  Step: 215  Loss: 4.5662... Accuracy:0.000%...\n",
      "Epoch: 1/3  Step: 220  Loss: 4.6251... Accuracy:0.000%...\n",
      "Epoch: 1/3  Step: 225  Loss: 4.5842... Accuracy:6.250%...\n",
      "Epoch: 1/3  Step: 230  Loss: 4.6709... Accuracy:0.000%...\n",
      "Epoch: 1/3  Step: 235  Loss: 4.5714... Accuracy:18.750%...\n",
      "Epoch: 1/3  Step: 240  Loss: 4.6815... Accuracy:0.000%...\n",
      "Epoch: 1/3  Step: 245  Loss: 4.5242... Accuracy:0.000%...\n",
      "Epoch: 1/3  Step: 250  Loss: 4.6867... Accuracy:0.000%...\n",
      "Epoch: 1/3  Step: 255  Loss: 4.7388... Accuracy:0.000%...\n",
      "Epoch: 1/3  Step: 260  Loss: 4.6142... Accuracy:0.000%...\n",
      "Epoch: 1/3  Step: 265  Loss: 4.5983... Accuracy:0.000%...\n",
      "Epoch: 1/3  Step: 270  Loss: 4.6658... Accuracy:0.000%...\n",
      "Epoch: 1/3  Step: 275  Loss: 4.5852... Accuracy:0.000%...\n",
      "Epoch: 1/3  Step: 280  Loss: 4.5989... Accuracy:0.000%...\n",
      "Epoch: 1/3  Step: 285  Loss: 4.6346... Accuracy:0.000%...\n",
      "Epoch: 1/3  Step: 290  Loss: 4.5501... Accuracy:6.250%...\n",
      "Epoch: 1/3  Step: 295  Loss: 4.6134... Accuracy:0.000%...\n",
      "Epoch: 1/3  Step: 300  Loss: 4.6062... Accuracy:0.000%...\n",
      "Epoch: 1/3  Step: 305  Loss: 4.5870... Accuracy:0.000%...\n",
      "Epoch: 1/3  Step: 310  Loss: 4.6073... Accuracy:0.000%...\n",
      "Epoch: 1/3  Step: 315  Loss: 4.5628... Accuracy:6.250%...\n",
      "Epoch: 1/3  Step: 320  Loss: 4.6429... Accuracy:0.000%...\n",
      "Epoch: 1/3  Step: 325  Loss: 4.5565... Accuracy:6.250%...\n",
      "Epoch: 1/3  Step: 330  Loss: 4.5872... Accuracy:6.250%...\n",
      "Epoch: 1/3  Step: 335  Loss: 4.5875... Accuracy:0.000%...\n",
      "Epoch: 1/3  Step: 340  Loss: 4.5310... Accuracy:0.000%...\n",
      "Epoch: 1/3  Step: 345  Loss: 4.5638... Accuracy:0.000%...\n",
      "Epoch: 1/3  Step: 350  Loss: 4.5437... Accuracy:0.000%...\n",
      "Epoch: 1/3  Step: 355  Loss: 4.5661... Accuracy:0.000%...\n",
      "Epoch: 1/3  Step: 360  Loss: 4.5540... Accuracy:0.000%...\n",
      "Epoch: 1/3  Step: 365  Loss: 4.6821... Accuracy:0.000%...\n",
      "Epoch: 1/3  Step: 370  Loss: 4.5315... Accuracy:0.000%...\n",
      "Epoch: 1/3  Step: 375  Loss: 4.5723... Accuracy:0.000%...\n",
      "Epoch: 1/3  Step: 380  Loss: 4.5250... Accuracy:0.000%...\n",
      "Epoch: 1/3  Step: 385  Loss: 4.6241... Accuracy:6.250%...\n",
      "Epoch: 1/3  Step: 390  Loss: 4.5760... Accuracy:0.000%...\n",
      "Epoch: 1/3  Step: 395  Loss: 4.6365... Accuracy:0.000%...\n",
      "Epoch: 1/3  Step: 400  Loss: 4.5980... Accuracy:0.000%...\n",
      "Epoch: 1/3  Step: 405  Loss: 4.5885... Accuracy:6.250%...\n",
      "Epoch: 1/3  Step: 410  Loss: 4.6019... Accuracy:0.000%...\n",
      "Epoch: 1/3  Step: 415  Loss: 4.5697... Accuracy:0.000%...\n",
      "Epoch: 1/3  Step: 420  Loss: 4.6234... Accuracy:6.250%...\n",
      "Epoch: 1/3  Step: 425  Loss: 4.6395... Accuracy:0.000%...\n",
      "Epoch: 1/3  Step: 430  Loss: 4.5835... Accuracy:0.000%...\n",
      "Epoch: 1/3  Step: 435  Loss: 4.5771... Accuracy:0.000%...\n",
      "Epoch: 1/3  Step: 440  Loss: 4.5028... Accuracy:0.000%...\n",
      "Epoch: 1/3  Step: 445  Loss: 4.6491... Accuracy:0.000%...\n",
      "Epoch: 1/3  Step: 450  Loss: 4.5439... Accuracy:0.000%...\n",
      "Epoch: 1/3  Step: 455  Loss: 4.6339... Accuracy:0.000%...\n",
      "Epoch: 1/3  Step: 460  Loss: 4.5607... Accuracy:0.000%...\n",
      "Epoch: 1/3  Step: 465  Loss: 4.5689... Accuracy:0.000%...\n",
      "Epoch: 1/3  Step: 470  Loss: 4.6075... Accuracy:0.000%...\n",
      "Epoch: 1/3  Step: 475  Loss: 4.6836... Accuracy:0.000%...\n",
      "Epoch: 1/3  Step: 480  Loss: 4.6069... Accuracy:0.000%...\n",
      "Epoch: 1/3  Step: 485  Loss: 4.7040... Accuracy:0.000%...\n",
      "Epoch: 1/3  Step: 490  Loss: 4.6082... Accuracy:0.000%...\n",
      "Epoch: 1/3  Step: 495  Loss: 4.5903... Accuracy:0.000%...\n",
      "Epoch: 1/3  Step: 500  Loss: 4.5003... Accuracy:6.250%...\n",
      "Epoch: 1/3  Step: 505  Loss: 4.6208... Accuracy:0.000%...\n",
      "Epoch: 1/3  Step: 510  Loss: 4.5994... Accuracy:0.000%...\n",
      "Epoch: 1/3  Step: 515  Loss: 4.6931... Accuracy:0.000%...\n",
      "Epoch: 1/3  Step: 520  Loss: 4.5572... Accuracy:0.000%...\n",
      "Epoch: 1/3  Step: 525  Loss: 4.5804... Accuracy:6.250%...\n",
      "Epoch: 1/3  Step: 530  Loss: 4.5737... Accuracy:6.250%...\n",
      "Epoch: 1/3  Step: 535  Loss: 4.5990... Accuracy:0.000%...\n",
      "Epoch: 1/3  Step: 540  Loss: 4.6385... Accuracy:0.000%...\n",
      "Epoch: 1/3  Step: 545  Loss: 4.5388... Accuracy:6.250%...\n",
      "Epoch: 1/3  Step: 550  Loss: 4.5440... Accuracy:0.000%...\n",
      "Epoch: 1/3  Step: 555  Loss: 4.5610... Accuracy:0.000%...\n",
      "Epoch: 1/3  Step: 560  Loss: 4.6134... Accuracy:0.000%...\n",
      "Epoch: 1/3  Step: 565  Loss: 4.6177... Accuracy:0.000%...\n",
      "Epoch: 1/3  Step: 570  Loss: 4.5765... Accuracy:6.250%...\n",
      "Epoch: 1/3  Step: 575  Loss: 4.5806... Accuracy:0.000%...\n",
      "Epoch: 1/3  Step: 580  Loss: 4.5951... Accuracy:0.000%...\n",
      "Epoch: 1/3  Step: 585  Loss: 4.5987... Accuracy:0.000%...\n",
      "Epoch: 1/3  Step: 590  Loss: 4.4117... Accuracy:12.500%...\n",
      "Epoch: 1/3  Step: 595  Loss: 4.6079... Accuracy:0.000%...\n",
      "Epoch: 1/3  Step: 600  Loss: 4.6304... Accuracy:0.000%...\n",
      "Epoch: 1/3  Step: 605  Loss: 4.6667... Accuracy:0.000%...\n",
      "Epoch: 1/3  Step: 610  Loss: 4.5525... Accuracy:0.000%...\n",
      "Epoch: 1/3  Step: 615  Loss: 4.5945... Accuracy:0.000%...\n",
      "Epoch: 1/3  Step: 620  Loss: 4.4673... Accuracy:0.000%...\n",
      "Epoch: 1/3  Step: 625  Loss: 4.5980... Accuracy:0.000%...\n",
      "Epoch: 1/3  Step: 630  Loss: 4.3935... Accuracy:6.250%...\n",
      "Epoch: 1/3  Step: 635  Loss: 4.6495... Accuracy:0.000%...\n",
      "Epoch: 1/3  Step: 640  Loss: 4.5296... Accuracy:0.000%...\n",
      "Epoch: 1/3  Step: 645  Loss: 4.6141... Accuracy:0.000%...\n",
      "Epoch: 1/3  Step: 650  Loss: 4.5072... Accuracy:0.000%...\n",
      "Epoch: 1/3  Step: 655  Loss: 4.7131... Accuracy:0.000%...\n",
      "Epoch: 1/3  Step: 660  Loss: 4.5793... Accuracy:0.000%...\n",
      "Epoch: 1/3  Step: 665  Loss: 4.5892... Accuracy:0.000%...\n",
      "Epoch: 1/3  Step: 670  Loss: 4.6561... Accuracy:0.000%...\n",
      "Epoch: 1/3  Step: 675  Loss: 4.5755... Accuracy:6.250%...\n",
      "Epoch: 1/3  Step: 680  Loss: 4.5981... Accuracy:0.000%...\n",
      "Epoch: 1/3  Step: 685  Loss: 4.6399... Accuracy:0.000%...\n",
      "Epoch: 1/3  Step: 690  Loss: 4.6138... Accuracy:0.000%...\n",
      "Epoch: 1/3  Step: 695  Loss: 4.5616... Accuracy:0.000%...\n",
      "Epoch: 1/3  Step: 700  Loss: 4.5217... Accuracy:6.250%...\n",
      "Epoch: 1/3  Step: 705  Loss: 4.5878... Accuracy:0.000%...\n",
      "Epoch: 1/3  Step: 710  Loss: 4.6169... Accuracy:0.000%...\n",
      "Epoch: 1/3  Step: 715  Loss: 4.5376... Accuracy:0.000%...\n",
      "Epoch: 1/3  Step: 720  Loss: 4.5501... Accuracy:6.250%...\n",
      "Epoch: 1/3  Step: 725  Loss: 4.6789... Accuracy:0.000%...\n",
      "Epoch: 1/3  Step: 730  Loss: 4.6882... Accuracy:0.000%...\n",
      "Epoch: 1/3  Step: 735  Loss: 4.6144... Accuracy:0.000%...\n",
      "Epoch: 1/3  Step: 740  Loss: 4.6088... Accuracy:0.000%...\n",
      "Epoch: 1/3  Step: 745  Loss: 4.5847... Accuracy:0.000%...\n",
      "Epoch: 1/3  Step: 750  Loss: 4.5912... Accuracy:0.000%...\n",
      "Epoch: 1/3  Step: 755  Loss: 4.5908... Accuracy:0.000%...\n",
      "Epoch: 1/3  Step: 760  Loss: 4.4945... Accuracy:0.000%...\n",
      "Epoch: 1/3  Step: 765  Loss: 4.5459... Accuracy:6.250%...\n",
      "Epoch: 1/3  Step: 770  Loss: 4.6467... Accuracy:6.250%...\n",
      "Epoch: 1/3  Step: 775  Loss: 4.3963... Accuracy:0.000%...\n",
      "Epoch: 1/3  Step: 780  Loss: 4.7509... Accuracy:0.000%...\n",
      "Epoch: 1/3  Step: 785  Loss: 4.5506... Accuracy:0.000%...\n",
      "Epoch: 1/3  Step: 790  Loss: 4.5214... Accuracy:0.000%...\n",
      "Epoch: 1/3  Step: 795  Loss: 4.5571... Accuracy:0.000%...\n",
      "Epoch: 1/3  Step: 800  Loss: 4.5839... Accuracy:0.000%...\n",
      "Epoch: 1/3  Step: 805  Loss: 4.5434... Accuracy:0.000%...\n",
      "Epoch: 1/3  Step: 810  Loss: 4.5185... Accuracy:0.000%...\n",
      "Epoch: 1/3  Step: 815  Loss: 4.4522... Accuracy:6.250%...\n",
      "Epoch: 1/3  Step: 820  Loss: 4.5331... Accuracy:0.000%...\n",
      "Epoch: 1/3  Step: 825  Loss: 4.6226... Accuracy:0.000%...\n",
      "Epoch: 1/3  Step: 830  Loss: 4.5515... Accuracy:0.000%...\n",
      "Epoch: 1/3  Step: 835  Loss: 4.5750... Accuracy:0.000%...\n",
      "Epoch: 1/3  Step: 840  Loss: 4.6320... Accuracy:0.000%...\n",
      "Epoch: 1/3  Step: 845  Loss: 4.6695... Accuracy:0.000%...\n",
      "Epoch: 1/3  Step: 850  Loss: 4.4861... Accuracy:0.000%...\n",
      "Epoch: 1/3  Step: 855  Loss: 4.5530... Accuracy:0.000%...\n",
      "Epoch: 1/3  Step: 860  Loss: 4.4145... Accuracy:0.000%...\n",
      "Epoch: 1/3  Step: 865  Loss: 4.6357... Accuracy:0.000%...\n",
      "Epoch: 1/3  Step: 870  Loss: 4.6020... Accuracy:0.000%...\n",
      "Epoch: 1/3  Step: 875  Loss: 4.7545... Accuracy:0.000%...\n",
      "Epoch: 1/3  Step: 880  Loss: 4.5424... Accuracy:0.000%...\n",
      "Epoch: 1/3  Step: 885  Loss: 4.4605... Accuracy:0.000%...\n",
      "Epoch: 1/3  Step: 890  Loss: 4.4342... Accuracy:0.000%...\n",
      "Epoch: 1/3  Step: 895  Loss: 4.4055... Accuracy:6.250%...\n",
      "Epoch: 1/3  Step: 900  Loss: 4.6072... Accuracy:0.000%...\n",
      "Epoch: 1/3  Step: 905  Loss: 4.6310... Accuracy:0.000%...\n",
      "Epoch: 1/3  Step: 910  Loss: 4.7019... Accuracy:0.000%...\n",
      "Epoch: 1/3  Step: 915  Loss: 4.4648... Accuracy:0.000%...\n",
      "Epoch: 1/3  Step: 920  Loss: 4.7260... Accuracy:0.000%...\n",
      "Epoch: 1/3  Step: 925  Loss: 4.5383... Accuracy:0.000%...\n",
      "Epoch: 1/3  Step: 930  Loss: 4.5187... Accuracy:0.000%...\n",
      "Epoch: 1/3  Step: 935  Loss: 4.4221... Accuracy:6.250%...\n",
      "Epoch: 1/3  Step: 940  Loss: 4.4065... Accuracy:0.000%...\n",
      "Epoch: 1/3  Step: 945  Loss: 4.6513... Accuracy:12.500%...\n",
      "Epoch: 1/3  Step: 950  Loss: 4.5865... Accuracy:0.000%...\n",
      "Epoch: 1/3  Step: 955  Loss: 4.4490... Accuracy:0.000%...\n",
      "Epoch: 1/3  Step: 960  Loss: 4.4056... Accuracy:0.000%...\n",
      "Epoch: 1/3  Step: 965  Loss: 4.6060... Accuracy:0.000%...\n",
      "Epoch: 1/3  Step: 970  Loss: 4.6443... Accuracy:0.000%...\n",
      "Epoch: 1/3  Step: 975  Loss: 4.5344... Accuracy:0.000%...\n",
      "Epoch: 1/3  Step: 980  Loss: 4.6172... Accuracy:0.000%...\n",
      "Epoch: 1/3  Step: 985  Loss: 4.4562... Accuracy:0.000%...\n",
      "Epoch: 1/3  Step: 990  Loss: 4.4129... Accuracy:6.250%...\n",
      "Epoch: 1/3  Step: 995  Loss: 4.6424... Accuracy:0.000%...\n",
      "Epoch: 1/3  Step: 1000  Loss: 4.5543... Accuracy:6.250%...\n",
      "Epoch: 1/3  Step: 1005  Loss: 4.4750... Accuracy:0.000%...\n",
      "Epoch: 1/3  Step: 1010  Loss: 4.4091... Accuracy:6.250%...\n",
      "Epoch: 1/3  Step: 1015  Loss: 4.4103... Accuracy:0.000%...\n",
      "Epoch: 1/3  Step: 1020  Loss: 4.2957... Accuracy:6.250%...\n",
      "Epoch: 1/3  Step: 1025  Loss: 4.3990... Accuracy:6.250%...\n",
      "Epoch: 1/3  Step: 1030  Loss: 4.6116... Accuracy:0.000%...\n",
      "Epoch: 1/3  Step: 1035  Loss: 4.5769... Accuracy:0.000%...\n",
      "Epoch: 1/3  Step: 1040  Loss: 4.4432... Accuracy:0.000%...\n",
      "Epoch: 1/3  Step: 1045  Loss: 4.4337... Accuracy:0.000%...\n",
      "Epoch: 1/3  Step: 1050  Loss: 4.5605... Accuracy:0.000%...\n",
      "Epoch: 1/3  Step: 1055  Loss: 4.6160... Accuracy:0.000%...\n",
      "Epoch: 1/3  Step: 1060  Loss: 4.4795... Accuracy:0.000%...\n",
      "Epoch: 1/3  Step: 1065  Loss: 4.5511... Accuracy:0.000%...\n",
      "Epoch: 1/3  Step: 1070  Loss: 4.4610... Accuracy:6.250%...\n",
      "Epoch: 1/3  Step: 1075  Loss: 4.4477... Accuracy:6.250%...\n",
      "Epoch: 1/3  Step: 1080  Loss: 4.3957... Accuracy:6.250%...\n",
      "Epoch: 1/3  Step: 1085  Loss: 4.6211... Accuracy:0.000%...\n",
      "Epoch: 1/3  Step: 1090  Loss: 4.6927... Accuracy:0.000%...\n",
      "Epoch: 1/3  Step: 1095  Loss: 4.5384... Accuracy:0.000%...\n",
      "Epoch: 1/3  Step: 1100  Loss: 4.5378... Accuracy:0.000%...\n",
      "Epoch: 1/3  Step: 1105  Loss: 4.6157... Accuracy:0.000%...\n",
      "Epoch: 1/3  Step: 1110  Loss: 4.7210... Accuracy:0.000%...\n",
      "Epoch: 1/3  Step: 1115  Loss: 4.5307... Accuracy:0.000%...\n",
      "Epoch: 1/3  Step: 1120  Loss: 4.3458... Accuracy:6.250%...\n",
      "Epoch: 1/3  Step: 1125  Loss: 4.4901... Accuracy:0.000%...\n",
      "Epoch: 1/3  Step: 1130  Loss: 4.6326... Accuracy:0.000%...\n",
      "Epoch: 1/3  Step: 1135  Loss: 4.6187... Accuracy:0.000%...\n",
      "Epoch: 1/3  Step: 1140  Loss: 4.4978... Accuracy:12.500%...\n",
      "Epoch: 1/3  Step: 1145  Loss: 4.5322... Accuracy:6.250%...\n",
      "Epoch: 1/3  Step: 1150  Loss: 4.3866... Accuracy:6.250%...\n",
      "Epoch: 1/3  Step: 1155  Loss: 4.4593... Accuracy:6.250%...\n",
      "Epoch: 1/3  Step: 1160  Loss: 4.3355... Accuracy:6.250%...\n",
      "Epoch: 1/3  Step: 1165  Loss: 4.5926... Accuracy:0.000%...\n",
      "Epoch: 1/3  Step: 1170  Loss: 4.5896... Accuracy:0.000%...\n",
      "Epoch: 1/3  Step: 1175  Loss: 4.5655... Accuracy:0.000%...\n",
      "Epoch: 1/3  Step: 1180  Loss: 4.6226... Accuracy:0.000%...\n",
      "Epoch: 1/3  Step: 1185  Loss: 4.4918... Accuracy:0.000%...\n",
      "Epoch: 1/3  Step: 1190  Loss: 4.4139... Accuracy:6.250%...\n",
      "Epoch: 1/3  Step: 1195  Loss: 4.4678... Accuracy:0.000%...\n",
      "Epoch: 1/3  Step: 1200  Loss: 4.3728... Accuracy:12.500%...\n",
      "Epoch: 1/3  Step: 1205  Loss: 4.4848... Accuracy:0.000%...\n",
      "Epoch: 1/3  Step: 1210  Loss: 4.5872... Accuracy:0.000%...\n",
      "Epoch: 1/3  Step: 1215  Loss: 4.2769... Accuracy:0.000%...\n",
      "Epoch: 1/3  Step: 1220  Loss: 4.3204... Accuracy:6.250%...\n",
      "Epoch: 1/3  Step: 1225  Loss: 4.1331... Accuracy:12.500%...\n",
      "Epoch: 1/3  Step: 1230  Loss: 4.3839... Accuracy:6.250%...\n",
      "Epoch: 1/3  Step: 1235  Loss: 4.5065... Accuracy:0.000%...\n",
      "Epoch: 1/3  Step: 1240  Loss: 4.3251... Accuracy:12.500%...\n",
      "Epoch: 1/3  Step: 1245  Loss: 4.1877... Accuracy:6.250%...\n",
      "Epoch: 1/3  Step: 1250  Loss: 4.5155... Accuracy:0.000%...\n",
      "Epoch: 1/3  Step: 1255  Loss: 4.4100... Accuracy:0.000%...\n",
      "Epoch: 1/3  Step: 1260  Loss: 4.4708... Accuracy:0.000%...\n",
      "Epoch: 1/3  Step: 1265  Loss: 4.6517... Accuracy:0.000%...\n",
      "Epoch: 1/3  Step: 1270  Loss: 4.5698... Accuracy:0.000%...\n",
      "Epoch: 1/3  Step: 1275  Loss: 4.5960... Accuracy:0.000%...\n",
      "Epoch: 1/3  Step: 1280  Loss: 4.4770... Accuracy:0.000%...\n",
      "Epoch: 1/3  Step: 1285  Loss: 4.4476... Accuracy:6.250%...\n",
      "Epoch: 1/3  Step: 1290  Loss: 4.6843... Accuracy:0.000%...\n",
      "Epoch: 1/3  Step: 1295  Loss: 4.4915... Accuracy:6.250%...\n",
      "Epoch: 1/3  Step: 1300  Loss: 4.4893... Accuracy:6.250%...\n",
      "Epoch: 1/3  Step: 1305  Loss: 4.5854... Accuracy:6.250%...\n",
      "Epoch: 1/3  Step: 1310  Loss: 4.2515... Accuracy:12.500%...\n",
      "Epoch: 1/3  Step: 1315  Loss: 4.4339... Accuracy:0.000%...\n",
      "Epoch: 1/3  Step: 1320  Loss: 4.2058... Accuracy:0.000%...\n",
      "Epoch: 1/3  Step: 1325  Loss: 4.5507... Accuracy:0.000%...\n",
      "Epoch: 1/3  Step: 1330  Loss: 4.5177... Accuracy:0.000%...\n",
      "Epoch: 1/3  Step: 1335  Loss: 4.2942... Accuracy:6.250%...\n",
      "Epoch: 1/3  Step: 1340  Loss: 4.4556... Accuracy:0.000%...\n",
      "Epoch: 1/3  Step: 1345  Loss: 4.6353... Accuracy:0.000%...\n",
      "Epoch: 1/3  Step: 1350  Loss: 4.1705... Accuracy:6.250%...\n",
      "Epoch: 1/3  Step: 1355  Loss: 4.5765... Accuracy:0.000%...\n",
      "Epoch: 1/3  Step: 1360  Loss: 4.4708... Accuracy:0.000%...\n",
      "Epoch: 1/3  Step: 1365  Loss: 4.5014... Accuracy:0.000%...\n",
      "Epoch: 1/3  Step: 1370  Loss: 4.2892... Accuracy:12.500%...\n",
      "Epoch: 1/3  Step: 1375  Loss: 4.5148... Accuracy:0.000%...\n",
      "Epoch: 1/3  Step: 1380  Loss: 4.7997... Accuracy:0.000%...\n",
      "Epoch: 1/3  Step: 1385  Loss: 4.6080... Accuracy:0.000%...\n",
      "Epoch: 1/3  Step: 1390  Loss: 4.7525... Accuracy:0.000%...\n",
      "Epoch: 1/3  Step: 1395  Loss: 4.4647... Accuracy:0.000%...\n",
      "Epoch: 1/3  Step: 1400  Loss: 4.2320... Accuracy:6.250%...\n",
      "Epoch: 1/3  Step: 1405  Loss: 4.5052... Accuracy:6.250%...\n",
      "Epoch: 1/3  Step: 1410  Loss: 4.4870... Accuracy:6.250%...\n",
      "Epoch: 1/3  Step: 1415  Loss: 4.5398... Accuracy:0.000%...\n",
      "Epoch: 1/3  Step: 1420  Loss: 4.4304... Accuracy:0.000%...\n",
      "Epoch: 1/3  Step: 1425  Loss: 4.4052... Accuracy:0.000%...\n",
      "Epoch: 1/3  Step: 1430  Loss: 4.5702... Accuracy:0.000%...\n",
      "Epoch: 1/3  Step: 1435  Loss: 4.3454... Accuracy:0.000%...\n",
      "Epoch: 1/3  Step: 1440  Loss: 4.5612... Accuracy:0.000%...\n",
      "Epoch: 1/3  Step: 1445  Loss: 4.4804... Accuracy:0.000%...\n",
      "Epoch: 1/3  Step: 1450  Loss: 4.3160... Accuracy:6.250%...\n",
      "Epoch: 1/3  Step: 1455  Loss: 4.5329... Accuracy:0.000%...\n",
      "Epoch: 1/3  Step: 1460  Loss: 4.3592... Accuracy:0.000%...\n",
      "Epoch: 1/3  Step: 1465  Loss: 4.2037... Accuracy:6.250%...\n",
      "Epoch: 1/3  Step: 1470  Loss: 4.1956... Accuracy:12.500%...\n",
      "Epoch: 1/3  Step: 1475  Loss: 4.5589... Accuracy:0.000%...\n",
      "Epoch: 1/3  Step: 1480  Loss: 4.3079... Accuracy:6.250%...\n"
     ]
    }
   ],
   "source": [
    "\n",
    "optimizer = optim.SGD(model.parameters(), lr=0.01, momentum=0.9)\n",
    "criterion = nn.CrossEntropyLoss()\n",
    "history={}\n",
    "history['acc']=[]\n",
    "history['loss']=[]\n",
    "history['mbs']=[]\n",
    "    \n",
    "print('epoch start')\n",
    "for epoch in range(num_epochs):\n",
    "    mbs = 0\n",
    "    while mbs <40000//minibatch_size:\n",
    "        input, target = train_iter.next()\n",
    "        # input, target = torch.from_numpy(input), torch.from_numpy(target)\n",
    "        input, target = Variable(input).to(device), Variable(target).to(device)\n",
    "\n",
    "        output = model(input)\n",
    "\n",
    "        loss = criterion(output, target)\n",
    "        accu = 1-np.mean(np.not_equal(np.argmax(output.cpu().detach().numpy(), -1).astype(np.int64), target.cpu().detach().numpy().astype(np.int64)))\n",
    "        optimizer.zero_grad()\n",
    "        loss.backward()\n",
    "        optimizer.step()\n",
    "        if mbs % 5 == 0 or mbs <= 5:\n",
    "            print(\"Epoch: {}/{} \".format(epoch + 1, num_epochs),\n",
    "                  \"Step: {} \".format(mbs),\n",
    "                  \"Loss: {:.4f}...\".format(loss.item()),\n",
    "                  \"Accuracy:{:.3%}...\".format(accu),)\n",
    "\n",
    "            history['loss'].append(loss.item())\n",
    "            history['acc'].append(accu)\n",
    "            history['mbs'].append(epoch*(40000//minibatch_size)+mbs)\n",
    "        mbs += 1\n"
   ]
  },
  {
   "cell_type": "raw",
   "metadata": {
    "collapsed": true
   },
   "source": [
    "初步的結果出來了，很令人沮喪的resnet並沒有發生神威，錯誤率是淒慘的99%，離我們正確率96%還有好幾步之遙，如果是你，你會如何來解決目前的問題？有哪些方案以及你的優先順序以及理由各是甚麼呢?請寫出你預計的改進計劃以及下次提交對應實作的notebook，我們會在後續的討論中讓大家了解如何找到解題頭緒"
   ]
  },
  {
   "cell_type": "raw",
   "metadata": {
    "collapsed": true
   },
   "source": [
    "方向提示:\n",
    "1. 模型架構上可以採用既有骨幹網路修改或者是更換骨幹架構的選擇，你的想法是甚麼?\n",
    "2. 數據層級可以做哪些處理來提升準確率\n",
    "3. 由於競賽本身的規則是每個字可以提交Top5，這個規則有有甚麼影響，我在模型損失函數或是訓練方法可以對應做那些事\n",
    "4. 這個題目本身的最大難點以及機器難以分辨的核心問題是甚麼?你會如何排除它?\n",
    "5. 除了卷積到產生onehot向量這種標準的解題法，你還有哪些瘋狂的想法或是用其他深度學習技術有可能可以解題的\n",
    "\n"
   ]
  }
 ],
 "metadata": {
  "kernelspec": {
   "display_name": "Python [Root]",
   "language": "python",
   "name": "Python [Root]"
  },
  "language_info": {
   "codemirror_mode": {
    "name": "ipython",
    "version": 3
   },
   "file_extension": ".py",
   "mimetype": "text/x-python",
   "name": "python",
   "nbconvert_exporter": "python",
   "pygments_lexer": "ipython3",
   "version": "3.5.2"
  }
 },
 "nbformat": 4,
 "nbformat_minor": 0
}
