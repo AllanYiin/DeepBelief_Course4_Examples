{
 "cells": [
  {
   "cell_type": "code",
   "execution_count": 1,
   "metadata": {
    "collapsed": true
   },
   "outputs": [],
   "source": [
    "%matplotlib inline"
   ]
  },
  {
   "cell_type": "markdown",
   "metadata": {},
   "source": [
    "# 讓機器認識中文字"
   ]
  },
  {
   "cell_type": "markdown",
   "metadata": {},
   "source": [
    "###測試於tensorflow 1.10  keras 2.2.2"
   ]
  },
  {
   "cell_type": "raw",
   "metadata": {},
   "source": [
    "雖然說手寫數字集Mnist是的深度學習界的Hello World，但是若將題目換成了中文，難度就有天壤之別，先不論中文字數量之龐大(unicode有兩萬多)，光是各個字的造字邏輯各異之外，各個朝代的字體變化之大，恐怕從小使用中文的我們都難以識別，這對於電腦來說當然還是一個超難的題目，沒錯，手寫漢字識別一直是到現在都還無解的一級難題。"
   ]
  },
  {
   "cell_type": "markdown",
   "metadata": {},
   "source": [
    "![md_images](../Images/hanzi.jpg?raw=true)"
   ]
  },
  {
   "cell_type": "markdown",
   "metadata": {},
   "source": [
    "## 從錯誤率90幾%到正確率90幾%之路 "
   ]
  },
  {
   "cell_type": "raw",
   "metadata": {},
   "source": [
    "這一個實作我给下的副標題是「從錯誤率90幾%到正確率90幾%之路」，這個中文字識別雖然只有100字，但是裡面各種字體收集得非常完整，從甲骨文金文小篆都有，字形種類多就算了，你會發現裡面包含的完整度與清晰度，甚至有很多像是從碑上拓印下來的，所以多呈現虛化、斷裂、歪斜等狀態，因此是個非常棘手的數據集。在這個Jupyter Notebook中我們放了很簡單的利用約50層的Resnet來處理他，但是這個號稱沒有不能收斂的模型似乎這踢上了鐵板，跑上許久錯誤率仍舊停在99%，教授機器學習或深度學習的課程很多，但很少帶大家來解決難題，以及思考解難題的思路，所以這個課程期間，若選擇要深度參與這個實作的同學我會帶各位走過解難題的整個思考路徑，附帶一提，這是大陸一個數據競賽的考題，而我用同樣的數據曾經拿到測試集Top1正確率96.65%(大賽正規賽制是Top5正確率，給機率最高的5個類別，一個對了就算對)"
   ]
  },
  {
   "cell_type": "code",
   "execution_count": null,
   "metadata": {
    "collapsed": true
   },
   "outputs": [],
   "source": []
  },
  {
   "cell_type": "raw",
   "metadata": {},
   "source": [
    "我們首先簡單的來看一下基本的實作流程，首先引用所有需要的包"
   ]
  },
  {
   "cell_type": "code",
   "execution_count": 2,
   "metadata": {
    "collapsed": false
   },
   "outputs": [
    {
     "name": "stderr",
     "output_type": "stream",
     "text": [
      "Using TensorFlow backend.\n"
     ]
    }
   ],
   "source": [
    "import matplotlib\n",
    "import matplotlib.image as mpimg\n",
    "import matplotlib.pyplot as plt\n",
    "import numpy as np\n",
    "import os\n",
    "import cv2\n",
    "import math\n",
    "import random\n",
    "import glob\n",
    "from PIL import Image\n",
    "\n",
    "import tensorflow as tf\n",
    "from keras.models import *\n",
    "from keras.layers import * \n",
    "from keras.losses import * \n",
    "from keras.callbacks import *\n",
    "from keras.preprocessing import image\n",
    "from keras import backend as K\n",
    "from keras.backend.tensorflow_backend import set_session\n",
    "from keras.applications import * \n",
    "from keras.applications.imagenet_utils import *\n",
    "from keras.utils.np_utils import to_categorical\n",
    "from keras.optimizers import  Adam\n",
    "from keras.preprocessing.image import *\n",
    "\n",
    "config = tf.ConfigProto()\n",
    "config.gpu_options.per_process_gpu_memory_fraction = 1\n",
    "config.gpu_options.visible_device_list = \"0\"\n",
    "config.gpu_options.allow_growth = True\n",
    "config.gpu_options.allocator_type = 'BFC'\n",
    "config.gpu_options.per_process_gpu_memory_fraction = 0.40\n",
    "set_session(tf.Session(config=config))\n",
    "\n",
    "run_opts = tf.RunOptions(report_tensor_allocations_upon_oom = True)"
   ]
  },
  {
   "cell_type": "raw",
   "metadata": {},
   "source": [
    "由於圖片都已經分裝好在各個資料夾中，因此我們可以利用glob來遍歷所有圖檔路徑，並且可以直接從路徑上擷取出對應的中文字。我們也可以把中文字取出來去重複，總共有100個，所以我們預測的標的就是一個長度為100的onehot向量。"
   ]
  },
  {
   "cell_type": "code",
   "execution_count": 3,
   "metadata": {
    "collapsed": false
   },
   "outputs": [
    {
     "name": "stdout",
     "output_type": "stream",
     "text": [
      "圖片數量:40000\n",
      "['../Data/ex02_train\\\\且\\\\000dcbf63744a53232b396f008a89c5f62344c80.jpg', '../Data/ex02_train\\\\且\\\\00207070a7650d5aca1b47df9710f97467b85602.jpg', '../Data/ex02_train\\\\且\\\\00456a8cffb776c66997dd0256da314f93fb7283.jpg']\n",
      "\n",
      "中文字數量:100\n",
      "且世东九亭今从令作使侯元光利印去受右司合名周命和唯堂士多夜奉女好始字孝守宗官定宜室家寒左常建徐御必思意我敬新易春更朝李来林正武氏永流海深清游父物玉用申白皇益福秋立章老臣良莫虎衣西起足身通遂重陵雨高黄鼎\n"
     ]
    }
   ],
   "source": [
    "imgs=glob.glob('../Data/ex02_train/*/*.jpg')\n",
    "print('圖片數量:{0}'.format(len(imgs)))\n",
    "print(imgs[:3])\n",
    "print('')\n",
    "\n",
    "#list(sorted(set()))去重複排序後產生清單=>產生對應onehot編碼\n",
    "words=list(sorted(set([im.split('\\\\')[1] for im in imgs])))\n",
    "print('中文字數量:{0}'.format(len(words)))\n",
    "print(''.join(words))"
   ]
  },
  {
   "cell_type": "raw",
   "metadata": {},
   "source": [
    "編碼onehot的第一步驟是將100個中文字去重排序好，產生對應的字對到索引的字典，以及反向可以從索引轉回對應的字的字典。"
   ]
  },
  {
   "cell_type": "code",
   "execution_count": 4,
   "metadata": {
    "collapsed": false
   },
   "outputs": [
    {
     "name": "stdout",
     "output_type": "stream",
     "text": [
      "{'西': 88, '衣': 87, '新': 53, '益': 77, '从': 6, '利': 13, '东': 2, '敬': 52, '定': 38, '令': 7, '和': 23, '父': 70, '九': 3, '海': 66, '永': 64, '守': 35, '高': 97, '物': 71, '世': 1, '右': 17, '光': 12, '李': 58, '黄': 98, '易': 54, '且': 0, '家': 41, '遂': 93, '雨': 96, '玉': 72, '作': 8, '莫': 85, '意': 50, '侯': 10, '陵': 95, '鼎': 99, '元': 11, '命': 22, '老': 82, '受': 16, '士': 26, '身': 91, '申': 74, '清': 68, '字': 33, '堂': 25, '左': 43, '更': 56, '御': 47, '官': 37, '我': 51, '宜': 39, '名': 20, '章': 81, '足': 90, '思': 49, '今': 5, '女': 30, '林': 60, '流': 65, '常': 44, '好': 31, '徐': 46, '良': 84, '用': 73, '立': 80, '合': 19, '正': 61, '印': 14, '重': 94, '福': 78, '必': 48, '皇': 76, '司': 18, '朝': 57, '春': 55, '室': 40, '虎': 86, '宗': 36, '去': 15, '起': 89, '夜': 28, '深': 67, '始': 32, '白': 75, '建': 45, '秋': 79, '氏': 63, '多': 27, '游': 69, '武': 62, '臣': 83, '周': 21, '亭': 4, '通': 92, '寒': 42, '来': 59, '唯': 24, '使': 9, '奉': 29, '孝': 34}\n"
     ]
    }
   ],
   "source": [
    "word2idx={}\n",
    "idx2word={}\n",
    "for i, w in enumerate(words):\n",
    "    word2idx[w]=i\n",
    "    idx2word[i]=w\n",
    "print(word2idx) "
   ]
  },
  {
   "cell_type": "raw",
   "metadata": {},
   "source": [
    "我們隨機抽一個字來展現"
   ]
  },
  {
   "cell_type": "code",
   "execution_count": 5,
   "metadata": {
    "collapsed": false
   },
   "outputs": [
    {
     "name": "stdout",
     "output_type": "stream",
     "text": [
      "亭\n"
     ]
    },
    {
     "data": {
      "text/plain": [
       "<matplotlib.image.AxesImage at 0x1cdd0c3c1d0>"
      ]
     },
     "execution_count": 5,
     "metadata": {},
     "output_type": "execute_result"
    },
    {
     "data": {
      "image/png": "[encoded data removed]",
      "text/plain": [
       "<matplotlib.figure.Figure at 0x1cdd0c3c278>"
      ]
     },
     "metadata": {},
     "output_type": "display_data"
    }
   ],
   "source": [
    "imgpath=random.choice(imgs)\n",
    "img = Image.open(imgpath)\n",
    "print(imgpath.split('\\\\')[1])\n",
    "plt.axis('off')\n",
    "plt.imshow(img,cmap='gray')\n"
   ]
  },
  {
   "cell_type": "raw",
   "metadata": {},
   "source": [
    "由於python版的opencv無法讀取路徑有中文的圖片，也因此只好費工一點使用PIL.Image讀取。由於這個數據是黑白圖片，因此不用去做RGB轉GBR的過程，但是仍要把HWC轉換為CHW。使用PIL.Image模組有個附帶的好處，它內建了thumbnail這個「保持比例縮放」的功能，這樣可以確保我們竟可能得保持字體的原貌。(雖然圖像識別我們的確可以做各種過分的扭曲比例縮放，但相信我，在這個題目上，讓字體扭曲只是雪上加霜。)\n",
    "\n",
    "同時透過get_next_minibatch來提供後續建模要用的批次數據。"
   ]
  },
  {
   "cell_type": "code",
   "execution_count": 6,
   "metadata": {
    "collapsed": false
   },
   "outputs": [
    {
     "name": "stdout",
     "output_type": "stream",
     "text": [
      "Found 40000 images belonging to 100 classes.\n"
     ]
    }
   ],
   "source": [
    "train_datagen = ImageDataGenerator(\n",
    "            rescale=1./255,\n",
    "            rotation_range=10,\n",
    "            width_shift_range=0.1,\n",
    "            height_shift_range=0.1,\n",
    "            shear_range=0.1,\n",
    "            zoom_range=0.1,\n",
    "            horizontal_flip=True,\n",
    "            vertical_flip=True)\n",
    "\n",
    "train_generator = train_datagen.flow_from_directory(\n",
    "            '../Data/ex02_train/',\n",
    "            classes=words,\n",
    "            color_mode='grayscale',\n",
    "            target_size=(64, 64),\n",
    "            batch_size=16,\n",
    "            class_mode='categorical')\n",
    "    "
   ]
  },
  {
   "cell_type": "raw",
   "metadata": {},
   "source": [
    "接下來要請出的是機器視覺中的常客resnet來料理這一題，基本上resnet透過跳轉連接，讓梯度有效傳遞，所以能讓超深的架構得以實現。但是解題可不是一率都用超深模型就好，否則反而變成效率上的重擔。\n",
    "\n",
    "卷積+batch normalization +relu這個組合應該算是跟深度學習界的經典配方，這裡比較特別的是卷積的活化函數為None，待做完正規化後才去做relu，這會有效地做梯度整流，避免梯度還沒調整到正確位置，但是落入負數區就慘遭relu毒手。"
   ]
  },
  {
   "cell_type": "code",
   "execution_count": 7,
   "metadata": {
    "collapsed": false
   },
   "outputs": [],
   "source": [
    "def resnet_basic(x,nb_filter,kernel_size=3):\n",
    "    out = Conv2D(nb_filter,(kernel_size,kernel_size), padding=\"same\")(x)\n",
    "    out = BatchNormalization()(out)\n",
    "    out = Activation('relu')(out)\n",
    "\n",
    "    out = Conv2D(nb_filter,(kernel_size,kernel_size), padding=\"same\")(out)\n",
    "    out = BatchNormalization()(out)\n",
    "\n",
    "    out = add([out,x])\n",
    "    out = Activation('relu')(out)\n",
    "    return out\n",
    "\n",
    "def resnet_basic_inc(x,nb_filter,kernel_size=3):\n",
    "    out = Conv2D(nb_filter,(kernel_size,kernel_size),strides=2, padding=\"same\")(x)\n",
    "    out = BatchNormalization()(out)\n",
    "    out = Activation('relu')(out)\n",
    "\n",
    "    out = Conv2D(nb_filter,(kernel_size,kernel_size), padding=\"same\")(out)\n",
    "    out = BatchNormalization()(out)\n",
    "\n",
    "    x = Conv2D(nb_filter,(1,1),strides=2, padding=\"same\")(x)\n",
    "    x = BatchNormalization()(x)\n",
    "\n",
    "    out = add([out,x])\n",
    "    out = Activation('relu')(out)\n",
    "    return out\n",
    "\n",
    "\n",
    "\n",
    "inp = Input(shape=(64,64,1))\n",
    "out = Conv2D(16,(3,3))(inp)\n",
    "out = BatchNormalization()(out)\n",
    "out = Activation('relu')(out)\n",
    "out = resnet_basic(out,16)\n",
    "out = resnet_basic(out,16)\n",
    "out = resnet_basic(out,16)\n",
    "out = resnet_basic(out,16)\n",
    "out = resnet_basic(out,16)\n",
    "out = resnet_basic_inc(out,64)\n",
    "out = resnet_basic(out,64)\n",
    "out = resnet_basic(out,64)\n",
    "out = resnet_basic(out,64)\n",
    "out = resnet_basic(out,64)\n",
    "out = resnet_basic(out,64)\n",
    "out = resnet_basic_inc(out,128)\n",
    "out = resnet_basic(out,128)\n",
    "out = resnet_basic(out,128)\n",
    "out = resnet_basic(out,128)\n",
    "out = Conv2D(100,(1,1))(out)\n",
    "out = GlobalMaxPooling2D()(out)\n",
    "model = Model(inp,out)"
   ]
  },
  {
   "cell_type": "raw",
   "metadata": {},
   "source": [
    "plot_history是根據訓練過程中收集到的history的損失與評估函數結果繪製成圖表。"
   ]
  },
  {
   "cell_type": "code",
   "execution_count": 8,
   "metadata": {
    "collapsed": true
   },
   "outputs": [],
   "source": [
    "def plot_history(history):\n",
    "    plt.plot(history['acc1'])\n",
    "    plt.plot(history['acc2'])\n",
    "    plt.title('model accuracy')\n",
    "    plt.ylabel('accuracy')\n",
    "    plt.xlabel('mbs')\n",
    "    plt.legend(['resnet01', 'resnet02'], loc='upper left')\n",
    "    plt.show()\n",
    "    # summarize history for loss\n",
    "    plt.plot(history['loss1'])\n",
    "    plt.plot(history['loss2'])\n",
    "    plt.title('model loss')\n",
    "    plt.ylabel('loss')\n",
    "    plt.xlabel('mbs')\n",
    "    plt.legend(['resnet01', 'resnet02'], loc='upper left')\n",
    "    plt.show()"
   ]
  },
  {
   "cell_type": "raw",
   "metadata": {},
   "source": [
    "在train函數中，我們定義了輸入(input_var)及輸出標籤變數(label_var)，同時定義了兩種不同特徵圖數量的resnet，進一步的來比較建模效果。"
   ]
  },
  {
   "cell_type": "code",
   "execution_count": 9,
   "metadata": {
    "collapsed": false
   },
   "outputs": [
    {
     "name": "stdout",
     "output_type": "stream",
     "text": [
      "Epoch 1/30\n",
      "100/100 [==============================] - 18s 176ms/step - loss: 6.0689 - acc: 0.0144\n",
      "Epoch 2/30\n",
      "100/100 [==============================] - 9s 89ms/step - loss: 9.3058 - acc: 0.0138\n",
      "Epoch 3/30\n",
      "100/100 [==============================] - 9s 89ms/step - loss: 9.0236 - acc: 0.0106\n",
      "Epoch 4/30\n",
      "100/100 [==============================] - 9s 90ms/step - loss: 9.0751 - acc: 0.0119\n",
      "Epoch 5/30\n",
      "100/100 [==============================] - 9s 91ms/step - loss: 8.5459 - acc: 0.0094\n",
      "Epoch 6/30\n",
      "100/100 [==============================] - 9s 92ms/step - loss: 8.3600 - acc: 0.0125\n",
      "Epoch 7/30\n",
      "100/100 [==============================] - 9s 92ms/step - loss: 8.1289 - acc: 0.0106\n",
      "Epoch 8/30\n",
      "100/100 [==============================] - 9s 90ms/step - loss: 8.4127 - acc: 0.0100\n",
      "Epoch 9/30\n",
      "100/100 [==============================] - 9s 90ms/step - loss: 8.0787 - acc: 0.0125\n",
      "Epoch 10/30\n",
      "100/100 [==============================] - 9s 90ms/step - loss: 8.6091 - acc: 0.0081\n",
      "Epoch 11/30\n",
      "100/100 [==============================] - 9s 91ms/step - loss: 8.2453 - acc: 0.0088\n",
      "Epoch 12/30\n",
      "100/100 [==============================] - 9s 91ms/step - loss: 7.9572 - acc: 0.0062\n",
      "Epoch 13/30\n",
      "100/100 [==============================] - 9s 90ms/step - loss: 7.9220 - acc: 0.0081\n",
      "Epoch 14/30\n",
      "100/100 [==============================] - 9s 90ms/step - loss: 8.3338 - acc: 0.0069\n",
      "Epoch 15/30\n",
      "100/100 [==============================] - 9s 91ms/step - loss: 8.4795 - acc: 0.0112\n",
      "Epoch 16/30\n",
      "100/100 [==============================] - 9s 90ms/step - loss: 8.2473 - acc: 0.0069\n",
      "Epoch 17/30\n",
      "100/100 [==============================] - 9s 92ms/step - loss: 8.3910 - acc: 0.0100\n",
      "Epoch 18/30\n",
      "100/100 [==============================] - 9s 94ms/step - loss: 8.4389 - acc: 0.0106\n",
      "Epoch 19/30\n",
      "100/100 [==============================] - 10s 99ms/step - loss: 8.1036 - acc: 0.0094\n",
      "Epoch 20/30\n",
      "100/100 [==============================] - 10s 99ms/step - loss: 7.9685 - acc: 0.0106\n",
      "Epoch 21/30\n",
      "100/100 [==============================] - 10s 99ms/step - loss: 8.0432 - acc: 0.0088\n",
      "Epoch 22/30\n",
      "100/100 [==============================] - 10s 99ms/step - loss: 8.2469 - acc: 0.0094\n",
      "Epoch 23/30\n",
      "100/100 [==============================] - 10s 99ms/step - loss: 8.2554 - acc: 0.0163\n",
      "Epoch 24/30\n",
      "100/100 [==============================] - 10s 100ms/step - loss: 7.9635 - acc: 0.0069\n",
      "Epoch 25/30\n",
      "100/100 [==============================] - 10s 100ms/step - loss: 8.2374 - acc: 0.0088\n",
      "Epoch 26/30\n",
      "100/100 [==============================] - 10s 101ms/step - loss: 8.4380 - acc: 0.0112\n",
      "Epoch 27/30\n",
      "100/100 [==============================] - 10s 99ms/step - loss: 8.1406 - acc: 0.0075\n",
      "Epoch 28/30\n",
      "100/100 [==============================] - 10s 100ms/step - loss: 8.4045 - acc: 0.0094\n",
      "Epoch 29/30\n",
      "100/100 [==============================] - 10s 100ms/step - loss: 8.2800 - acc: 0.0094\n",
      "Epoch 30/30\n",
      "100/100 [==============================] - 10s 101ms/step - loss: 8.3808 - acc: 0.0112\n"
     ]
    }
   ],
   "source": [
    "\n",
    "model.compile(loss='categorical_crossentropy',\n",
    "              optimizer=Adam(lr=10e-4, beta_1=0.9, beta_2=0.999),\n",
    "              metrics=['accuracy'])\n",
    "history = model.fit_generator(train_generator,steps_per_epoch=100,epochs=30)\n",
    "#最後將模型存檔\n",
    "json_string = model.to_json()\n",
    "open('Models/hanzi_resnet_keras.json', 'w').write(json_string)\n",
    "model.save_weights('Models/hanzi_resnet_keras.hdf5')"
   ]
  },
  {
   "cell_type": "raw",
   "metadata": {},
   "source": [
    "初步的結果出來了，很令人沮喪的resnet並沒有發生神威，錯誤率是淒慘的99%，離我們正確率96%還有好幾步之遙，如果是你，你會如何來解決目前的問題？有哪些方案以及你的優先順序以及理由各是甚麼呢?請寫出你預計的改進計劃以及下次提交對應實作的notebook，我們會在後續的討論中讓大家了解如何找到解題頭緒"
   ]
  },
  {
   "cell_type": "raw",
   "metadata": {},
   "source": [
    "方向提示:\n",
    "1. 模型架構上可以採用既有骨幹網路修改或者是更換骨幹架構的選擇，你的想法是甚麼?\n",
    "2. 數據層級可以做哪些處理來提升準確率\n",
    "3. 由於競賽本身的規則是每個字可以提交Top5，這個規則有有甚麼影響，我在模型損失函數或是訓練方法可以對應做那些事\n",
    "4. 這個題目本身的最大難點以及機器難以分辨的核心問題是甚麼?你會如何排除它?\n",
    "5. 除了卷積到產生onehot向量這種標準的解題法，你還有哪些瘋狂的想法或是用其他深度學習技術有可能可以解題的\n",
    "\n"
   ]
  }
 ],
 "metadata": {
  "anaconda-cloud": {},
  "kernelspec": {
   "display_name": "Python [Root]",
   "language": "python",
   "name": "Python [Root]"
  },
  "language_info": {
   "codemirror_mode": {
    "name": "ipython",
    "version": 3
   },
   "file_extension": ".py",
   "mimetype": "text/x-python",
   "name": "python",
   "nbconvert_exporter": "python",
   "pygments_lexer": "ipython3",
   "version": "3.5.2"
  }
 },
 "nbformat": 4,
 "nbformat_minor": 0
}
