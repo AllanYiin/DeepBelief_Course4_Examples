{
 "cells": [
  {
   "cell_type": "code",
   "execution_count": 1,
   "metadata": {
    "collapsed": true
   },
   "outputs": [],
   "source": [
    "%matplotlib inline"
   ]
  },
  {
   "cell_type": "markdown",
   "metadata": {},
   "source": [
    "# 破解驗證碼(tensorflow + keras)"
   ]
  },
  {
   "cell_type": "markdown",
   "metadata": {},
   "source": [
    "### 測試於tensorflow 1.10  keras 2.2.2"
   ]
  },
  {
   "cell_type": "raw",
   "metadata": {},
   "source": [
    "在上網時，總是會一天到晚看到那些要我們證明自己是人類而不是機器人的驗證碼，但是光靠指認比較模糊的數字與文字真的就能證明我是人類而不是來搗蛋的網路爬蟲嗎??"
   ]
  },
  {
   "cell_type": "markdown",
   "metadata": {},
   "source": [
    "![md_images](../Images/Imnotrobot.jpg?raw=true)"
   ]
  },
  {
   "cell_type": "raw",
   "metadata": {},
   "source": [
    "日前一篇論文中將市面上大多數的驗證碼機制破解，為驗證碼的未來敲了喪鐘。既然機器視覺擁有識別數字文字的能力，只要能夠把文字數字所在位置定位不就能夠把驗證碼問題迎刃而解啦。說穿了，驗證碼破解其實跟OCR的觀念其實一樣，透過機器視覺技術，我們都可以將它視為目標檢測的問題。\n",
    "\n",
    "http://www.lancaster.ac.uk/staff/wangz3/publications/ccs18.pdf\n",
    "\n",
    "在本實作中，我們將會使用YOLO-LITE的架構來進行驗證碼數字位置的定位以及識別。那要做這樣的模型的話，我們的數據該從哪裡來呢?當然市面上有很多驗證碼生成器，但是最大的問題是我們沒有辦法自動地知道生成出來的驗證碼中數字的明確位置，因此都無法作為有效的圖資來使用。山不轉路轉，既然市面上的驗證碼生成器都無法使用，那我們就來製造自己的驗證碼生成器吧。\n",
    "\n",
    "在這個範例中我們做了幾個假設，首先這次實作裡面的驗證碼只有數字，這樣一來我們就可以借用MNIST手寫數字數據集為基礎來產生驗證碼圖樣。"
   ]
  },
  {
   "cell_type": "markdown",
   "metadata": {},
   "source": [
    "![md_images](../Images/captcha.jpg?raw=true)"
   ]
  },
  {
   "cell_type": "raw",
   "metadata": {},
   "source": [
    "首先引用tensorflow與keras相關的包"
   ]
  },
  {
   "cell_type": "code",
   "execution_count": 2,
   "metadata": {
    "collapsed": false
   },
   "outputs": [
    {
     "name": "stderr",
     "output_type": "stream",
     "text": [
      "Using TensorFlow backend.\n"
     ]
    }
   ],
   "source": [
    "import matplotlib\n",
    "import matplotlib.image as mpimg\n",
    "import matplotlib.pyplot as plt\n",
    "import numpy as np\n",
    "import os\n",
    "import cv2\n",
    "import math\n",
    "import random\n",
    "import glob\n",
    "import pickle\n",
    "import PIL\n",
    "from PIL import Image\n",
    "from PIL.ImageDraw import Draw\n",
    "\n",
    "import tensorflow as tf\n",
    "from keras.models import *\n",
    "from keras.layers import * \n",
    "from keras.losses import * \n",
    "from keras.callbacks import *\n",
    "from keras.preprocessing import image\n",
    "from keras import backend as K\n",
    "from keras.backend.tensorflow_backend import set_session\n",
    "from keras.applications import * \n",
    "from keras.applications.imagenet_utils import *\n",
    "from keras.utils.np_utils import to_categorical\n",
    "from keras.optimizers import  Adam\n",
    "from keras.preprocessing.image import *\n",
    "\n",
    "#如果你使用tensorflow+keras總是異常掛掉，請務必加入以下語法(貪心的tf把所有gpu全吃光一點不留給keras，變成全掛的慘劇)\n",
    "config = tf.ConfigProto()\n",
    "config.gpu_options.per_process_gpu_memory_fraction = 1\n",
    "config.gpu_options.visible_device_list = \"0\"\n",
    "config.gpu_options.allow_growth = True\n",
    "config.gpu_options.allocator_type = 'BFC'\n",
    "config.gpu_options.per_process_gpu_memory_fraction = 0.90\n",
    "set_session(tf.Session(config=config))\n",
    "\n",
    "run_opts = tf.RunOptions(report_tensor_allocations_upon_oom = True)"
   ]
  },
  {
   "cell_type": "raw",
   "metadata": {},
   "source": [
    "如果是付費課程學員可以下載我整理好的數據集pickle檔，其他人恐怕得自己去處理MNIST數據集了。"
   ]
  },
  {
   "cell_type": "code",
   "execution_count": 3,
   "metadata": {
    "collapsed": false,
    "scrolled": true
   },
   "outputs": [
    {
     "name": "stdout",
     "output_type": "stream",
     "text": [
      "[[0. 0. 0. ... 0. 0. 0.]\n",
      " [0. 0. 0. ... 0. 0. 0.]\n",
      " [0. 0. 0. ... 0. 0. 0.]]\n",
      "(60000, 784)\n",
      "(60000, 10)\n"
     ]
    }
   ],
   "source": [
    "train_data=None\n",
    "test_data=None\n",
    "\n",
    "with open('../Data/mnist_train.pkl', 'rb') as f:\n",
    "    train_data = pickle.load(f)\n",
    "with open('../Data/mnist_test.pkl', 'rb') as f:\n",
    "    test_data = pickle.load(f)\n",
    "    \n",
    "def parse_mnist(data):\n",
    "    features=[]\n",
    "    labels=[]\n",
    "    for row in data:\n",
    "        labels.append(np.eye(10)[row[-1]].astype(np.float32))\n",
    "        features.append(row[:-1].astype(np.float32))#正規化\n",
    "    return np.asarray(features),np.asarray(labels)\n",
    "\n",
    "\n",
    "\n",
    "features,labels=parse_mnist(train_data)\n",
    "print(features[:3])\n",
    "print(features.shape)\n",
    "print(labels.shape)"
   ]
  },
  {
   "cell_type": "raw",
   "metadata": {},
   "source": [
    "我們對於這次生成的驗證碼的生成邏輯如下：\n",
    "    一個驗證碼可能是3~7個數字所構成\n",
    "    字體的大小未必相同\n",
    "    字體顏色與背景顏色來自於隨機色彩\n",
    "    加入噪點以及隨機線條\n",
    "    假設圖片皆等比例縮放至208*208大小"
   ]
  },
  {
   "cell_type": "code",
   "execution_count": 4,
   "metadata": {
    "collapsed": false
   },
   "outputs": [
    {
     "name": "stdout",
     "output_type": "stream",
     "text": [
      "[28 30 32]\n"
     ]
    }
   ],
   "source": [
    "#可行的字體大小，我們將字體控制在28~34級字之間\n",
    "font_sizes=np.arange(28,34,2)\n",
    "print(font_sizes)\n",
    "\n",
    "#產生打亂的索引表\n",
    "idxs=np.arange(0,features.shape[0],1)\n",
    "np.random.shuffle(idxs)\n",
    "\n",
    "\n",
    "#產生隨機顏色的函數\n",
    "def random_color(start, end, opacity=None):\n",
    "    red = random.randint(start, end)\n",
    "    green = random.randint(start, end)\n",
    "    blue = random.randint(start, end)\n",
    "    if opacity is None:\n",
    "        return (blue, green, red)\n",
    "    return (blue, green, red, opacity)\n"
   ]
  },
  {
   "cell_type": "raw",
   "metadata": {},
   "source": [
    "為了能夠生成出逼真的驗證碼，下方式所需要的一些工具函數。例如get_mnist_bbox"
   ]
  },
  {
   "cell_type": "code",
   "execution_count": 5,
   "metadata": {
    "collapsed": false
   },
   "outputs": [
    {
     "name": "stdout",
     "output_type": "stream",
     "text": [
      "[4, 7, 9, 5, 7]\n"
     ]
    },
    {
     "data": {
      "image/png": "[encoded data removed]",
      "text/plain": [
       "<matplotlib.figure.Figure at 0x1b9f1518320>"
      ]
     },
     "metadata": {},
     "output_type": "display_data"
    }
   ],
   "source": [
    "def get_mnist_bbox(img):\n",
    "    if img[0,0]==255:\n",
    "        img=255-img \n",
    "    img_y=np.greater(np.mean(img,1),0).astype(np.float32)\n",
    "    img_x=np.greater(np.mean(img,0),0).astype(np.float32)\n",
    "    min_y,max_y=np.argmax(img_y)-1,len(img_y)-np.argmax(np.flip(img_y.copy(),0))\n",
    "    min_x,max_x=np.argmax(img_x)-1,len(img_x)-np.argmax(np.flip(img_x.copy(),0))\n",
    "    return (min_x+max_x)/2.0,(min_y+max_y)/2.0,max_x-min_x+1,max_y-min_y+1\n",
    "\n",
    "#生成干擾用的隨機線條\n",
    "def create_noise_curve(image, color):\n",
    "    h,w = image.shape[:2]\n",
    "    for i in range(random.choice([1,2,3])):\n",
    "        try:\n",
    "            x0=random.randint(0, 20)\n",
    "            x1 = random.randint(x0, w -3* int(w / 5))\n",
    "            x2 = random.randint(x1, w -2* int(w / 5))\n",
    "            x3= random.randint(x2, 208)\n",
    "            y0= random.randint(int(h /10),int(h / 5))\n",
    "            y1 = random.randint(y0, h -3*int(h / 5))\n",
    "            y2 = random.randint(y1, h-2* int(h / 5))\n",
    "            y3=random.randint(y2, h -int(h / 5))\n",
    "            points =np.array([[x0, y0], [x1, y1], [x2, y2], [x3, y3]])\n",
    "\n",
    "            image=cv2.polylines(image,np.int32([points]),False,color =color, thickness=1)\n",
    "        except Exception as e:\n",
    "            print(e)\n",
    "    return image\n",
    "\n",
    "#生成干擾用的隨機噪點\n",
    "def create_noise_dots(image, color, width=3, number=30):\n",
    "    w, h = image.shape[:2]\n",
    "    while number>0:\n",
    "        x1 = random.randint(0, 208)\n",
    "        y1 = random.randint(0, 64)\n",
    "        cv2.circle(image, (x1, y1),width,color, -1)\n",
    "        number -= 1\n",
    "    return image\n",
    "\n",
    "#隨機生成出隨機數字，數字位置的Bounding Box，以及分別是甚麼數字的標籤集合\n",
    "def get_minist_chaptcha_raw():\n",
    "    #隨機設定字數\n",
    "    words_cnt=random.choice(range(3,7))\n",
    "    #隨機選擇字體大小\n",
    "    font_size=random.choice(font_sizes)\n",
    "    #如果字數太多不巧遇上字體過大，則覆寫為字數等於4\n",
    "    if font_size*words_cnt>208:\n",
    "        words_cnt=4\n",
    "        if font_size*4>208:\n",
    "            words_cnt=3\n",
    "    \n",
    "    #隨機選擇索引位置以及產出對應標籤與圖片\n",
    "    idx_list=[random.choice(idxs) for d in range(words_cnt)]\n",
    "    label_list=[np.argmax(labels[d]) for d in idx_list]  \n",
    "    img_list=[cv2.resize(np.reshape(features[d],(28,28,1)),(font_size,font_size)) for d in idx_list]  \n",
    "    bboxs_list=[get_mnist_bbox(im) for im in img_list]\n",
    "    return img_list,bboxs_list,label_list\n",
    "\n",
    "\n",
    "#根據get_minist_chaptcha_raw函數的產出，組合生成出驗證碼圖片。\n",
    "#輸出驗證碼圖片尺寸為寬為208 高為64，為何使用208那麼怪的數字主要是後續要透過4次下採樣變成13個特徵圖網格\n",
    "def get_minist_chaptcha():\n",
    "    img_list,bboxs_list,label_list= get_minist_chaptcha_raw()\n",
    "    new_bboxs_list=[]\n",
    "    #隨機生成顏色\n",
    "    background = random_color(200, 255)\n",
    "    color = random_color(40,180)\n",
    "    image = np.ones((64,208,3))\n",
    "    image=image*np.reshape(background,(1,1,3))\n",
    "    pos_x=(208-img_list[0].shape[0]*len(img_list))//2\n",
    "    pos_y=(64-img_list[0].shape[1])//2\n",
    "    for i in range(len(bboxs_list)):\n",
    "        #將灰階轉換為三原色\n",
    "        imBGR=cv2.cvtColor(img_list[i],cv2.COLOR_GRAY2BGR).astype(np.float32)\n",
    "        imBGR=imBGR/255.0\n",
    "        imBGR[imBGR<=0.1]=0\n",
    "        imBGR=imBGR*np.reshape(color,(1,1,3))\n",
    "        imBGR[np.where((imBGR==[0,0,0]).all(axis=2))] = background\n",
    "        \n",
    "        #接受一個隨機左右偏移量\n",
    "        pos_x=pos_x+random.choice(np.arange(-3,1).tolist())\n",
    "       \n",
    "        \n",
    "        #取出bbox定義\n",
    "        (xc,yc,w,h)=bboxs_list[i]\n",
    "     \n",
    "        image[pos_y:pos_y+imBGR.shape[0],pos_x:pos_x+imBGR.shape[1],:]=imBGR[:,:,:]\n",
    "        #塞入新bbox\n",
    "        new_bboxs_list.append((xc+pos_x,yc+pos_y,w,h))\n",
    "        pos_x=pos_x+imBGR.shape[1]\n",
    "    image=create_noise_dots(image,random_color(120,240))\n",
    "    image=create_noise_curve(image,random_color(120,240,random.randint(180, 255)))\n",
    "    return image.astype(np.float32),img_list,new_bboxs_list,label_list\n",
    "\n",
    "img_captcha,img_list,bboxs_list,label_list= get_minist_chaptcha()\n",
    "img_captcha=cv2.cvtColor(img_captcha,cv2.COLOR_BGR2RGB)\n",
    "img_captcha=Image.fromarray(img_captcha.astype(np.uint8))\n",
    "\n",
    "#我們隨機生成一張驗證碼，並且將它顯示出來\n",
    "plt.axis('off')\n",
    "plt.imshow(img_captcha)\n",
    "print(label_list)"
   ]
  },
  {
   "cell_type": "raw",
   "metadata": {},
   "source": [
    "我們來驗證一下我們的驗證碼生成器產生的數字位置信息是正確的，我們將前面包含數字位置框的信息(bboxs_list)繪製了bounding box疊加在驗證碼圖片上，我們可以看到紅框的位置是正確無誤的。"
   ]
  },
  {
   "cell_type": "code",
   "execution_count": 6,
   "metadata": {
    "collapsed": false
   },
   "outputs": [
    {
     "name": "stdout",
     "output_type": "stream",
     "text": [
      "(64, 208, 3)\n",
      "float32\n"
     ]
    },
    {
     "data": {
      "text/plain": [
       "<matplotlib.image.AxesImage at 0x1b9f150cc88>"
      ]
     },
     "execution_count": 6,
     "metadata": {},
     "output_type": "execute_result"
    },
    {
     "data": {
      "image/png": "[encoded data removed]",
      "text/plain": [
       "<matplotlib.figure.Figure at 0x1b9f150cbe0>"
      ]
     },
     "metadata": {},
     "output_type": "display_data"
    }
   ],
   "source": [
    "img_captcha,img_list,bboxs_list,label_list= get_minist_chaptcha()\n",
    "print(img_captcha.shape)\n",
    "print(img_captcha.dtype)\n",
    "for bbox in bboxs_list:\n",
    "    color =(0,0,255)\n",
    "    (xc,yc,w,h)=bbox\n",
    "    cv2.rectangle(img_captcha, (int(xc-0.5-0.5*w), int(yc-0.5-0.5*h)), (int(xc+0.5+0.5*w), int(yc+0.5+0.5*h)), color, 1)\n",
    "\n",
    "img_captcha=cv2.cvtColor(img_captcha,cv2.COLOR_BGR2RGB)\n",
    "img_captcha=Image.fromarray(img_captcha.astype(np.uint8))\n",
    "plt.axis('off')\n",
    "plt.imshow(img_captcha)   "
   ]
  },
  {
   "cell_type": "raw",
   "metadata": {
    "collapsed": true
   },
   "source": [
    "接下來我們就使用keras來建構tiny yolo"
   ]
  },
  {
   "cell_type": "code",
   "execution_count": 7,
   "metadata": {
    "collapsed": true
   },
   "outputs": [],
   "source": [
    "#請注意，原來的tiny yolo v2的輸入圖片為416*416，透過5次下採樣(請注意最後一次maxpolling strides=1，並不是下採樣)產生了大小為13*13的特徵圖\n",
    "#為了將輸入圖片尺寸縮小方便訓練，以及簡化模型我們將輸入圖片尺寸改為208*208，並且拿掉一組下採樣\n",
    "# 最後一層特徵圖15=1種anchor*(4個bounding box迴歸參數+1個objectness+10數字類別score)\n",
    "def simplify_tiny_yolo(img_input,classes=10):\n",
    "    # Block 1\n",
    "\n",
    "    x = Conv2D(16, (3, 3),padding='same',name='C1')(img_input)\n",
    "    x = BatchNormalization()(x)\n",
    "    x = LeakyReLU(alpha=0.3)(x)\n",
    "    x = MaxPooling2D((2, 2), strides=(2, 2), name='MP1')(x)\n",
    "    x = Conv2D(32, (3, 3),padding='same',name='C2')(x)\n",
    "    x = BatchNormalization()(x)\n",
    "    x = LeakyReLU(alpha=0.3)(x)\n",
    "    x = MaxPooling2D((2, 2), strides=(2, 2), name='MP2')(x)\n",
    "\n",
    "    # Block 2\n",
    "    x = Conv2D(64, (3, 3),padding='same',name='C3')(x)\n",
    "    x = BatchNormalization()(x)\n",
    "    x = LeakyReLU(alpha=0.3)(x)\n",
    "    x = MaxPooling2D((2, 2), strides=(2, 2), name='MP3')(x)\n",
    "    x = Conv2D(128, (3, 3),padding='same',name='C4')(x)\n",
    "    x = BatchNormalization()(x)\n",
    "    x = LeakyReLU(alpha=0.3)(x)\n",
    "    x = MaxPooling2D((2, 2), strides=(2, 2), name='MP4')(x)\n",
    "\n",
    "    # Block 3\n",
    "    x = Conv2D(256, (3, 3),padding='same',name='C5')(x)\n",
    "    x = BatchNormalization()(x)\n",
    "    x = LeakyReLU(alpha=0.3)(x)\n",
    "    \n",
    "    x = Conv2D(512, (3, 3),padding='same',name='C6')(x)\n",
    "    x = BatchNormalization()(x)\n",
    "    x = LeakyReLU(alpha=0.3)(x)\n",
    "    x = Conv2D(512, (3, 3),padding='same',name='C7')(x)\n",
    "    x = BatchNormalization()(x)\n",
    "    x = LeakyReLU(alpha=0.3)(x)\n",
    "    \n",
    "    bbox_center = Conv2D(2, (1, 1),padding='same',name='bbox_center')(x)\n",
    "    bbox_center = Activation('sigmoid')(bbox_center)\n",
    "    \n",
    "    bbox_scale = Conv2D(2, (1, 1),padding='same',name='bbox_scale')(x)\n",
    "    \n",
    "    bbox_objectness = Conv2D(1, (1, 1),padding='same',name='bbox_objectness')(x)\n",
    "    bbox_objectness = Activation('sigmoid')(bbox_objectness)\n",
    "    \n",
    "    bbox_class = Conv2D(10, (1, 1),padding='same',name='bbox_class')(x)\n",
    "    bbox_class = Activation('softmax')(bbox_class)\n",
    "    \n",
    "    x=concatenate([bbox_center, bbox_scale,bbox_objectness,bbox_class], axis=-1)\n",
    "    return x\n"
   ]
  },
  {
   "cell_type": "raw",
   "metadata": {},
   "source": [
    "接下來我們需要建構get_next_minibatch函數，來供給建模過程中所需要的輸入與輸出向量。tiny yolo輸出的結果會是一個(15,13,13)的特徵圖網格，其中15是包括了bbox regression需要的四個參數+1個是否為物體中心點(objectness)以及長度為10的onehot。其中四個bbox ression參數可不是直接預測這個框的中心以及長寬歐，千萬記得為了能讓模型容易收斂，bbox regression四個參數會依循下圖的公式來做轉換。請注意，為了簡化實作，我們這邊並沒有預埋anchor，也就是我們將候選框迴歸的參考對象是基於一個特徵圖的網格(1x1)"
   ]
  },
  {
   "cell_type": "markdown",
   "metadata": {},
   "source": [
    "![md_images](../Images/bbox_regression.jpg?raw=true)"
   ]
  },
  {
   "cell_type": "raw",
   "metadata": {},
   "source": [
    "以tx來說，他是要預測中心點x座標的相對偏移，因此我們需要求出這個特徵圖左上方映射到完整圖片的位置int(xc//16)*16 (特徵圖一個網格對應過去是16個像素)，兩者相減後再除以16(一個特徵圖網格的寬度)，它必須是介於0~1的數值，這樣才會確保中心點是落在這個特徵圖網格之中。ty也是同樣道理。\n",
    "\n",
    "至於長寬的縮放尺度，我們這邊沒有預埋anchor，我們的參考框將是一個特徵圖網格(16*16像素)，如果實際框比他大，那麼GW/PW會大於1，log(GW/PW)會是正數，反之如果實際框比他小，那麼GW/PW會小於1，log(GW/PW)會是負數"
   ]
  },
  {
   "cell_type": "code",
   "execution_count": 8,
   "metadata": {
    "collapsed": false
   },
   "outputs": [
    {
     "name": "stdout",
     "output_type": "stream",
     "text": [
      "(208, 208, 3)\n",
      "(13, 13, 15)\n",
      "(13, 13)\n"
     ]
    },
    {
     "data": {
      "text/plain": [
       "<matplotlib.image.AxesImage at 0x1b9f150c7f0>"
      ]
     },
     "execution_count": 8,
     "metadata": {},
     "output_type": "execute_result"
    },
    {
     "data": {
      "image/png": "[encoded data removed]",
      "text/plain": [
       "<matplotlib.figure.Figure at 0x1b9f150cc18>"
      ]
     },
     "metadata": {},
     "output_type": "display_data"
    }
   ],
   "source": [
    "def get_next_minibatch(minibatch_size=16):\n",
    "    features=[]\n",
    "    lables=[]\n",
    "    while len(features)<minibatch_size:\n",
    "        h_shift=random.choice(range(60))\n",
    "        h_shift2=h_shift+64+random.choice(range(10))\n",
    "        img_captcha,img_list,bboxs_list,label_list= get_minist_chaptcha()\n",
    "        img_captcha2,img_list2,bboxs_list2,label_list2= get_minist_chaptcha()\n",
    "        \n",
    "        feature=np.zeros((208,208,3),dtype=np.float32) #輸入向量基礎為全零向量\n",
    "        \n",
    "        #數據增強手法，將輸入向量背景變為隨機常態分佈的亂數噪音\n",
    "        if random.randint(0, 10)%3==0:\n",
    "            feature=np.random.standard_normal((208,208,3))*127.5+127.5\n",
    "  \n",
    "      \n",
    "        \n",
    "        feature[h_shift:h_shift+img_captcha.shape[0],:,:]=img_captcha\n",
    "        feature[h_shift2:h_shift2+img_captcha2.shape[0],:,:]=img_captcha2\n",
    "        features.append((feature-127.5)/127.5) #將輸入向量標準化為-1~1之間\n",
    "        \n",
    "        bboxs_list=[(box[0],box[1]+h_shift,box[2],box[3]) for box in bboxs_list]\n",
    "        bboxs_list2=[(box[0],box[1]+h_shift2,box[2],box[3]) for box in bboxs_list2]\n",
    "        \n",
    "        bboxs_list.extend(bboxs_list2)\n",
    "        label_list.extend(label_list2)\n",
    "        \n",
    "        label=np.zeros((13,13,15),dtype=np.float32)\n",
    "        for i in range(len(bboxs_list)):\n",
    "            bbox=bboxs_list[i]\n",
    "            #print('bbox {0} {1}'.format(i,bbox))\n",
    "            xc,yc,w,h=bbox[0],bbox[1],bbox[2],bbox[3]\n",
    "            lab_idx=label_list[i]\n",
    "            label[int(yc//16),int(xc//16),0]=(xc-(int(xc//16)*16))/16.\n",
    "            label[int(yc//16),int(xc//16),1]=(yc-(int(yc//16)*16))/16.\n",
    "            label[int(yc//16),int(xc//16),2]=math.log(w/16.)\n",
    "            label[int(yc//16),int(xc//16),3]=math.log(h/16.)\n",
    "            #bbox中心點位置落點特徵圖網格\n",
    "            label[int(yc//16),int(xc//16),4]=1  #objectness\n",
    "            #數字onehot\n",
    "            label[int(yc//16),int(xc//16),5+lab_idx]=1 #class\n",
    "            \n",
    "        lables.append(label)\n",
    "    return np.asarray(features).astype(np.float32),np.asarray(lables).astype(np.float32)\n",
    "\n",
    "features_x,lables_y=get_next_minibatch(1)\n",
    "print(features_x[0].shape)\n",
    "print(lables_y[0].shape)\n",
    "griddata=np.argmax(lables_y[0][:,:,5:],-1)\n",
    "print(griddata.shape)\n",
    "#print(np.array([row[:] for row in griddata]).shape)\n",
    "\n",
    "\n",
    "img_captcha=cv2.cvtColor(features_x[0]*255,cv2.COLOR_BGR2RGB)\n",
    "img_captcha=Image.fromarray(img_captcha.astype(np.uint8))\n",
    "\n",
    "fig, (feature, label)= plt.subplots(1, 2, figsize=(12, 6))\n",
    "\n",
    "plt.axis('off')\n",
    "feature.imshow(img_captcha, interpolation='nearest')\n",
    "plt.axis('off')\n",
    "label.imshow(griddata, interpolation='nearest', cmap=None)\n",
    "\n"
   ]
  },
  {
   "cell_type": "markdown",
   "metadata": {},
   "source": [
    "![md_images](../Images/yolo_loss.jpg?raw=true)"
   ]
  },
  {
   "cell_type": "raw",
   "metadata": {},
   "source": [
    "我想目標檢測的損失函數恐怕是這個實作的最大Boss，看到那麼複雜的公式，大部分的人恐怕心都涼了一半。沒關係，我們接下來不但要時做出這個損失函數，同時也會逐一解釋公式的意義。損失函數公式雖然看起來很可怕，但仔細看裡面每個分項其實都是方差(squared error)，或是誤差的平方。\n",
    "\n",
    "由於bbox迴歸的中心點、objectness以及類別機率都是介於0~1之間，因此計算出來的損失大小規模相去不遠。至於bbox迴歸的縮放比例可能是正數或是負數，原作者是先用exp還原回來，但由於縮放比例可能會大於1，也因此作者又在損失函數這邊特別開根號在計算平方誤差，以避免大尺寸框主導了損失的走向，我這邊有略做修改，在這實作案例中，我直接將預測值做方差收斂效果比較好。\n",
    "\n",
    "此外，從公式中可以發現作者將objectness區分為有物體中心的網格損失(loss_obj)以及無物體中心的網格損失(loss_noobj)，這是因為絕大多數的特徵圖網格應該都沒有物體中心存在，如果合在一起計算損失會因為有物體中心的網格出現機率較小而不被重視，所以我們也賦予了不同的權重來平衡它。\n",
    "\n",
    "此外，你會看到大多數的分項中我都乘上了y_true[:,:,:,4]，這意味著計算bbox回歸以及類別判斷時，我只關心實際物體中心落點的特徵圖網格，以避免大多數無物體中心的特徵圖數量較大而而造成難以收斂。\n",
    "\n",
    "在原作中，類別判定的損失是使用onehot向量的誤差再平方，我這裡稍微做了一點更動，改為基於有物體中心的特徵圖網格所計算的交叉熵，並給予較高的權重，我實驗過程中發現這樣做收斂過程會較為穩定。"
   ]
  },
  {
   "cell_type": "code",
   "execution_count": 9,
   "metadata": {
    "collapsed": false
   },
   "outputs": [],
   "source": [
    "def custom_loss(y_true, y_pred):\n",
    "\n",
    "    #將預測的bbox中心偏移值透過sigmoid轉換，以確保介於0~1之間。\n",
    "    pred_box_xy = y_pred[:,:,:,:2]\n",
    "    actual_box_xy = y_true[:,:,:,:2]\n",
    "    \n",
    "    #將預測的bbox wh透過exp轉換，還原回正確尺度。\n",
    "    pred_box_wh = y_pred[:,:,:,2:4]\n",
    "    actual_box_wh = y_true[:,:,:,2:4]\n",
    "\n",
    "    #將預測的bbox中心objectness透過sigmoid轉換，以確保介於0~1之間。\n",
    "    pred_box_objectness = y_pred[:,:,:,4]\n",
    "    \n",
    "    #將預測的bbox類別透過softmax轉換，取得唯一答案。\n",
    "    pred_box_class =y_pred[:,:,:,5:]\n",
    "    \n",
    "    \n",
    "    mask=K.expand_dims(y_pred[:,:,:,4],-1)\n",
    "\n",
    "  \n",
    "    loss_xy = K.sum(K.pow(pred_box_xy*mask-actual_box_xy,2))\n",
    "\n",
    "    loss_wh = 5*K.sum(K.pow(pred_box_wh*mask-actual_box_wh,2))\n",
    "\n",
    "    loss_obj = 20*K.sum(pow(pred_box_objectness*y_true[:,:,:,4]-y_true[:,:,:,4],2))\n",
    "\n",
    "    loss_noobj =0.5* K.sum(pow((1-pred_box_objectness)*(1-y_true[:,:,:,4])-(1-y_true[:,:,:,4]),2))\n",
    "\n",
    "    loss_p = 10*K.sum(-1*y_true[:,:,:,5:]*mask*K.log(pred_box_class))\n",
    "    #loss_p = reduce_sum(pow(pred_box_class-y_true[5:,:,:],2)*y_true[4,:,:])  #原作使用的損失函數\n",
    "\n",
    "    loss = loss_xy + loss_wh + loss_obj + loss_noobj + loss_p  \n",
    "    return loss\n",
    "    "
   ]
  },
  {
   "cell_type": "code",
   "execution_count": 10,
   "metadata": {
    "collapsed": false
   },
   "outputs": [
    {
     "name": "stdout",
     "output_type": "stream",
     "text": [
      "__________________________________________________________________________________________________\n",
      "Layer (type)                    Output Shape         Param #     Connected to                     \n",
      "==================================================================================================\n",
      "input_1 (InputLayer)            (None, 208, 208, 3)  0                                            \n",
      "__________________________________________________________________________________________________\n",
      "C1 (Conv2D)                     (None, 208, 208, 16) 448         input_1[0][0]                    \n",
      "__________________________________________________________________________________________________\n",
      "batch_normalization_1 (BatchNor (None, 208, 208, 16) 64          C1[0][0]                         \n",
      "__________________________________________________________________________________________________\n",
      "leaky_re_lu_1 (LeakyReLU)       (None, 208, 208, 16) 0           batch_normalization_1[0][0]      \n",
      "__________________________________________________________________________________________________\n",
      "MP1 (MaxPooling2D)              (None, 104, 104, 16) 0           leaky_re_lu_1[0][0]              \n",
      "__________________________________________________________________________________________________\n",
      "C2 (Conv2D)                     (None, 104, 104, 32) 4640        MP1[0][0]                        \n",
      "__________________________________________________________________________________________________\n",
      "batch_normalization_2 (BatchNor (None, 104, 104, 32) 128         C2[0][0]                         \n",
      "__________________________________________________________________________________________________\n",
      "leaky_re_lu_2 (LeakyReLU)       (None, 104, 104, 32) 0           batch_normalization_2[0][0]      \n",
      "__________________________________________________________________________________________________\n",
      "MP2 (MaxPooling2D)              (None, 52, 52, 32)   0           leaky_re_lu_2[0][0]              \n",
      "__________________________________________________________________________________________________\n",
      "C3 (Conv2D)                     (None, 52, 52, 64)   18496       MP2[0][0]                        \n",
      "__________________________________________________________________________________________________\n",
      "batch_normalization_3 (BatchNor (None, 52, 52, 64)   256         C3[0][0]                         \n",
      "__________________________________________________________________________________________________\n",
      "leaky_re_lu_3 (LeakyReLU)       (None, 52, 52, 64)   0           batch_normalization_3[0][0]      \n",
      "__________________________________________________________________________________________________\n",
      "MP3 (MaxPooling2D)              (None, 26, 26, 64)   0           leaky_re_lu_3[0][0]              \n",
      "__________________________________________________________________________________________________\n",
      "C4 (Conv2D)                     (None, 26, 26, 128)  73856       MP3[0][0]                        \n",
      "__________________________________________________________________________________________________\n",
      "batch_normalization_4 (BatchNor (None, 26, 26, 128)  512         C4[0][0]                         \n",
      "__________________________________________________________________________________________________\n",
      "leaky_re_lu_4 (LeakyReLU)       (None, 26, 26, 128)  0           batch_normalization_4[0][0]      \n",
      "__________________________________________________________________________________________________\n",
      "MP4 (MaxPooling2D)              (None, 13, 13, 128)  0           leaky_re_lu_4[0][0]              \n",
      "__________________________________________________________________________________________________\n",
      "C5 (Conv2D)                     (None, 13, 13, 256)  295168      MP4[0][0]                        \n",
      "__________________________________________________________________________________________________\n",
      "batch_normalization_5 (BatchNor (None, 13, 13, 256)  1024        C5[0][0]                         \n",
      "__________________________________________________________________________________________________\n",
      "leaky_re_lu_5 (LeakyReLU)       (None, 13, 13, 256)  0           batch_normalization_5[0][0]      \n",
      "__________________________________________________________________________________________________\n",
      "C6 (Conv2D)                     (None, 13, 13, 512)  1180160     leaky_re_lu_5[0][0]              \n",
      "__________________________________________________________________________________________________\n",
      "batch_normalization_6 (BatchNor (None, 13, 13, 512)  2048        C6[0][0]                         \n",
      "__________________________________________________________________________________________________\n",
      "leaky_re_lu_6 (LeakyReLU)       (None, 13, 13, 512)  0           batch_normalization_6[0][0]      \n",
      "__________________________________________________________________________________________________\n",
      "C7 (Conv2D)                     (None, 13, 13, 512)  2359808     leaky_re_lu_6[0][0]              \n",
      "__________________________________________________________________________________________________\n",
      "batch_normalization_7 (BatchNor (None, 13, 13, 512)  2048        C7[0][0]                         \n",
      "__________________________________________________________________________________________________\n",
      "leaky_re_lu_7 (LeakyReLU)       (None, 13, 13, 512)  0           batch_normalization_7[0][0]      \n",
      "__________________________________________________________________________________________________\n",
      "bbox_center (Conv2D)            (None, 13, 13, 2)    1026        leaky_re_lu_7[0][0]              \n",
      "__________________________________________________________________________________________________\n",
      "bbox_objectness (Conv2D)        (None, 13, 13, 1)    513         leaky_re_lu_7[0][0]              \n",
      "__________________________________________________________________________________________________\n",
      "bbox_class (Conv2D)             (None, 13, 13, 10)   5130        leaky_re_lu_7[0][0]              \n",
      "__________________________________________________________________________________________________\n",
      "activation_1 (Activation)       (None, 13, 13, 2)    0           bbox_center[0][0]                \n",
      "__________________________________________________________________________________________________\n",
      "bbox_scale (Conv2D)             (None, 13, 13, 2)    1026        leaky_re_lu_7[0][0]              \n",
      "__________________________________________________________________________________________________\n",
      "activation_2 (Activation)       (None, 13, 13, 1)    0           bbox_objectness[0][0]            \n",
      "__________________________________________________________________________________________________\n",
      "activation_3 (Activation)       (None, 13, 13, 10)   0           bbox_class[0][0]                 \n",
      "__________________________________________________________________________________________________\n",
      "concatenate_1 (Concatenate)     (None, 13, 13, 15)   0           activation_1[0][0]               \n",
      "                                                                 bbox_scale[0][0]                 \n",
      "                                                                 activation_2[0][0]               \n",
      "                                                                 activation_3[0][0]               \n",
      "==================================================================================================\n",
      "Total params: 3,946,351\n",
      "Trainable params: 3,943,311\n",
      "Non-trainable params: 3,040\n",
      "__________________________________________________________________________________________________\n"
     ]
    }
   ],
   "source": [
    "img_input = Input(shape=(208,208,3))\n",
    "tinyyolo=simplify_tiny_yolo(img_input,10)\n",
    "model=Model(img_input,tinyyolo, name='tinyyolo')\n",
    "model.summary()"
   ]
  },
  {
   "cell_type": "code",
   "execution_count": 11,
   "metadata": {
    "collapsed": false
   },
   "outputs": [],
   "source": [
    "model.compile(loss=custom_loss,\n",
    "              optimizer=Adam(lr=10e-4, beta_1=0.9, beta_2=0.999),\n",
    "              metrics=['accuracy'])\n"
   ]
  },
  {
   "cell_type": "raw",
   "metadata": {},
   "source": [
    "在接下來的訓練過程中，為了要能夠掌握訓練的完成程度，光靠損失函數以及單一的metrics函數是不夠的，因此我這邊設計了檢測各個階段的評估指標，每訓練200 minibatch就列印一次"
   ]
  },
  {
   "cell_type": "code",
   "execution_count": 12,
   "metadata": {
    "collapsed": false
   },
   "outputs": [
    {
     "name": "stdout",
     "output_type": "stream",
     "text": [
      "epoch 0\n",
      "0/1000  loss:[9172.945, 0.29031065]\n",
      "100/1000  loss:[3860.2778, 0.14534023]\n",
      "200/1000  loss:[2653.6829, 0.21116863]\n",
      "候選框命中率:0.000%\n",
      "候選框負樣本命中率:100.000%\n",
      "中心點偏移誤差:5.626%\n",
      "框縮放比率誤差:3.620%\n",
      "分類正確率:8.633%\n",
      "\n",
      "300/1000  loss:[2739.9958, 0.18047337]\n",
      "400/1000  loss:[2450.1855, 0.23335798]\n",
      "候選框命中率:0.000%\n",
      "候選框負樣本命中率:100.000%\n",
      "中心點偏移誤差:4.500%\n",
      "框縮放比率誤差:3.248%\n",
      "分類正確率:14.493%\n",
      "\n",
      "500/1000  loss:[2565.3384, 0.12684911]\n",
      "600/1000  loss:[2477.2412, 0.10650887]\n",
      "候選框命中率:0.000%\n",
      "候選框負樣本命中率:100.000%\n",
      "中心點偏移誤差:3.554%\n",
      "框縮放比率誤差:4.290%\n",
      "分類正確率:9.333%\n",
      "\n",
      "700/1000  loss:[2309.683, 0.12204142]\n",
      "800/1000  loss:[1846.1263, 0.28143492]\n",
      "候選框命中率:2.083%\n",
      "候選框負樣本命中率:100.000%\n",
      "中心點偏移誤差:3.821%\n",
      "框縮放比率誤差:2.594%\n",
      "分類正確率:47.222%\n",
      "\n",
      "900/1000  loss:[1596.2191, 0.036242604]\n",
      "epoch 1\n",
      "0/1000  loss:[1156.3507, 0.24482249]\n",
      "100/1000  loss:[820.2336, 0.026627218]\n",
      "200/1000  loss:[1044.9744, 0.08616864]\n",
      "候選框命中率:96.815%\n",
      "候選框負樣本命中率:98.194%\n",
      "中心點偏移誤差:1.853%\n",
      "框縮放比率誤差:3.512%\n",
      "分類正確率:81.529%\n",
      "\n",
      "300/1000  loss:[762.40533, 0.021079881]\n",
      "400/1000  loss:[575.1576, 0.024408285]\n",
      "候選框命中率:94.891%\n",
      "候選框負樣本命中率:98.831%\n",
      "中心點偏移誤差:2.180%\n",
      "框縮放比率誤差:2.406%\n",
      "分類正確率:91.971%\n",
      "\n",
      "500/1000  loss:[471.94275, 0.019600593]\n",
      "600/1000  loss:[529.22974, 0.018491125]\n",
      "候選框命中率:99.270%\n",
      "候選框負樣本命中率:98.831%\n",
      "中心點偏移誤差:1.955%\n",
      "框縮放比率誤差:2.125%\n",
      "分類正確率:89.781%\n",
      "\n",
      "700/1000  loss:[436.39966, 0.036242604]\n",
      "800/1000  loss:[504.36743, 0.019970413]\n",
      "候選框命中率:99.394%\n",
      "候選框負樣本命中率:98.385%\n",
      "中心點偏移誤差:1.576%\n",
      "框縮放比率誤差:1.815%\n",
      "分類正確率:90.909%\n",
      "\n",
      "900/1000  loss:[381.34143, 0.018491125]\n",
      "epoch 2\n",
      "0/1000  loss:[419.83142, 0.017381657]\n",
      "100/1000  loss:[331.68988, 0.01923077]\n",
      "200/1000  loss:[356.00415, 0.01627219]\n",
      "候選框命中率:99.275%\n",
      "候選框負樣本命中率:98.831%\n",
      "中心點偏移誤差:1.895%\n",
      "框縮放比率誤差:1.846%\n",
      "分類正確率:95.652%\n",
      "\n",
      "300/1000  loss:[349.37158, 0.016642012]\n",
      "400/1000  loss:[523.81775, 0.027366864]\n",
      "候選框命中率:99.371%\n",
      "候選框負樣本命中率:98.939%\n",
      "中心點偏移誤差:1.311%\n",
      "框縮放比率誤差:1.419%\n",
      "分類正確率:91.195%\n",
      "\n",
      "500/1000  loss:[267.43216, 0.015902366]\n",
      "600/1000  loss:[512.7082, 0.015162722]\n",
      "候選框命中率:99.338%\n",
      "候選框負樣本命中率:98.394%\n",
      "中心點偏移誤差:2.032%\n",
      "框縮放比率誤差:1.644%\n",
      "分類正確率:91.391%\n",
      "\n",
      "700/1000  loss:[324.84137, 0.01775148]\n",
      "800/1000  loss:[334.8607, 0.012573965]\n",
      "候選框命中率:100.000%\n",
      "候選框負樣本命中率:98.389%\n",
      "中心點偏移誤差:1.785%\n",
      "框縮放比率誤差:1.776%\n",
      "分類正確率:94.969%\n",
      "\n",
      "900/1000  loss:[248.84573, 0.0591716]\n",
      "epoch 3\n",
      "0/1000  loss:[319.7579, 0.014053254]\n",
      "100/1000  loss:[291.81555, 0.13202663]\n",
      "200/1000  loss:[148.73904, 0.0147929]\n",
      "候選框命中率:99.306%\n",
      "候選框負樣本命中率:99.141%\n",
      "中心點偏移誤差:1.780%\n",
      "框縮放比率誤差:1.492%\n",
      "分類正確率:97.917%\n",
      "\n",
      "300/1000  loss:[267.965, 0.012204142]\n",
      "400/1000  loss:[121.70316, 0.0295858]\n",
      "候選框命中率:99.219%\n",
      "候選框負樣本命中率:99.030%\n",
      "中心點偏移誤差:1.604%\n",
      "框縮放比率誤差:1.605%\n",
      "分類正確率:96.875%\n",
      "\n",
      "500/1000  loss:[270.55905, 0.012943787]\n",
      "600/1000  loss:[250.01141, 0.012204142]\n",
      "候選框命中率:99.296%\n",
      "候選框負樣本命中率:99.024%\n",
      "中心點偏移誤差:1.569%\n",
      "框縮放比率誤差:1.682%\n",
      "分類正確率:96.479%\n",
      "\n",
      "700/1000  loss:[234.82385, 0.018860947]\n",
      "800/1000  loss:[239.15802, 0.01775148]\n",
      "候選框命中率:100.000%\n",
      "候選框負樣本命中率:98.869%\n",
      "中心點偏移誤差:1.563%\n",
      "框縮放比率誤差:1.749%\n",
      "分類正確率:95.000%\n",
      "\n",
      "900/1000  loss:[219.10905, 0.013683432]\n",
      "epoch 4\n",
      "0/1000  loss:[179.11368, 0.015162722]\n",
      "100/1000  loss:[207.58424, 0.0077662724]\n",
      "200/1000  loss:[250.28308, 0.014053254]\n",
      "候選框命中率:100.000%\n",
      "候選框負樣本命中率:99.139%\n",
      "中心點偏移誤差:1.637%\n",
      "框縮放比率誤差:1.439%\n",
      "分類正確率:94.595%\n",
      "\n",
      "300/1000  loss:[325.87256, 0.016642012]\n",
      "400/1000  loss:[252.1688, 0.018860947]\n",
      "候選框命中率:100.000%\n",
      "候選框負樣本命中率:99.376%\n",
      "中心點偏移誤差:1.540%\n",
      "框縮放比率誤差:1.564%\n",
      "分類正確率:95.714%\n",
      "\n",
      "500/1000  loss:[182.43993, 0.041420117]\n",
      "600/1000  loss:[148.7182, 0.00887574]\n",
      "候選框命中率:99.315%\n",
      "候選框負樣本命中率:98.905%\n",
      "中心點偏移誤差:1.396%\n",
      "框縮放比率誤差:2.348%\n",
      "分類正確率:97.260%\n",
      "\n",
      "700/1000  loss:[192.79343, 0.01183432]\n",
      "800/1000  loss:[153.76042, 0.0147929]\n",
      "候選框命中率:98.582%\n",
      "候選框負樣本命中率:99.181%\n",
      "中心點偏移誤差:1.940%\n",
      "框縮放比率誤差:1.518%\n",
      "分類正確率:97.872%\n",
      "\n",
      "900/1000  loss:[222.79803, 0.012943787]\n"
     ]
    }
   ],
   "source": [
    "num_epochs=5\n",
    "minibatch_size=16\n",
    "for epoch in range(num_epochs):\n",
    "    mbs=0\n",
    "    print('epoch {0}'.format(epoch))\n",
    "    while mbs <1000:\n",
    "        try:\n",
    "            # 定義數據如何對應變數\n",
    "            features_x, label_y = get_next_minibatch(minibatch_size)\n",
    "            loss=model.train_on_batch(features_x, label_y)\n",
    "            if mbs%100==0:\n",
    "                print('{0}/1000  loss:{1}'.format(mbs,loss))\n",
    "            if mbs%200==0 and mbs>0:\n",
    "                #模型訓練過程的metrics指標\n",
    "                result=model.predict(features_x)\n",
    "                \n",
    "                mask=np.expand_dims(label_y[:,:,:,4],-1)\n",
    "                box_coverage=np.sum(np.equal(np.greater(result[:,:,:,4],0.7),label_y[:,:,:,4])*label_y[:,:,:,4]).astype(np.float32)/np.sum(label_y[:,:,:,4])\n",
    "                box_neg_coverage=np.sum(np.equal(np.less(result[:,:,:,4],0.7),1-label_y[:,:,:,4])*(1-label_y[:,:,:,4]))/np.sum(1-label_y[:,:,:,4])\n",
    "\n",
    "                center_shift_error=np.sqrt(np.sum(np.power(result[:,:,:,:2]-label_y[:,:,:,:2],2)*mask))/np.sum(label_y[:,:,:,4])\n",
    "                scale_error=np.sqrt(np.sum(np.power(np.exp(result[:,:,:,2:4])-np.exp(label_y[:,:,:,2:4]),2)*mask))/np.sum(label_y[:,:,:,4])\n",
    "                class_accuracy=np.sum(np.equal(np.argmax(result[:,:,:,5:],-1), np.argmax(label_y[:,:,:,5:],-1))*label_y[:,:,:,4])/np.sum(label_y[:,:,:,4])\n",
    "\n",
    "                print('候選框命中率:{0:.3%}'.format(np.mean(box_coverage)))\n",
    "                print('候選框負樣本命中率:{0:.3%}'.format(np.mean(box_neg_coverage)))\n",
    "                print('中心點偏移誤差:{0:.3%}'.format(np.mean(center_shift_error)))\n",
    "                print('框縮放比率誤差:{0:.3%}'.format(np.mean(scale_error)))\n",
    "                print('分類正確率:{0:.3%}'.format(np.mean(class_accuracy)))\n",
    "                print('')\n",
    "        except Exception as e:\n",
    "            print(e)\n",
    "        \n",
    "            \n",
    "        mbs+=1\n",
    "    model.save_weights('Models/chptcha_keras.hdf5')\n",
    "\n",
    "    \n",
    "    "
   ]
  },
  {
   "cell_type": "raw",
   "metadata": {},
   "source": [
    "模型訓練好了之後，我們也來試試預測的效果，在這邊我選取框的標準為objectness>0.7，我將預測框與實際框同時畫在原圖之上，我們來看看預測的效果如何。"
   ]
  },
  {
   "cell_type": "code",
   "execution_count": 15,
   "metadata": {
    "collapsed": false
   },
   "outputs": [
    {
     "name": "stdout",
     "output_type": "stream",
     "text": [
      "(1, 13, 13, 15)\n",
      "預測框向量:[ 0.51528764  0.44360352 -0.11377973  0.4604779   0.9947429 ]\n",
      "實際框向量:[ 0.3125      0.28125    -0.06453852  0.48550782  1.        ]\n",
      "預測框向量:[0.36320695 0.3640361  0.33211708 0.4920559  0.9933648 ]\n",
      "實際框向量:[0.40625    0.21875    0.31845373 0.48550782 1.        ]\n",
      "預測框向量:[0.19317055 0.30286086 0.269634   0.3409056  0.9873899 ]\n",
      "實際框向量:[0.28125    0.28125    0.4054651  0.48550782 1.        ]\n",
      "預測框向量:[0.09466252 0.38871902 0.353272   0.34176287 0.9888242 ]\n",
      "實際框向量:[0.15625    0.34375    0.48550782 0.48550782 1.        ]\n",
      "預測框向量:[0.8422951  0.22461899 0.21585016 0.43203923 0.98716193]\n",
      "實際框向量:[0.78125    0.21875    0.31845373 0.48550782 1.        ]\n",
      "預測框向量:[0.73980755 0.8857544  0.11181979 0.37408823 0.99019814]\n",
      "實際框向量:[0.65625    0.90625    0.11778303 0.31845373 1.        ]\n",
      "預測框向量:[0.25880775 0.7855279  0.13123065 0.2229234  0.87313884]\n",
      "實際框向量:[0.46875    0.96875    0.11778303 0.31845373 1.        ]\n",
      "預測框向量:[0.12241394 0.79358315 0.10013846 0.29365894 0.9693336 ]\n",
      "實際框向量:[0.15625    0.90625    0.11778303 0.31845373 1.        ]\n",
      "預測結果:[1, 3, 8, 4, 3, 9, 7, 7]\n",
      "信心水準:[0.9947429, 0.9933648, 0.9873899, 0.9888242, 0.98716193, 0.99019814, 0.87313884, 0.9693336]\n",
      "實際結果:[1, 3, 8, 4, 3, 9, 7, 7]\n"
     ]
    },
    {
     "data": {
      "text/plain": [
       "<matplotlib.image.AxesImage at 0x1b981259048>"
      ]
     },
     "execution_count": 15,
     "metadata": {},
     "output_type": "execute_result"
    },
    {
     "data": {
      "image/png": "[encoded data removed]",
      "text/plain": [
       "<matplotlib.figure.Figure at 0x1b981259978>"
      ]
     },
     "metadata": {},
     "output_type": "display_data"
    }
   ],
   "source": [
    "features_x,lables_y=get_next_minibatch(1)\n",
    "result=model.predict(features_x)\n",
    "test_captcha=(features_x[0]*127.5+127.5).astype(np.float32)\n",
    "\n",
    "test_captcha=test_captcha.copy()\n",
    "\n",
    "print(result.shape)\n",
    "\n",
    "#print(result[0][4,:,:])\n",
    "#print(sigmoid_np(result[0][4,:,:]).max())\n",
    "\n",
    "words=[]\n",
    "confidences=[]\n",
    "answers=[]\n",
    "for j in range(13):\n",
    "    for i in range(13):\n",
    "        #預測的邊界框\n",
    "        if result[0][j,i,4]>=0.7: #如果objectness>0.7\n",
    "            print('預測框向量:{0}'.format(result[0][j,i,:5]))\n",
    "            print('實際框向量:{0}'.format(lables_y[0][j,i,:5]))\n",
    "            pred_class=np.argmax(result[0][j,i,5:],-1) #預測類別\n",
    "            words.append(pred_class)\n",
    "            confidences.append(result[0][j,i,4])\n",
    "            pred_xc=i*16+(result[0][j,i,0])*16.0\n",
    "            pred_yc=j*16+(result[0][j,i,1])*16.0\n",
    "            pred_w=math.exp(result[0][j,i,2])*16.0\n",
    "            pred_h=math.exp(result[0][j,i,3])*16.0\n",
    "            color =(0,128,128)\n",
    "            cv2.rectangle(test_captcha, (int(pred_xc-0.5-0.5*pred_w), int(pred_yc-0.5-0.5*pred_h)), (int(pred_xc+0.5+0.5*pred_w), int(pred_yc+0.5+0.5*pred_h)), color, 1)\n",
    "        #實際的邊界框\n",
    "        if lables_y[0][j,i,4]>0.7: #如果objectness>0.5\n",
    "            actual_class=np.argmax(lables_y[0][j,i,5:],-1) #預測類別\n",
    "            answers.append(actual_class)\n",
    "            actual_xc=i*16+(lables_y[0][j,i,0]*16.0)\n",
    "            actual_yc=j*16+(lables_y[0][j,i,1]*16.0)\n",
    "            actual_w=math.exp(lables_y[0][j,i,2])*16.0\n",
    "            actual_h=math.exp(lables_y[0][j,i,3])*16.0\n",
    "            color =(0,0,255)\n",
    "            cv2.rectangle(test_captcha, (int(actual_xc-0.5-0.5*actual_w), int(actual_yc-0.5-0.5*actual_h)), (int(actual_xc+0.5+0.5*actual_w), int(actual_yc+0.5+0.5*actual_h)), color, 1)\n",
    "  \n",
    "            \n",
    "test_captcha=cv2.cvtColor(test_captcha,cv2.COLOR_BGR2RGB)\n",
    "test_captcha=Image.fromarray(test_captcha.astype(np.uint8))\n",
    "\n",
    "\n",
    "\n",
    "print('預測結果:{0}'.format(words))\n",
    "print('信心水準:{0}'.format(confidences))\n",
    "print('實際結果:{0}'.format(answers))\n",
    "\n",
    "plt.axis('off')\n",
    "plt.imshow(test_captcha)\n"
   ]
  },
  {
   "cell_type": "raw",
   "metadata": {},
   "source": [
    "這個實作其實不只是能處理數字型驗證碼，各位可以搜尋emnist數據集，裡面還有手寫英文字母，就能夠處理數字英文混雜的驗證碼模式。當然，在前面我們自定義驗證碼生成器中也可以自行根據各家驗證碼的風格加以調整，以及加入數據增強，效果會更好。"
   ]
  }
 ],
 "metadata": {
  "anaconda-cloud": {},
  "kernelspec": {
   "display_name": "Python [Root]",
   "language": "python",
   "name": "Python [Root]"
  },
  "language_info": {
   "codemirror_mode": {
    "name": "ipython",
    "version": 3
   },
   "file_extension": ".py",
   "mimetype": "text/x-python",
   "name": "python",
   "nbconvert_exporter": "python",
   "pygments_lexer": "ipython3",
   "version": "3.5.2"
  }
 },
 "nbformat": 4,
 "nbformat_minor": 0
}
