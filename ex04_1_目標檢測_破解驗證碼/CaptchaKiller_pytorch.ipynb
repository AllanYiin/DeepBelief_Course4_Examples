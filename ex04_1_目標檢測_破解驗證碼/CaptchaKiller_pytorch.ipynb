{
 "cells": [
  {
   "cell_type": "code",
   "execution_count": 1,
   "metadata": {
    "collapsed": true
   },
   "outputs": [],
   "source": [
    "%matplotlib inline"
   ]
  },
  {
   "cell_type": "markdown",
   "metadata": {},
   "source": [
    "# 破解驗證碼(pytorch)"
   ]
  },
  {
   "cell_type": "markdown",
   "metadata": {},
   "source": [
    "### 測試於pytorch 1.0"
   ]
  },
  {
   "cell_type": "raw",
   "metadata": {},
   "source": [
    "在上網時，總是會一天到晚看到那些要我們證明自己是人類而不是機器人的驗證碼，但是光靠指認比較模糊的數字與文字真的就能證明我是人類而不是來搗蛋的網路爬蟲嗎??"
   ]
  },
  {
   "cell_type": "markdown",
   "metadata": {},
   "source": [
    "![md_images](../Images/Imnotrobot.jpg?raw=true)"
   ]
  },
  {
   "cell_type": "raw",
   "metadata": {},
   "source": [
    "日前一篇論文中將市面上大多數的驗證碼機制破解，為驗證碼的未來敲了喪鐘。既然機器視覺擁有識別數字文字的能力，只要能夠把文字數字所在位置定位不就能夠把驗證碼問題迎刃而解啦。說穿了，驗證碼破解其實跟OCR的觀念其實一樣，透過機器視覺技術，我們都可以將它視為目標檢測的問題。\n",
    "\n",
    "http://www.lancaster.ac.uk/staff/wangz3/publications/ccs18.pdf\n",
    "\n",
    "在本實作中，我們將會使用tiny YOLO的架構來進行驗證碼數字位置的定位以及識別。那要做這樣的模型的話，我們的數據該從哪裡來呢?當然市面上有很多驗證碼生成器，但是最大的問題是我們沒有辦法自動地知道生成出來的驗證碼中數字的明確位置，因此都無法作為有效的圖資來使用。山不轉路轉，既然市面上的驗證碼生成器都無法使用，那我們就來製造自己的驗證碼生成器吧。\n",
    "\n",
    "在這個範例中我們做了幾個假設，第一裡面只有數字，這樣一來我們就可以借用MNIST手寫數字數據集為基礎來產生驗證碼圖樣。"
   ]
  },
  {
   "cell_type": "markdown",
   "metadata": {},
   "source": [
    "![md_images](../Images/captcha.jpg?raw=true)"
   ]
  },
  {
   "cell_type": "raw",
   "metadata": {},
   "source": [
    "首先引用pytorch相關的包"
   ]
  },
  {
   "cell_type": "code",
   "execution_count": 2,
   "metadata": {
    "collapsed": false
   },
   "outputs": [],
   "source": [
    "import matplotlib\n",
    "import matplotlib.image as mpimg\n",
    "import matplotlib.pyplot as plt\n",
    "import numpy as np\n",
    "import os\n",
    "import cv2\n",
    "import math\n",
    "import random\n",
    "import glob\n",
    "import pickle\n",
    "import PIL\n",
    "from PIL import Image\n",
    "from PIL.ImageDraw import Draw\n",
    "\n",
    "\n",
    "import torch\n",
    "import torch.nn as nn\n",
    "import torch.utils.model_zoo as model_zoo\n",
    "from torch.autograd import Variable\n",
    "import torch.nn.functional as F\n",
    "import torch.optim as optim\n",
    "import torchvision.transforms as transforms\n",
    "from  torchvision.datasets import *\n",
    "\n",
    "\n",
    "# 是否使用GPU\n",
    "device = torch.device(\"cuda\" if torch.cuda.is_available() else \"cpu\")"
   ]
  },
  {
   "cell_type": "raw",
   "metadata": {},
   "source": [
    "如果是付費課程學員可以下載我整理好的數據集pickle檔，其他人恐怕得自己去處理MNIST數據集了。"
   ]
  },
  {
   "cell_type": "code",
   "execution_count": 3,
   "metadata": {
    "collapsed": false,
    "scrolled": true
   },
   "outputs": [
    {
     "name": "stdout",
     "output_type": "stream",
     "text": [
      "[[0. 0. 0. ... 0. 0. 0.]\n",
      " [0. 0. 0. ... 0. 0. 0.]\n",
      " [0. 0. 0. ... 0. 0. 0.]]\n",
      "(60000, 784)\n",
      "(60000, 10)\n"
     ]
    }
   ],
   "source": [
    "train_data=None\n",
    "test_data=None\n",
    "\n",
    "with open('../Data/mnist_train.pkl', 'rb') as f:\n",
    "    train_data = pickle.load(f)\n",
    "with open('../Data/mnist_test.pkl', 'rb') as f:\n",
    "    test_data = pickle.load(f)\n",
    "    \n",
    "def parse_mnist(data):\n",
    "    features=[]\n",
    "    labels=[]\n",
    "    for row in data:\n",
    "        labels.append(np.eye(10)[row[-1]].astype(np.float32))\n",
    "        features.append(row[:-1].astype(np.float32))#正規化\n",
    "    return np.asarray(features),np.asarray(labels)\n",
    "\n",
    "\n",
    "\n",
    "features,labels=parse_mnist(train_data)\n",
    "print(features[:3])\n",
    "print(features.shape)\n",
    "print(labels.shape)"
   ]
  },
  {
   "cell_type": "raw",
   "metadata": {},
   "source": [
    "我們對於這次生成的驗證碼的生成邏輯如下：\n",
    "    一個驗證碼可能是3~7個數字所構成\n",
    "    字體的大小未必相同\n",
    "    字體顏色與背景顏色來自於隨機色彩\n",
    "    加入噪點以及隨機線條\n",
    "    假設圖片皆等比例縮放至208*208大小"
   ]
  },
  {
   "cell_type": "code",
   "execution_count": 4,
   "metadata": {
    "collapsed": false
   },
   "outputs": [
    {
     "name": "stdout",
     "output_type": "stream",
     "text": [
      "[28 30 32]\n"
     ]
    }
   ],
   "source": [
    "#可行的字體大小，我們將字體控制在28~34級字之間\n",
    "font_sizes=np.arange(28,34,2)\n",
    "print(font_sizes)\n",
    "\n",
    "#產生打亂的索引表\n",
    "idxs=np.arange(0,features.shape[0],1)\n",
    "np.random.shuffle(idxs)\n",
    "\n",
    "\n",
    "#產生隨機顏色的函數\n",
    "def random_color(start, end, opacity=None):\n",
    "    red = random.randint(start, end)\n",
    "    green = random.randint(start, end)\n",
    "    blue = random.randint(start, end)\n",
    "    if opacity is None:\n",
    "        return (blue, green, red)\n",
    "    return (blue, green, red, opacity)\n"
   ]
  },
  {
   "cell_type": "raw",
   "metadata": {},
   "source": [
    "為了能夠生成出逼真的驗證碼，下方式所需要的一些工具函數。例如get_mnist_bbox"
   ]
  },
  {
   "cell_type": "code",
   "execution_count": 5,
   "metadata": {
    "collapsed": false
   },
   "outputs": [
    {
     "name": "stdout",
     "output_type": "stream",
     "text": [
      "[5, 5, 7, 8, 2, 5]\n"
     ]
    },
    {
     "data": {
      "image/png": "[encoded data removed]",
      "text/plain": [
       "<matplotlib.figure.Figure at 0x1e36a8fecf8>"
      ]
     },
     "metadata": {},
     "output_type": "display_data"
    }
   ],
   "source": [
    "def get_mnist_bbox(img):\n",
    "    if img[0,0]==255:\n",
    "        img=255-img \n",
    "    img_y=np.greater(np.mean(img,1),0).astype(np.float32)\n",
    "    img_x=np.greater(np.mean(img,0),0).astype(np.float32)\n",
    "    min_y,max_y=np.argmax(img_y)-1,len(img_y)-np.argmax(np.flip(img_y.copy(),0))\n",
    "    min_x,max_x=np.argmax(img_x)-1,len(img_x)-np.argmax(np.flip(img_x.copy(),0))\n",
    "    return (min_x+max_x)/2.0,(min_y+max_y)/2.0,max_x-min_x+1,max_y-min_y+1\n",
    "\n",
    "#生成干擾用的隨機線條\n",
    "def create_noise_curve(image, color):\n",
    "    h,w = image.shape[:2]\n",
    "    for i in range(random.choice([1,2,3])):\n",
    "        try:\n",
    "            x0=random.randint(0, 20)\n",
    "            x1 = random.randint(x0, w -3* int(w / 5))\n",
    "            x2 = random.randint(x1, w -2* int(w / 5))\n",
    "            x3= random.randint(x2, 208)\n",
    "            y0= random.randint(int(h /10),int(h / 5))\n",
    "            y1 = random.randint(y0, h -3*int(h / 5))\n",
    "            y2 = random.randint(y1, h-2* int(h / 5))\n",
    "            y3=random.randint(y2, h -int(h / 5))\n",
    "            points =np.array([[x0, y0], [x1, y1], [x2, y2], [x3, y3]])\n",
    "\n",
    "            image=cv2.polylines(image,np.int32([points]),False,color =color, thickness=1)\n",
    "        except Exception as e:\n",
    "            print(e)\n",
    "    return image\n",
    "\n",
    "#生成干擾用的隨機噪點\n",
    "def create_noise_dots(image, color, width=3, number=30):\n",
    "    w, h = image.shape[:2]\n",
    "    while number>0:\n",
    "        x1 = random.randint(0, 208)\n",
    "        y1 = random.randint(0, 64)\n",
    "        cv2.circle(image, (x1, y1),width,color, -1)\n",
    "        number -= 1\n",
    "    return image\n",
    "\n",
    "#隨機生成出隨機數字，數字位置的Bounding Box，以及分別是甚麼數字的標籤集合\n",
    "def get_minist_chaptcha_raw():\n",
    "    #隨機設定字數\n",
    "    words_cnt=random.choice(range(3,7))\n",
    "    #隨機選擇字體大小\n",
    "    font_size=random.choice(font_sizes)\n",
    "    #如果字數太多不巧遇上字體過大，則覆寫為字數等於4\n",
    "    if font_size*words_cnt>208:\n",
    "        words_cnt=4\n",
    "        if font_size*4>208:\n",
    "            words_cnt=3\n",
    "    \n",
    "    #隨機選擇索引位置以及產出對應標籤與圖片\n",
    "    idx_list=[random.choice(idxs) for d in range(words_cnt)]\n",
    "    label_list=[np.argmax(labels[d]) for d in idx_list]  \n",
    "    img_list=[cv2.resize(np.reshape(features[d],(28,28,1)),(font_size,font_size)) for d in idx_list]  \n",
    "    bboxs_list=[get_mnist_bbox(im) for im in img_list]\n",
    "    return img_list,bboxs_list,label_list\n",
    "\n",
    "\n",
    "#根據get_minist_chaptcha_raw函數的產出，組合生成出驗證碼圖片。\n",
    "#輸出驗證碼圖片尺寸為寬為208 高為64，為何使用208那麼怪的數字主要是後續要透過4次下採樣變成13個特徵圖網格\n",
    "def get_minist_chaptcha():\n",
    "    img_list,bboxs_list,label_list= get_minist_chaptcha_raw()\n",
    "    new_bboxs_list=[]\n",
    "    #隨機生成顏色\n",
    "    background = random_color(200, 255)\n",
    "    color = random_color(40,180)\n",
    "    image = np.ones((64,208,3))\n",
    "    image=image*np.reshape(background,(1,1,3))\n",
    "    pos_x=(208-img_list[0].shape[0]*len(img_list))//2\n",
    "    pos_y=(64-img_list[0].shape[1])//2\n",
    "    for i in range(len(bboxs_list)):\n",
    "        #將灰階轉換為三原色\n",
    "        imBGR=cv2.cvtColor(img_list[i],cv2.COLOR_GRAY2BGR).astype(np.float32)\n",
    "        imBGR=imBGR/255.0\n",
    "        imBGR[imBGR<=0.1]=0\n",
    "        imBGR=imBGR*np.reshape(color,(1,1,3))\n",
    "        imBGR[np.where((imBGR==[0,0,0]).all(axis=2))] = background\n",
    "        \n",
    "        #接受一個隨機左右偏移量\n",
    "        pos_x=pos_x+random.choice(np.arange(-3,1).tolist())\n",
    "       \n",
    "        \n",
    "        #取出bbox定義\n",
    "        (xc,yc,w,h)=bboxs_list[i]\n",
    "     \n",
    "        image[pos_y:pos_y+imBGR.shape[0],pos_x:pos_x+imBGR.shape[1],:]=imBGR[:,:,:]\n",
    "        #塞入新bbox\n",
    "        new_bboxs_list.append((xc+pos_x,yc+pos_y,w,h))\n",
    "        pos_x=pos_x+imBGR.shape[1]\n",
    "    image=create_noise_dots(image,random_color(120,240))\n",
    "    image=create_noise_curve(image,random_color(120,240,random.randint(180, 255)))\n",
    "    return image.astype(np.float32),img_list,new_bboxs_list,label_list\n",
    "\n",
    "img_captcha,img_list,bboxs_list,label_list= get_minist_chaptcha()\n",
    "img_captcha=cv2.cvtColor(img_captcha,cv2.COLOR_BGR2RGB)\n",
    "img_captcha=Image.fromarray(img_captcha.astype(np.uint8))\n",
    "\n",
    "#我們隨機生成一張驗證碼，並且將它顯示出來\n",
    "plt.axis('off')\n",
    "plt.imshow(img_captcha)\n",
    "print(label_list)"
   ]
  },
  {
   "cell_type": "raw",
   "metadata": {},
   "source": [
    "我們來驗證一下我們的驗證碼生成器產生的數字位置信息是正確的，我們將前面包含數字位置框的信息(bboxs_list)繪製了bounding box疊加在驗證碼圖片上，我們可以看到紅框的位置是正確無誤的。"
   ]
  },
  {
   "cell_type": "code",
   "execution_count": 6,
   "metadata": {
    "collapsed": false
   },
   "outputs": [
    {
     "name": "stdout",
     "output_type": "stream",
     "text": [
      "(64, 208, 3)\n",
      "float32\n"
     ]
    },
    {
     "data": {
      "text/plain": [
       "<matplotlib.image.AxesImage at 0x1e376f7fef0>"
      ]
     },
     "execution_count": 6,
     "metadata": {},
     "output_type": "execute_result"
    },
    {
     "data": {
      "image/png": "[encoded data removed]",
      "text/plain": [
       "<matplotlib.figure.Figure at 0x1e36aba49b0>"
      ]
     },
     "metadata": {},
     "output_type": "display_data"
    }
   ],
   "source": [
    "img_captcha,img_list,bboxs_list,label_list= get_minist_chaptcha()\n",
    "print(img_captcha.shape)\n",
    "print(img_captcha.dtype)\n",
    "for bbox in bboxs_list:\n",
    "    color =(0,0,255)\n",
    "    (xc,yc,w,h)=bbox\n",
    "    cv2.rectangle(img_captcha, (int(xc-0.5-0.5*w), int(yc-0.5-0.5*h)), (int(xc+0.5+0.5*w), int(yc+0.5+0.5*h)), color, 1)\n",
    "\n",
    "img_captcha=cv2.cvtColor(img_captcha,cv2.COLOR_BGR2RGB)\n",
    "img_captcha=Image.fromarray(img_captcha.astype(np.uint8))\n",
    "plt.axis('off')\n",
    "plt.imshow(img_captcha)   "
   ]
  },
  {
   "cell_type": "raw",
   "metadata": {},
   "source": [
    "接著我們就在pytorch中實作一個簡化的tiny yolo，由於416*416圖片實在蠻大的，因此我只打算使用208*208，因此我在原本標準版tiny yolo中移除了一組下採樣，也順便把原作中有個步長為1的max pooling也拿掉了。"
   ]
  },
  {
   "cell_type": "code",
   "execution_count": 7,
   "metadata": {
    "collapsed": true
   },
   "outputs": [],
   "source": [
    "def conv3x3(in_planes, out_planes, stride=1):\n",
    "    return nn.Conv2d(in_planes, out_planes, kernel_size=3, stride=stride,padding=1, bias=False)\n",
    "def conv1x1(in_planes, out_planes, stride=1):\n",
    "    return nn.Conv2d(in_planes, out_planes, kernel_size=1, stride=stride, bias=False)\n",
    "\n",
    "\n",
    "#請注意，原來的tiny yolo v2的輸入圖片為416*416，透過5次下採樣(最後一次maxpolling strides=1，並不是下採樣)產生了大小為13*13的特徵圖\n",
    "#為了將輸入圖片尺寸縮小方便訓練，以及簡化模型我們將輸入圖片尺寸改為208*208，並且拿掉一組下採樣\n",
    "# 最後一層特徵圖15=1種anchor*(4個bounding box迴歸參數+1個objectness+10數字類別score)\n",
    "class simplify_tiny_yolo(nn.Module):\n",
    "    def __init__(self,num_classes=10):\n",
    "        super(simplify_tiny_yolo, self).__init__()\n",
    "        self.conv1 = conv3x3(3, 16, 1)\n",
    "        self.bn1 = nn.BatchNorm2d(16)\n",
    "        self.conv2 =conv3x3(16, 32, 1)\n",
    "        self.bn2 = nn.BatchNorm2d(32)\n",
    "        self.conv3 =conv3x3(32, 64, 1)\n",
    "        self.bn3 = nn.BatchNorm2d(64)\n",
    "        self.conv4 =conv3x3(64, 128, 1)\n",
    "        self.bn4 = nn.BatchNorm2d(128)\n",
    "        self.conv5 =conv3x3(128, 256, 1)\n",
    "        self.bn5 = nn.BatchNorm2d(256)\n",
    "        self.conv6 =conv3x3(256, 512, 1)\n",
    "        self.bn6 = nn.BatchNorm2d(512)\n",
    "        self.conv7 =conv3x3(512, 512, 1)\n",
    "        self.bn7 = nn.BatchNorm2d(512)\n",
    "        \n",
    "        self.conv_xy =conv1x1(512, 2, 1)\n",
    "        self.conv_wh =conv1x1(512, 2, 1)\n",
    "        self.conv_obj =conv1x1(512, 1, 1)\n",
    "        self.conv_class =conv1x1(512, num_classes, 1)\n",
    "        \n",
    "        self.leakyrelu = nn.LeakyReLU(inplace=True)\n",
    "        self.maxpool=nn.MaxPool2d(2, 2)\n",
    "        self.softmax=nn.Softmax(dim=1)\n",
    "        self.sigmoid=nn.Sigmoid()\n",
    "        \n",
    "        \n",
    "\n",
    "    def forward(self, x):\n",
    "        x = self.conv1(x)\n",
    "        x = self.bn1(x)\n",
    "        x = self.leakyrelu(x)\n",
    "        x = self.maxpool(x)\n",
    "        \n",
    "        x = self.conv2(x)\n",
    "        x = self.bn2(x)\n",
    "        x = self.leakyrelu(x)\n",
    "        x = self.maxpool(x)\n",
    "        \n",
    "        x = self.conv3(x)\n",
    "        x = self.bn3(x)\n",
    "        x = self.leakyrelu(x)\n",
    "        x = self.maxpool(x)\n",
    "        \n",
    "        x = self.conv4(x)\n",
    "        x = self.bn4(x)\n",
    "        x = self.leakyrelu(x)\n",
    "        x = self.maxpool(x)\n",
    "        \n",
    "        x = self.conv5(x)\n",
    "        x = self.bn5(x)\n",
    "        x = self.leakyrelu(x)\n",
    "      \n",
    "        x = self.conv6(x)\n",
    "        x = self.bn6(x)\n",
    "        x = self.leakyrelu(x)\n",
    "      \n",
    "        x = self.conv7(x)\n",
    "        x = self.bn7(x)\n",
    "        x = self.leakyrelu(x)\n",
    "     \n",
    "        bbox_xy=self.conv_xy(x)\n",
    "        bbox_xy=self.sigmoid(bbox_xy)\n",
    "   \n",
    "        bbox_wh=self.conv_wh(x)\n",
    "       \n",
    "        bbox_obj=self.conv_obj(x)\n",
    "        bbox_obj=self.sigmoid(bbox_obj)\n",
    "           \n",
    "        bbox_class=self.conv_class(x)\n",
    "        bbox_class=self.softmax(bbox_class)\n",
    "         \n",
    "        p=torch.cat((bbox_xy,bbox_wh,bbox_obj,bbox_class),1)\n",
    "        \n",
    "        return p\n",
    "           "
   ]
  },
  {
   "cell_type": "raw",
   "metadata": {},
   "source": [
    "接下來我們需要建構get_next_minibatch函數，來供給建模過程中所需要的輸入與輸出向量。tiny yolo輸出的結果會是一個(15,13,13)的特徵圖網格，其中15是包括了bbox regression需要的四個參數+1個是否為物體中心點(objectness)以及長度為10的onehot。其中四個bbox ression參數可不是直接預測這個框的中心以及長寬歐，千萬記得為了能讓模型容易收斂，bbox regression四個參數會依循下圖的公式來做轉換。請注意，為了簡化實作，我們這邊並沒有預埋anchor，也就是我們將候選框迴歸的參考對象是基於一個特徵圖的網格(1x1)"
   ]
  },
  {
   "cell_type": "markdown",
   "metadata": {},
   "source": [
    "![md_images](../Images/bbox_regression.jpg?raw=true)"
   ]
  },
  {
   "cell_type": "raw",
   "metadata": {},
   "source": [
    "以tx來說，他是要預測中心點x座標的相對偏移，因此我們需要求出這個特徵圖左上方映射到完整圖片的位置int(xc//16)*16 (特徵圖一個網格對應過去是16個像素)，兩者相減後再除以16(一個特徵圖網格的寬度)，它必須是介於0~1的數值，這樣才會確保中心點是落在這個特徵圖網格之中。ty也是同樣道理。\n",
    "\n",
    "至於長寬的縮放尺度，我們這邊沒有預埋anchor，我們的參考框將是一個特徵圖網格(16*16像素)，如果實際框比他大，那麼GW/PW會大於1，log(GW/PW)會是正數，反之如果實際框比他小，那麼GW/PW會小於1，log(GW/PW)會是負數"
   ]
  },
  {
   "cell_type": "code",
   "execution_count": 8,
   "metadata": {
    "collapsed": false
   },
   "outputs": [
    {
     "name": "stdout",
     "output_type": "stream",
     "text": [
      "(3, 208, 208)\n",
      "(15, 13, 13)\n",
      "(13, 13)\n"
     ]
    },
    {
     "data": {
      "text/plain": [
       "<matplotlib.image.AxesImage at 0x1e376f7ffd0>"
      ]
     },
     "execution_count": 8,
     "metadata": {},
     "output_type": "execute_result"
    },
    {
     "data": {
      "image/png": "[encoded data removed]",
      "text/plain": [
       "<matplotlib.figure.Figure at 0x1e376f7ff28>"
      ]
     },
     "metadata": {},
     "output_type": "display_data"
    }
   ],
   "source": [
    "def get_next_minibatch(minibatch_size=1):\n",
    "    features=[]\n",
    "    lables=[]\n",
    "    while len(features)<minibatch_size:\n",
    "        h_shift=random.choice(range(60))\n",
    "        h_shift2=h_shift+64+random.choice(range(10))\n",
    "        img_captcha,img_list,bboxs_list,label_list= get_minist_chaptcha()\n",
    "        img_captcha2,img_list2,bboxs_list2,label_list2= get_minist_chaptcha()\n",
    "        \n",
    "        feature=np.zeros((3,208,208),dtype=np.float32) #輸入向量基礎為全零向量\n",
    "        \n",
    "        #數據增強手法，將輸入向量背景變為隨機常態分佈的亂數噪音\n",
    "        if random.randint(0, 10)%3==0:\n",
    "            feature=np.random.standard_normal((3,208,208))*127.5+127.5\n",
    "  \n",
    "        img_captcha=np.transpose(img_captcha,[2,0,1])\n",
    "        img_captcha2=np.transpose(img_captcha2,[2,0,1])\n",
    "        \n",
    "        feature[:,h_shift:h_shift+img_captcha.shape[1],:]=img_captcha\n",
    "        feature[:,h_shift2:h_shift2+img_captcha2.shape[1],:]=img_captcha2\n",
    "        features.append((feature-127.5)/127.5) #將輸入向量標準化為-1~1之間\n",
    "        \n",
    "        bboxs_list=[(box[0],box[1]+h_shift,box[2],box[3]) for box in bboxs_list]\n",
    "        bboxs_list2=[(box[0],box[1]+h_shift2,box[2],box[3]) for box in bboxs_list2]\n",
    "        \n",
    "        bboxs_list.extend(bboxs_list2)\n",
    "        label_list.extend(label_list2)\n",
    "        \n",
    "        label=np.zeros((15,13,13),dtype=np.float32)\n",
    "        for i in range(len(bboxs_list)):\n",
    "            bbox=bboxs_list[i]\n",
    "            #print('bbox {0} {1}'.format(i,bbox))\n",
    "            xc,yc,w,h=bbox[0],bbox[1],bbox[2],bbox[3]\n",
    "            lab_idx=label_list[i]\n",
    "            label[0,int(yc//16),int(xc//16)]=(xc-(int(xc//16)*16))/16.\n",
    "            label[1,int(yc//16),int(xc//16)]=(yc-(int(yc//16)*16))/16.\n",
    "            label[2,int(yc//16),int(xc//16)]=math.log(w/16.)\n",
    "            label[3,int(yc//16),int(xc//16)]=math.log(h/16.)\n",
    "            #bbox中心點位置落點特徵圖網格\n",
    "            label[4,int(yc//16),int(xc//16)]=1.0  #objectness\n",
    "            #數字onehot\n",
    "            label[5+lab_idx,int(yc//16),int(xc//16)]=1 #class\n",
    "            \n",
    "        lables.append(label)\n",
    "    return np.asarray(features).astype(np.float32),np.asarray(lables).astype(np.float32)\n",
    "\n",
    "features_x,lables_y=get_next_minibatch(1)\n",
    "print(features_x[0].shape)\n",
    "print(lables_y[0].shape)\n",
    "griddata=np.argmax(lables_y[0][5:,:,:],0)\n",
    "print(griddata.shape)\n",
    "#print(np.array([row[:] for row in griddata]).shape)\n",
    "\n",
    "\n",
    "img_captcha=cv2.cvtColor(np.transpose(features_x[0]*255,[1,2,0]),cv2.COLOR_BGR2RGB)\n",
    "img_captcha=Image.fromarray(img_captcha.astype(np.uint8))\n",
    "\n",
    "fig, (feature, label)= plt.subplots(1, 2, figsize=(12, 6))\n",
    "\n",
    "plt.axis('off')\n",
    "feature.imshow(img_captcha, interpolation='nearest')\n",
    "plt.axis('off')\n",
    "label.imshow(griddata, interpolation='nearest', cmap=None)\n",
    "\n"
   ]
  },
  {
   "cell_type": "code",
   "execution_count": 9,
   "metadata": {
    "collapsed": false
   },
   "outputs": [],
   "source": [
    "num_epochs=5\n",
    "minibatch_size=16\n",
    "\n",
    "tiny_yolo=simplify_tiny_yolo(10)\n",
    "model=tiny_yolo.to(device)\n",
    "optimizer = optim.Adam(model.parameters(),lr=0.001, betas=(0.9, 0.999), eps=1e-08, weight_decay=0.0005)\n",
    "criterion=nn.MSELoss(reduction='sum')"
   ]
  },
  {
   "cell_type": "markdown",
   "metadata": {},
   "source": [
    "![md_images](../Images/yolo_loss.jpg?raw=true)"
   ]
  },
  {
   "cell_type": "raw",
   "metadata": {},
   "source": [
    "我想目標檢測的損失函數恐怕是這個實作的最大Boss，看到那麼複雜的公式，大部分的人恐怕心都涼了一半。沒關係，我們接下來不但要時做出這個損失函數，同時也會逐一解釋公式的意義。損失函數公式雖然看起來很可怕，但仔細看裡面每個分項其實都是方差(squared error)，或是誤差的平方，所以我們可以套用MSELoss函數來計算各分項損失。\n",
    "\n",
    "由於bbox迴歸的中心點、objectness以及類別機率都是介於0~1之間，因此計算出來的損失大小規模相去不遠。至於bbox迴歸的縮放比例可能是正數或是負數，原作者是先用exp還原回來，但由於縮放比例可能會大於1，也因此作者又在損失函數這邊特別開根號在計算平方誤差，以避免大尺寸框主導了損失的走向，我這邊有略做修改，在這實作案例中，我直接將預測值做方差收斂效果比較好。\n",
    "\n",
    "此外，從公式中可以發現作者將objectness區分為有物體中心的網格損失(loss_obj)以及無物體中心的網格損失(loss_noobj)，這是因為絕大多數的特徵圖網格應該都沒有物體中心存在，如果合在一起計算損失會因為有物體中心的網格出現機率較小而不被重視，所以我們也賦予了不同的權重來平衡它。\n",
    "\n",
    "此外，你會看到大多數的分項中我都乘上了mask(torch.unsqueeze(y_true[:,4,:,:],1))，這意味著計算bbox回歸以及類別判斷時，我只關心實際物體中心落點的特徵圖網格，以避免大多數無物體中心的特徵圖數量較大而而造成難以收斂。\n"
   ]
  },
  {
   "cell_type": "raw",
   "metadata": {},
   "source": [
    "在接下來的訓練過程中，為了要能夠掌握訓練的完成程度，光靠損失函數以及單一的metrics函數是不夠的，因此我這邊設計了檢測各個階段的評估指標，每訓練200 minibatch就列印一次"
   ]
  },
  {
   "cell_type": "code",
   "execution_count": 10,
   "metadata": {
    "collapsed": false
   },
   "outputs": [
    {
     "name": "stdout",
     "output_type": "stream",
     "text": [
      "epoch start\n",
      "Epoch: 1/5  Step: 0  Loss: 2964.0857...\n",
      "候選框命中率:0.000%\n",
      "候選框負樣本命中率:99.922%\n",
      "中心點偏移誤差:3.162%\n",
      "框縮放比率誤差:3.383%\n",
      "分類正確率:13.768%\n",
      "\n"
     ]
    },
    {
     "name": "stderr",
     "output_type": "stream",
     "text": [
      "C:\\Anaconda3\\lib\\site-packages\\torch\\serialization.py:250: UserWarning: Couldn't retrieve source code for container of type simplify_tiny_yolo. It won't be checked for correctness upon loading.\n",
      "  \"type \" + obj.__name__ + \". It won't be checked \"\n"
     ]
    },
    {
     "name": "stdout",
     "output_type": "stream",
     "text": [
      "Epoch: 1/5  Step: 100  Loss: 1025.7530...\n"
     ]
    },
    {
     "name": "stderr",
     "output_type": "stream",
     "text": [
      "C:\\Anaconda3\\lib\\site-packages\\ipykernel\\__main__.py:43: RuntimeWarning: invalid value encountered in sqrt\n"
     ]
    },
    {
     "name": "stdout",
     "output_type": "stream",
     "text": [
      "Epoch: 1/5  Step: 200  Loss: 536.1005...\n",
      "候選框命中率:70.270%\n",
      "候選框負樣本命中率:99.844%\n",
      "中心點偏移誤差:2.749%\n",
      "框縮放比率誤差:0.957%\n",
      "分類正確率:23.649%\n",
      "\n",
      "Epoch: 1/5  Step: 300  Loss: 453.5064...\n",
      "Epoch: 1/5  Step: 400  Loss: 428.7980...\n",
      "候選框命中率:88.158%\n",
      "候選框負樣本命中率:99.726%\n",
      "中心點偏移誤差:1.626%\n",
      "框縮放比率誤差:0.735%\n",
      "分類正確率:23.026%\n",
      "\n",
      "Epoch: 1/5  Step: 500  Loss: 417.9000...\n",
      "Epoch: 1/5  Step: 600  Loss: 401.0022...\n",
      "候選框命中率:95.070%\n",
      "候選框負樣本命中率:99.883%\n",
      "中心點偏移誤差:0.881%\n",
      "框縮放比率誤差:0.575%\n",
      "分類正確率:52.113%\n",
      "\n",
      "Epoch: 1/5  Step: 700  Loss: 380.7561...\n",
      "Epoch: 1/5  Step: 800  Loss: 355.7767...\n",
      "候選框命中率:95.862%\n",
      "候選框負樣本命中率:99.922%\n",
      "中心點偏移誤差:1.049%\n",
      "框縮放比率誤差:0.516%\n",
      "分類正確率:75.172%\n",
      "\n",
      "Epoch: 1/5  Step: 900  Loss: 338.4576...\n"
     ]
    },
    {
     "name": "stderr",
     "output_type": "stream",
     "text": [
      "C:\\Anaconda3\\lib\\site-packages\\ipykernel\\__main__.py:42: RuntimeWarning: invalid value encountered in sqrt\n"
     ]
    },
    {
     "name": "stdout",
     "output_type": "stream",
     "text": [
      "Epoch: 1/5  Step: 1000  Loss: 330.2969...\n",
      "候選框命中率:92.857%\n",
      "候選框負樣本命中率:99.922%\n",
      "中心點偏移誤差:1.485%\n",
      "框縮放比率誤差:0.553%\n",
      "分類正確率:81.429%\n",
      "\n",
      "Epoch: 2/5  Step: 0  Loss: 327.5687...\n",
      "候選框命中率:93.289%\n",
      "候選框負樣本命中率:99.922%\n",
      "中心點偏移誤差:1.317%\n",
      "框縮放比率誤差:0.823%\n",
      "分類正確率:87.248%\n",
      "\n",
      "Epoch: 2/5  Step: 100  Loss: 320.0183...\n",
      "Epoch: 2/5  Step: 200  Loss: 317.6338...\n",
      "候選框命中率:97.222%\n",
      "候選框負樣本命中率:99.922%\n",
      "中心點偏移誤差:1.068%\n",
      "框縮放比率誤差:0.411%\n",
      "分類正確率:98.611%\n",
      "\n",
      "Epoch: 2/5  Step: 300  Loss: 314.1073...\n",
      "Epoch: 2/5  Step: 400  Loss: 307.8407...\n",
      "候選框命中率:94.853%\n",
      "候選框負樣本命中率:99.883%\n",
      "中心點偏移誤差:0.965%\n",
      "框縮放比率誤差:0.590%\n",
      "分類正確率:92.647%\n",
      "\n",
      "Epoch: 2/5  Step: 500  Loss: 307.2946...\n",
      "Epoch: 2/5  Step: 600  Loss: 305.1779...\n",
      "候選框命中率:97.297%\n",
      "候選框負樣本命中率:99.961%\n",
      "中心點偏移誤差:0.826%\n",
      "框縮放比率誤差:0.395%\n",
      "分類正確率:96.622%\n",
      "\n",
      "Epoch: 2/5  Step: 700  Loss: 302.8856...\n",
      "Epoch: 2/5  Step: 800  Loss: 303.5612...\n",
      "候選框命中率:96.528%\n",
      "候選框負樣本命中率:99.922%\n",
      "中心點偏移誤差:0.967%\n",
      "框縮放比率誤差:0.441%\n",
      "分類正確率:92.361%\n",
      "\n",
      "Epoch: 2/5  Step: 900  Loss: 299.6534...\n",
      "Epoch: 2/5  Step: 1000  Loss: 297.8429...\n",
      "候選框命中率:98.529%\n",
      "候選框負樣本命中率:99.961%\n",
      "中心點偏移誤差:0.640%\n",
      "框縮放比率誤差:0.522%\n",
      "分類正確率:90.441%\n",
      "\n",
      "Epoch: 3/5  Step: 0  Loss: 309.9314...\n",
      "候選框命中率:93.706%\n",
      "候選框負樣本命中率:99.727%\n",
      "中心點偏移誤差:0.856%\n",
      "框縮放比率誤差:0.600%\n",
      "分類正確率:92.308%\n",
      "\n",
      "Epoch: 3/5  Step: 100  Loss: 297.4680...\n",
      "Epoch: 3/5  Step: 200  Loss: 297.9714...\n",
      "候選框命中率:96.350%\n",
      "候選框負樣本命中率:99.883%\n",
      "中心點偏移誤差:1.009%\n",
      "框縮放比率誤差:0.465%\n",
      "分類正確率:91.241%\n",
      "\n",
      "Epoch: 3/5  Step: 300  Loss: 296.9416...\n",
      "Epoch: 3/5  Step: 400  Loss: 294.7780...\n",
      "候選框命中率:95.588%\n",
      "候選框負樣本命中率:99.844%\n",
      "中心點偏移誤差:0.664%\n",
      "框縮放比率誤差:0.478%\n",
      "分類正確率:91.912%\n",
      "\n",
      "Epoch: 3/5  Step: 500  Loss: 295.8773...\n",
      "Epoch: 3/5  Step: 600  Loss: 292.8062...\n",
      "候選框命中率:96.377%\n",
      "候選框負樣本命中率:100.000%\n",
      "中心點偏移誤差:0.545%\n",
      "框縮放比率誤差:0.414%\n",
      "分類正確率:94.928%\n",
      "\n",
      "Epoch: 3/5  Step: 700  Loss: 294.5312...\n",
      "Epoch: 3/5  Step: 800  Loss: 291.3759...\n",
      "候選框命中率:96.528%\n",
      "候選框負樣本命中率:99.961%\n",
      "中心點偏移誤差:0.685%\n",
      "框縮放比率誤差:0.467%\n",
      "分類正確率:98.611%\n",
      "\n",
      "Epoch: 3/5  Step: 900  Loss: 294.0492...\n",
      "Epoch: 3/5  Step: 1000  Loss: 291.2524...\n",
      "候選框命中率:98.684%\n",
      "候選框負樣本命中率:99.922%\n",
      "中心點偏移誤差:0.899%\n",
      "框縮放比率誤差:0.451%\n",
      "分類正確率:94.737%\n",
      "\n",
      "Epoch: 4/5  Step: 0  Loss: 306.4529...\n",
      "候選框命中率:93.793%\n",
      "候選框負樣本命中率:99.883%\n",
      "中心點偏移誤差:1.203%\n",
      "框縮放比率誤差:0.708%\n",
      "分類正確率:92.414%\n",
      "\n",
      "Epoch: 4/5  Step: 100  Loss: 290.6757...\n",
      "Epoch: 4/5  Step: 200  Loss: 289.4559...\n",
      "候選框命中率:95.105%\n",
      "候選框負樣本命中率:99.922%\n",
      "中心點偏移誤差:1.286%\n",
      "框縮放比率誤差:0.701%\n",
      "分類正確率:95.804%\n",
      "\n",
      "Epoch: 4/5  Step: 300  Loss: 288.1368...\n",
      "Epoch: 4/5  Step: 400  Loss: 291.6618...\n",
      "候選框命中率:95.238%\n",
      "候選框負樣本命中率:99.883%\n",
      "中心點偏移誤差:0.906%\n",
      "框縮放比率誤差:0.477%\n",
      "分類正確率:94.558%\n",
      "\n",
      "Epoch: 4/5  Step: 500  Loss: 287.6970...\n",
      "Epoch: 4/5  Step: 600  Loss: 289.4549...\n",
      "候選框命中率:97.315%\n",
      "候選框負樣本命中率:99.961%\n",
      "中心點偏移誤差:0.548%\n",
      "框縮放比率誤差:0.456%\n",
      "分類正確率:93.289%\n",
      "\n",
      "Epoch: 4/5  Step: 700  Loss: 286.5211...\n",
      "Epoch: 4/5  Step: 800  Loss: 288.9986...\n",
      "候選框命中率:96.732%\n",
      "候選框負樣本命中率:99.922%\n",
      "中心點偏移誤差:0.697%\n",
      "框縮放比率誤差:0.450%\n",
      "分類正確率:95.425%\n",
      "\n",
      "Epoch: 4/5  Step: 900  Loss: 287.8278...\n",
      "Epoch: 4/5  Step: 1000  Loss: 289.5581...\n",
      "候選框命中率:96.528%\n",
      "候選框負樣本命中率:99.844%\n",
      "中心點偏移誤差:0.667%\n",
      "框縮放比率誤差:0.441%\n",
      "分類正確率:97.222%\n",
      "\n",
      "Epoch: 5/5  Step: 0  Loss: 287.3637...\n",
      "候選框命中率:98.000%\n",
      "候選框負樣本命中率:99.922%\n",
      "中心點偏移誤差:0.526%\n",
      "框縮放比率誤差:0.373%\n",
      "分類正確率:96.000%\n",
      "\n",
      "Epoch: 5/5  Step: 100  Loss: 286.9930...\n",
      "Epoch: 5/5  Step: 200  Loss: 288.5394...\n",
      "候選框命中率:97.222%\n",
      "候選框負樣本命中率:99.883%\n",
      "中心點偏移誤差:1.039%\n",
      "框縮放比率誤差:0.450%\n",
      "分類正確率:95.833%\n",
      "\n",
      "Epoch: 5/5  Step: 300  Loss: 285.1085...\n",
      "Epoch: 5/5  Step: 400  Loss: 284.1457...\n",
      "候選框命中率:98.540%\n",
      "候選框負樣本命中率:100.000%\n",
      "中心點偏移誤差:0.462%\n",
      "框縮放比率誤差:0.482%\n",
      "分類正確率:97.810%\n",
      "\n",
      "Epoch: 5/5  Step: 500  Loss: 284.7063...\n",
      "Epoch: 5/5  Step: 600  Loss: 284.8262...\n",
      "候選框命中率:98.667%\n",
      "候選框負樣本命中率:99.961%\n",
      "中心點偏移誤差:0.452%\n",
      "框縮放比率誤差:0.353%\n",
      "分類正確率:98.667%\n",
      "\n",
      "Epoch: 5/5  Step: 700  Loss: 284.7840...\n",
      "Epoch: 5/5  Step: 800  Loss: 283.8834...\n",
      "候選框命中率:97.931%\n",
      "候選框負樣本命中率:99.961%\n",
      "中心點偏移誤差:0.469%\n",
      "框縮放比率誤差:0.344%\n",
      "分類正確率:97.931%\n",
      "\n",
      "Epoch: 5/5  Step: 900  Loss: 285.5902...\n",
      "Epoch: 5/5  Step: 1000  Loss: 284.3407...\n",
      "候選框命中率:99.286%\n",
      "候選框負樣本命中率:99.961%\n",
      "中心點偏移誤差:0.629%\n",
      "框縮放比率誤差:0.441%\n",
      "分類正確率:95.000%\n",
      "\n"
     ]
    }
   ],
   "source": [
    "losses=[]\n",
    "metrics=[]\n",
    "\n",
    "print('epoch start')\n",
    "for epoch in range(num_epochs):\n",
    "    mbs = 0\n",
    "    while mbs<=1000:\n",
    "        input, target_np = get_next_minibatch(minibatch_size)\n",
    "        input, target = torch.from_numpy(input), torch.from_numpy(target_np)\n",
    "        input, target = Variable(input).to(device), Variable(target).to(device)\n",
    "        output = model(input)\n",
    "        \n",
    "        mask=torch.unsqueeze(target[:,4,:,:],1)\n",
    "        #預測與實際的bbox中心\n",
    "        pred_box_xy = output[:,:2,:,:]\n",
    "        actual_box_xy = target[:,:2,:,:]\n",
    "\n",
    "    \n",
    "        #預測與實際bbox wh\n",
    "        pred_box_wh = output[:,2:4,:,:]\n",
    "        actual_box_wh = target[:,2:4,:,:]\n",
    "\n",
    "        #預測bbox中心objectness\n",
    "        pred_box_objectness = output[:,4,:,:]\n",
    "        actual_box_objectness = target[:,4,:,:]\n",
    "\n",
    "        #預測bbox類別。\n",
    "        pred_box_class =output[:,5:,:,:]\n",
    "        actual_box_class =target[:,5:,:,:]\n",
    "        \n",
    "        loss=criterion(output,target)+1*criterion(pred_box_xy*mask,actual_box_xy)+5*criterion(pred_box_wh*mask,actual_box_wh)\n",
    "        +20*criterion(pred_box_objectness* target[:,4,:,:],actual_box_objectness)+0.5*criterion((1-pred_box_objectness)*(1- target[:,4,:,:]),1-actual_box_objectness)\n",
    "        +10*criterion(pred_box_class*mask,actual_box_class)\n",
    "        \n",
    "        \n",
    "        detector=output.cpu().detach().numpy()\n",
    "        \n",
    "   \n",
    "        box_coverage=np.sum(np.equal(np.greater(detector[:,4,:,:],0.7),target_np[:,4,:,:])*target_np[:,4,:,:]).astype(np.float32)/np.sum(target_np[:,4,:,:])\n",
    "        box_neg_coverage=np.sum(np.equal(np.less(detector[:,4,:,:],0.7),1-target_np[:,4,:,:])*(1-target_np[:,4,:,:]))/np.sum(1-target_np[:,4,:,:])\n",
    "\n",
    "        center_shift_error=np.sqrt(np.sum(np.power(detector[:,:2,:,:]-target_np[:,:2,:,:],2)*target_np[:,2:4,:,:]))/np.sum(target_np[:,2:4,:,:])\n",
    "        scale_error=np.sqrt(np.sum(np.power(np.exp(detector[:,2:4,:,:])-np.exp(target_np[:,2:4,:,:]),2)*target_np[:,2:4,:,:]))/np.sum(target_np[:,4,:,:])\n",
    "        class_accuracy=np.sum(np.equal(np.argmax(detector[:,5:,:,:],1), np.argmax(target_np[:,5:,:,:],1))*target_np[:,4,:,:])/np.sum(target_np[:,4,:,:])\n",
    "\n",
    "        \n",
    "    \n",
    "        optimizer.zero_grad()\n",
    "        loss.backward()\n",
    "        optimizer.step()\n",
    "        losses.append(loss.item())\n",
    "        if mbs % 100 == 0:\n",
    "            print(\"Epoch: {}/{} \".format(epoch + 1, num_epochs),\n",
    "                  \"Step: {} \".format(mbs),\n",
    "                  \"Loss: {:.4f}...\".format(np.asarray(losses).mean()))\n",
    "            losses=[]\n",
    "        if mbs % 200 == 0:\n",
    "            print('候選框命中率:{0:.3%}'.format(box_coverage))\n",
    "            print('候選框負樣本命中率:{0:.3%}'.format(box_neg_coverage))\n",
    "            print('中心點偏移誤差:{0:.3%}'.format(center_shift_error))\n",
    "            print('框縮放比率誤差:{0:.3%}'.format(scale_error))\n",
    "            print('分類正確率:{0:.3%}'.format(class_accuracy))\n",
    "            print('')\n",
    "            torch.save(model, 'Models/chptcha_pytorch.cnn')\n",
    "\n",
    "        mbs += 1"
   ]
  },
  {
   "cell_type": "raw",
   "metadata": {},
   "source": [
    "模型訓練好了之後，我們也來試試預測的效果，在這邊我選取框的標準為objectness>0.7，我將預測框與實際框同時畫在原圖之上，我們來看看預測的效果如何。"
   ]
  },
  {
   "cell_type": "code",
   "execution_count": 13,
   "metadata": {
    "collapsed": false
   },
   "outputs": [
    {
     "name": "stdout",
     "output_type": "stream",
     "text": [
      "(208, 208, 3)\n",
      "預測框向量:[ 0.8174945   0.8044594  -0.06861062  0.35566583  0.9995146 ]\n",
      "實際框向量:[ 0.78125     0.78125    -0.13353139  0.31845373  1.        ]\n",
      "預測框向量:[0.5694437  0.797476   0.18759523 0.31877822 0.99901235]\n",
      "實際框向量:[0.46875    0.78125    0.11778303 0.31845373 1.        ]\n",
      "預測框向量:[0.20145153 0.68666226 0.16524065 0.29273796 0.99915886]\n",
      "實際框向量:[0.21875    0.65625    0.11778303 0.31845373 1.        ]\n",
      "預測框向量:[0.4840156  0.03429411 0.21414873 0.48719677 0.9423851 ]\n",
      "實際框向量:[0.40625    0.03125    0.22314355 0.48550782 1.        ]\n",
      "預測框向量:[0.3489641  0.09814603 0.21499288 0.4888592  0.9995628 ]\n",
      "實際框向量:[0.3125     0.09375    0.17185026 0.48550782 1.        ]\n",
      "預測框向量:[0.01563913 0.06913835 0.09017774 0.44834602 0.80723315]\n",
      "實際框向量:[0. 0. 0. 0. 0.]\n",
      "預測框向量:[ 0.89081943  0.06667756 -0.07054268  0.47515148  0.9816436 ]\n",
      "實際框向量:[ 0.90625     0.03125    -0.13353139  0.48550782  1.        ]\n",
      "預測結果:[3, 4, 6, 4, 4, 1, 1]\n",
      "信心水準:[0.9995146, 0.99901235, 0.99915886, 0.9423851, 0.9995628, 0.80723315, 0.9816436]\n",
      "實際結果:[3, 4, 6, 4, 4, 1, 1]\n"
     ]
    },
    {
     "data": {
      "text/plain": [
       "<matplotlib.image.AxesImage at 0x1e3752440f0>"
      ]
     },
     "execution_count": 13,
     "metadata": {},
     "output_type": "execute_result"
    },
    {
     "data": {
      "image/png": "[encoded data removed]",
      "text/plain": [
       "<matplotlib.figure.Figure at 0x1e31ac786d8>"
      ]
     },
     "metadata": {},
     "output_type": "display_data"
    }
   ],
   "source": [
    "features_x,lables_y=get_next_minibatch(1)\n",
    "input, target = torch.from_numpy(features_x), torch.from_numpy(lables_y)\n",
    "input, target = Variable(input).to(device), Variable(target).to(device)\n",
    "result=model(input).cpu().detach().numpy()\n",
    "\n",
    "test_captcha=np.transpose(features_x[0]*127.5+127.5,[1,2,0]).astype(np.float32)#把向量轉成opencv的HWC模式\n",
    "test_captcha=test_captcha.copy()\n",
    "\n",
    "print(test_captcha.shape)\n",
    "\n",
    "#print(result[0][4,:,:])\n",
    "#print(sigmoid_np(result[0][4,:,:]).max())\n",
    "\n",
    "words=[]\n",
    "confidences=[]\n",
    "answers=[]\n",
    "for j in range(13):\n",
    "    for i in range(13):\n",
    "        #預測的邊界框\n",
    "        if result[0][4,j,i]>=0.7: #如果objectness>0.7\n",
    "            print('預測框向量:{0}'.format(result[0][:5,j,i]))\n",
    "            print('實際框向量:{0}'.format(lables_y[0][:5,j,i]))\n",
    "            pred_class=np.argmax(result[0][5:,j,i]) #預測類別\n",
    "            words.append(pred_class)\n",
    "            confidences.append(result[0][4,j,i])\n",
    "            pred_xc=i*16+(result[0][0,j,i])*16.0\n",
    "            pred_yc=j*16+(result[0][1,j,i])*16.0\n",
    "            pred_w=math.exp(result[0][2,j,i])*16.0\n",
    "            pred_h=math.exp(result[0][3,j,i])*16.0\n",
    "            color =(0,128,128)\n",
    "            cv2.rectangle(test_captcha, (int(pred_xc-0.5-0.5*pred_w), int(pred_yc-0.5-0.5*pred_h)), (int(pred_xc+0.5+0.5*pred_w), int(pred_yc+0.5+0.5*pred_h)), color, 1)\n",
    "        #實際的邊界框\n",
    "        if lables_y[0][4,j,i]>0.7: #如果objectness>0.5\n",
    "            actual_class=np.argmax(lables_y[0][5:,j,i]) #預測類別\n",
    "            answers.append(actual_class)\n",
    "            actual_xc=i*16+(lables_y[0][0,j,i]*16.0)\n",
    "            actual_yc=j*16+(lables_y[0][1,j,i]*16.0)\n",
    "            actual_w=math.exp(lables_y[0][2,j,i])*16.0\n",
    "            actual_h=math.exp(lables_y[0][3,j,i])*16.0\n",
    "            color =(0,0,255)\n",
    "            cv2.rectangle(test_captcha, (int(actual_xc-0.5-0.5*actual_w), int(actual_yc-0.5-0.5*actual_h)), (int(actual_xc+0.5+0.5*actual_w), int(actual_yc+0.5+0.5*actual_h)), color, 1)\n",
    "  \n",
    "            \n",
    "test_captcha=cv2.cvtColor(test_captcha,cv2.COLOR_BGR2RGB)\n",
    "test_captcha=Image.fromarray(test_captcha.astype(np.uint8))\n",
    "\n",
    "\n",
    "\n",
    "print('預測結果:{0}'.format(words))\n",
    "print('信心水準:{0}'.format(confidences))\n",
    "print('實際結果:{0}'.format(answers))\n",
    "\n",
    "plt.axis('off')\n",
    "plt.imshow(test_captcha)\n"
   ]
  },
  {
   "cell_type": "raw",
   "metadata": {},
   "source": [
    "這個實作其實不只是能處理數字型驗證碼，各位可以搜尋eminist數據集，裡面還有手寫英文字母，就能夠處理數字英文混雜的驗證碼模式。當然，在前面我們自定義驗證碼生成器中也可以自行根據各家驗證碼的風格加以調整，以及加入數據增強，效果會更好。"
   ]
  }
 ],
 "metadata": {
  "anaconda-cloud": {},
  "kernelspec": {
   "display_name": "Python [Root]",
   "language": "python",
   "name": "Python [Root]"
  },
  "language_info": {
   "codemirror_mode": {
    "name": "ipython",
    "version": 3
   },
   "file_extension": ".py",
   "mimetype": "text/x-python",
   "name": "python",
   "nbconvert_exporter": "python",
   "pygments_lexer": "ipython3",
   "version": "3.5.2"
  }
 },
 "nbformat": 4,
 "nbformat_minor": 0
}
