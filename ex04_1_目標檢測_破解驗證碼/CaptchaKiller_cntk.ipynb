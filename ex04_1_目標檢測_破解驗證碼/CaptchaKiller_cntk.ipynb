{
 "cells": [
  {
   "cell_type": "code",
   "execution_count": 1,
   "metadata": {
    "collapsed": true
   },
   "outputs": [],
   "source": [
    "%matplotlib inline"
   ]
  },
  {
   "cell_type": "markdown",
   "metadata": {},
   "source": [
    "# 破解驗證碼"
   ]
  },
  {
   "cell_type": "raw",
   "metadata": {},
   "source": [
    "在上網時，總是會一天到晚看到那些要我們證明自己是人類而不是機器人的驗證碼，但是光靠指認比較模糊的數字與文字真的就能證明我是人類而不是來搗蛋的網路爬蟲嗎??"
   ]
  },
  {
   "cell_type": "markdown",
   "metadata": {},
   "source": [
    "![md_images](../Images/Imnotrobot.jpg?raw=true)"
   ]
  },
  {
   "cell_type": "raw",
   "metadata": {},
   "source": [
    "日前一篇論文中將市面上大多數的驗證碼機制破解，為驗證碼的未來敲了喪鐘。既然機器視覺擁有識別數字文字的能力，只要能夠把文字數字所在位置定位不就能夠把驗證碼問題迎刃而解啦。說穿了，驗證碼破解其實跟OCR的觀念其實一樣，透過機器視覺技術，我們都可以將它視為目標檢測的問題。\n",
    "\n",
    "http://www.lancaster.ac.uk/staff/wangz3/publications/ccs18.pdf\n",
    "\n",
    "在本實作中，我們將會使用YOLO-LITE的架構來進行驗證碼數字位置的定位以及識別。那要做這樣的模型的話，我們的數據該從哪裡來呢?當然市面上有很多驗證碼生成器，但是最大的問題是我們沒有辦法自動地知道生成出來的驗證碼中數字的明確位置，因此都無法作為有效的圖資來使用。山不轉路轉，既然市面上的驗證碼生成器都無法使用，那我們就來製造自己的驗證碼生成器吧。\n",
    "\n",
    "在這個範例中我們做了幾個假設，第一裡面只有數字，這樣一來我們就可以借用MNIST手寫數字數據集為基礎來產生驗證碼圖樣。"
   ]
  },
  {
   "cell_type": "markdown",
   "metadata": {},
   "source": [
    "![md_images](../Images/captcha.jpg?raw=true)"
   ]
  },
  {
   "cell_type": "raw",
   "metadata": {},
   "source": [
    "首先引用cntk相關的包"
   ]
  },
  {
   "cell_type": "code",
   "execution_count": 2,
   "metadata": {
    "collapsed": false
   },
   "outputs": [],
   "source": [
    "import matplotlib\n",
    "import matplotlib.image as mpimg\n",
    "import matplotlib.pyplot as plt\n",
    "import numpy as np\n",
    "import os\n",
    "import cv2\n",
    "import math\n",
    "import random\n",
    "import glob\n",
    "import pickle\n",
    "import PIL\n",
    "from PIL import Image\n",
    "from PIL.ImageDraw import Draw\n",
    "\n",
    "import cntk as C\n",
    "from cntk.ops import *\n",
    "from cntk.layers import *\n",
    "from cntk.losses import *\n",
    "from cntk.metrics import *\n",
    "from cntk.debugging import *\n",
    "from cntk.logging import *\n",
    "from cntk.learners import *\n",
    "from cntk.train import *\n",
    "from cntk.device import *\n",
    "\n",
    "# 是否使用GPU\n",
    "is_gpu = True\n",
    "if is_gpu:\n",
    "    try_set_default_device(gpu(0))\n",
    "else:\n",
    "    try_set_default_device(cpu())"
   ]
  },
  {
   "cell_type": "code",
   "execution_count": 3,
   "metadata": {
    "collapsed": false
   },
   "outputs": [
    {
     "data": {
      "text/plain": [
       "'2.6'"
      ]
     },
     "execution_count": 3,
     "metadata": {},
     "output_type": "execute_result"
    }
   ],
   "source": [
    "C.__version__"
   ]
  },
  {
   "cell_type": "raw",
   "metadata": {},
   "source": [
    "如果是付費課程學員可以下載我整理好的數據集pickle檔，其他人恐怕得自己去處理MNIST數據集了。"
   ]
  },
  {
   "cell_type": "code",
   "execution_count": 4,
   "metadata": {
    "collapsed": false,
    "scrolled": true
   },
   "outputs": [
    {
     "name": "stdout",
     "output_type": "stream",
     "text": [
      "[[0. 0. 0. ... 0. 0. 0.]\n",
      " [0. 0. 0. ... 0. 0. 0.]\n",
      " [0. 0. 0. ... 0. 0. 0.]]\n",
      "(60000, 784)\n",
      "(60000, 10)\n"
     ]
    }
   ],
   "source": [
    "train_data=None\n",
    "test_data=None\n",
    "\n",
    "with open('../Data/mnist_train.pkl', 'rb') as f:\n",
    "    train_data = pickle.load(f)\n",
    "with open('../Data/mnist_test.pkl', 'rb') as f:\n",
    "    test_data = pickle.load(f)\n",
    "    \n",
    "def parse_mnist(data):\n",
    "    features=[]\n",
    "    labels=[]\n",
    "    for row in data:\n",
    "        labels.append(np.eye(10)[row[-1]].astype(np.float32))\n",
    "        features.append(row[:-1].astype(np.float32))#正規化\n",
    "    return np.asarray(features),np.asarray(labels)\n",
    "\n",
    "\n",
    "\n",
    "features,labels=parse_mnist(train_data)\n",
    "print(features[:3])\n",
    "print(features.shape)\n",
    "print(labels.shape)"
   ]
  },
  {
   "cell_type": "raw",
   "metadata": {},
   "source": [
    "我們對於這次生成的驗證碼的生成邏輯如下：\n",
    "    一個驗證碼可能是3~7個數字所構成\n",
    "    字體的大小未必相同\n",
    "    字體顏色與背景顏色來自於隨機色彩\n",
    "    加入噪點以及隨機線條\n",
    "    假設圖片皆等比例縮放至208*208大小"
   ]
  },
  {
   "cell_type": "code",
   "execution_count": 5,
   "metadata": {
    "collapsed": false
   },
   "outputs": [
    {
     "name": "stdout",
     "output_type": "stream",
     "text": [
      "[28 30 32]\n"
     ]
    }
   ],
   "source": [
    "#可行的字體大小，我們將字體控制在28~34級字之間\n",
    "font_sizes=np.arange(28,34,2)\n",
    "print(font_sizes)\n",
    "\n",
    "#產生打亂的索引表\n",
    "idxs=np.arange(0,features.shape[0],1)\n",
    "np.random.shuffle(idxs)\n",
    "\n",
    "\n",
    "#產生隨機顏色的函數\n",
    "def random_color(start, end, opacity=None):\n",
    "    red = random.randint(start, end)\n",
    "    green = random.randint(start, end)\n",
    "    blue = random.randint(start, end)\n",
    "    if opacity is None:\n",
    "        return (blue, green, red)\n",
    "    return (blue, green, red, opacity)\n"
   ]
  },
  {
   "cell_type": "raw",
   "metadata": {},
   "source": [
    "為了能夠生成出逼真的驗證碼，下方式所需要的一些工具函數。例如get_mnist_bbox"
   ]
  },
  {
   "cell_type": "code",
   "execution_count": 6,
   "metadata": {
    "collapsed": false
   },
   "outputs": [
    {
     "name": "stdout",
     "output_type": "stream",
     "text": [
      "[3, 3, 1]\n"
     ]
    },
    {
     "data": {
      "image/png": "[encoded data removed]",
      "text/plain": [
       "<matplotlib.figure.Figure at 0x2520860e518>"
      ]
     },
     "metadata": {},
     "output_type": "display_data"
    }
   ],
   "source": [
    "def get_mnist_bbox(img):\n",
    "    if img[0,0]==255:\n",
    "        img=255-img \n",
    "    img_y=np.greater(np.mean(img,1),0).astype(np.float32)\n",
    "    img_x=np.greater(np.mean(img,0),0).astype(np.float32)\n",
    "    min_y,max_y=np.argmax(img_y)-1,len(img_y)-np.argmax(np.flip(img_y.copy(),0))\n",
    "    min_x,max_x=np.argmax(img_x)-1,len(img_x)-np.argmax(np.flip(img_x.copy(),0))\n",
    "    return (min_x+max_x)/2.0,(min_y+max_y)/2.0,max_x-min_x+1,max_y-min_y+1\n",
    "\n",
    "#生成干擾用的隨機線條\n",
    "def create_noise_curve(image, color):\n",
    "    h,w = image.shape[:2]\n",
    "    for i in range(random.choice([1,2,3])):\n",
    "        try:\n",
    "            x0=random.randint(0, 20)\n",
    "            x1 = random.randint(x0, w -3* int(w / 5))\n",
    "            x2 = random.randint(x1, w -2* int(w / 5))\n",
    "            x3= random.randint(x2, 208)\n",
    "            y0= random.randint(int(h /10),int(h / 5))\n",
    "            y1 = random.randint(y0, h -3*int(h / 5))\n",
    "            y2 = random.randint(y1, h-2* int(h / 5))\n",
    "            y3=random.randint(y2, h -int(h / 5))\n",
    "            points =np.array([[x0, y0], [x1, y1], [x2, y2], [x3, y3]])\n",
    "\n",
    "            image=cv2.polylines(image,np.int32([points]),False,color =color, thickness=1)\n",
    "        except Exception as e:\n",
    "            print(e)\n",
    "    return image\n",
    "\n",
    "#生成干擾用的隨機噪點\n",
    "def create_noise_dots(image, color, width=3, number=30):\n",
    "    w, h = image.shape[:2]\n",
    "    while number>0:\n",
    "        x1 = random.randint(0, 208)\n",
    "        y1 = random.randint(0, 64)\n",
    "        cv2.circle(image, (x1, y1),width,color, -1)\n",
    "        number -= 1\n",
    "    return image\n",
    "\n",
    "#隨機生成出隨機數字，數字位置的Bounding Box，以及分別是甚麼數字的標籤集合\n",
    "def get_minist_chaptcha_raw():\n",
    "    #隨機設定字數\n",
    "    words_cnt=random.choice(range(3,7))\n",
    "    #隨機選擇字體大小\n",
    "    font_size=random.choice(font_sizes)\n",
    "    #如果字數太多不巧遇上字體過大，則覆寫為字數等於4\n",
    "    if font_size*words_cnt>208:\n",
    "        words_cnt=4\n",
    "        if font_size*4>208:\n",
    "            words_cnt=3\n",
    "    \n",
    "    #隨機選擇索引位置以及產出對應標籤與圖片\n",
    "    idx_list=[random.choice(idxs) for d in range(words_cnt)]\n",
    "    label_list=[np.argmax(labels[d]) for d in idx_list]  \n",
    "    img_list=[cv2.resize(np.reshape(features[d],(28,28,1)),(font_size,font_size)) for d in idx_list]  \n",
    "    bboxs_list=[get_mnist_bbox(im) for im in img_list]\n",
    "    return img_list,bboxs_list,label_list\n",
    "\n",
    "\n",
    "#根據get_minist_chaptcha_raw函數的產出，組合生成出驗證碼圖片。\n",
    "#輸出驗證碼圖片尺寸為寬為208 高為64，為何使用208那麼怪的數字主要是後續要透過4次下採樣變成13個特徵圖網格\n",
    "def get_minist_chaptcha():\n",
    "    img_list,bboxs_list,label_list= get_minist_chaptcha_raw()\n",
    "    new_bboxs_list=[]\n",
    "    #隨機生成顏色\n",
    "    background = random_color(200, 255)\n",
    "    color = random_color(40,180)\n",
    "    image = np.ones((64,208,3))\n",
    "    image=image*np.reshape(background,(1,1,3))\n",
    "    pos_x=(208-img_list[0].shape[0]*len(img_list))//2\n",
    "    pos_y=(64-img_list[0].shape[1])//2\n",
    "    for i in range(len(bboxs_list)):\n",
    "        #將灰階轉換為三原色\n",
    "        imBGR=cv2.cvtColor(img_list[i],cv2.COLOR_GRAY2BGR).astype(np.float32)\n",
    "        imBGR=imBGR/255.0\n",
    "        imBGR[imBGR<=0.1]=0\n",
    "        imBGR=imBGR*np.reshape(color,(1,1,3))\n",
    "        imBGR[np.where((imBGR==[0,0,0]).all(axis=2))] = background\n",
    "        \n",
    "        #接受一個隨機左右偏移量\n",
    "        pos_x=pos_x+random.choice(np.arange(-3,1).tolist())\n",
    "       \n",
    "        \n",
    "        #取出bbox定義\n",
    "        (xc,yc,w,h)=bboxs_list[i]\n",
    "     \n",
    "        image[pos_y:pos_y+imBGR.shape[0],pos_x:pos_x+imBGR.shape[1],:]=imBGR[:,:,:]\n",
    "        #塞入新bbox\n",
    "        new_bboxs_list.append((xc+pos_x,yc+pos_y,w,h))\n",
    "        pos_x=pos_x+imBGR.shape[1]\n",
    "    image=create_noise_dots(image,random_color(120,240))\n",
    "    image=create_noise_curve(image,random_color(120,240,random.randint(180, 255)))\n",
    "    return image.astype(np.float32),img_list,new_bboxs_list,label_list\n",
    "\n",
    "img_captcha,img_list,bboxs_list,label_list= get_minist_chaptcha()\n",
    "img_captcha=cv2.cvtColor(img_captcha,cv2.COLOR_BGR2RGB)\n",
    "img_captcha=Image.fromarray(img_captcha.astype(np.uint8))\n",
    "\n",
    "#我們隨機生成一張驗證碼，並且將它顯示出來\n",
    "plt.axis('off')\n",
    "plt.imshow(img_captcha)\n",
    "print(label_list)"
   ]
  },
  {
   "cell_type": "raw",
   "metadata": {},
   "source": [
    "我們來驗證一下我們的驗證碼生成器產生的數字位置信息是正確的，我們將前面包含數字位置框的信息(bboxs_list)繪製了bounding box疊加在驗證碼圖片上，我們可以看到紅框的位置是正確無誤的。"
   ]
  },
  {
   "cell_type": "code",
   "execution_count": 7,
   "metadata": {
    "collapsed": false
   },
   "outputs": [
    {
     "name": "stdout",
     "output_type": "stream",
     "text": [
      "(64, 208, 3)\n",
      "float32\n"
     ]
    },
    {
     "data": {
      "text/plain": [
       "<matplotlib.image.AxesImage at 0x252004f7c88>"
      ]
     },
     "execution_count": 7,
     "metadata": {},
     "output_type": "execute_result"
    },
    {
     "data": {
      "image/png": "[encoded data removed]",
      "text/plain": [
       "<matplotlib.figure.Figure at 0x252004f7ba8>"
      ]
     },
     "metadata": {},
     "output_type": "display_data"
    }
   ],
   "source": [
    "img_captcha,img_list,bboxs_list,label_list= get_minist_chaptcha()\n",
    "print(img_captcha.shape)\n",
    "print(img_captcha.dtype)\n",
    "for bbox in bboxs_list:\n",
    "    color =(0,0,255)\n",
    "    (xc,yc,w,h)=bbox\n",
    "    cv2.rectangle(img_captcha, (int(xc-0.5-0.5*w), int(yc-0.5-0.5*h)), (int(xc+0.5+0.5*w), int(yc+0.5+0.5*h)), color, 1)\n",
    "\n",
    "img_captcha=cv2.cvtColor(img_captcha,cv2.COLOR_BGR2RGB)\n",
    "img_captcha=Image.fromarray(img_captcha.astype(np.uint8))\n",
    "plt.axis('off')\n",
    "plt.imshow(img_captcha)   "
   ]
  },
  {
   "cell_type": "raw",
   "metadata": {},
   "source": [
    "接下來我們就使用cntk來建構tiny yolo"
   ]
  },
  {
   "cell_type": "code",
   "execution_count": 9,
   "metadata": {
    "collapsed": false
   },
   "outputs": [],
   "source": [
    "\n",
    "#請注意，原來的tiny yolo v2的輸入圖片為416*416，透過5次下採樣(請注意最後一次maxpolling strides=1，並不是下採樣)產生了大小為13*13的特徵圖\n",
    "\n",
    "def tiny_yolo(input):\n",
    "    x=Convolution((3,3), 16, activation=leaky_relu, init=C.he_uniform(0.002), pad=True, strides=1,bias=True,name='C1')(input)\n",
    "    x=BatchNormalization(map_rank=1)(x)\n",
    "    x=MaxPooling(filter_shape=(2,2),strides=(2,2), name=\"MP1\")(x)\n",
    "    x=Convolution((3,3), 32, activation=leaky_relu, init=C.he_uniform(0.002), pad=True, strides=1,bias=True,name='C2')(x)\n",
    "    x=BatchNormalization(map_rank=1)(x)\n",
    "    x=MaxPooling(filter_shape=(2,2),strides=(2,2), name=\"MP2\")(x)\n",
    "    x=Convolution((3,3), 64, activation=leaky_relu, init=C.he_uniform(0.002), pad=True, strides=1,bias=True,name='C3')(x)\n",
    "    x=BatchNormalization(map_rank=1)(x)\n",
    "    x=MaxPooling(filter_shape=(2,2),strides=(2,2), name=\"MP3\")(x)\n",
    "    x=Convolution((3,3), 128, activation=leaky_relu, init=C.he_uniform(0.002), pad=True, strides=1,bias=True,name='C4')(x)\n",
    "    x=BatchNormalization(map_rank=1)(x)\n",
    "    x=MaxPooling(filter_shape=(2,2),strides=(2,2), name=\"MP4\")(x)\n",
    "    x=Convolution((3,3), 256, activation=leaky_relu, init=C.he_uniform(0.002), pad=True, strides=1,bias=True,name='C5')(x)\n",
    "    x=BatchNormalization(map_rank=1)(x)\n",
    "    x=MaxPooling(filter_shape=(2,2),strides=(2,2), name=\"MP5\")(x)\n",
    "    x=Convolution((3,3), 512, activation=leaky_relu, init=C.he_uniform(0.002), pad=True, strides=1,bias=True,name='C6')(x)\n",
    "    x=BatchNormalization(map_rank=1)(x)\n",
    "    x=MaxPooling(filter_shape=(2,2),strides=(1,1), name=\"MP6\")(x)\n",
    "    x=Convolution((3,3), 1024, activation=leaky_relu, init=C.he_uniform(0.002), pad=True, strides=1,bias=True,name='C7')(x)\n",
    "    x=BatchNormalization(map_rank=1)(x)\n",
    "    x=Convolution((3,3), 1024, activation=leaky_relu, init=C.he_uniform(0.002), pad=True, strides=1,bias=True,name='C8')(x)\n",
    "    x=BatchNormalization(map_rank=1)(x)\n",
    "    x=Convolution((1,1), 125, activation=leaky_relu, init=C.he_uniform(0.002), pad=True, strides=1,bias=True,name='C9')(x)\n",
    "    return x\n",
    "\n",
    "#為了將輸入圖片尺寸縮小方便訓練，以及簡化模型我們將輸入圖片尺寸改為208*208，並且拿掉一組下採樣\n",
    "# 最後一層特徵圖15=1種anchor*(4個bounding box迴歸參數+1個objectness+10數字類別score)\n",
    "def simplify_tiny_yolo(input):\n",
    "    x=Convolution((3,3), 16, activation=leaky_relu, init=C.he_uniform(0.002), pad=True, strides=1,bias=True,name='C1')(input)\n",
    "    x=BatchNormalization(map_rank=1)(x)\n",
    "    x=MaxPooling(filter_shape=(2,2),strides=(2,2), name=\"MP1\")(x)\n",
    "    x=Convolution((3,3), 32, activation=leaky_relu, init=C.he_uniform(0.002), pad=True, strides=1,bias=True,name='C2')(x)\n",
    "    x=BatchNormalization(map_rank=1)(x)\n",
    "    x=MaxPooling(filter_shape=(2,2),strides=(2,2), name=\"MP2\")(x)\n",
    "    x=Convolution((3,3), 64, activation=leaky_relu, init=C.he_uniform(0.002), pad=True, strides=1,bias=True,name='C3')(x)\n",
    "    x=BatchNormalization(map_rank=1)(x)\n",
    "    x=MaxPooling(filter_shape=(2,2),strides=(2,2), name=\"MP3\")(x)\n",
    "    x=Convolution((3,3), 128, activation=leaky_relu, init=C.he_uniform(0.002), pad=True, strides=1,bias=True,name='C4')(x)\n",
    "    x=BatchNormalization(map_rank=1)(x)\n",
    "    x=MaxPooling(filter_shape=(2,2),strides=(2,2), name=\"MP4\")(x)\n",
    "    x=Convolution((3,3), 256, activation=leaky_relu, init=C.he_uniform(0.002), pad=True, strides=1,bias=True,name='C5')(x)\n",
    "    x=BatchNormalization(map_rank=1)(x)\n",
    "    x=Convolution((3,3), 512, activation=leaky_relu, init=C.he_uniform(0.002), pad=True, strides=1,bias=True,name='C7')(x)\n",
    "    x=BatchNormalization(map_rank=1)(x)\n",
    "    x=Convolution((3,3), 512, activation=leaky_relu, init=C.he_uniform(0.002), pad=True, strides=1,bias=True,name='C8')(x)\n",
    "    x=BatchNormalization(map_rank=1)(x)\n",
    "    \n",
    "    bbox_center=Convolution((1,1),2, activation=sigmoid, init=C.he_uniform(0.002), pad=True, strides=1,bias=True,name='bbox_center')(x)\n",
    "    bbox_scale=Convolution((1,1),2, activation=None, init=C.he_uniform(0.002), pad=True, strides=1,bias=True,name='bbox_scale')(x)\n",
    "    bbox_objectness=Convolution((1,1),1, activation=sigmoid, init=C.he_uniform(0.002), pad=True, strides=1,bias=True,name='bbox_objectness')(x)\n",
    "    bbox_class=Convolution((1,1),10, activation=softmax, init=C.he_uniform(0.002), pad=True, strides=1,bias=True,name='bbox_class')(x)\n",
    "    x=splice(bbox_center,bbox_scale,bbox_objectness,bbox_class,axis=0)\n",
    "    return x\n",
    "\n"
   ]
  },
  {
   "cell_type": "raw",
   "metadata": {},
   "source": [
    "接下來我們需要建構get_next_minibatch函數，來供給建模過程中所需要的輸入與輸出向量。tiny yolo輸出的結果會是一個(15,13,13)的特徵圖網格，其中15是包括了bbox regression需要的四個參數+1個是否為物體中心點(objectness)以及長度為10的onehot。其中四個bbox ression參數可不是直接預測這個框的中心以及長寬歐，千萬記得為了能讓模型容易收斂，bbox regression四個參數會依循下圖的公式來做轉換。請注意，為了簡化實作，我們這邊並沒有預埋anchor，也就是我們將候選框迴歸的參考對象是基於一個特徵圖的網格(1x1)"
   ]
  },
  {
   "cell_type": "markdown",
   "metadata": {},
   "source": [
    "![md_images](../Images/bbox_regression.jpg?raw=true)"
   ]
  },
  {
   "cell_type": "raw",
   "metadata": {},
   "source": [
    "以tx來說，他是要預測中心點x座標的相對偏移，因此我們需要求出這個特徵圖左上方映射到完整圖片的位置int(xc//16)*16 (特徵圖一個網格對應過去是16個像素)，兩者相減後再除以16(一個特徵圖網格的寬度)，它必須是介於0~1的數值，這樣才會確保中心點是落在這個特徵圖網格之中。ty也是同樣道理。\n",
    "\n",
    "至於長寬的縮放尺度，我們這邊沒有預埋anchor，我們的參考框將是一個特徵圖網格(16*16像素)，如果實際框比他大，那麼GW/PW會大於1，log(GW/PW)會是正數，反之如果實際框比他小，那麼GW/PW會小於1，log(GW/PW)會是負數"
   ]
  },
  {
   "cell_type": "code",
   "execution_count": 10,
   "metadata": {
    "collapsed": false
   },
   "outputs": [
    {
     "name": "stdout",
     "output_type": "stream",
     "text": [
      "(3, 208, 208)\n",
      "(15, 13, 13)\n",
      "(13, 13)\n"
     ]
    },
    {
     "data": {
      "text/plain": [
       "<matplotlib.image.AxesImage at 0x252069057b8>"
      ]
     },
     "execution_count": 10,
     "metadata": {},
     "output_type": "execute_result"
    },
    {
     "data": {
      "image/png": "[encoded data removed]",
      "text/plain": [
       "<matplotlib.figure.Figure at 0x252004f7e48>"
      ]
     },
     "metadata": {},
     "output_type": "display_data"
    }
   ],
   "source": [
    "def get_next_minibatch(minibatch_size=1):\n",
    "    features=[]\n",
    "    lables=[]\n",
    "    while len(features)<minibatch_size:\n",
    "        h_shift=random.choice(range(60))\n",
    "        h_shift2=h_shift+64+random.choice(range(10))\n",
    "        img_captcha,img_list,bboxs_list,label_list= get_minist_chaptcha()\n",
    "        img_captcha2,img_list2,bboxs_list2,label_list2= get_minist_chaptcha()\n",
    "        \n",
    "        feature=np.zeros((3,208,208),dtype=np.float32) #輸入向量基礎為全零向量\n",
    "        \n",
    "        #數據增強手法，將輸入向量背景變為隨機常態分佈的亂數噪音\n",
    "        if random.randint(0, 10)%3==0:\n",
    "            feature=np.random.standard_normal((3,208,208))*127.5+127.5\n",
    "  \n",
    "        img_captcha=np.transpose(img_captcha,[2,0,1])\n",
    "        img_captcha2=np.transpose(img_captcha2,[2,0,1])\n",
    "        \n",
    "        feature[:,h_shift:h_shift+img_captcha.shape[1],:]=img_captcha\n",
    "        feature[:,h_shift2:h_shift2+img_captcha2.shape[1],:]=img_captcha2\n",
    "        features.append((feature-127.5)/127.5) #將輸入向量標準化為-1~1之間\n",
    "        \n",
    "        bboxs_list=[(box[0],box[1]+h_shift,box[2],box[3]) for box in bboxs_list]\n",
    "        bboxs_list2=[(box[0],box[1]+h_shift2,box[2],box[3]) for box in bboxs_list2]\n",
    "        \n",
    "        bboxs_list.extend(bboxs_list2)\n",
    "        label_list.extend(label_list2)\n",
    "        \n",
    "        label=np.zeros((15,13,13),dtype=np.float32)\n",
    "        for i in range(len(bboxs_list)):\n",
    "            bbox=bboxs_list[i]\n",
    "            #print('bbox {0} {1}'.format(i,bbox))\n",
    "            xc,yc,w,h=bbox[0],bbox[1],bbox[2],bbox[3]\n",
    "            lab_idx=label_list[i]\n",
    "            label[0,int(yc//16),int(xc//16)]=(xc-(int(xc//16)*16))/16.\n",
    "            label[1,int(yc//16),int(xc//16)]=(yc-(int(yc//16)*16))/16.\n",
    "            label[2,int(yc//16),int(xc//16)]=math.log(w/16.)\n",
    "            label[3,int(yc//16),int(xc//16)]=math.log(h/16.)\n",
    "            #bbox中心點位置落點特徵圖網格\n",
    "            label[4,int(yc//16),int(xc//16)]=1  #objectness\n",
    "            #數字onehot\n",
    "            label[5+lab_idx,int(yc//16),int(xc//16)]=1 #class\n",
    "            \n",
    "        lables.append(label)\n",
    "    return np.asarray(features).astype(np.float32),np.asarray(lables).astype(np.float32)\n",
    "\n",
    "features_x,lables_y=get_next_minibatch(1)\n",
    "print(features_x[0].shape)\n",
    "print(lables_y[0].shape)\n",
    "griddata=np.argmax(lables_y[0][5:,:,:],0)\n",
    "print(griddata.shape)\n",
    "#print(np.array([row[:] for row in griddata]).shape)\n",
    "\n",
    "\n",
    "img_captcha=cv2.cvtColor(np.transpose(features_x[0]*255,[1,2,0]),cv2.COLOR_BGR2RGB)\n",
    "img_captcha=Image.fromarray(img_captcha.astype(np.uint8))\n",
    "\n",
    "fig, (feature, label)= plt.subplots(1, 2, figsize=(12, 6))\n",
    "\n",
    "plt.axis('off')\n",
    "feature.imshow(img_captcha, interpolation='nearest')\n",
    "plt.axis('off')\n",
    "label.imshow(griddata, interpolation='nearest', cmap=None)\n",
    "\n"
   ]
  },
  {
   "cell_type": "markdown",
   "metadata": {},
   "source": [
    "![md_images](../Images/yolo_loss.jpg?raw=true)"
   ]
  },
  {
   "cell_type": "raw",
   "metadata": {},
   "source": [
    "我想目標檢測的損失函數恐怕是這個實作的最大Boss，看到那麼複雜的公式，大部分的人恐怕心都涼了一半。沒關係，我們接下來不但要時做出這個損失函數，同時也會逐一解釋公式的意義。損失函數公式雖然看起來很可怕，但仔細看裡面每個分項其實都是方差(squared error)，或是誤差的平方。\n",
    "\n",
    "由於bbox迴歸的中心點、objectness以及類別機率都是介於0~1之間，因此計算出來的損失大小規模相去不遠。至於bbox迴歸的縮放比例可能是正數或是負數，原作者是先用exp還原回來，但由於縮放比例可能會大於1，也因此作者又在損失函數這邊特別開根號在計算平方誤差，以避免大尺寸框主導了損失的走向，我這邊有略做修改，在這實作案例中，我直接將預測值做方差收斂效果比較好。\n",
    "\n",
    "此外，從公式中可以發現作者將objectness區分為有物體中心的網格損失(loss_obj)以及無物體中心的網格損失(loss_noobj)，這是因為絕大多數的特徵圖網格應該都沒有物體中心存在，如果合在一起計算損失會因為有物體中心的網格出現機率較小而不被重視，所以我們也賦予了不同的權重來平衡它。\n",
    "\n",
    "此外，你會看到大多數的分項中我都乘上了y_true[4,:,:]，這意味著計算bbox回歸以及類別判斷時，我只關心實際物體中心落點的特徵圖網格，以避免大多數無物體中心的特徵圖數量較大而而造成難以收斂。\n",
    "\n",
    "在原作中，類別判定的損失是使用onehot向量的誤差再平方，我這裡稍微做了一點更動，改為基於有物體中心的特徵圖網格所計算的交叉熵，並給予較高的權重，我實驗過程中發現這樣做收斂過程會較為穩定。"
   ]
  },
  {
   "cell_type": "code",
   "execution_count": 11,
   "metadata": {
    "collapsed": false
   },
   "outputs": [],
   "source": [
    "def custom_loss(y_pred, y_true):\n",
    "    \n",
    "    #將預測的bbox中心偏移值透過sigmoid轉換，以確保介於0~1之間。\n",
    "    pred_box_xy = y_pred[:2,:,:]\n",
    "    actual_box_xy = y_true[:2,:,:]\n",
    "    \n",
    "    #將預測的bbox wh透過exp轉換，還原回正確尺度。\n",
    "    pred_box_wh = y_pred[2:4,:,:]\n",
    "    actual_box_wh = y_true[2:4,:,:]\n",
    "\n",
    "    #將預測的bbox中心objectness透過sigmoid轉換，以確保介於0~1之間。\n",
    "    pred_box_objectness = y_pred[4,:,:]\n",
    "    \n",
    "    #將預測的bbox類別透過softmax轉換，取得唯一答案。\n",
    "    pred_box_class =y_pred[5:,:,:]\n",
    "\n",
    "  \n",
    "    loss_xy = reduce_sum(squared_error(pred_box_xy,actual_box_xy)*y_true[4,:,:])\n",
    "\n",
    "    loss_wh = 5*reduce_sum(squared_error(pred_box_wh,actual_box_wh)*y_true[4,:,:])\n",
    "\n",
    "    loss_obj = 10*reduce_sum(squared_error(pred_box_objectness,y_true[4,:,:])*y_true[4,:,:])\n",
    "\n",
    "    loss_noobj =0.5* reduce_sum(squared_error(1-pred_box_objectness,1-y_true[4,:,:])*(1-y_true[4,:,:]))\n",
    "\n",
    "    loss_p = 10*reduce_sum(-1*y_true[5:,:,:]*log(pred_box_class)*y_true[4,:,:])\n",
    "    #loss_p = reduce_sum(pow(pred_box_class-y_true[5:,:,:],2)*y_true[4,:,:])  #原作使用的損失函數\n",
    "\n",
    "    loss = loss_xy + loss_wh + loss_obj + loss_noobj + loss_p  \n",
    "    return loss\n",
    "    "
   ]
  },
  {
   "cell_type": "code",
   "execution_count": 12,
   "metadata": {
    "collapsed": true
   },
   "outputs": [],
   "source": [
    "def iou(box1, box2):\n",
    "    leftbound =  max(box1[0]-.5*box1[2], box2[0]-.5*box2[2])\n",
    "    rightbound = min(box1[0] + .5 * box1[2], box2[0] + .5 * box2[2])\n",
    "    lowerbound = max(box1[1] - .5 * box1[3], box2[1] - .5 * box2[3])\n",
    "    upperbound = min(box1[1] + .5 * box1[3], box2[1] + .5 * box2[3])\n",
    "    x_inter = max(rightbound - leftbound,0)\n",
    "    y_inter = max(upperbound - lowerbound,0)\n",
    "    intersection = x_inter * y_inter\n",
    "    area1 = box1[2]*box1[3]\n",
    "    area2 = box2[2]*box2[3]\n",
    "    union = area1 + area2 - intersection\n",
    "    return intersection / union\n",
    "\n",
    "def numpy_iou(boxes1, boxes2):\n",
    "    \"\"\"boxes1 and boxes2 in shape of (4,n)\"\"\"\n",
    "    leftbound =  np.maximum(boxes1[0]-.5*boxes1[2], boxes2[0]-.5*boxes2[2])\n",
    "    rightbound = np.minimum(boxes1[0] + .5 * boxes1[2], boxes2[0] + .5 * boxes2[2])\n",
    "    lowerbound = np.maximum(boxes1[1] - .5 * boxes1[3], boxes2[1] - .5 * boxes2[3])\n",
    "    upperbound = np.minimum(boxes1[1] + .5 * boxes1[3], boxes2[1] + .5 * boxes2[3])\n",
    "    x_inter = np.maximum(rightbound - leftbound,0)\n",
    "    y_inter = np.maximum(upperbound - lowerbound,0)\n",
    "\n",
    "    intersection = x_inter * y_inter\n",
    "    area1 = boxes1[2]*boxes1[3]\n",
    "    area2 = boxes2[2]*boxes2[3]\n",
    "    union = area1 + area2 - intersection\n",
    "    return intersection / union"
   ]
  },
  {
   "cell_type": "code",
   "execution_count": 13,
   "metadata": {
    "collapsed": false
   },
   "outputs": [
    {
     "name": "stdout",
     "output_type": "stream",
     "text": [
      "(15, 13, 13)\n",
      "Training 3943311 parameters in 36 parameter tensors.\n"
     ]
    }
   ],
   "source": [
    "\n",
    "input_var = C.input_variable((3, 208, 208))\n",
    "label_var = C.input_variable((15, 13, 13))\n",
    "z_detector=simplify_tiny_yolo(input_var)\n",
    "print(z_detector.output.shape)\n",
    "if os.path.exists('Models/chptcha_cntk.cnn'):\n",
    "    model = Function.load('Models/chptcha_cntk.cnn')\n",
    "    z_detector = model(input_var)\n",
    "    print('existing model recovered!')\n",
    "    \n",
    "loss = custom_loss(z_detector,label_var)\n",
    "\n",
    "\n",
    "\n",
    "\n",
    "log_number_of_parameters(z_detector)\n",
    "learning_rate=0.005\n",
    "momentum=0.95\n",
    "l1_regularization_weight=0.0001\n",
    "l2_regularization_weight=5e-4\n",
    "minibatch_size=16\n",
    "num_epochs=5\n",
    "        \n",
    "progress_printer = ProgressPrinter(freq=100 ,tag='Training', num_epochs=num_epochs)\n",
    "learner = adam(z_detector.parameters, lr=learning_rate_schedule([learning_rate], UnitType.sample, num_epochs),\n",
    "               momentum=momentum_as_time_constant_schedule([minibatch_size / -math.log(momentum)], epoch_size=num_epochs),\n",
    "               l1_regularization_weight=l1_regularization_weight, l2_regularization_weight=l2_regularization_weight)\n",
    "\n",
    "trainer = Trainer(z_detector, (loss), learner, progress_printer)"
   ]
  },
  {
   "cell_type": "raw",
   "metadata": {},
   "source": [
    "在接下來的訓練過程中，為了要能夠掌握訓練的完成程度，光靠損失函數以及單一的metrics函數是不夠的，因此我這邊設計了檢測各個階段的評估指標，每訓練200 minibatch就列印一次"
   ]
  },
  {
   "cell_type": "code",
   "execution_count": 14,
   "metadata": {
    "collapsed": false
   },
   "outputs": [
    {
     "name": "stdout",
     "output_type": "stream",
     "text": [
      "Learning rate per 1 samples: 0.005\n",
      " Minibatch[   1- 100]: loss = 3778.978750 * 1600, metric = 0.00% * 1600;\n",
      " Minibatch[ 101- 200]: loss = 1016.635313 * 1600, metric = 0.00% * 1600;\n",
      "候選框命中率:94.727%\n",
      "候選框負樣本命中率:91.488%\n",
      "中心點偏移誤差:106.237%\n",
      "框縮放比率誤差:131.947%\n",
      "分類正確率:10.759%\n",
      "\n",
      " Minibatch[ 201- 300]: loss = 756.629063 * 1600, metric = 0.00% * 1600;\n",
      " Minibatch[ 301- 400]: loss = 658.990000 * 1600, metric = 0.00% * 1600;\n",
      "候選框命中率:57.174%\n",
      "候選框負樣本命中率:99.804%\n",
      "中心點偏移誤差:61.648%\n",
      "框縮放比率誤差:54.305%\n",
      "分類正確率:15.276%\n",
      "\n",
      " Minibatch[ 401- 500]: loss = 588.333125 * 1600, metric = 0.00% * 1600;\n",
      " Minibatch[ 501- 600]: loss = 542.171250 * 1600, metric = 0.00% * 1600;\n",
      "候選框命中率:72.086%\n",
      "候選框負樣本命中率:99.960%\n",
      "中心點偏移誤差:41.990%\n",
      "框縮放比率誤差:33.051%\n",
      "分類正確率:25.556%\n",
      "\n",
      " Minibatch[ 601- 700]: loss = 514.460625 * 1600, metric = 0.00% * 1600;\n",
      " Minibatch[ 701- 800]: loss = 489.622500 * 1600, metric = 0.00% * 1600;\n",
      "候選框命中率:87.234%\n",
      "候選框負樣本命中率:99.882%\n",
      "中心點偏移誤差:34.461%\n",
      "框縮放比率誤差:28.178%\n",
      "分類正確率:38.457%\n",
      "\n",
      " Minibatch[ 801- 900]: loss = 447.590000 * 1600, metric = 0.00% * 1600;\n",
      " Minibatch[ 901-1000]: loss = 427.305625 * 1600, metric = 0.00% * 1600;\n",
      "Finished Epoch[1 of 5]: [Training] loss = 922.071625 * 16000, metric = 0.00% * 16000 160.878s ( 99.5 samples/s);\n",
      " Minibatch[   1- 100]: loss = 417.765508 * 1600, metric = 0.00% * 1600;\n",
      " Minibatch[ 101- 200]: loss = 396.161055 * 1600, metric = 0.00% * 1600;\n",
      "候選框命中率:94.132%\n",
      "候選框負樣本命中率:100.000%\n",
      "中心點偏移誤差:23.914%\n",
      "框縮放比率誤差:24.486%\n",
      "分類正確率:54.993%\n",
      "\n",
      " Minibatch[ 201- 300]: loss = 388.706250 * 1600, metric = 0.00% * 1600;\n",
      " Minibatch[ 301- 400]: loss = 373.778437 * 1600, metric = 0.00% * 1600;\n",
      "候選框命中率:94.160%\n",
      "候選框負樣本命中率:99.881%\n",
      "中心點偏移誤差:27.710%\n",
      "框縮放比率誤差:21.378%\n",
      "分類正確率:60.662%\n",
      "\n",
      " Minibatch[ 401- 500]: loss = 377.543906 * 1600, metric = 0.00% * 1600;\n",
      " Minibatch[ 501- 600]: loss = 368.733437 * 1600, metric = 0.00% * 1600;\n",
      "候選框命中率:93.777%\n",
      "候選框負樣本命中率:99.764%\n",
      "中心點偏移誤差:29.670%\n",
      "框縮放比率誤差:26.831%\n",
      "分類正確率:70.198%\n",
      "\n",
      " Minibatch[ 601- 700]: loss = 349.374219 * 1600, metric = 0.00% * 1600;\n",
      " Minibatch[ 701- 800]: loss = 345.186250 * 1600, metric = 0.00% * 1600;\n",
      "候選框命中率:89.099%\n",
      "候選框負樣本命中率:99.844%\n",
      "中心點偏移誤差:31.572%\n",
      "框縮放比率誤差:28.515%\n",
      "分類正確率:62.416%\n",
      "\n",
      " Minibatch[ 801- 900]: loss = 334.771250 * 1600, metric = 0.00% * 1600;\n",
      " Minibatch[ 901-1000]: loss = 342.267812 * 1600, metric = 0.00% * 1600;\n",
      "Finished Epoch[2 of 5]: [Training] loss = 369.428812 * 16000, metric = 0.00% * 16000 160.845s ( 99.5 samples/s);\n",
      " Minibatch[   1- 100]: loss = 331.817773 * 1600, metric = 0.00% * 1600;\n",
      " Minibatch[ 101- 200]: loss = 324.182227 * 1600, metric = 0.00% * 1600;\n",
      "候選框命中率:97.708%\n",
      "候選框負樣本命中率:99.922%\n",
      "中心點偏移誤差:38.698%\n",
      "框縮放比率誤差:33.165%\n",
      "分類正確率:85.414%\n",
      "\n",
      " Minibatch[ 201- 300]: loss = 322.382344 * 1600, metric = 0.00% * 1600;\n",
      " Minibatch[ 301- 400]: loss = 312.671172 * 1600, metric = 0.00% * 1600;\n",
      "候選框命中率:94.147%\n",
      "候選框負樣本命中率:99.960%\n",
      "中心點偏移誤差:29.916%\n",
      "框縮放比率誤差:16.789%\n",
      "分類正確率:68.925%\n",
      "\n",
      " Minibatch[ 401- 500]: loss = 320.267109 * 1600, metric = 0.00% * 1600;\n",
      " Minibatch[ 501- 600]: loss = 316.211250 * 1600, metric = 0.00% * 1600;\n",
      "候選框命中率:93.695%\n",
      "候選框負樣本命中率:99.882%\n",
      "中心點偏移誤差:25.178%\n",
      "框縮放比率誤差:19.977%\n",
      "分類正確率:85.071%\n",
      "\n",
      " Minibatch[ 601- 700]: loss = 310.890156 * 1600, metric = 0.00% * 1600;\n",
      " Minibatch[ 701- 800]: loss = 311.234219 * 1600, metric = 0.00% * 1600;\n",
      "候選框命中率:94.236%\n",
      "候選框負樣本命中率:99.883%\n",
      "中心點偏移誤差:27.408%\n",
      "框縮放比率誤差:18.800%\n",
      "分類正確率:86.939%\n",
      "\n",
      " Minibatch[ 801- 900]: loss = 310.969063 * 1600, metric = 0.00% * 1600;\n",
      " Minibatch[ 901-1000]: loss = 301.436562 * 1600, metric = 0.00% * 1600;\n",
      "Finished Epoch[3 of 5]: [Training] loss = 316.206187 * 16000, metric = 0.00% * 16000 153.873s (104.0 samples/s);\n",
      " Minibatch[   1- 100]: loss = 302.721035 * 1600, metric = 0.00% * 1600;\n",
      " Minibatch[ 101- 200]: loss = 294.823340 * 1600, metric = 0.00% * 1600;\n",
      "候選框命中率:95.168%\n",
      "候選框負樣本命中率:99.883%\n",
      "中心點偏移誤差:19.720%\n",
      "框縮放比率誤差:17.628%\n",
      "分類正確率:87.589%\n",
      "\n",
      " Minibatch[ 201- 300]: loss = 301.390078 * 1600, metric = 0.00% * 1600;\n",
      " Minibatch[ 301- 400]: loss = 297.961953 * 1600, metric = 0.00% * 1600;\n",
      "候選框命中率:95.990%\n",
      "候選框負樣本命中率:100.000%\n",
      "中心點偏移誤差:23.495%\n",
      "框縮放比率誤差:13.941%\n",
      "分類正確率:90.771%\n",
      "\n",
      " Minibatch[ 401- 500]: loss = 289.542500 * 1600, metric = 0.00% * 1600;\n",
      " Minibatch[ 501- 600]: loss = 292.546250 * 1600, metric = 0.00% * 1600;\n",
      "候選框命中率:95.136%\n",
      "候選框負樣本命中率:99.960%\n",
      "中心點偏移誤差:24.551%\n",
      "框縮放比率誤差:17.622%\n",
      "分類正確率:86.572%\n",
      "\n",
      " Minibatch[ 601- 700]: loss = 292.542031 * 1600, metric = 0.00% * 1600;\n",
      " Minibatch[ 701- 800]: loss = 289.522187 * 1600, metric = 0.00% * 1600;\n",
      "候選框命中率:96.289%\n",
      "候選框負樣本命中率:99.882%\n",
      "中心點偏移誤差:28.548%\n",
      "框縮放比率誤差:18.592%\n",
      "分類正確率:88.731%\n",
      "\n",
      " Minibatch[ 801- 900]: loss = 286.535625 * 1600, metric = 0.00% * 1600;\n",
      " Minibatch[ 901-1000]: loss = 285.312813 * 1600, metric = 0.00% * 1600;\n",
      "Finished Epoch[4 of 5]: [Training] loss = 293.289781 * 16000, metric = 0.00% * 16000 144.716s (110.6 samples/s);\n",
      " Minibatch[   1- 100]: loss = 291.753789 * 1600, metric = 0.00% * 1600;\n",
      " Minibatch[ 101- 200]: loss = 291.219961 * 1600, metric = 0.00% * 1600;\n",
      "候選框命中率:97.857%\n",
      "候選框負樣本命中率:100.000%\n",
      "中心點偏移誤差:14.160%\n",
      "框縮放比率誤差:13.477%\n",
      "分類正確率:93.380%\n",
      "\n",
      " Minibatch[ 201- 300]: loss = 294.036875 * 1600, metric = 0.00% * 1600;\n",
      " Minibatch[ 301- 400]: loss = 283.704531 * 1600, metric = 0.00% * 1600;\n",
      "候選框命中率:98.524%\n",
      "候選框負樣本命中率:99.961%\n",
      "中心點偏移誤差:15.752%\n",
      "框縮放比率誤差:14.505%\n",
      "分類正確率:92.500%\n",
      "\n",
      " Minibatch[ 401- 500]: loss = 282.471406 * 1600, metric = 0.00% * 1600;\n",
      " Minibatch[ 501- 600]: loss = 281.527188 * 1600, metric = 0.00% * 1600;\n",
      "候選框命中率:95.900%\n",
      "候選框負樣本命中率:99.960%\n",
      "中心點偏移誤差:17.047%\n",
      "框縮放比率誤差:17.505%\n",
      "分類正確率:88.503%\n",
      "\n",
      " Minibatch[ 601- 700]: loss = 285.592344 * 1600, metric = 0.00% * 1600;\n",
      " Minibatch[ 701- 800]: loss = 281.313438 * 1600, metric = 0.00% * 1600;\n",
      "候選框命中率:97.361%\n",
      "候選框負樣本命中率:99.961%\n",
      "中心點偏移誤差:27.036%\n",
      "框縮放比率誤差:14.206%\n",
      "分類正確率:93.958%\n",
      "\n",
      " Minibatch[ 801- 900]: loss = 282.162188 * 1600, metric = 0.00% * 1600;\n",
      " Minibatch[ 901-1000]: loss = 289.886094 * 1600, metric = 0.00% * 1600;\n",
      "Finished Epoch[5 of 5]: [Training] loss = 286.366781 * 16000, metric = 0.00% * 16000 145.644s (109.9 samples/s);\n"
     ]
    }
   ],
   "source": [
    "#模型訓練過程的metrics指標\n",
    "box_coverage=reduce_sum(equal(greater(z_detector[4,:,:],0.7),label_var[4,:,:])*label_var[4,:,:])/reduce_sum(label_var[4,:,:])\n",
    "box_neg_coverage=reduce_sum(equal(less(z_detector[4,:,:],0.7),1-label_var[4,:,:])*(1-label_var[4,:,:]))/reduce_sum(1-label_var[4,:,:])\n",
    "\n",
    "center_shift_error=sqrt(reduce_sum(squared_error(z_detector[:2,:,:],label_var[:2,:,:])*label_var[4,:,:]))/reduce_sum(label_var[4,:,:])\n",
    "scale_error=sqrt(reduce_sum(squared_error(exp(z_detector[2:4,:,:]),exp(label_var[2:4,:,:]))*label_var[4,:,:]))/reduce_sum(label_var[4,:,:])\n",
    "class_accuracy=reduce_sum(equal(argmax(z_detector[5:,:,:],0), argmax(label_var[5:,:,:],0))*label_var[4,:,:])/reduce_sum(label_var[4,:,:])\n",
    "\n",
    "for epoch in range(num_epochs):\n",
    "    mbs=0\n",
    "    while mbs <1000:\n",
    "        try:\n",
    "            raw_features,raw_labels = get_next_minibatch(minibatch_size)\n",
    "            # 定義數據如何對應變數\n",
    "            trainer.train_minibatch({input_var:raw_features,label_var:raw_labels})\n",
    "        except Exception as e:\n",
    "            print(e)\n",
    "        if mbs%100==0 and mbs>0:\n",
    "            z_detector.save('Models/chptcha_cntk.cnn')\n",
    "        if mbs%200==0 and mbs>0:\n",
    "            print('候選框命中率:{0:.3%}'.format(np.mean(box_coverage.eval({input_var:raw_features,label_var:raw_labels}))))\n",
    "            print('候選框負樣本命中率:{0:.3%}'.format(np.mean(box_neg_coverage.eval({input_var:raw_features,label_var:raw_labels}))))\n",
    "            print('中心點偏移誤差:{0:.3%}'.format(np.mean(center_shift_error.eval({input_var:raw_features,label_var:raw_labels}))))\n",
    "            print('框縮放比率誤差:{0:.3%}'.format(np.mean(scale_error.eval({input_var:raw_features,label_var:raw_labels}))))\n",
    "            print('分類正確率:{0:.3%}'.format(np.mean(class_accuracy.eval({input_var:raw_features,label_var:raw_labels}))))\n",
    "            print('')\n",
    "            \n",
    "        mbs+=1\n",
    "    trainer.summarize_training_progress()\n",
    "    learning_rate*=0.75  #每個epoch後，學習速率變為原來的75%\n",
    "    \n",
    "    "
   ]
  },
  {
   "cell_type": "raw",
   "metadata": {},
   "source": [
    "模型訓練好了之後，我們也來試試預測的效果，在這邊我選取框的標準為objectness>0.7，我將預測框與實際框同時畫在原圖之上，我們來看看預測的效果如何。"
   ]
  },
  {
   "cell_type": "code",
   "execution_count": 32,
   "metadata": {
    "collapsed": false
   },
   "outputs": [
    {
     "name": "stdout",
     "output_type": "stream",
     "text": [
      "(208, 208, 3)\n",
      "預測框向量:[0.635674   0.82200974 0.18334287 0.24563769 0.99982095]\n",
      "實際框向量:[0.78125    0.90625    0.31845373 0.31845373 1.        ]\n",
      "預測框向量:[ 0.29237175  0.82903576 -0.15256509  0.24911232  0.9985201 ]\n",
      "實際框向量:[ 0.375       0.90625    -0.06453852  0.31845373  1.        ]\n",
      "預測框向量:[0.2131506  0.86600703 0.22292149 0.28540203 0.99959636]\n",
      "實際框向量:[0.1875     0.90625    0.2719337  0.31845373 1.        ]\n",
      "預測框向量:[0.19319502 0.19448352 0.18788265 0.4070922  0.99861324]\n",
      "實際框向量:[0.34375    0.34375    0.22314355 0.48550782 1.        ]\n",
      "預測框向量:[0.21782258 0.21705079 0.41089153 0.3635128  0.9994355 ]\n",
      "實際框向量:[0.28125    0.34375    0.48550782 0.48550782 1.        ]\n",
      "預測框向量:[0.14365403 0.20217855 0.14274901 0.38683435 0.99831295]\n",
      "實際框向量:[0.21875    0.34375    0.31845373 0.48550782 1.        ]\n",
      "預測框向量:[0.11504988 0.27623138 0.01677376 0.3973361  0.99601406]\n",
      "實際框向量:[0.125      0.34375    0.06062462 0.48550782 1.        ]\n",
      "預測框向量:[0.10159363 0.23170505 0.20443791 0.41937733 0.98299205]\n",
      "實際框向量:[0.125      0.34375    0.17185026 0.48550782 1.        ]\n",
      "預測框向量:[0.11162116 0.38783386 0.2932813  0.41929334 0.99514765]\n",
      "實際框向量:[0.03125    0.40625    0.31845373 0.48550782 1.        ]\n",
      "預測結果:[5, 3, 2, 4, 3, 4, 8, 1, 9]\n",
      "信心水準:[0.99982095, 0.9985201, 0.99959636, 0.99861324, 0.9994355, 0.99831295, 0.99601406, 0.98299205, 0.99514765]\n",
      "實際結果:[5, 3, 2, 4, 3, 4, 8, 1, 9]\n"
     ]
    },
    {
     "data": {
      "text/plain": [
       "<matplotlib.image.AxesImage at 0x252068db080>"
      ]
     },
     "execution_count": 32,
     "metadata": {},
     "output_type": "execute_result"
    },
    {
     "data": {
      "image/png": "[encoded data removed]",
      "text/plain": [
       "<matplotlib.figure.Figure at 0x25208bdb898>"
      ]
     },
     "metadata": {},
     "output_type": "display_data"
    }
   ],
   "source": [
    "features_x,lables_y=get_next_minibatch(1)\n",
    "result=z_detector(features_x)\n",
    "test_captcha=np.transpose(features_x[0]*127.5+127.5,[1,2,0]).astype(np.float32)#把向量轉成opencv的HWC模式\n",
    "\n",
    "test_captcha=test_captcha.copy()\n",
    "\n",
    "print(test_captcha.shape)\n",
    "\n",
    "#print(result[0][4,:,:])\n",
    "#print(sigmoid_np(result[0][4,:,:]).max())\n",
    "\n",
    "words=[]\n",
    "confidences=[]\n",
    "answers=[]\n",
    "for j in range(13):\n",
    "    for i in range(13):\n",
    "        #預測的邊界框\n",
    "        if result[0][4,j,i]>=0.7: #如果objectness>0.7\n",
    "            print('預測框向量:{0}'.format(result[0][:5,j,i]))\n",
    "            print('實際框向量:{0}'.format(lables_y[0][:5,j,i]))\n",
    "            pred_class=np.argmax(result[0][5:,j,i]) #預測類別\n",
    "            words.append(pred_class)\n",
    "            confidences.append(result[0][4,j,i])\n",
    "            pred_xc=i*16+(result[0][0,j,i])*16.0\n",
    "            pred_yc=j*16+(result[0][1,j,i])*16.0\n",
    "            pred_w=math.exp(result[0][2,j,i])*16.0\n",
    "            pred_h=math.exp(result[0][3,j,i])*16.0\n",
    "            color =(0,128,128)\n",
    "            cv2.rectangle(test_captcha, (int(pred_xc-0.5-0.5*pred_w), int(pred_yc-0.5-0.5*pred_h)), (int(pred_xc+0.5+0.5*pred_w), int(pred_yc+0.5+0.5*pred_h)), color, 1)\n",
    "        #實際的邊界框\n",
    "        if lables_y[0][4,j,i]>0.7: #如果objectness>0.5\n",
    "            actual_class=np.argmax(lables_y[0][5:,j,i]) #預測類別\n",
    "            answers.append(actual_class)\n",
    "            actual_xc=i*16+(lables_y[0][0,j,i]*16.0)\n",
    "            actual_yc=j*16+(lables_y[0][1,j,i]*16.0)\n",
    "            actual_w=math.exp(lables_y[0][2,j,i])*16.0\n",
    "            actual_h=math.exp(lables_y[0][3,j,i])*16.0\n",
    "            color =(0,0,255)\n",
    "            cv2.rectangle(test_captcha, (int(actual_xc-0.5-0.5*actual_w), int(actual_yc-0.5-0.5*actual_h)), (int(actual_xc+0.5+0.5*actual_w), int(actual_yc+0.5+0.5*actual_h)), color, 1)\n",
    "  \n",
    "            \n",
    "test_captcha=cv2.cvtColor(test_captcha,cv2.COLOR_BGR2RGB)\n",
    "test_captcha=Image.fromarray(test_captcha.astype(np.uint8))\n",
    "\n",
    "\n",
    "\n",
    "print('預測結果:{0}'.format(words))\n",
    "print('信心水準:{0}'.format(confidences))\n",
    "print('實際結果:{0}'.format(answers))\n",
    "\n",
    "plt.axis('off')\n",
    "plt.imshow(test_captcha)\n"
   ]
  },
  {
   "cell_type": "raw",
   "metadata": {},
   "source": [
    "這個實作其實不只是能處理數字型驗證碼，各位可以搜尋eminist數據集，裡面還有手寫英文字母，就能夠處理數字英文混雜的驗證碼模式。當然，在前面我們自定義驗證碼生成器中也可以自行根據各家驗證碼的風格加以調整，以及加入數據增強，效果會更好。"
   ]
  }
 ],
 "metadata": {
  "anaconda-cloud": {},
  "kernelspec": {
   "display_name": "Python [Root]",
   "language": "python",
   "name": "Python [Root]"
  },
  "language_info": {
   "codemirror_mode": {
    "name": "ipython",
    "version": 3
   },
   "file_extension": ".py",
   "mimetype": "text/x-python",
   "name": "python",
   "nbconvert_exporter": "python",
   "pygments_lexer": "ipython3",
   "version": "3.5.2"
  }
 },
 "nbformat": 4,
 "nbformat_minor": 0
}
